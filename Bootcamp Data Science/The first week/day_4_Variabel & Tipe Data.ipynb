{
 "cells": [
  {
   "cell_type": "markdown",
   "metadata": {
    "id": "DR_bFXbQTSVy"
   },
   "source": [
    "# Variabel"
   ]
  },
  {
   "cell_type": "markdown",
   "metadata": {
    "id": "H6LfxKVs_2nW"
   },
   "source": [
    "## Penamaan Variabel Python"
   ]
  },
  {
   "cell_type": "code",
   "execution_count": null,
   "metadata": {
    "colab": {
     "base_uri": "https://localhost:8080/",
     "height": 143
    },
    "id": "MX8e6g06_Wnj",
    "outputId": "7ee22c10-302e-4dcd-dc20-8ebcd6654af6"
   },
   "outputs": [
    {
     "ename": "SyntaxError",
     "evalue": "invalid syntax (<ipython-input-1-bb299a82de70>, line 1)",
     "output_type": "error",
     "traceback": [
      "\u001b[0;36m  File \u001b[0;32m\"<ipython-input-1-bb299a82de70>\"\u001b[0;36m, line \u001b[0;32m1\u001b[0m\n\u001b[0;31m    for = 1\u001b[0m\n\u001b[0m        ^\u001b[0m\n\u001b[0;31mSyntaxError\u001b[0m\u001b[0;31m:\u001b[0m invalid syntax\n"
     ]
    }
   ],
   "source": [
    "for = 1\n",
    "for"
   ]
  },
  {
   "cell_type": "code",
   "execution_count": null,
   "metadata": {
    "colab": {
     "base_uri": "https://localhost:8080/"
    },
    "id": "ljPPJ90x-8nR",
    "outputId": "4cba619a-c3aa-479b-aa57-d1618429f4c5"
   },
   "outputs": [
    {
     "data": {
      "text/plain": [
       "1"
      ]
     },
     "execution_count": 2,
     "metadata": {},
     "output_type": "execute_result"
    }
   ],
   "source": [
    "abc = 1\n",
    "abc"
   ]
  },
  {
   "cell_type": "code",
   "execution_count": null,
   "metadata": {
    "colab": {
     "base_uri": "https://localhost:8080/",
     "height": 143
    },
    "id": "jAobmfsC-_fK",
    "outputId": "78f5cb9e-1f8f-4093-a53e-0198333bdd73"
   },
   "outputs": [
    {
     "ename": "SyntaxError",
     "evalue": "invalid decimal literal (<ipython-input-3-2b7d0ffbe576>, line 1)",
     "output_type": "error",
     "traceback": [
      "\u001b[0;36m  File \u001b[0;32m\"<ipython-input-3-2b7d0ffbe576>\"\u001b[0;36m, line \u001b[0;32m1\u001b[0m\n\u001b[0;31m    123abc = 1\u001b[0m\n\u001b[0m      ^\u001b[0m\n\u001b[0;31mSyntaxError\u001b[0m\u001b[0;31m:\u001b[0m invalid decimal literal\n"
     ]
    }
   ],
   "source": [
    "123abc = 1\n",
    "123abc"
   ]
  },
  {
   "cell_type": "code",
   "execution_count": null,
   "metadata": {
    "colab": {
     "base_uri": "https://localhost:8080/",
     "height": 143
    },
    "id": "3_Eqvsb8_FFC",
    "outputId": "1fd22210-b3eb-498c-b568-b60c1d56332a"
   },
   "outputs": [
    {
     "ename": "SyntaxError",
     "evalue": "cannot assign to expression here. Maybe you meant '==' instead of '='? (<ipython-input-4-1d9215df40f8>, line 1)",
     "output_type": "error",
     "traceback": [
      "\u001b[0;36m  File \u001b[0;32m\"<ipython-input-4-1d9215df40f8>\"\u001b[0;36m, line \u001b[0;32m1\u001b[0m\n\u001b[0;31m    my-variable = 1\u001b[0m\n\u001b[0m    ^\u001b[0m\n\u001b[0;31mSyntaxError\u001b[0m\u001b[0;31m:\u001b[0m cannot assign to expression here. Maybe you meant '==' instead of '='?\n"
     ]
    }
   ],
   "source": [
    "my-variable = 1\n",
    "my-variable"
   ]
  },
  {
   "cell_type": "code",
   "execution_count": null,
   "metadata": {
    "colab": {
     "base_uri": "https://localhost:8080/",
     "height": 143
    },
    "id": "aEAphDmu_NIx",
    "outputId": "02a8d96d-1841-4f39-d7a0-3b982ff452f6"
   },
   "outputs": [
    {
     "ename": "SyntaxError",
     "evalue": "invalid syntax (<ipython-input-5-4c69c8f75549>, line 1)",
     "output_type": "error",
     "traceback": [
      "\u001b[0;36m  File \u001b[0;32m\"<ipython-input-5-4c69c8f75549>\"\u001b[0;36m, line \u001b[0;32m1\u001b[0m\n\u001b[0;31m    global = 1\u001b[0m\n\u001b[0m           ^\u001b[0m\n\u001b[0;31mSyntaxError\u001b[0m\u001b[0;31m:\u001b[0m invalid syntax\n"
     ]
    }
   ],
   "source": [
    "global = 1\n",
    "global"
   ]
  },
  {
   "cell_type": "code",
   "execution_count": null,
   "metadata": {
    "colab": {
     "base_uri": "https://localhost:8080/"
    },
    "id": "mbvURrM9_B9W",
    "outputId": "95d10fbb-833c-40ef-e7a3-6f5bd3764fbc"
   },
   "outputs": [
    {
     "data": {
      "text/plain": [
       "1"
      ]
     },
     "execution_count": 6,
     "metadata": {},
     "output_type": "execute_result"
    }
   ],
   "source": [
    "Var123 = 1\n",
    "Var123"
   ]
  },
  {
   "cell_type": "code",
   "execution_count": null,
   "metadata": {
    "colab": {
     "base_uri": "https://localhost:8080/"
    },
    "id": "pYVXv_rh_IkN",
    "outputId": "a1fe2a46-ffb5-4891-a316-fecac525a66a"
   },
   "outputs": [
    {
     "data": {
      "text/plain": [
       "1"
      ]
     },
     "execution_count": 7,
     "metadata": {},
     "output_type": "execute_result"
    }
   ],
   "source": [
    "my_variable = 1\n",
    "my_variable"
   ]
  },
  {
   "cell_type": "code",
   "execution_count": null,
   "metadata": {
    "colab": {
     "base_uri": "https://localhost:8080/"
    },
    "id": "yr5xHN04_Tgg",
    "outputId": "06c7e8a7-3624-4cdc-f4c9-47fc4b1c885d"
   },
   "outputs": [
    {
     "data": {
      "text/plain": [
       "1"
      ]
     },
     "execution_count": 8,
     "metadata": {},
     "output_type": "execute_result"
    }
   ],
   "source": [
    "python = 1\n",
    "python"
   ]
  },
  {
   "cell_type": "code",
   "execution_count": null,
   "metadata": {
    "colab": {
     "base_uri": "https://localhost:8080/",
     "height": 143
    },
    "id": "bDhUbUQs_Qv0",
    "outputId": "1f85e9ae-1b8a-4d13-8aab-6029729776d4"
   },
   "outputs": [
    {
     "ename": "SyntaxError",
     "evalue": "invalid syntax (<ipython-input-9-d2c893f2c640>, line 1)",
     "output_type": "error",
     "traceback": [
      "\u001b[0;36m  File \u001b[0;32m\"<ipython-input-9-d2c893f2c640>\"\u001b[0;36m, line \u001b[0;32m1\u001b[0m\n\u001b[0;31m    if = 1\u001b[0m\n\u001b[0m       ^\u001b[0m\n\u001b[0;31mSyntaxError\u001b[0m\u001b[0;31m:\u001b[0m invalid syntax\n"
     ]
    }
   ],
   "source": [
    "if = 1\n",
    "if"
   ]
  },
  {
   "cell_type": "code",
   "execution_count": null,
   "metadata": {
    "colab": {
     "base_uri": "https://localhost:8080/"
    },
    "id": "s5SWD6y4_aGT",
    "outputId": "3571ccfd-6730-474f-9eb6-1dcbd79dfbe6"
   },
   "outputs": [
    {
     "data": {
      "text/plain": [
       "1"
      ]
     },
     "execution_count": 10,
     "metadata": {},
     "output_type": "execute_result"
    }
   ],
   "source": [
    "CamelCase = 1\n",
    "CamelCase"
   ]
  },
  {
   "cell_type": "code",
   "execution_count": null,
   "metadata": {
    "colab": {
     "base_uri": "https://localhost:8080/"
    },
    "id": "HflzaL4UdgDP",
    "outputId": "6b70d261-4bc9-4483-8b7c-ef3875968a1b"
   },
   "outputs": [
    {
     "data": {
      "text/plain": [
       "1"
      ]
     },
     "execution_count": 11,
     "metadata": {},
     "output_type": "execute_result"
    }
   ],
   "source": [
    "variable = 1\n",
    "variable"
   ]
  },
  {
   "cell_type": "code",
   "execution_count": null,
   "metadata": {
    "colab": {
     "base_uri": "https://localhost:8080/"
    },
    "id": "wVzH0JWudkNL",
    "outputId": "512a2af4-a9ea-4178-8e9a-63e145d5744a"
   },
   "outputs": [
    {
     "data": {
      "text/plain": [
       "1"
      ]
     },
     "execution_count": 12,
     "metadata": {},
     "output_type": "execute_result"
    }
   ],
   "source": [
    "for_you = 1\n",
    "for_you"
   ]
  },
  {
   "cell_type": "code",
   "execution_count": null,
   "metadata": {
    "colab": {
     "base_uri": "https://localhost:8080/"
    },
    "id": "ovRF0nQIdm8T",
    "outputId": "5033dcab-b7b0-4685-a14b-8421b1cd3397"
   },
   "outputs": [
    {
     "data": {
      "text/plain": [
       "1"
      ]
     },
     "execution_count": 13,
     "metadata": {},
     "output_type": "execute_result"
    }
   ],
   "source": [
    "local = 1\n",
    "local"
   ]
  },
  {
   "cell_type": "code",
   "execution_count": null,
   "metadata": {
    "colab": {
     "base_uri": "https://localhost:8080/"
    },
    "id": "afAPGymad0ob",
    "outputId": "494363a7-5ad7-4e0b-e9a6-b3e16e6ed52b"
   },
   "outputs": [
    {
     "data": {
      "text/plain": [
       "1"
      ]
     },
     "execution_count": 14,
     "metadata": {},
     "output_type": "execute_result"
    }
   ],
   "source": [
    "private = 1\n",
    "private"
   ]
  },
  {
   "cell_type": "code",
   "execution_count": null,
   "metadata": {
    "colab": {
     "base_uri": "https://localhost:8080/",
     "height": 143
    },
    "id": "-N-OG-Ysd4wJ",
    "outputId": "8f710902-a6eb-40ac-a2b0-89f17d5aa3c2"
   },
   "outputs": [
    {
     "ename": "SyntaxError",
     "evalue": "cannot assign to True (<ipython-input-15-31cfc0d5b814>, line 1)",
     "output_type": "error",
     "traceback": [
      "\u001b[0;36m  File \u001b[0;32m\"<ipython-input-15-31cfc0d5b814>\"\u001b[0;36m, line \u001b[0;32m1\u001b[0m\n\u001b[0;31m    True = 1\u001b[0m\n\u001b[0m    ^\u001b[0m\n\u001b[0;31mSyntaxError\u001b[0m\u001b[0;31m:\u001b[0m cannot assign to True\n"
     ]
    }
   ],
   "source": [
    "True = 1\n",
    "True"
   ]
  },
  {
   "cell_type": "markdown",
   "metadata": {
    "id": "i-cc7nUG_6S_"
   },
   "source": [
    "## Inisiasi Variabel"
   ]
  },
  {
   "cell_type": "code",
   "execution_count": null,
   "metadata": {
    "id": "nvudbhW0Asi8"
   },
   "outputs": [],
   "source": [
    "a = b = c = 5\n",
    "\n",
    "d, e, f = 4, 5, 6\n",
    "\n",
    "g = h = i = 7"
   ]
  },
  {
   "cell_type": "code",
   "execution_count": null,
   "metadata": {
    "id": "gYNpo21ZAwTs"
   },
   "outputs": [],
   "source": [
    "print('a: ', a)\n",
    "print('b: ', b)\n",
    "print('c: ', c)\n",
    "print('d: ', d)\n",
    "print('e: ', e)\n",
    "print('f: ', f)\n",
    "print('g: ', g)\n",
    "print('h: ', h)\n",
    "print('i: ', i)"
   ]
  },
  {
   "cell_type": "markdown",
   "metadata": {
    "id": "UY2k6demFyqC"
   },
   "source": [
    "## Penukaran isi variabel"
   ]
  },
  {
   "cell_type": "code",
   "execution_count": null,
   "metadata": {
    "colab": {
     "base_uri": "https://localhost:8080/"
    },
    "id": "r9UeHBKCA1kL",
    "outputId": "55e9ea7e-d4a4-4dc5-ede9-6152aedf522f"
   },
   "outputs": [
    {
     "name": "stdout",
     "output_type": "stream",
     "text": [
      "The value of glass_a after swapping: white_wine\n",
      "The value of glass_b after swapping: red_wine\n"
     ]
    }
   ],
   "source": [
    "# Python program to swap two variables\n",
    "glass_a, glass_b = \"red_wine\", \"white_wine\"\n",
    "\n",
    "# create a temporary variable and swap the values\n",
    "temp = glass_a\n",
    "glass_a  = glass_b\n",
    "glass_b = temp\n",
    "\n",
    "print('The value of glass_a after swapping:', glass_a)\n",
    "print('The value of glass_b after swapping:', glass_b )"
   ]
  },
  {
   "cell_type": "code",
   "execution_count": null,
   "metadata": {
    "id": "oFwtymfxhoYy"
   },
   "outputs": [],
   "source": [
    "glass_b, glass_a = glass_a, glass_b"
   ]
  },
  {
   "cell_type": "code",
   "execution_count": null,
   "metadata": {
    "colab": {
     "base_uri": "https://localhost:8080/"
    },
    "id": "pjVu5ID6hspw",
    "outputId": "d935c050-45b3-40d9-e9ed-9bc5dd44f116"
   },
   "outputs": [
    {
     "name": "stdout",
     "output_type": "stream",
     "text": [
      "The value of glass_a after swapping: red_wine\n",
      "The value of glass_b after swapping: white_wine\n"
     ]
    }
   ],
   "source": [
    "print('The value of glass_a after swapping:', glass_a)\n",
    "print('The value of glass_b after swapping:', glass_b )"
   ]
  },
  {
   "cell_type": "code",
   "execution_count": null,
   "metadata": {
    "id": "NnRLKNxehNd0"
   },
   "outputs": [],
   "source": [
    "a = 3\n",
    "b = 5\n",
    "\n",
    "a, b = b, a"
   ]
  },
  {
   "cell_type": "code",
   "execution_count": null,
   "metadata": {
    "colab": {
     "base_uri": "https://localhost:8080/"
    },
    "id": "muHThgVyhVjH",
    "outputId": "4dbaa5b7-cad5-4c19-c679-3f5518f1ef91"
   },
   "outputs": [
    {
     "data": {
      "text/plain": [
       "5"
      ]
     },
     "execution_count": 18,
     "metadata": {},
     "output_type": "execute_result"
    }
   ],
   "source": [
    "a"
   ]
  },
  {
   "cell_type": "code",
   "execution_count": null,
   "metadata": {
    "colab": {
     "base_uri": "https://localhost:8080/"
    },
    "id": "kNt6I6sbhXLb",
    "outputId": "7675710e-8545-42e5-afb6-c2ddf70b5f14"
   },
   "outputs": [
    {
     "data": {
      "text/plain": [
       "3"
      ]
     },
     "execution_count": 19,
     "metadata": {},
     "output_type": "execute_result"
    }
   ],
   "source": [
    "b"
   ]
  },
  {
   "cell_type": "markdown",
   "metadata": {
    "id": "WY8khy-5NG_Z"
   },
   "source": [
    "# Tipe Data"
   ]
  },
  {
   "cell_type": "markdown",
   "metadata": {
    "id": "YDbdfjKnTe7R"
   },
   "source": [
    "## Tipe Data"
   ]
  },
  {
   "cell_type": "code",
   "execution_count": null,
   "metadata": {
    "colab": {
     "base_uri": "https://localhost:8080/"
    },
    "id": "-3_B9JjpNIxc",
    "outputId": "e2d95bd6-0742-4415-bc32-5ca5f9e18326"
   },
   "outputs": [
    {
     "data": {
      "text/plain": [
       "bool"
      ]
     },
     "execution_count": 83,
     "metadata": {},
     "output_type": "execute_result"
    }
   ],
   "source": [
    "var = True\n",
    "type(var)"
   ]
  },
  {
   "cell_type": "code",
   "execution_count": null,
   "metadata": {
    "colab": {
     "base_uri": "https://localhost:8080/"
    },
    "id": "nyTtuqdsNcrn",
    "outputId": "008e13ef-d763-42ec-ddd0-74b8300aa302"
   },
   "outputs": [
    {
     "data": {
      "text/plain": [
       "float"
      ]
     },
     "execution_count": 84,
     "metadata": {},
     "output_type": "execute_result"
    }
   ],
   "source": [
    "var = 3.14\n",
    "type(var)"
   ]
  },
  {
   "cell_type": "code",
   "execution_count": null,
   "metadata": {
    "colab": {
     "base_uri": "https://localhost:8080/"
    },
    "id": "xxcv3T1lNemb",
    "outputId": "59715bc4-78a3-49fb-ee58-153cfb539dd9"
   },
   "outputs": [
    {
     "data": {
      "text/plain": [
       "str"
      ]
     },
     "execution_count": 85,
     "metadata": {},
     "output_type": "execute_result"
    }
   ],
   "source": [
    "var = \"Hello, World!\"\n",
    "type(var)"
   ]
  },
  {
   "cell_type": "code",
   "execution_count": null,
   "metadata": {
    "colab": {
     "base_uri": "https://localhost:8080/"
    },
    "id": "DEDUWuOqNhOo",
    "outputId": "f14578e5-3610-49a6-8627-81c2b4aca890"
   },
   "outputs": [
    {
     "data": {
      "text/plain": [
       "float"
      ]
     },
     "execution_count": 86,
     "metadata": {},
     "output_type": "execute_result"
    }
   ],
   "source": [
    "var = 5.00\n",
    "type(var)"
   ]
  },
  {
   "cell_type": "code",
   "execution_count": null,
   "metadata": {
    "colab": {
     "base_uri": "https://localhost:8080/"
    },
    "id": "nIJHvIf-NjWx",
    "outputId": "274ff04c-5210-49b1-dc1d-aff6dd5a15bc"
   },
   "outputs": [
    {
     "data": {
      "text/plain": [
       "tuple"
      ]
     },
     "execution_count": 87,
     "metadata": {},
     "output_type": "execute_result"
    }
   ],
   "source": [
    "var = (1, 2, 3)\n",
    "type(var)"
   ]
  },
  {
   "cell_type": "markdown",
   "metadata": {
    "id": "kESLQqThNqjz"
   },
   "source": [
    "## List vs Tuple"
   ]
  },
  {
   "cell_type": "code",
   "execution_count": null,
   "metadata": {
    "id": "Jw6Obpm0ku3G"
   },
   "outputs": [],
   "source": [
    "[1, 2, 3, 4]\n",
    "0, 1, 2, 3"
   ]
  },
  {
   "cell_type": "code",
   "execution_count": null,
   "metadata": {
    "colab": {
     "base_uri": "https://localhost:8080/"
    },
    "id": "9-4Ffo3fk5d4",
    "outputId": "3db84e2b-84e7-419a-cbd4-055d4c75f970"
   },
   "outputs": [
    {
     "data": {
      "text/plain": [
       "1"
      ]
     },
     "execution_count": 23,
     "metadata": {},
     "output_type": "execute_result"
    }
   ],
   "source": [
    "my_list_2 = [1, 2, 3, 4]\n",
    "my_list_2[0]"
   ]
  },
  {
   "cell_type": "code",
   "execution_count": null,
   "metadata": {
    "colab": {
     "base_uri": "https://localhost:8080/"
    },
    "id": "HN6OdiXxk9jY",
    "outputId": "e5f3c0a0-d1d1-4a9f-c315-c930f98e1a5a"
   },
   "outputs": [
    {
     "data": {
      "text/plain": [
       "2"
      ]
     },
     "execution_count": 24,
     "metadata": {},
     "output_type": "execute_result"
    }
   ],
   "source": [
    "my_list_2 = [1, 2, 3, 4]\n",
    "my_list_2[1]"
   ]
  },
  {
   "cell_type": "code",
   "execution_count": null,
   "metadata": {
    "colab": {
     "base_uri": "https://localhost:8080/"
    },
    "id": "p7i8RODbN0mo",
    "outputId": "b92adce9-eebe-4a28-9afe-8ad97ada4ebc"
   },
   "outputs": [
    {
     "name": "stdout",
     "output_type": "stream",
     "text": [
      "[5, 2, 3, 4]\n"
     ]
    }
   ],
   "source": [
    "# List example\n",
    "my_list = [1, 2, 3, 4]\n",
    "my_list[0] = 5  # Valid - lists are mutable\n",
    "print(my_list)  # Output: [5, 2, 3, 4]"
   ]
  },
  {
   "cell_type": "code",
   "execution_count": null,
   "metadata": {
    "colab": {
     "base_uri": "https://localhost:8080/",
     "height": 234
    },
    "id": "oESDQgkQN56z",
    "outputId": "f624fe0e-2ca9-4daa-f72a-b5d48203814c"
   },
   "outputs": [
    {
     "ename": "TypeError",
     "evalue": "'tuple' object does not support item assignment",
     "output_type": "error",
     "traceback": [
      "\u001b[0;31m---------------------------------------------------------------------------\u001b[0m",
      "\u001b[0;31mTypeError\u001b[0m                                 Traceback (most recent call last)",
      "\u001b[0;32m<ipython-input-26-992b07a0e902>\u001b[0m in \u001b[0;36m<cell line: 3>\u001b[0;34m()\u001b[0m\n\u001b[1;32m      1\u001b[0m \u001b[0;31m# Tuple example\u001b[0m\u001b[0;34m\u001b[0m\u001b[0;34m\u001b[0m\u001b[0m\n\u001b[1;32m      2\u001b[0m \u001b[0mmy_tuple\u001b[0m \u001b[0;34m=\u001b[0m \u001b[0;34m(\u001b[0m\u001b[0;36m1\u001b[0m\u001b[0;34m,\u001b[0m \u001b[0;36m2\u001b[0m\u001b[0;34m,\u001b[0m \u001b[0;36m3\u001b[0m\u001b[0;34m,\u001b[0m \u001b[0;36m4\u001b[0m\u001b[0;34m)\u001b[0m\u001b[0;34m\u001b[0m\u001b[0;34m\u001b[0m\u001b[0m\n\u001b[0;32m----> 3\u001b[0;31m \u001b[0mmy_tuple\u001b[0m\u001b[0;34m[\u001b[0m\u001b[0;36m0\u001b[0m\u001b[0;34m]\u001b[0m \u001b[0;34m=\u001b[0m \u001b[0;36m5\u001b[0m  \u001b[0;31m# Invalid - tuples are immutable\u001b[0m\u001b[0;34m\u001b[0m\u001b[0;34m\u001b[0m\u001b[0m\n\u001b[0m\u001b[1;32m      4\u001b[0m \u001b[0mprint\u001b[0m\u001b[0;34m(\u001b[0m\u001b[0mmy_tuple\u001b[0m\u001b[0;34m)\u001b[0m  \u001b[0;31m# Output: (1, 2, 3, 4)\u001b[0m\u001b[0;34m\u001b[0m\u001b[0;34m\u001b[0m\u001b[0m\n",
      "\u001b[0;31mTypeError\u001b[0m: 'tuple' object does not support item assignment"
     ]
    }
   ],
   "source": [
    "# Tuple example\n",
    "my_tuple = (1, 2, 3, 4)\n",
    "my_tuple[0] = 5  # Invalid - tuples are immutable\n",
    "print(my_tuple)  # Output: (1, 2, 3, 4)"
   ]
  },
  {
   "cell_type": "code",
   "execution_count": null,
   "metadata": {
    "colab": {
     "base_uri": "https://localhost:8080/"
    },
    "id": "2ANHeDOzlFze",
    "outputId": "c26bf53f-8b0a-4494-d60f-6b3a2fc608e7"
   },
   "outputs": [
    {
     "data": {
      "text/plain": [
       "1"
      ]
     },
     "execution_count": 27,
     "metadata": {},
     "output_type": "execute_result"
    }
   ],
   "source": [
    "my_tuple = (1, 2, 3, 4)\n",
    "my_tuple[0]"
   ]
  },
  {
   "cell_type": "code",
   "execution_count": null,
   "metadata": {
    "colab": {
     "base_uri": "https://localhost:8080/"
    },
    "id": "i45JxYigN-E_",
    "outputId": "7ca5674e-21ff-4db1-957d-55e0c3d6266f"
   },
   "outputs": [
    {
     "name": "stdout",
     "output_type": "stream",
     "text": [
      "{(1, 2): 'value1', (3, 4): 'value2'}\n"
     ]
    }
   ],
   "source": [
    "# Using tuple as keys\n",
    "my_dict_tuple = {(1, 2): 'value1', (3, 4): 'value2'}\n",
    "print(my_dict_tuple)  # Output: {(1, 2): 'value1', (3, 4): 'value2'}"
   ]
  },
  {
   "cell_type": "code",
   "execution_count": null,
   "metadata": {
    "colab": {
     "base_uri": "https://localhost:8080/",
     "height": 198
    },
    "id": "ZjI7HMyzOD2v",
    "outputId": "6ab5c037-7e27-4823-9184-36768520c53e"
   },
   "outputs": [
    {
     "ename": "TypeError",
     "evalue": "unhashable type: 'list'",
     "output_type": "error",
     "traceback": [
      "\u001b[0;31m---------------------------------------------------------------------------\u001b[0m",
      "\u001b[0;31mTypeError\u001b[0m                                 Traceback (most recent call last)",
      "\u001b[0;32m<ipython-input-29-b036a8217ee4>\u001b[0m in \u001b[0;36m<cell line: 2>\u001b[0;34m()\u001b[0m\n\u001b[1;32m      1\u001b[0m \u001b[0;31m# Using list as keys (will result in a TypeError)\u001b[0m\u001b[0;34m\u001b[0m\u001b[0;34m\u001b[0m\u001b[0m\n\u001b[0;32m----> 2\u001b[0;31m \u001b[0mmy_dict_list\u001b[0m \u001b[0;34m=\u001b[0m \u001b[0;34m{\u001b[0m\u001b[0;34m[\u001b[0m\u001b[0;36m1\u001b[0m\u001b[0;34m,\u001b[0m \u001b[0;36m2\u001b[0m\u001b[0;34m]\u001b[0m\u001b[0;34m:\u001b[0m \u001b[0;34m'value1'\u001b[0m\u001b[0;34m,\u001b[0m \u001b[0;34m[\u001b[0m\u001b[0;36m3\u001b[0m\u001b[0;34m,\u001b[0m \u001b[0;36m4\u001b[0m\u001b[0;34m]\u001b[0m\u001b[0;34m:\u001b[0m \u001b[0;34m'value2'\u001b[0m\u001b[0;34m}\u001b[0m  \u001b[0;31m# TypeError\u001b[0m\u001b[0;34m\u001b[0m\u001b[0;34m\u001b[0m\u001b[0m\n\u001b[0m",
      "\u001b[0;31mTypeError\u001b[0m: unhashable type: 'list'"
     ]
    }
   ],
   "source": [
    "# Using list as keys (will result in a TypeError)\n",
    "my_dict_list = {[1, 2]: 'value1', [3, 4]: 'value2'}  # TypeError"
   ]
  },
  {
   "cell_type": "code",
   "execution_count": null,
   "metadata": {
    "id": "9dwSzViUmAxx"
   },
   "outputs": [],
   "source": [
    "varchar"
   ]
  },
  {
   "cell_type": "code",
   "execution_count": null,
   "metadata": {
    "id": "Hh5xMSOSmCnH"
   },
   "outputs": [],
   "source": [
    "str"
   ]
  },
  {
   "cell_type": "markdown",
   "metadata": {
    "id": "Q1Mrnb5XTi7Z"
   },
   "source": [
    "# Operator"
   ]
  },
  {
   "cell_type": "markdown",
   "metadata": {
    "id": "-P6qz6gBTnA2"
   },
   "source": [
    "## Aritmatika Operator"
   ]
  },
  {
   "cell_type": "code",
   "execution_count": 2,
   "metadata": {
    "id": "0X49sWrknuuc"
   },
   "outputs": [],
   "source": [
    "i = 5\n",
    "\n",
    "while (i < 5):\n",
    "  print(i)\n",
    "  i += 1"
   ]
  },
  {
   "cell_type": "code",
   "execution_count": 1,
   "metadata": {
    "id": "cBsn0EYUoQnq"
   },
   "outputs": [],
   "source": [
    "X = 4\n",
    "X &= 4"
   ]
  },
  {
   "cell_type": "code",
   "execution_count": null,
   "metadata": {
    "colab": {
     "base_uri": "https://localhost:8080/"
    },
    "id": "1TmD5mlgoYpK",
    "outputId": "2e71fbe7-5e44-485e-b4d2-8b5cc48c3fff"
   },
   "outputs": [
    {
     "data": {
      "text/plain": [
       "4"
      ]
     },
     "execution_count": 33,
     "metadata": {},
     "output_type": "execute_result"
    }
   ],
   "source": [
    "X"
   ]
  },
  {
   "cell_type": "code",
   "execution_count": null,
   "metadata": {
    "colab": {
     "base_uri": "https://localhost:8080/"
    },
    "id": "fLzvfHpXodAS",
    "outputId": "49258d33-1846-4e5d-a7c4-3bf128690f4a"
   },
   "outputs": [
    {
     "data": {
      "text/plain": [
       "0"
      ]
     },
     "execution_count": 35,
     "metadata": {},
     "output_type": "execute_result"
    }
   ],
   "source": [
    "X = 4\n",
    "X ^= 4\n",
    "X"
   ]
  },
  {
   "cell_type": "code",
   "execution_count": null,
   "metadata": {
    "colab": {
     "base_uri": "https://localhost:8080/"
    },
    "id": "23mkgd9eTqxO",
    "outputId": "3736ee6b-ef67-4554-92c0-52cd6f8263ec"
   },
   "outputs": [
    {
     "name": "stdout",
     "output_type": "stream",
     "text": [
      "Penjumlahan: 15\n",
      "Pengurangan: 5\n",
      "Perkalian: 50\n",
      "Pembagian: 2.0\n",
      "Modulus: 0\n",
      "Pangkat: 100000\n",
      "Floor Division: 2\n"
     ]
    }
   ],
   "source": [
    "a = 10\n",
    "b = 5\n",
    "\n",
    "# Penjumlahan\n",
    "result_addition = a + b\n",
    "print(\"Penjumlahan:\", result_addition)\n",
    "\n",
    "# Pengurangan\n",
    "result_subtraction = a - b\n",
    "print(\"Pengurangan:\", result_subtraction)\n",
    "\n",
    "# Perkalian\n",
    "result_multiplication = a * b\n",
    "print(\"Perkalian:\", result_multiplication)\n",
    "\n",
    "# Pembagian\n",
    "result_division = a / b\n",
    "print(\"Pembagian:\", result_division)\n",
    "\n",
    "# Modulus (Sisa pembagian)\n",
    "result_modulus = a % b\n",
    "print(\"Modulus:\", result_modulus)\n",
    "\n",
    "# Pangkat\n",
    "result_exponentiation = a ** b\n",
    "print(\"Pangkat:\", result_exponentiation)\n",
    "\n",
    "# Floor division\n",
    "result_floor_division = a // b\n",
    "print(\"Floor Division:\", result_floor_division)"
   ]
  },
  {
   "cell_type": "code",
   "execution_count": null,
   "metadata": {
    "colab": {
     "base_uri": "https://localhost:8080/"
    },
    "id": "sDptveaQrTFa",
    "outputId": "a47155b2-279a-4a3e-f42c-3a86c80228a0"
   },
   "outputs": [
    {
     "data": {
      "text/plain": [
       "2"
      ]
     },
     "execution_count": 37,
     "metadata": {},
     "output_type": "execute_result"
    }
   ],
   "source": [
    "5 // 2"
   ]
  },
  {
   "cell_type": "code",
   "execution_count": null,
   "metadata": {
    "colab": {
     "base_uri": "https://localhost:8080/"
    },
    "id": "6GAv9zWwrnhW",
    "outputId": "ad5cf1d0-7014-40b5-e2d8-26fe24f5d8c3"
   },
   "outputs": [
    {
     "data": {
      "text/plain": [
       "1.6216216216216215"
      ]
     },
     "execution_count": 42,
     "metadata": {},
     "output_type": "execute_result"
    }
   ],
   "source": [
    "6/3.7"
   ]
  },
  {
   "cell_type": "code",
   "execution_count": null,
   "metadata": {
    "colab": {
     "base_uri": "https://localhost:8080/"
    },
    "id": "3_FkqvvxrwKn",
    "outputId": "2303f72d-a627-4b13-e762-3fbe313565a2"
   },
   "outputs": [
    {
     "data": {
      "text/plain": [
       "1.0"
      ]
     },
     "execution_count": 43,
     "metadata": {},
     "output_type": "execute_result"
    }
   ],
   "source": [
    "6//3.7"
   ]
  },
  {
   "cell_type": "code",
   "execution_count": null,
   "metadata": {
    "colab": {
     "base_uri": "https://localhost:8080/"
    },
    "id": "9hGn0sbOrU-M",
    "outputId": "20b0553b-eb92-475a-f4ca-627bed386cdc"
   },
   "outputs": [
    {
     "data": {
      "text/plain": [
       "1"
      ]
     },
     "execution_count": 38,
     "metadata": {},
     "output_type": "execute_result"
    }
   ],
   "source": [
    "3 // 2"
   ]
  },
  {
   "cell_type": "code",
   "execution_count": null,
   "metadata": {
    "id": "YrOmQ-aOr1H2"
   },
   "outputs": [],
   "source": []
  },
  {
   "cell_type": "code",
   "execution_count": null,
   "metadata": {
    "id": "SE2qnxhBrd_D"
   },
   "outputs": [],
   "source": [
    "5/2 = 2 * 2 + 1"
   ]
  },
  {
   "cell_type": "code",
   "execution_count": null,
   "metadata": {
    "colab": {
     "base_uri": "https://localhost:8080/"
    },
    "id": "nViV8cPer3gE",
    "outputId": "77aecd7b-441a-4e84-bf5b-798c8029bf03"
   },
   "outputs": [
    {
     "data": {
      "text/plain": [
       "1.6216216216216215"
      ]
     },
     "execution_count": 44,
     "metadata": {},
     "output_type": "execute_result"
    }
   ],
   "source": [
    "6/3.7"
   ]
  },
  {
   "cell_type": "code",
   "execution_count": null,
   "metadata": {
    "id": "JHDejkj7r-24"
   },
   "outputs": [],
   "source": [
    "//"
   ]
  },
  {
   "cell_type": "code",
   "execution_count": null,
   "metadata": {
    "colab": {
     "base_uri": "https://localhost:8080/"
    },
    "id": "Ap9BuHuFrkhI",
    "outputId": "75b8dcea-ff35-487e-e847-60144950289d"
   },
   "outputs": [
    {
     "data": {
      "text/plain": [
       "2.0"
      ]
     },
     "execution_count": 46,
     "metadata": {},
     "output_type": "execute_result"
    }
   ],
   "source": [
    "round(6/3.7, 0)"
   ]
  },
  {
   "cell_type": "code",
   "execution_count": null,
   "metadata": {
    "colab": {
     "base_uri": "https://localhost:8080/"
    },
    "id": "kn8A3uHosFnu",
    "outputId": "bcce4199-e921-41ac-93e1-19dcaa8e48b9"
   },
   "outputs": [
    {
     "data": {
      "text/plain": [
       "1.6"
      ]
     },
     "execution_count": 47,
     "metadata": {},
     "output_type": "execute_result"
    }
   ],
   "source": [
    "round(6/3.7, 1)"
   ]
  },
  {
   "cell_type": "code",
   "execution_count": null,
   "metadata": {
    "colab": {
     "base_uri": "https://localhost:8080/"
    },
    "id": "FxZ5Q5nRsGyZ",
    "outputId": "90305d44-ac1e-466a-89af-2d2a807f1e7b"
   },
   "outputs": [
    {
     "data": {
      "text/plain": [
       "1.62"
      ]
     },
     "execution_count": 48,
     "metadata": {},
     "output_type": "execute_result"
    }
   ],
   "source": [
    "round(6/3.7, 2)"
   ]
  },
  {
   "cell_type": "markdown",
   "metadata": {
    "id": "dDw_wKxCTuWY"
   },
   "source": [
    "## Assignment Operator"
   ]
  },
  {
   "cell_type": "code",
   "execution_count": null,
   "metadata": {
    "colab": {
     "base_uri": "https://localhost:8080/"
    },
    "id": "ggpNBZl4TxzG",
    "outputId": "bee2fa92-a218-47f1-c153-79f0cebad5eb"
   },
   "outputs": [
    {
     "name": "stdout",
     "output_type": "stream",
     "text": [
      "Nilai y: 5\n",
      "Nilai x: 5\n",
      "Nilai x setelah ditambah 3: 8\n",
      "Nilai x setelah dikurang 3: 5\n",
      "Nilai x setelah dikali 3: 15\n",
      "Nilai x setelah dibagi 3: 5.0\n",
      "Nilai x setelah dimodul 3: 2.0\n"
     ]
    }
   ],
   "source": [
    "x = 5\n",
    "\n",
    "# Penugasan sederhana\n",
    "y = x\n",
    "print(\"Nilai y:\", y)\n",
    "print(\"Nilai x:\", x)\n",
    "\n",
    "# Penugasan dengan operasi\n",
    "x += 3 # x = x + 3\n",
    "print(\"Nilai x setelah ditambah 3:\", x)\n",
    "\n",
    "x -= 3 # x = x - 3\n",
    "print(\"Nilai x setelah dikurang 3:\", x)\n",
    "\n",
    "x *= 3 # x = x * 3\n",
    "print(\"Nilai x setelah dikali 3:\", x)\n",
    "\n",
    "x /= 3 # x = x / 3\n",
    "print(\"Nilai x setelah dibagi 3:\", x)\n",
    "\n",
    "x %= 3 # x = x % 3\n",
    "print(\"Nilai x setelah dimodul 3:\", x)"
   ]
  },
  {
   "cell_type": "markdown",
   "metadata": {
    "id": "NmHGN5hYTzuL"
   },
   "source": [
    "## Comparison Operator"
   ]
  },
  {
   "cell_type": "code",
   "execution_count": null,
   "metadata": {
    "colab": {
     "base_uri": "https://localhost:8080/"
    },
    "id": "yHXxtgnJT1IF",
    "outputId": "cfa6162f-de1e-417b-a856-ec7f63848070"
   },
   "outputs": [
    {
     "name": "stdout",
     "output_type": "stream",
     "text": [
      "Apakah p sama dengan q? False\n",
      "Apakah p tidak sama dengan q? True\n",
      "Apakah p lebih besar dari q? True\n",
      "Apakah p kurang dari q? False\n",
      "Apakah p lebih besar dari atau sama dengan q? True\n",
      "Apakah p kurang dari atau sama dengan q? False\n"
     ]
    }
   ],
   "source": [
    "p = 10\n",
    "q = 5\n",
    "\n",
    "# Sama dengan\n",
    "print(\"Apakah p sama dengan q?\", p == q)\n",
    "\n",
    "# Tidak sama dengan\n",
    "print(\"Apakah p tidak sama dengan q?\", p != q)\n",
    "\n",
    "# Lebih besar dari\n",
    "print(\"Apakah p lebih besar dari q?\", p > q)\n",
    "\n",
    "# kurang dari\n",
    "print(\"Apakah p kurang dari q?\", p < q)\n",
    "\n",
    "# lebih besar dari atau sama dengan\n",
    "print(\"Apakah p lebih besar dari atau sama dengan q?\", p >= q)\n",
    "\n",
    "# Kurang dari atau sama dengan\n",
    "print(\"Apakah p kurang dari atau sama dengan q?\", p <= q)"
   ]
  },
  {
   "cell_type": "code",
   "execution_count": null,
   "metadata": {
    "colab": {
     "base_uri": "https://localhost:8080/"
    },
    "id": "KqWl1yqRtdlm",
    "outputId": "d6c81e36-ac56-46c7-86b7-fbe97896420e"
   },
   "outputs": [
    {
     "name": "stdout",
     "output_type": "stream",
     "text": [
      "putih abu\n"
     ]
    }
   ],
   "source": [
    "senin = 'putih putih'\n",
    "selasa = 'putih abu'\n",
    "\n",
    "today = 'selasa'\n",
    "\n",
    "if today == 'senin':\n",
    "   print(senin)\n",
    "elif today == 'selasa':\n",
    "  print(selasa)"
   ]
  },
  {
   "cell_type": "markdown",
   "metadata": {
    "id": "nq4fV3msT6wm"
   },
   "source": [
    "## Logical Operator"
   ]
  },
  {
   "cell_type": "code",
   "execution_count": null,
   "metadata": {
    "colab": {
     "base_uri": "https://localhost:8080/"
    },
    "id": "pa1lReLYT6MM",
    "outputId": "97130c94-abf6-480e-c5a5-4ebe38c04efa"
   },
   "outputs": [
    {
     "name": "stdout",
     "output_type": "stream",
     "text": [
      "True AND False: False\n",
      "True OR False: True\n",
      "NOT True: False\n"
     ]
    }
   ],
   "source": [
    "# AND\n",
    "is_true = True\n",
    "is_false = False\n",
    "print(\"True AND False:\", is_true and is_false)\n",
    "\n",
    "# OR\n",
    "print(\"True OR False:\", is_true or is_false)\n",
    "\n",
    "# NOT\n",
    "print(\"NOT True:\", not is_true)"
   ]
  },
  {
   "cell_type": "markdown",
   "metadata": {
    "id": "yBT8M2qHT_Kp"
   },
   "source": [
    "## Identity Operator"
   ]
  },
  {
   "cell_type": "code",
   "execution_count": null,
   "metadata": {
    "colab": {
     "base_uri": "https://localhost:8080/"
    },
    "id": "ev6YWWluUCnm",
    "outputId": "18ba340a-984c-4fa0-fb8b-a9114f9227c0"
   },
   "outputs": [
    {
     "name": "stdout",
     "output_type": "stream",
     "text": [
      "a is b? True\n",
      "a is c? False\n",
      "a is not b? False\n",
      "a is not c? True\n",
      "a == b? True\n",
      "a != b? True\n"
     ]
    }
   ],
   "source": [
    "a = [1, 2, 3]\n",
    "b = a\n",
    "c = [1, 2, 3]\n",
    "\n",
    "# is (sama objek)\n",
    "print(\"a is b?\", a is b)\n",
    "print(\"a is c?\", a is c)\n",
    "\n",
    "# is not (objek berbeda)\n",
    "print(\"a is not b?\", a is not b)\n",
    "print(\"a is not c?\", a is not c)\n",
    "\n",
    "# == (sama value?)\n",
    "print(\"a == b?\", a == c)\n",
    "print(\"a != b?\", a == c)"
   ]
  },
  {
   "cell_type": "code",
   "execution_count": null,
   "metadata": {
    "colab": {
     "base_uri": "https://localhost:8080/"
    },
    "id": "QjiOMSrBukC_",
    "outputId": "f748c936-4eb3-4e9e-c253-93a49fe57484"
   },
   "outputs": [
    {
     "data": {
      "text/plain": [
       "True"
      ]
     },
     "execution_count": 53,
     "metadata": {},
     "output_type": "execute_result"
    }
   ],
   "source": [
    "a = b = c = 5\n",
    "a is b"
   ]
  },
  {
   "cell_type": "markdown",
   "metadata": {
    "id": "kmTuuee1UFkE"
   },
   "source": [
    "## Membership Operator"
   ]
  },
  {
   "cell_type": "code",
   "execution_count": null,
   "metadata": {
    "colab": {
     "base_uri": "https://localhost:8080/"
    },
    "id": "ISOKDzZdUFHf",
    "outputId": "d6dd44c7-d5c8-45ee-aac5-9e315830fcf7"
   },
   "outputs": [
    {
     "name": "stdout",
     "output_type": "stream",
     "text": [
      "3 in list_example? True\n",
      "10 in list_example? False\n",
      "6 not in list_example? True\n",
      "1 not in list_example? False\n"
     ]
    }
   ],
   "source": [
    "list_example = [1, 2, 3, 4, 5]\n",
    "\n",
    "# in (anggota)\n",
    "print(\"3 in list_example?\", 3 in list_example)\n",
    "print(\"10 in list_example?\", 10 in list_example)\n",
    "\n",
    "# not in (bukan anggota)\n",
    "print(\"6 not in list_example?\", 6 not in list_example)\n",
    "print(\"1 not in list_example?\", 1 not in list_example)"
   ]
  },
  {
   "cell_type": "markdown",
   "metadata": {
    "id": "W_bs5trQUL4S"
   },
   "source": [
    "## Bitwise Operator"
   ]
  },
  {
   "cell_type": "code",
   "execution_count": null,
   "metadata": {
    "colab": {
     "base_uri": "https://localhost:8080/"
    },
    "id": "fThCk8nAUKxT",
    "outputId": "8d3fc053-fd5e-46af-a089-4c0321ae08f9"
   },
   "outputs": [
    {
     "name": "stdout",
     "output_type": "stream",
     "text": [
      "Bitwise AND (True & False): False\n",
      "Bitwise OR (True | False): True\n",
      "Bitwise XOR (True ^ False): True\n"
     ]
    }
   ],
   "source": [
    "# AND bitwise\n",
    "result_and = True & False\n",
    "print(\"Bitwise AND (True & False):\", result_and)\n",
    "\n",
    "# OR bitwise\n",
    "result_or = True | False\n",
    "print(\"Bitwise OR (True | False):\", result_or)\n",
    "\n",
    "# XOR bitwise\n",
    "result_xor = True ^ False\n",
    "print(\"Bitwise XOR (True ^ False):\", result_xor)"
   ]
  },
  {
   "cell_type": "markdown",
   "metadata": {
    "id": "UBthAl3cZK5T"
   },
   "source": [
    "# Built-in Function"
   ]
  },
  {
   "cell_type": "code",
   "execution_count": null,
   "metadata": {
    "colab": {
     "base_uri": "https://localhost:8080/"
    },
    "id": "baWPfdbOZKo7",
    "outputId": "a8efe64c-0a0a-42fa-a90a-645890f7ba6c"
   },
   "outputs": [
    {
     "name": "stdout",
     "output_type": "stream",
     "text": [
      "Nilai terkecil: 1\n",
      "Nilai terbesar: 8\n"
     ]
    }
   ],
   "source": [
    "numbers = [5, 2, 8, 1, 6]\n",
    "\n",
    "# Menggunakan min() untuk mendapatkan nilai terkecil\n",
    "minimum_value = min(numbers)\n",
    "print(\"Nilai terkecil:\", minimum_value)\n",
    "\n",
    "# Menggunakan max() untuk mendapatkan nilai terbesar\n",
    "maximum_value = max(numbers)\n",
    "print(\"Nilai terbesar:\", maximum_value)\n"
   ]
  },
  {
   "cell_type": "code",
   "execution_count": null,
   "metadata": {
    "colab": {
     "base_uri": "https://localhost:8080/"
    },
    "id": "Zp4GB-Uiy8q9",
    "outputId": "4571f219-d345-4343-a481-3c84444cd69f"
   },
   "outputs": [
    {
     "name": "stdout",
     "output_type": "stream",
     "text": [
      "Nilai absolut: 10\n"
     ]
    }
   ],
   "source": [
    "number = -10\n",
    "\n",
    "# Menggunakan abs() untuk mendapatkan nilai absolut\n",
    "absolute_value = abs(number)\n",
    "print(\"Nilai absolut:\", absolute_value)\n"
   ]
  },
  {
   "cell_type": "code",
   "execution_count": null,
   "metadata": {
    "colab": {
     "base_uri": "https://localhost:8080/"
    },
    "id": "VN_IXhK7y-5E",
    "outputId": "13c40cbc-57ef-441f-a6bf-b994704d2786"
   },
   "outputs": [
    {
     "name": "stdout",
     "output_type": "stream",
     "text": [
      "Panjang string: 13\n"
     ]
    }
   ],
   "source": [
    "my_string = \"Hello, World!\"\n",
    "\n",
    "# Menggunakan len() untuk mendapatkan panjang string\n",
    "string_length = len(my_string)\n",
    "print(\"Panjang string:\", string_length)\n"
   ]
  },
  {
   "cell_type": "code",
   "execution_count": null,
   "metadata": {
    "colab": {
     "base_uri": "https://localhost:8080/"
    },
    "id": "dMfCiwI9zAXv",
    "outputId": "8b51a816-8845-4caf-c805-934e35ad4f80"
   },
   "outputs": [
    {
     "name": "stdout",
     "output_type": "stream",
     "text": [
      "Jumlah elemen dalam list: 15\n"
     ]
    }
   ],
   "source": [
    "numbers = [1, 2, 3, 4, 5]\n",
    "\n",
    "# Menggunakan sum() untuk mendapatkan jumlah semua elemen dalam list\n",
    "total_sum = sum(numbers)\n",
    "print(\"Jumlah elemen dalam list:\", total_sum)\n"
   ]
  },
  {
   "cell_type": "code",
   "execution_count": null,
   "metadata": {
    "colab": {
     "base_uri": "https://localhost:8080/"
    },
    "id": "yviTStogzDCw",
    "outputId": "5f0bb73b-1734-4f56-b662-e832db5783ca"
   },
   "outputs": [
    {
     "name": "stdout",
     "output_type": "stream",
     "text": [
      "Angka setelah dibulatkan: 3.14\n"
     ]
    }
   ],
   "source": [
    "float_number = 3.14159\n",
    "\n",
    "# Menggunakan round() untuk membulatkan angka desimal\n",
    "rounded_number = round(float_number, 2)  # Memiliki dua angka di belakang koma\n",
    "print(\"Angka setelah dibulatkan:\", rounded_number)\n"
   ]
  },
  {
   "cell_type": "code",
   "execution_count": null,
   "metadata": {
    "colab": {
     "base_uri": "https://localhost:8080/"
    },
    "id": "SZxAIT6pzEnz",
    "outputId": "41a0b937-a739-4668-8180-6f1803bb0679"
   },
   "outputs": [
    {
     "name": "stdout",
     "output_type": "stream",
     "text": [
      "List setelah diurutkan: [1, 3, 4, 7, 9]\n"
     ]
    }
   ],
   "source": [
    "unsorted_list = [4, 1, 7, 3, 9]\n",
    "\n",
    "# Menggunakan sorted() untuk mengurutkan list\n",
    "sorted_list = sorted(unsorted_list)\n",
    "print(\"List setelah diurutkan:\", sorted_list)\n"
   ]
  },
  {
   "cell_type": "code",
   "execution_count": null,
   "metadata": {
    "colab": {
     "base_uri": "https://localhost:8080/"
    },
    "id": "t-H9ufMHwpGA",
    "outputId": "bf045a9e-1e32-4c99-8c65-638b17ae0498"
   },
   "outputs": [
    {
     "name": "stdout",
     "output_type": "stream",
     "text": [
      "List setelah diurutkan: ['a', 's', 's', 'v', 'z']\n"
     ]
    }
   ],
   "source": [
    "unsorted_list = ['z', 's', 'v', 's', 'a']\n",
    "\n",
    "# Menggunakan sorted() untuk mengurutkan list\n",
    "sorted_list = sorted(unsorted_list)\n",
    "print(\"List setelah diurutkan:\", sorted_list)\n"
   ]
  },
  {
   "cell_type": "code",
   "execution_count": null,
   "metadata": {
    "colab": {
     "base_uri": "https://localhost:8080/"
    },
    "id": "IvGFKdPgwvrg",
    "outputId": "ea8ba92e-7d26-4302-b1de-5f4c45ba5af8"
   },
   "outputs": [
    {
     "name": "stdout",
     "output_type": "stream",
     "text": [
      "['e', 'h', 'l', 'l', 'o']\n"
     ]
    }
   ],
   "source": [
    "a = 'hello'\n",
    "# a = ['h', 'e', 'l', 'l', 'o']\n",
    "sorted = sorted(a)\n",
    "print(sorted)"
   ]
  }
 ],
 "metadata": {
  "colab": {
   "provenance": []
  },
  "kernelspec": {
   "display_name": "Python 3 (ipykernel)",
   "language": "python",
   "name": "python3"
  },
  "language_info": {
   "codemirror_mode": {
    "name": "ipython",
    "version": 3
   },
   "file_extension": ".py",
   "mimetype": "text/x-python",
   "name": "python",
   "nbconvert_exporter": "python",
   "pygments_lexer": "ipython3",
   "version": "3.9.13"
  }
 },
 "nbformat": 4,
 "nbformat_minor": 1
}
