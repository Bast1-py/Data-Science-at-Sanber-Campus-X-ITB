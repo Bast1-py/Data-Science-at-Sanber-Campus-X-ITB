{
  "nbformat": 4,
  "nbformat_minor": 0,
  "metadata": {
    "colab": {
      "provenance": []
    },
    "kernelspec": {
      "name": "python3",
      "display_name": "Python 3"
    },
    "language_info": {
      "name": "python"
    }
  },
  "cells": [
    {
      "cell_type": "markdown",
      "source": [
        "# List"
      ],
      "metadata": {
        "id": "kbXriWUFfk-v"
      }
    },
    {
      "cell_type": "code",
      "source": [
        "a = [1, 'saya', 'kamu', 'kita', 2]\n",
        "a"
      ],
      "metadata": {
        "colab": {
          "base_uri": "https://localhost:8080/"
        },
        "id": "Ziw32tUEpIjY",
        "outputId": "749d91f6-be60-4e2d-ddf5-747b0997b2b1"
      },
      "execution_count": null,
      "outputs": [
        {
          "output_type": "execute_result",
          "data": {
            "text/plain": [
              "[1, 'saya', 'kamu', 'kita', 2]"
            ]
          },
          "metadata": {},
          "execution_count": 269
        }
      ]
    },
    {
      "cell_type": "markdown",
      "source": [
        "## Inisiasi List"
      ],
      "metadata": {
        "id": "SEQT2oq_fpuu"
      }
    },
    {
      "cell_type": "code",
      "execution_count": null,
      "metadata": {
        "colab": {
          "base_uri": "https://localhost:8080/"
        },
        "id": "4Yixb3HDffHl",
        "outputId": "23cbaa69-f5a0-484f-91c6-73635a9c3fcd"
      },
      "outputs": [
        {
          "output_type": "stream",
          "name": "stdout",
          "text": [
            "[]\n"
          ]
        }
      ],
      "source": [
        "# List Kosong\n",
        "\n",
        "my_list = []\n",
        "print(my_list)"
      ]
    },
    {
      "cell_type": "code",
      "source": [
        "# List dengan elemen\n",
        "\n",
        "numbers = [1, 2, 3, 4, 5]\n",
        "print(numbers)\n",
        "\n",
        "fruits = ['apple', 'banana', 'orange']\n",
        "print(fruits)\n",
        "\n",
        "mixed_list = [1, 'hello', 3.14, True]\n",
        "print(mixed_list)"
      ],
      "metadata": {
        "colab": {
          "base_uri": "https://localhost:8080/"
        },
        "id": "MDvLoLflf8Kh",
        "outputId": "823fdf74-3221-4171-ce2f-4aa4897668cd"
      },
      "execution_count": null,
      "outputs": [
        {
          "output_type": "stream",
          "name": "stdout",
          "text": [
            "[1, 2, 3, 4, 5]\n",
            "['apple', 'banana', 'orange']\n",
            "[1, 'hello', 3.14, True]\n"
          ]
        }
      ]
    },
    {
      "cell_type": "code",
      "source": [
        "# Nested List (Matrix)\n",
        "\n",
        "matrix = [[1, 2, 3], [4, 5, 6], [7, 8, 9]]\n",
        "print(matrix)"
      ],
      "metadata": {
        "colab": {
          "base_uri": "https://localhost:8080/"
        },
        "id": "MsGCFicsiOOu",
        "outputId": "188244ef-66ef-456d-9c0a-cc57e105931f"
      },
      "execution_count": null,
      "outputs": [
        {
          "output_type": "stream",
          "name": "stdout",
          "text": [
            "[[1, 2, 3], [4, 5, 6], [7, 8, 9]]\n"
          ]
        }
      ]
    },
    {
      "cell_type": "code",
      "source": [
        "# 1 2 3\n",
        "# 4 5 6\n",
        "# 7 8 9"
      ],
      "metadata": {
        "id": "H5NdW-NHpffT"
      },
      "execution_count": null,
      "outputs": []
    },
    {
      "cell_type": "code",
      "source": [
        "# List Multiplication\n",
        "\n",
        "number_one = [1] * 10\n",
        "print(number_one)"
      ],
      "metadata": {
        "colab": {
          "base_uri": "https://localhost:8080/"
        },
        "id": "OM-gXcOKiXnS",
        "outputId": "8b693f13-d4cf-4ab0-dc34-3a2b7c59a05b"
      },
      "execution_count": null,
      "outputs": [
        {
          "output_type": "stream",
          "name": "stdout",
          "text": [
            "[1, 1, 1, 1, 1, 1, 1, 1, 1, 1]\n"
          ]
        }
      ]
    },
    {
      "cell_type": "code",
      "source": [
        "# List dari String\n",
        "\n",
        "teks = 'Halo saya dari sanbercode!'\n",
        "lst = teks.split()\n",
        "print(lst)"
      ],
      "metadata": {
        "colab": {
          "base_uri": "https://localhost:8080/"
        },
        "id": "Xkl5ogCFrgBt",
        "outputId": "c3ecb8f5-5e1c-4fa8-ad09-47ad85306e80"
      },
      "execution_count": null,
      "outputs": [
        {
          "output_type": "stream",
          "name": "stdout",
          "text": [
            "['Halo', 'saya', 'dari', 'sanbercode!']\n"
          ]
        }
      ]
    },
    {
      "cell_type": "code",
      "source": [
        "teks = 'Halo saya dari sanbercode!'\n",
        "lst = list(teks)\n",
        "print(lst)"
      ],
      "metadata": {
        "colab": {
          "base_uri": "https://localhost:8080/"
        },
        "id": "QuZP_OyrmhLY",
        "outputId": "30a44adf-e751-4f68-96e6-b5502e1b902a"
      },
      "execution_count": null,
      "outputs": [
        {
          "output_type": "stream",
          "name": "stdout",
          "text": [
            "['H', 'a', 'l', 'o', ' ', 's', 'a', 'y', 'a', ' ', 'd', 'a', 'r', 'i', ' ', 's', 'a', 'n', 'b', 'e', 'r', 'c', 'o', 'd', 'e', '!']\n"
          ]
        }
      ]
    },
    {
      "cell_type": "code",
      "source": [
        "# List Comprehension\n",
        "\n",
        "squares = [x**2 for x in range(1, 6)]\n",
        "print(squares)\n",
        "\n",
        "odd_square = [x ** 2 for x in range(1, 11) if x % 2 == 1]\n",
        "print(odd_square)"
      ],
      "metadata": {
        "colab": {
          "base_uri": "https://localhost:8080/"
        },
        "id": "6pwYVjuCi_fC",
        "outputId": "465918e4-7780-4110-8059-e1c74bee8322"
      },
      "execution_count": null,
      "outputs": [
        {
          "output_type": "stream",
          "name": "stdout",
          "text": [
            "[1, 4, 9, 16, 25]\n",
            "[1, 9, 25, 49, 81]\n"
          ]
        }
      ]
    },
    {
      "cell_type": "code",
      "source": [
        "squares = []\n",
        "\n",
        "for x in range(1, 6):\n",
        "  temp = x**2\n",
        "  squares.append(temp)\n",
        "\n",
        "print(squares)"
      ],
      "metadata": {
        "colab": {
          "base_uri": "https://localhost:8080/"
        },
        "id": "2e9Dr5IIeVnj",
        "outputId": "08ef3413-8bd6-44af-8328-f7bddc87b033"
      },
      "execution_count": null,
      "outputs": [
        {
          "output_type": "stream",
          "name": "stdout",
          "text": [
            "[1, 4, 9, 16, 25]\n"
          ]
        }
      ]
    },
    {
      "cell_type": "code",
      "source": [
        "odd_square = []\n",
        "\n",
        "for x in range(1, 11):\n",
        "  if x % 2 == 1:\n",
        "    temp = x**2\n",
        "    odd_square.append(temp)\n",
        "\n",
        "print(odd_square)"
      ],
      "metadata": {
        "colab": {
          "base_uri": "https://localhost:8080/"
        },
        "id": "dTHBxFUDemRx",
        "outputId": "78e2915b-7f5d-4ee0-a949-2da98f152088"
      },
      "execution_count": null,
      "outputs": [
        {
          "output_type": "stream",
          "name": "stdout",
          "text": [
            "[1, 9, 25, 49, 81]\n"
          ]
        }
      ]
    },
    {
      "cell_type": "markdown",
      "source": [
        "## Slicing List\n",
        "\n",
        "![image.png](data:image/png;base64,iVBORw0KGgoAAAANSUhEUgAAAwoAAAEtCAIAAAAnbADRAAAgAElEQVR4AexdB5wURfau7kmbWYIsSwYxAAICkg6QVYIiYgADHKh3JkxnuPO4v2JEEAQTaUl6IAoCHlkkpwUEDKeSc5CogEfa3ZnpUP/t/mbe1s7uwmZml5rfMlRXV7969b2qel+/qu5hXH4kAhIBiYBEQCIgEZAISAQEBJiQlkmJgERAIiARkAhIBCQCEgEu6ZHsBBIBiYBEQCIgEZAISASyICDpURY45IFEQCIgEZAISAQkAhIBSY9kH5AISAQkAhIBiYBEQCKQBQFJj7LAIQ8kAhIBiYBEQCIgEZAISHok+4BEQCIgEZAISAQkAhKBLAhIepQFDnkgEZAISAQkAhIBiYBEQNIj2QckAhIBiYBEQCIgEZAIZEFA0qMscMgDiYBEQCIgEZAISAQkApIeyT4gEZAISAQkAhIBiYBEIAsCkh5lgUMeSAQkAhIBiYBEQCIgEZD0SPYBiYBEQCIgEZAISAQkAlkQkPQoCxzyQCIgEZAISAQkAhIBiYCkR7IPSAQkAhIBiYBEQCIgEciCgKRHWeCQBxIBiYBEQCIgEZAISAQkPZJ94EpBwLA/nPNly5a1bdu2fPny0dHRrVu3/uabbwDBkiVL5syZwznXdR05pmkahoEc0/7g0DTNffv2JScnc86Rj/KapkVHR6v2hzGmKApj7J///KcoExLEHNM0/X7/xIkTGWOrV6+GKJ/PJ5bhnONC+p4wYQJjLCUlhXO+ePFitGL79u2MsUGDBlExUgyqvv/++4yxZcuW6faHxFJC0zS6pHLlyklJSYZhmKaJTM45CiDHNE3CihJUhqoQGyKKgpKffPLJtm3bxHqpLrqQzlIOKQwhJPaqq6667bbb/H4/2kuiSJmlS5cCK1wIgbGxsaqqwmRRUVGtWrVas2YNFaCEpmnUJag7iQ1HWtM0gBaiG6mEfLqQlCdtZUIiIBG47AhIenTZTSAVKFEEzp07FxUVdf3114+zP1WrVo2MjDx+/DjnvHnz5s8++yx8mM/nI6dFbozcm6Zpzz77bKNGjXRdRzEqExsbW61atSFDhnz44Yfvv//+8OHDV65cSS3UdZ18rWEYfr+fahk3bpyqqsuWLeOcgxvhmwiByMM45wcOHJgxY8b//vc/v9/funXrZ555xjCMHTt2OByOt956i1TlnIMrgGEMGTLE4XDMmzcPKpEyKE/uHIkqVaq0b9+eiAiJwrVEWajtohA6axgGFfB6vZSGkNOnTzudzq+++gqHOAtYRBPgLGkCQkmZlM85nz179saNG+kUCBy1yzTNVq1aPfnkk7gEyBiGER0dXbNmzfftT//+/ePi4uLj48+dO4cCRPhEVNFAMh+1iy6BDuBJoqFDMCdVZUIiIBEIKwQkPQorc0hligsB8l6rV69WFGXQoEGoacuWLdOmTTt37lydOnUyiAVjrEWLFpzzL774om7dui6X65Zbbtm9ezfnfNiwYYyxjz76KCoqqkePHoqiqKrqcDhSU1OffPJJh8Nx+PDhjGJRUVEtW7aEcPKUuq7HxcU98MADzz77bFRUVJMmTSDT5/P169cvMjKyYcOGL730khg9Mk2zZ8+ederU4ZyfPHmSMVa9enXOeWpqqsvlev3118eOHauq6vr166+++mpmf1q3br1z507G2CuvvNK1a1ePx3PPPfecP39exHTkyJEZbVy4cOF3333ndDoHDhx48803ezye7t27p6Wlcc7Xrl1bu3bt2NjY119/PTExkejR+++/X6tWLbfb/cQTT6Snp69Zsyaj+e+88056evq///1vxtjkyZMRx7rxxhudTmeHDh2OHj2qaZrP53vyySerVKkSGRl5//33nzhxggjTgQMHGGOAfcCAAT6fb/Lkyddcc42qqtddd92qVatAPihOU758+dtvv713795RUVENGjTYtWuXrusfffQRY2zkyJGRkZHffvttlSpVOnXqxDkfOnQoY2zKlCn169evUKHCgAEDdF2vXbs2Qno33XQTcR3TNF0uV5s2bYiJ9u/fnzG2YcMGznlycnKdOnViY2P/9Kc/HThwwDTN4cOHM8amTp16zTXXlC9f/pVXXsGFH3/8ca1atRITE6HSK6+84vf79+/f361bN7fbXb9+/TVr1hDn83q9sAsRLNFMMi0RkAhcdgQkPbrsJpAKlBACPp9P13WfzxcTExMREfHCCy/MmjXr7NmzqP7bb79ljD344INbt27du3cvY+zPf/7zt99+63a7H3jgAc45FrPatGkzefLkH374oX79+rVq1frpp58Mwxg8ePCNN974xx9/cM5jYmIaNWp08ODBvXv3HjlyZO/evWBmFStWLF++/JgxY6ZMmcIY6927t6Zp06ZNY4w99dRTKSkp1atXdzqdq1evJg86YsQIp9N54sSJOXPm1KxZkzF24MCB5cuXw3OPGzcOi2vff/+9w+Ho27fvli1bsLhWs2bN9957r0ePHqqqjhs3Tgt+OOeDBw9WFGXZsmU7duwA5VqyZMnLL7/MGJs4caLP52vUqFGlSpUWLVr04osvMsZAj+bMmZOx8PT222+npKTExsYOHTrUNM2nnnrK7XZ/9913NWrUuPPOOznnhw8fjoyM7Nq165YtWxo2bNitWzfO+bvvvqsoyty5c1NSUmrXrv2Pf/wDgCOIMmrUKMbY0KFDjxw5snTpUofDcd999y1fvvzmm292OBwHDx4kisk5T0hIcLlc06ZNW7JkSXx8/G233Qb6oijKTTfdNG3atBMnTlSvXr1Dhw5+v3/SpEkZy4ht27Zdt25du3btGGOHDh1KSUlRVbVXr17bt2/HMhnUwILa3r17Dx48+OOPP95www0xMTG//fbbrl27XC5X3759169fHxUVdffdd3POR4wY4Xa727dvn5KScuutt2bovHXr1v379yuK0rRp04ULF95+++2qqoKCN27cODExcdOmTY8//nhsbCyaQ5QICbGNJTQYZDUSAYnApRCQ9OhSCMnzZQUBuCKfz/fDDz/cfvvtsbGxjDGXy/Xss896vd4LFy5ERkY++eSThmGcOXNmy5YtYE4tW7asXbs23LDD4Zg0aRKcWYsWLerXr08LJbTyFR0djfgEvhljP/zwg2EY1apVu+6661C+fv36TZs21XX9/vvvdzqdZ86cyYhkvPHGG4yxVatWAW/DML7//nvG2KJFi/r379+rVy8wgHHjxnk8nrS0tDFjxjDG1q1bd+bMGXAszjmiRw8//DDnfO/evYqivPDCC6IBP/roI1VV58+fv2fPHlxlmubRo0dVVf3b3/6Gy8FgDMOIiIjo0KGDaZp33XWXw+FAeKlHjx4NGjTgnKelpdWsWbNixYoZISUEij744APGGHb2jB07ljF27Nix4cOHK4oyYMCATZs20XKhz+fDPp558+YpijJ9+nTO+YMPPsgYO3XqFOd806ZNGRExrBJCf9M0ExMT69evj8OOHTsqisI5HzNmjKIoU6ZMwdrfVVdd1bFjR875+PHjGWNYtvvqq68YY19++WV6enpGFc8995y4XsY5j4yMpL1iTqezYsWK//nPfzjnZ8+e3bx589mzZ9PT09u0aXPNNdfoug6iPHXqVEQZGWPz58+fOHGiw+FA5uLFi9HkH3/8kTE2YMAAzvnWrVsZY9OmTaNAZghJEs0k0xIBicBlR0DSo8tuAqlASSBAPolWds6cObNq1apOnToxxmbOnHn27FnG2PPPP885/+OPP7p27VqhQgWXy5Xh0q699lrOOVZM1qxZA3UbNWrUtGlTRCBon43P56tQoUK9evVmzZo1d+7cmTNnzp8/H+ynatWqbdu2xbVNmjRp0KCBYRhdu3Z1uVymaWqaNmnSJIfDIe498vv9cXFxI0eObNy48ahRo562P3369GnXrh2ctMPh2LRp05kzZ1RVxa6pbdu2KYoyZMgQXdfT0tIURXnsscdQqaZpXq8XDGbp0qW7d+9mjA0ZMoRzTgRr48aNiqK88847iDclJCQkJSWZptmhQweXy+XxeOLi4jweT2RkJPD817/+hTAbeM+bb77pdDqjoqJiYmKio6MR5Tp37tydd97pcrkURUlISMDmdzAD0zTnzJnjdDpnzpzJOe/QoUNkZCRYzq5du9xu9wsvvJCeng79Mxhq5cqVO3fujP1bffr08Xg8v//+O8jK8uXLUSwxMfG2227TNA30ce3atWlpaXPmzFFVderUqV6vV1GUfv36gePSrvPY2Ni6devOmzdv+vTpbre7U6dOILKnTp2644474uPjo6KiFEUBUUbcbuPGjV6vd8GCBaqqfvHFF++++67D4fj2228558B20KBBCPVFR0e73W6Xy+V0Oj/88EOKGAFDIknUTJmQCEgEwgEBSY/CwQpShxJCwOfzrVy58rHHHtu/fz82527cuNHhcAwcODA1NZUx9swzz2Ts7/nnP/+ZsRllyZIlmqY1adKkbt26fr9//Pjx2OuTnp6u63qbNm2uu+66kCAE55wWpKhJhmFompaQkNC5c2dU2rJlS0SS7rvvPlVVsT3oueeeUxQlJSUFVAPEq1OnTt26dYuKitq1a9e0adPAyfr3728YBtz/qlWrfD4fY+zpp5/mnGNxDUEXED7k05ZwxHIWLVq0bds2hGf8fn9aWhqo4X//+1/G2Msvv4x2qarapUsXr9f74IMPOhyOXfZn7969+/bt45z/+uuvFStWvP766xljmzZtMk0zOTmZMfbFF1/s3r17x44de/bsAbkxTfPs2bMLFy689tprEXki3L7++mvG2OzZs3Vdf+SRRzICWidOnOCcr1mzhjH24YcfituuK1eufPXVVyOnffv2YJYgKxSaio+PR/QI+aCzIDHTp08/efKkqqogwWAnoEERERFt27YFU3nmmWcYY0uXLuWcv/zyy06nc9myZYZhNGzY8JprruGcjxw50ul0rl27lnP+9ddfO53OL774AquEs2fP1jRt2bJlqqq+9tprIHlPPPHEoUOH9uzZs3v37t9//51aRKyaEtRnZEIiIBG47AhIenTZTSAVKAkE6B596dKlGS68Xr16Q4cO/eCDD5o1a4YdPJqmYQvLihUrsO3m888/nzBhQkxMTHx8/MGDB0ePHu1wOOAUOed/+tOfMrYZzZo1S9O09957r1WrVqdPn9Y0rXz58lWrVh0+fPiwYcPwPW3atIy1nsTExM6dO2NFqVmzZnC0iHw8+uij8+bNw+6iFStW0JZhzvnAgQMVRYmLi/P7/QcPHsQu5sWLFxuGMX78eEVR1q5d6/V6saN81apVu3fvznirwMCBA03TvHDhAmPsiSeeIHxpW/GSJUt27drFGHv33Xc55+fPn1cU5dFHH+Wc16pVq3z58vPmzevXr5/L5WrXrh3n/KuvvoK/X7FiRfv27Z977jnTNO+4445KlSqdO3eucePG11xzTVpa2pEjR6Kiorp3756SkvLQQw917NgxNTX1qaeeqlWr1sqVKzds2NC0adNWrVrRDmjDMJYvX66qat++fbdv375ixQqn09mrV68lS5aA/fz666+EhmmaVapUiYiIGDhw4GeffRYZGYm9R5988gljjKJ6iYmJSUlJtCdp7dq1pml+8803WFwzTVNV1caNG69Zs4a6BOc8OjqaNmv//vvv2EmdscyKnvDZZ59NmDAhNjY2Pj7+wIEDIF7oCQsWLMCSGfC86aabli1b1qFDh4yl1bfeekvTtAYNGlx77bVLly4dMmTIjTfeuH37dhAyCmfSgiOZSSYkAhKBcEBA0qNwsILUoeQQyPBYM2fObNGiRVRUVHx8fMuWLadOnQpP+eijj3o8nvbt2+/evbtx48YREREPP/zw/Pnz8ahacnIyokcoPHHixOjo6Pj4+JMnTz799NOMsZMnTxqGERMTg11HbrcbD5TB7yYkJHTq1AnPmSN6hAf4+/TpEx0d3bhx44EDB6qqunTpUjyoBSe6evVqxtgdd9wBgCpVqoRok2matPeIc/74449HR0e3bdt227Ztqqq+/fbbID2MsX79+pEnNk0Tz98tXrx4+/btIFJEj0Ckli1bVqdOnfj4+MGDB9erV69NmzbQZMiQIdWqVStXrlynTp0OHTo0depUxthnn32WsfS2atUq2mHzzTff3HDDDREREY0aNVq2bJlpmocPH+7SpUtUVFRsbGxSUtK2bdvQFoRMUlNTW7VqpSjKG2+8kbG7aPz48U2aNImMjGzRogVeiEDvGcrYZnTVVVclJSU9/PDDERERLVu2PHTokK7roInr1q2DXapWrdqhQ4eMfdzY/AQSM2/ePKfTiY1Bjz32mMvluvnmm8HScBXRI4R2/u///o8xNm7cuF27djVo0CA6Ovqhhx6aN29edHT0vffeO3r0aJfLhTdOzZ07F9EjPNtYoUKFDJSwDvv222+bprlr166OHTvGxMTUqFFj5MiRJdfRZU0SAYlA4RCQ9Khw+MmrSwkC8IL4pugFvSpQbATIBPam0CNFoAh+v5/WQShBkkk4XCzta0FJSEAZvC1JrAgKkEwcogAu1HUdZ30+H16YFHJJ9iAEKY8ADL2iiRa2oKFYCzUBmaQPtdEwDHoiXZRPMglJqI1DEotrSQJ2OIU0hDaH0fP8xGOqVavWqVMn1Evy0QpUgfcIhChD1dGqFilJilGXoDJUOzbdk3zSVgQHOpw/f/706dOc8w0bNjDGJkyYIIa+QrQiHWRCIiARCE8EJD0KT7tIrYoFAXJplIA71HWdtgCTyxQJjRjDIM38fr/opOH/qCRVEVKGLqcEESly0tiuRK6aSpJuOEVVoIDIkHAKm77JSUM+9KHCeMUzlKctSiGa0HN5pAlVTdChFeAupCcxOQIBEnBImaQM1UvvxhRBqFSpEhbURCGkCelGCaK/hIZ4iiSDCwKBkJKkodgiZNJVoF+nTp3KeMywVatWa9euveeeeyIiIrZu3UrYSm5EyMuERKC0ICDpUWmxlNSzCBCAY8vtpzDgm+H2iC0Rd6FdxpqmUeAE3hRiSTjk4zvE3eIQESDTNEELUCNVRFwBAnEJfYPx4BQQCYmmECUilyxWSiCKnlvkTxcuXEAZsQrk0NP4OBTDUeIlqA6NwjdxJmJLKC/WS9WJLxMXm2YYBp6kA63BKRErYjDgKyQQ+tBZqBSiALWa+Fn2TgKBkIbYEoX08LTdrFmzateu7Xa7Gzdu/NVXX5ECVJdMSAQkAqUIAUmPSpGxpKoFRyDEKUKQ3+8nLy66Q7hSnBKdoujOOefiqk12+fCjpDE2ZZP3pXyKYaA8vD4JRzgH+pCDx7Wi96U0xUuIPYitoJAM6gK/oWvpFz8oAIZTtKRIbaSm0bX0oxl0ijSBtnQtNRzXUqNwSJcTWURDxPAVVUqwEGh0OWqhhtDPoaCA3+/3er24nKQR29N1nQQS/YKZcDnpTAl0DDoUqSdEoZbsIBAaMiERkAiEGwKSHoWbRaQ+xYUAOWzDMOjN1Nkro70v5CPJuVIO3CS8Hfk88s3EFeAU6SpiQuR06VrkiCRAFJ79J8ZQXlRDJF4gVSQ8JExF+mT32YCF3DwpTIEokSCiGGqBKNKfqgZ0JFBMELmkXT4QLh7COqJYSKCfhiWBBD4xS/BdKEZWpvLIARSmaYrKUGFiz9RqutwwDIovEp6kJ8UXxdqpCpIvExIBiUA4IyDpUThbR+pW9AiQhwOfoEOfz0d+jvgQwg+is8fbonEtOT8k8I1LIJZ8NiVIMjEPClqImqDZEBhSgGoRtSLXS8QrRENy8ETdUAU1OYQvkqcHtSLdKAaGHNINcSmEfMTGQltqLK1JoXYSm+MhbdwWg0BUL1qkaRpwQL7YfMikb4KL1tGgG0FHtharoHaRHEKMQnE4RfnUKNrIRZEw0oGkyYREQCIQtghIehS2ppGKFSUCoouFXHJjIeEK8ujZnRldQqfEZRQxxEI0iC7J7j5DKqICyCeCQsyGyoeUBB2Bm0d1FAAjFx7SfOhPupFkICOKQg6pJB4SFxG3qJMChAbVIraIKFSIYuLlqEskGSIUxDlQjIJnVB2pF6I8ylMxupxAoERIGdIZCZwFknSKOoaoKlUhExIBiUApQkDSo1JkLKmqREAiIBGQCEgEJAIlgYCkRyWBsqxDIiARkAhIBCQCEoFShICkR6XIWFJViYBEQCIgEZAISARKAgFJj0oCZVmHREAiIBGQCEgEJAKlCAFJj0qRsaSqEgGJgERAIiARkAiUBAKSHpUEyrIOiYBEQCIgEZAISARKEQKSHpUiY0lVJQISAYmAREAiIBEoCQQkPSoJlGUdEgGJgERAIiARkAiUIgQkPSpFxirjqtLbDsWXLJumOW7cuKeffrp79+5169ZNSkpSVZXJT7giAOs4nU5FURhjiqLccsstBVPW4/G0adMGciDB4XAUTFT4XwXcVFV1OBzt2rWrV69et27dnn322VGjRtGwp/dq0osr6ZRMSAQkAkWOgKRHRQ6pFFgQBPAOYvxmBaXHjRvHGHvllVdGjhy5aNGiAwcO4K3E0j0UBOKSvUYkuyGvn86LIvT6afFaMZ0XIaWoDNpL7x/fuXPn119/nZycPGDAAMbY6NGj6TXcpahRUlWJQKlGQNKjUm2+MqW8YRj04wyc86ZNmz7//PP06xy6ruOs5EbhbHWYCTwG3/QbZwVQ+/z587gKRi/D9AjNRAOph9Mv3D3zzDNt2rQhyigOkwKgKi+RCEgE8oKApEd5QUmWKQkEaPbnnDdv3nzKlCkhv2iGn/Ei51ESOsk68o8A2ZF+zK7wtAbrSoWXk//WlNAVwAoNNE1TjL1xztPT0z///PNWrVqVkDayGomARIBzSY9kLwgLBEB68D169Oh+/fqRWvRj8pIYESZhmyAGgwgH3HzBDCdKwNJSweSELVY5KgYA8YO7YnsNw+jXr9+ECRPEzBwlyEyJgESgSBCQ9KhIYJRCigABzPumaSqKAndIcQhs1ibXG3JvXQR1SxFFhAD8uq7r5MUpkd8aTNOka8n0+RVSWspTlybo0HbgSRuPGGNlHorSYjKpZ5lHQNKjMm/i0tFAMCG/3z969OhXX301hBiJTkI8VTradoVpSTtj4OA1TSuAySiIAmbs9/vLNi0AVrqu0+Npmv2hvXdYWf7Xv/41duzYK6xDyeZKBC4PApIeXR7cZa3ZEYBbffrpp0eOHElegZwiXGz23UjZ5cicy4hAiL3g9SkzX4rhKpFaQVq+hJSiwnQPIIKGQUGM86OPPnrppZfosBS1TqoqESh1CEh6VOpMVmYVNgzD7/d369ZtwYIFaGTB3GqZBUg27MpDAEwIhMkwjG+++aZr165lmyZeeUaWLQ5TBCQ9ClPDXGlq0d6L6667bufOnaZpimGDKw0N2V6JgIiAaZo+n49zvnPnzrp164qnZFoiIBEoJgQkPSomYKXYfCOQmppqGEbnzp1xx0yEKd+C5AUSgbKCAFgRwqgYEZ06dZJ3DmXFvLIdYY2ApEdhbZ4rRznaTsGY1SflstqVY3rZ0osjgJdD0oIaBsjFL5FnJQISgcIjIOlR4TGUEooGAd3+uN1u4kbkEoqmAilFIlDaEBCHAB7fc7lcNEBKW2ukvhKB0oSApEelyVplW1e8OJgxRm9bFn1D2W67bJ1E4OII4C1Quq4zxuTi2sWxkmclAkWCgKRHRQKjFFJYBOiGWK4dFBZKeX3ZQgA3CUSJ5AApW+aVrQlfBCQ9Cl/bXFGaYe+RaZr0XmB6P94VhYNsrEQgBAHalofHOWmAhBSThxIBiUDRIiDpUdHiKaUVCgH8oghFkgolK/8XU726rq9atapt27axsbFxcXEtW7ZcvHgx53zbtm2MscGDBxuGkZCQcNttt5HrwsudDcPAXX5CQsKtt94KFSCWFgpRABeGvAwapwzD0DTtwQcfjI2NvfPOOylsQAk8zYQaqZWoRfxGFSQTG95HjRrl8XhWrFgh7n8XNcTjUfhV1OyvVxBl0qs7dV3fu3fvmDFjIKdq1aodOnTgnI8bN44xtn79+l27djHGBg4cCG0JCtM0IZBykIAcvCeaGoj2jh8/njG2fPlyAlwscCWkZfToSrCybGM4ICDpUThYQeoQQOCy0CNyxpxzkIkzZ854PJ6GDRtOnDgxOTm5WrVqbrf76NGj+/fvVxTl7bff5pwvXLgQJANX4Z2WaIbf758/f35KSkqI+6fXIqMW1Eu/LAaiANZy4sQJxthTTz1FPYNEUQ7xGyJARDJCCpNkzjnoxcaNG0U5lAY3Aj8T6Vd2nkQUDbW/9NJLDRs2xCVz585du3Yt5/zjjz+OiopatWrV5s2bVVUdNGgQyTFN0+v1Ur1IECDiod/vFznTmDFjHA7H6tWrqTAUCBFVhg8lPSrDxpVNCysEJD0KK3Nc6cpcFnoE1kIcwuv1rl27Fu4c9vjxxx9nzJjxv//9b8uWLYyxQYMGcc6vuuqqzp07w9+PHDny6quvjomJufPOOw8fPozYUufOnTnnycnJjLFp06bVr18/Njb2lVdeAYdITk6uVKlSQkLCp59+mrEb/fXXXyd/f/78eUVRMsItqqq2bt16+PDhjLERI0ZUqFBhw4YNhw8f7tWrl9PpjIuLe/TRR8+ePcs5/+CDDxRF+eSTT2rUqBEbGztr1qw333zT4/G0bNny+PHjoBegERMnTmSMjRkzplGjRuXKlRswYADyFy1adOONN0ZGRt58882//vor5/y9995jjI0cObJcuXIbN27cu3dvp06dYmJi6tWrt3LlSrQCv/Hy+OOPM8agc1paWvXq1RE5Q11r1qzZv38/okfQhKB+9913a9Wq5XQ6H3/8cYiKjY3985///PTTT0dERDRp0mTz5s1gn4899pjT6WzWrNlLL73EGFu1ahXYIYF25YwcSY+uHFvLll5eBCQ9urz4y9qzIHBZ6BE0wC+lw3+fOXMmKirK4/G88MIL33zzzenTp7HQs3fv3iYn+BgAACAASURBVAwegOhRQkJCUlIS53zx4sWMsX79+i1cuDA+Ph6sqFatWu3atTMM4+OPP2aM3XLLLStWrOjSpQtjbM+ePaAL7dq1W7BgQVJSktvtfvPNN6EGqMNXX33FGHv00Uf37ds3duxYVVWbNWv2xRdfHDt2rG3btvHx8TNmzEhOTnY6nX379uWcjxgxQlGUu+++e+nSpeXKlYuOjn7llVcQKHrjjTcIYq/XO2rUKJfL1aJFi9GjRzdo0IAxtnv37kOHDnk8nm7duv33v/+98cYbu3btqmna6NGjFUVp0qTJF198cfTo0euvv75evXqbNm167LHHypcvf+HCBRKLs3Xq1Pnuu+90XQc90jRt7NixDodj3bp1iB6JmhiG8dVXX7lcrgEDBqxfvz4qKmrw4MGc84oVK8bExIwYMWLGjBmMsUceeSQ9PX3KlCmMsaeffnrJkiW1a9dmjK1du5ZCXKTGFZKQ9OgKMbRs5mVHQNKjy24CqUAmApeFHtHyDSIiiKZ8//333bt3d7lciqJERkY+88wznPNffvnF6XQOHTrU6/VWrVoV9OiBBx5gjJ07d07X9fXr1y9ZssQwjPLly99+++1YzHK73VOnTuWcf/nll4yxWbNmjR07VlGUGTNmGIaxfPnyjM22b7zxBi0SGYaBVbwBAwZomjZhwgTG2L///W/O+b59+xRFoUW3Ll26REVFoYyqqrNnzzZNs0uXLoqiXLhwIT09XVGU3r1704sSOOeitEmTJjHGZs+e/f7772NDj2maY8aMYYydPHnyk08+YYxNnTrVMIwtW7Y4HI7XXntN1/UdO3YoivL5559zzrFAZppmy5YtGzVqhIhOYmJix44daSEvJSVl9+7dFHVDM30+37333ssYg4QePXo0aNDA6/XWqlXrhhtuQEyoTp06zZo145z36NHD6XReuHAhg7y++eabiqIsWrQInUZGjzIHj0xJBCQCRYqApEdFCqcUVjgESp4eESkRNwLTDusLFy4sXbq0c+fOjLHPP/9cjB4lJiZiCalDhw4ej4fajfBPlSpVunTp4vf7x44di+3JnPOvv/4acj744APG2Lp164jxILKCazVNO3bsGGMMK3GjR4/2eDwpKSmGYaxcuZIxNnToUKjdu3dvt9t9/PhxBIrWrVtnGMb9998fGRkJ3hAXF3f//fdDN6/Xa5omFvvWrFnDOZ87dy5jbObMma+99hpjLDIyMiIiIioqijH2ww8/gCeh3mXLlimKoqpqTEyMy/58/PHH0AFLk02bNr3mmmtAjxISEjp27EhMKyUlZceOHYyxd955B5qgmQibRUdHx8TERERExMbGZoTBypcv3759eyyoNW/evF69eqZp3n777S6XC4G9MWPGOJ3OlJQU0XBoLJmgbCdk9Khs21e2LnwQkPQofGwhNbF+S0RRlJL0dnC6tD8aEZElS5Y8+uije/bsgUm+++47xtiQIUPw5NqwYcN0Xa9YsSJiJL1791YU5eTJk7quL168eMKECYZhVKxYsVOnTvT0FrYqz58/3+FwTJ8+fcSIES6X6z//+Q/n/JtvvqHICqozDOPAgQOMsbfeeitjGxMIFiSAnz333HN4aqxTp06qqnLOP/nkE1VVQXp69uwZExODdkVFRXXr1k3Ec9y4caqqrlu3TtO0+fPnezyeKVOmTJw40e12T5o06eDBg3vtT3p6OigXZO7ZsycjQvb3v/99z549+/bt27Nnz4kTJ6Atdl+1aNGiSZMmqKhChQpoe3JysqIo69ev37Ztm9vtHjBgAD3sxjm/7777GGPbt2/fs2fPrl279uzZYxhG1apVb7nlFki+6aabrr32WsMwHnzwQcbY+fPnOeevvPIK7T1CG2mLOq4q89+SHpV5E8sGhgkCkh6FiSGkGhYCJU+PgDviGRneFw9kIVjSsGHDQYMGjRw58oYbblAUZcOGDaBHAwcONAyjSpUqnTp1Mk3zq6++UhTliSeeWLRoUZUqVW6++WbTNKtUqYKlN+wcAslA9Gj69Ol40L158+aLFi265ZZbsDWbnD3nHPTotddew74il8u1du1akI927dqVK1du+vTpo0ePVlX1xRdf9Hq9eIT+22+/NU2zZ8+eUVFRKOzxeP785z9TYMzv9xNlMQwDzGz69OlHjhzxeDx33XXXmjVr+vTpk5SUlMHwRo0ahRAXXkDVvHnzWrVqZYSv3nrrraZNm27dupUe9MvYgNW6dev4+Pg5c+akpqYmJiZS5AxPmaG92F0ExXRdnzNnTsYLoF977bXVq1e3bdv2hRdewIb3jh07AoqmTZted911nHOsRT755JOzZ8+uVq2ay+VaunQpDRiyHeWU7YSkR2XbvrJ14YOApEfhYwupyWWjR9mhnz59esuWLaOjo6+66qoMP/3ll19yzuHm3333XcMwKlWq1KVLFzj7YcOG1a1b1+PxdO/e/ciRI6Zp0v4bkBg8abVgwQLG2IwZMzjnQ4cOrVixYo0aNUaMGAF6BHYIgaBHr7/+Oj37hngP5/zYsWN33313xYoVExMT//a3v124cME0TRAIkLC77747JiYGpMHj8fTs2ROtg+TRo0e7XC48ejZv3jzGGJq2YMGCJk2aRERENGrUaOXKlbquI2qVkpKCLVl79uzp2LFjXFxczZo1P/roI5EbmaY5ceLEuLi4ChUqnDp1KjExsW3btqA1DocjJSUFuA0ZMoSIGi4fPnx4nTp1IiMju3TpcujQoYyGJCQkYG8757xx48YNGjTgnKelpT300EMRERHNmzd/5513GGPLli3D4hoald18ZThH0qMybFzZtLBCQNKjsDLHla7M5YoeZcedYjlicIIyUR6+ObuHpqU6sTy98gfM4Pz583/88YfP59u0aZPD4RgzZgwKQxrS4uUgT5SD57bES0S6QMWgJ718Utd1ehc52iU2IT09HUyIyogNIRzwbiS0Qmw7VSruCqLXI0ETKoP89PR0FKZLSCuURD7VKJqJRIlETSxQVtOSHpVVy8p2hRsCkh6Fm0WuaH3Chx7BDKL7J8Nomia+d5E4BHlx8vHgNPSuRey80XX91KlTiqK0bt1606ZN99xzj6Iou3fvxouqaYEP16JS3f4QcyKtQBEg3zTNtLQ0UhLvKRCl0SnxckrjLHEgahQRF7ocCeTjcl3XQXf89gchIl3XSRqRJEqAh4VUiuZApsh+UNjn8+EUiSXAQ3Qr24eSHpVt+8rWhQ8Ckh6Fjy2kJmG0uBZCCzRNEwmByF1C4jrgKHiei3x8CAsxTXPmzJm1atXyeDzXX389lttgfrqEmISoCc4iR8wXQ1NEI8R90Hi2X7M/YgwJlRIzo3ccUAAJBcBIAAKxE4Rt6FDUJwQfkaVReahEyKSmpoJXUQ6xH5FpUXwLUBBKV87gkfToyrG1bOnlRUDSo8uLv6w9CwLhFj2iJ/wp2gHnTV4ZTproBbl2cAXiOqALoBdUhlpO7yUihiFeiGKgCOLPkkAOcQhoSPogAS6SXRrJJB0oAfKEQ1yOikg3WsxCPjEzYpBiEAuMB3KgKmko6kAaXiQhkidUTUwLy4LUhLKdkPSobNtXti58EJD0KHxsITUJo+gR8SE86g9yIHplMCREWYgowGGT2xajJmRdkCFwBewKwuX0G2R4gh2nsJBH14paUTqEq4lchFgaqsMp6IyriI5omiaSDLEJUE9EgGqEYiSE4lV+v5/qEpVH2ufz4RJSD4XFTCiMqnEVqYSftyMaF8LGsldXxnIkPSpjBpXNCVsEJD0KW9NciYqFT/SIGA95aGwAQjyJMom+kJOmHLIf/DqogEgaiBxQSV3XQQsoh1buiJ1QtEZcwBKJRQZtwiNvUJIEUoK2JaEWagsIh8h1iIGhDGJXSJNwKk9lSHmcEguQDlRGxA2ZaCnSuJZyaO1PbHtIc0hyWU1IelRWLSvbFW4ISHoUbha5ovUJH3oEBwyXH5KGhchni66aQkooQzt4RE5DRAerRWAAIfEY7Iym/dEhPAMXogqcIj1BvzJ+pQQ5ImWBNJSn3wOh3ibyNlKezoptFANm4E8hOiBTbCatx5GcEBKJ2iEn5EJqJrURObquU7xN1LPMpyU9KvMmlg0MEwQkPQoTQ0g1LATCih6VUpOYpik9aCm1XV7UlsbNC0qyjESg8AhIelR4DKWEIkNA0qPCQynpUeExDGcJkh6Fs3WkbmUJAUmPypI1S31bJD0qvAklPSo8huEsQdKjcLaO1K0sISDpUVmyZqlvi6RHhTehpEeFxzCcJUh6FM7WkbqVJQQkPSpL1iz1bZH0qPAmlPSo8BiGswRJj8LZOlK3soSApEdlyZqlvi2SHhXehJIeFR7DcJYg6VE4W0fqVpYQkPSoLFmz1LdF0qPCm1DSo8JjGM4SJD0KZ+tI3coSApIelSVrlvq2SHpUeBNKelR4DMNZgqRH4WwdqVtZQkDSo7JkzVLfFkmPCm9CSY8Kj2E4S5D0KJytI3UrSwhIelSWrFnq2yLpUeFNKOlR4TEMZwmSHoWzdaRuZQkBSY/KkjVLfVskPSq8CSU9KjyG4SxB0qNwto7UrSwhIOlRWbJmqW+LpEeFN6GkR4XHMJwlSHoUztaRupUlBCQ9KkvWLPVtkfSo8CaU9KjwGIazBEmPwtk6UreyhICkR2XJmqW+LZIeFd6Ekh4VHsNwliDpUThbR+pWlhCQ9KgsWbPUt0XSo8KbUNKjwmMYzhIkPQpn60jdyhICkh6VJWuW+rZIelR4E0p6VHgMw1mCpEfhbB2pW1lCQNKjsmTN0tQW0zRFdemQMabbH845ZYolZVpEQNd1OiS4yIPirKZpnHOxJF0iE+GPgGEYUBIWhHFha7K4z+eT4yX8TSk1LF0ISHpUuuxV6rXFXE/TuqZpfr+fcw4X7vf7nU4nGon8Ut/g4m8AvCaAxbeiKJzz9PR0qlwyJIKiNCZovOi67nQ6YWW/3498SkgGXBqNK3UOWwQkPQpb05RZxQz7A0qE+V2c1hlj5AzgBsosEEXRMJFEer1eCjCI+YZhmKbp9/slnkUBeYnKgMlogGiaRqFBGkEYL6b9KVHlZGUSgTKNgKRHZdq84de4kOne6/ViWqfwhqqqKCM6+PBrR9hpRNRH13V4UF3XNU0jz0qkM+xUlwpdFAEYDgOEc66qKq0+04IaorDSxBcFUp6UCOQPAUmP8oeXLF1IBGiWNwwDBMjv9y9fvrx8+fJTp06lm+NPP/00NjZ22bJlhayuzF9umib2nSxevDguLu6zzz4zTdPhcGiaNnny5HLlyi1evJhzjjJEoco8LGWpgT6fb8WKFXFxcZ988gnnHNx38uTJERERS5cuJZvSyCpLbZdtkQhcRgQkPbqM4F+5VWuaRtM6UHA6nVFRUVWqVGGMVahQoXz58m63+8oFqEAtdzqdERERwLBy5cpRUVGRkZGcc6/XWyB58qJwQcAwjKioqLi4uAoVKjDGYmJiYmNjo6OjcYORlpaGGKFkSOFiMKlHmUBA0qMyYcZS1Qha7uGcgyRpmjZs2LCIiAgW/DgcjkGDBpWqZl0eZbGChlWVIUOGREZGMsYcDge+Bw8eDLVM06QtX5dHUVlrQRGAcQcOHOhwOFwuF76dTudbb71FIg3DEIcV5cuEREAiUGAEJD0qMHTywoIgQNsjaDYHQzIMw+12w687nU4ZOsovuMAzOjqaMabYn8jISLAiiCLA8ytZlr+8CFCcNSoqCsZljEVEREArihhRscurraxdIlBmEJD0qMyYsnQ3RNf1999/P+OemDEWHR399ttvl+72lKD2xHtM0xw8eDCCcB6PZ8iQIdCCQnQlqJSsqmgQEAnu4MGDPR4PYywyMvLdd98VjSsWK5qKpRSJwBWPgKRHV3wXCCcAMPt7PB4oRaGmcNIxvHTBnmtapuScR0REIHoEReULA8PLYPnUBkOAIkOxsbGMMY/HA06M0BGdzadsWVwiIBG4GAKSHl0MHXmuJBHQdX3YsGG4M5Z7KfKFPJwonvceMmSIy+UaPnx49jdlU5wpX8Jl4XBAQNd1wzAGDhzodruxLY+sSRRZ3k6Eg6WkDmUGAUmPyowpy0JDUlNTH3nkEXrds5zuL2lU2npCCb/f/8gjj/h8PrxTChLwiJPE85J4hlsB0zTJsngPZJ8+fXRdJ4MiQS9ACjf9pT4SgdKLgKRHpdd2ZUrz7LO8XDLIu4HJgwI0OhQDSGJm3iXLkuGAgM/nw9tTETGioUEJ+e6GcDCT1KGMISDpURkzaOluDlw4HlaXN8R5sSV+MCQEq+wkSeRJeREry4QPAuLuMYr/+f1+WlyjPkA54aO81EQiUHoRkPSo9NqurGme/Q5YTvd5sTGFEAzD0DQNHhREkx5ogouVeOYFz/AsA+NCN1hcjCdJ+hueVpNalWoEJD0q1eYrO8pjxqdNphRAKjstLLaWEOkReRLiScih/GJTQQouLgRgXFBebL1HWrSpaZrUB4pLDylXInDlIRCO9IhGPm1LXLt27a233hoZGRkTE5OUlPTdd9+FifscNWqUx+NRVbVHjx7h2Xlo3kRi7ty5TZs2jYqKqlChwk033TRhwgSaecWHw4uvLRTbIMVgbk3TPv3005YtW8bGxno8njZt2owdOxaFi0+Zi0vG3Tlg0XW9adOmeKf38uXLcSHUu7xKYrsulLz33nsVRaE3B6qqyhhr1qwZLb0R5hdveCHPhsCi6/rx48cffvjhKlWqREVFNWrUaOrUqVDp8kJnGMbGjRsZYwAKxgWAqqpu3LiRtj8XEpDCXK7rummaY8eObdGiRVxcHAAcOnQoHmQrmTF7Ef3RoyZNmnTDDTe43e5y5cp17dr122+/pS53kWuL6hT5i507d7Zt2xbvTtu+fTv9chF+l7B///61atVyu901atR4/fXXxbNFpQnkhLye/sCBA+3atcMLb7ds2UJ1Abq9e/e2a9cOOm/duvWyjwtMegcPHmzbtq3L5WKM/fLLL6I1T5069eSTT1auXNnhcNSrV693796HDh0iExTHDEPCRfv+/PPPmD1wdt++fY8++miNGjXcbndCQkLfvn0PHDiAUzRSCPm8J8KOHlGbCZQff/wxKiqKpi1VVR0Ox44dOy5vPPngwYNJSUn46QZFUe6//35SOO/ol0xJ+n3v5ORkRVHcbjf97oSiKO+99x4wp8hNsWoFlFAjvmHHf/3rX+SoMJUwxgYMGFCsylxEuLiWoev60KFDSb2wokdYPgOSt956K2MsNja2evXqVatWrVmzZtWqVbt164Y5q8S2ZtNWGE3TdF3/448/atWqRV0OLGTmzJlk/YtYofhOofZNmzYFf8aGOZ1OVVXxqx2MsQ0bNnDOwZCKY9LPe9NefvllKFm3bt0aNWqA/j722GPEjTCmSsy+VC9mjJdffllRFEzL0C0iIuLHH3/MewMLX9Ln840dOxYvhUJPg1OHZMMw7rvvPlAQMvdf/vIXQqwI7Uur2zBKcnIy3nWOerdv305PHXLOP/3003LlyuGUy+X6/vvvCw9F4SWMGzdO1HnHjh0YyJzzc+fO1alTB1YGni6Xq2rVqr/99hvdp9GoKbwmJCG7fXfv3k0Od+/evfihSTKuy+WKj4//9ddfSULBEmFHj6gZPp8P7b/77rsZYzfccMOhQ4f27dtXt25dt9t9//33X156dMsttyiKcvfddzdo0IAxds8999CsQU0InwScaFxcHGOsffv2R48e3bNnT8uWLRljcXFxpDnNFyWjOU3r+/fvx6TWr1+/o0eP7tixA6GaxMRE3M1cLleqaZrf7z98+LDL5br++usx/MKNHsFYuq43bNjQ5XL9/e9/hx1F1w6oi9ANXLKHkMlefPFFxlj58uVTUlKOHTvWsWNHxlj9+vUpOHdJUcVRAOp5vd4//vjjmP05fvz44cOHP/jgA8ZY9erV09PTsRmuJEHL3tKzZ886nU5FUfr06YOzvXv3xo+KhNzPlIyefr8f0CFx6NAhxpjL5brrrrtOnjy5devWevXqMcbuuuuuEpufDcNYvny5y+VKSEh48sknMUh//vlnAnPz5s0IhIwZMyY1NfX999/HLeK+ffvgy4sQOhLl9/vXrFnjcDgqV6782GOP4ZYP8SHMt0uXLsX0+/DDD+Pmf/fu3QgWkuYln1ixYoXL5apYseJf//pXvIB08+bNRESGDh3q8XgURZk5c+Zvv/02btw4oP3RRx+RqoQA5RQykaN9f/rpJ9pY+dBDDzHGKleuvH79+jNnzowYMYIx625n7NixsC/pn19NwpEeiQtnuq5HRkaqqjp+/HhM+riPj46OLnIz5Au77t27z5w5k3PepEmTjAjkvffem6/LS6wwRXoPHTrUqVOn2267bf369QiWvvvuu4yxqKioU6dOQR9yacWqHoW1UYumafv3709OTh47dixp8vrrrzPG3G735XKi6F0ABBH72bNnhyE9Ep3QNddckwEafm5CNKX4lFOxWpaC8PDcWNSIj493uVwDBw7EJLV79+4VK1YcPny4uDW5pHy/309dEXCdOXMG4Zkvv/xSBLDA0+sldbhkgZMnT6LXjR49GnP9qFGj4GuPHz+Oy+nmvsSmRAJn1qxZuLHBghrnfMyYMXBOFy5cuGTrCl8AfGLt2rV33XXX4cOH58+f73A4MsL527ZtI6u99dZbjLGEhATavBUREeF0OocPH07QFV4TkkCdauXKlffee++RI0e+/vprEKDNmzfTgF29evUDDzxw9uzZBQsWALFffvkFOhO8JLPEEkuXLu3Zsyd0Rnzov//9L2r3+XyDBg1KSkp6+umnSZ/IyMiIiIjnn39evLUuQv0vYl/ooGnatGnTxo8fv2LFCtg3I9iPH1aiX1UibfObCDt6RH2ac+71erdt24ZfSFi2bBnaNmfOHFqpLUIz5Bc4eq1zs2bNPB5Pr169sj94lV+ZxVqe3rVIsaKnnnpKVVWn00mYU6L4NMnRZOLQ0jRt06ZNV199tcPhyJF0lhhhSktL45yPHz+eMfa3v/3t1KlTYUiPROji4+MZYz179mzTpk1ERERiYmL//v0pxlAcniDHfkJ3dYZh7Nq1C7581apVVJgKkG50qsQS4mgFhrquP/HEE4yxli1biisFNF5KTDexIl3X69evryhK7969EQ7s06cPY6xx48a4jaQOQAnx8uJI0/qR3++fP38+IjGIi+i6DsLEGBMtXhxqiDJTU1NxCHrEGNu8eTNNFA888IDD4UhKSkIZ0zSbN2+uKErfvn2RU4T9kOY3MfS4cOFCTB3btm2jDbXp6em6rqelpS1atAhjRIx4ia0ryTTt1Pn6669BfLdt2+b3+0NcAxA7ePAgwnJDhw4lJal7UE7hEznaF2IBOKl35swZsOHIyMiff/4ZNwwFHhphR48wdVLP3rBhA4y0adMmzFnr1q3DVsoffvih8LgXWALZA8tAPXv2pIFRYJnFcSFukUky+cjp06cDxhdffBFnqUVUuAQSIZUmJyeD+1auXPkf//gHCEqIGtQ3QvKL9hAj6vDhwxUqVKhVq9bp06ePHj0ahvQIrcZshZGCCYv26j388MNw8CXWP2FTAPjNN98gRL969er27dtjBeSll16Cpy9ak+VXGt61SFdt3brV6XQ6HI5169ZRt6QEFSv5xJYtW6677jrGWM2aNevWrcsYa9KkCUUaxK0eJWBi2pMHP3rw4EH0uj59+ly4cCE1NfX222/HDe2KFStKGD1N04iIYBM0nunr0KEDY6xr164U1+ncuTNjrHv37qZpiveNRWVckXybpjlv3jxgQotrdIfAOccYyWDAu3bton17RaVJAeSAUsyfPx/THUgbFAb1wdDOQLtFixaMsZiYmCNHjiDMU6wWF+0LJEOqq1SpEpZ627dvjy0QIQXyi0Y40iMa8H6/f/HixZjoiVn/8MMPCEWuWrWqwKwwvzDlWB61YwfP3XffTVHTHAtf3kx4Ixp7U6dOxea7+vXrEwUpmcg8ZlXawQBYSLGxY8fCuDExMV27dt23bx9OlcC8n6OBunXrlnGnPnv2bM758ePHQSjDau8R7bs/d+5cpUqVYmNjk5KS9u7du23btk6dOkFhbAgtmcECS1FdM2fOhA4xMTEej6dcuXLwE7169QphJzniX3yZ5OYRpeac33nnnYyxdu3aoQnUJy/7dpBdu3b16tXLaX8w+3ft2nXbtm0EMhQumTESYl9d1/v27YunFqKjo10uV/ny5bF1F88nFp8FIRn6EMWZO3cuFlZE+ogHx7p27UqLv3fccQdjrG3btqKQolKVZlQiSUTafvrpJzhs8XvOnDm4pcEyViE9eiFbAS+Qnp4Oz6uqqrg1mwA8c+ZMmzZt8DTDJ598QvmovQhdSW72RXSQ6gXUCQkJuLu+7rrrPvzww8IbN0zpEZHr1atXYy0ZD5JomrZ27VoQJuQUsjcU+HJ0Yk3TmjVrpijKfffdV2BRxX0hplGaPUeMGIFYbpMmTX7//XcajVSguPUh+RTIhQ5Q4OzZs+vXr69fv77T6axTpw7CXeSr6NoSSEyePNnpdOIhANM0jx49io4XVvRIXAYiRw4kEXlVVfWDDz5ATsnEbGhyxH0z+G6PHj28Xq/P5/vLX/4C97l///6S73Ih3YYikT///DPulRcuXEgwUkNCrirJw7S0tNq1a2PN9OjRo8ePHwcdqVChwoULF8RVIRrIJaMeLRL5fL6///3vFSpUADVfuHAhnH2JRY+o4aZpYklIVdVt27aR77zllluwW5wse+utt7pcri5duhQ5VqIypAAiMRm7BfA8HSZkfBuGsWjRIuyzxDIWXVXkuuVFIA1Jih5hvxRu/tG6w4cPN2rUCFHDMWPGhKw+F/kkI0JK9t2+fTtVRPcJ58+f//XXX4cMGaLan7FjxxZyCIcdPYIJadrat28fbk2WLFmCfoONbA6H4+DBg3mxd/GVwY07GCmS1gAAIABJREFUlrF79uxJRiJfTjnU54pPmYtIRvdCnHnkyJFwTt26dcPeSdKN7nUuIqpITkEfzOzUfTHbQhnTNBctWoRJFnvORCRJ4SJR5iJCOnfurChK+fLlq1SpUrNmTTw7qqpqXFxco0aN6MLL+1I+QoMChKTY77//rqpqRrTm7bffBs5UmMoUR4JsyjnfsGED7ucWLFiAqPCWLVtg2VmzZhVH7fmSSaC9+uqrsCwoe8kAlRdVMd253e4ff/wRs+L27dtVVfV4PJ9//jkk0G2GiHxehBegDJDBeMQ3csiHLV++HHdfePdKAaoowCXEe7AJWlXVX375hYz48MMPM8ZatGgByXiHmaqqf/3rX6lMASrN8ZIQgehgc+fOBfnesWMHeQcy1pw5cxBhzXHBKMdaijUTppwzZw7sKG4n55yfPn26Xr16DocjJiZm/vz5aC9x5WLidjnalwDEDExujnPeunVrMRJcYLjCkR5RDzMMw+v1Yhlo5MiRgOOdd95RFOWqq66igGqBG1+YC2k6aN68OWOsV69e1DNwKju3LUx1Bb4WyuAbi9yMsSeeeIIWZUTuT8gXuLq8XEg7AFDY7/ePGzcuISHB4XCcOXMGtykrV64EjZs7dy4NA7pXJvDzUl2By+Cm0+12w8EjCoJpLiEhAWEb6FYyuOXWEPS0zZs3P//887169Tpy5Ai6IpahGWOTJk2izpmbkKLNByyGYZw+fRroTZw4EVV8++23WCH6z3/+U7SVFkwaNjjXrFmTMfbXv/4VT3peXoOKDZkyZYroWTnnv/zyC6KYycnJYuyQJhzx8uJIi+CkpqYuX758zJgx+/fvx0zyf//3f4yxihUrlow+4jzm9/vpwZ2dO3ei7YZhDBw40OFwJCYm4mUxhmHgIYZRo0aJfr2osKJ7ewjUdR0cN+NFMD/99BNGIoFD0SNEvMB0S2Z+y7G95C/woK7D4aD9UtC8WbNmeAyQ3tIUcl9dtMrnZl9EBw3DSE1NbdiwYUxMzIsvvoie6fP5br75ZsYYbmILs1U8fOkRBQzwpEb9+vW3bdu2c+dObE7EW9FyNHDJZNKdE+jRvffeSwqTK6Kn20pGpdxqga86e/YslmZvvPHGY8eOnT59+tixY7/++uuxY8c0+yPOermJKnw+cR3QIByuWrUKMcLu3bvv379/9+7deOWmy+US70Hp2pJRlRoLWnbixAk4qmXLlom2pmKXK4H5aO/evaAd99133/79+3fu3Nm+fXsEwA8ePEgBhuJWkkxDDqBHjx6Msbp1627evPn333+//fbbXS6Xoii//fYbFS5urXKUT8/jIESd8Yqa5OTkEN+W44Ulmfndd99hd8Grr74K6jZo0CCsxaxZswamB4xF65ZyayOZDHenpmkmJiZmPCnWo0ePw4cPr1u3Du85fOaZZ0pyjKSnp6M6WnzBeymBye7du0EoP/jgg5MnTw4cOBC3Xr/++iu99yS39uY3H3MU9SIosGDBAkRM8S5vyMRrLwzDoJ1J4qss81tvEZaHznQvTW/61jRt2LBhCClNmjTp2LFjv//++/Hjx0/aH6/XS32DEkWlVXb7invLsNFeUZQ5c+acOHFiypQpDodDVdWHHnqIZqGCaRJ29Ai9HBFI2Gn79u2xsbF0B68oSsWKFbGyVsjGFwwyXNWhQ4eEhITExMTo6GjGWHR0dO3atatVq4a3zoiSaaiImSWZRuzxyy+/xBCltz9jkmWMLV68uMT0CUGDGM+DDz5I6kEx8clbcaoV08WnNroW1ZWWlnbq1CnEwFNSUmgbPgpcxn6IMYLv/v37g8DRYGGM4Y1twLkE9AxxD7qu79q1q0KFCvBPmLZUVX3hhRfEsGXx2TEvkmfMmIH3Pq9ZsyYv5Uu4TNeuXWHWOnXqVK1aFa49KSkJTkh0RegGxaoeupBY6bBhwzAuaPzWrVv32LFjxaoGCUf4Z/78+VgBr1ixIua3xMTEmjVrJiYmops9/vjjwJBiwP3796dRTLMQiS1MAhtnDcOYNWtW9erV69atC60YY1WqVKlRo0b16tV1XZ87dy40xGZ2VVWrVq1arVq1q666qgTsmFsDZ8yYUaVKlcTExEqVKsGsVapUqWZ/0tLS6tevDxjxckiCtHXr1jScaSEstyrylZ+bfStXrlynTp0KFSrouv7jjz9GRES43W5MMhggbrd7+/btpFW+KqXCYUePxHAxtNQ07Zdffmnfvn18fHx0dPRtt922devWEpjoCaMcE3Xr1iUnRFbJ6C5vvfUWeQi6UJxNKLNkEkQ0KUoP+k9zGZ7MAp7EBopVNwRjCBNiGIMGDWrUqFFUVBReUf3hhx/SDn0ULvlZQwztHj58GDPvokWLYOKinVULjDlggaqTJ09u2LBhpP1p27bt7NmzwUdxq1rgKvJ1oQgL+tWOHTvuvfde/E5Tw4YNR40ahX1I+RJbtIWhmK7r6enpn332GSZ6cR2haKsrsDS/35+env7+++83btw4wv40btz4nXfewaih5WYscJTkAEG0ADCOGjWqbt260dHR5cuXf+KJJ7DQln0mLzAIl7wQkxvmNMxvMKjL5aIdlq+++mrdunVdLlft2rWHDBkiLgkVLW40s33xxRfkGvDAJiYQRVFSU1M//fRTh8MBJ0I64xc8yayXbHiRF5g6darL/gBAKIb3tnPO8ZQAaJN4m92iRYtiXSrJ0b4O++P1ejVN27x5c8+ePStWrOhyuapUqdKjRw96s0NhnFo40iMMOXF00aOS5C/Fs0XeRfIiUPQBSENtmnYhpGgHXl4Uy62MSEpoNzF1ncuiZ/ZKSR9aoKQc0fS5tbFo86kfQk/R4mL3C8kvWh0uKY3mYtwnkc64kLZWiDzvkjILXwBWI/uidgAlfhe+osJIIOgItMtrytzaAj0JQ/JDlI8LCe3c5BRJPtg21ZV9aJTw5i0ogMkNmwRo6iAKjqmDvgkHuopyCp+APnRTStMXJaizoS4aoXRYeB0KKSHkrStijI3W6EXYxckQVRfhOBIrCrEvEVyUQdU54kwjPb/IhCM9QmupnTSfIoGzYjq/bS7a8mJ3F+1EXSR7bytaBS4uDT0DSoaARqQTnrXAfejiCoScJeNSdZi28AA/ZUJhwpPApJwQsUV+iBrRCcUFQRFPzvnlfT4ArYaSNF7gHgAgMgk9sUyRIwaBhBVNXuKtMGkCGEvMmjk2ligjeiDplmPhy5UJiOgHKGmxQBwgZFYaPsWnLZmMXluFIYB8UYGiXWS5ZItCaBlsiqvIslCSfDzGr6jzJWvJSwESiAT1f7oppRza+ST6CDqbl7qKtQz6WPYqkE+o0q4j5FB+9gsLkxNiX9Qiakiwa5qGyYcGeIFVCjt6RNMBoKQ20yHl0EAtDOiFuZY0CZmexE5fGPlFdW32eYomCJpEqC1FVekl5YTcNtE9H3Vl0bWTrZEoAW0JmewPPqB2ev846XbJJhdTgRA0SB/MszikPllMOohiMWdBK1iT+hspQ1YWLyzhNHQguEJgLGFl8lIdgUYJjBqipHkRUvgy4ogQrRwyDRa+ojxKECcKMZJB9oWS1C3J4tkTeazxIsXINIQGbJS9LrEArqIcKnyRiorplGhQhN9oXBC9E+dqOkvKU05RaQjJOQKLUzQVizUSNxIplFggL+mwo0d5UVqWkQhIBCQCEgGJgERAIlB8CEh6VHzYSskSAYmAREAiIBGQCJRKBCQ9KpVmk0pLBCQCEgGJgERAIlB8CEh6VHzYSskSAYmAREAiIBGQCJRKBCQ9KpVmk0pLBCQCEgGJgERAIlB8CEh6VHzYSskSAYmAREAiIBGQCJRKBCQ9KpVmk0pLBCQCEgGJgERAIlB8CEh6lB1bg3PxL3uBEskxOc/+l2PNKBbU2bQS9ieQn+M1Bc80g7LzJ4Lakr/LxNLBdgXzRE2QDp65yP9kWRveixQsslNUIxK5y81zG3IXUUxngLzQEKFrZWotZBaTHmEpNmDWrK23M4ugzxd9i0kpkxtZ5orgBBKc/TKnn6ASl+rAwXI5/B/oJdm6kICaoFgWAZQfyA09zlK4wAe2VAuQ4N+lJFktMjIxglaXuqgIzmdtfma1pI9dR9ZSmdXmlp9ZoqhTVCMlgjUInSGYJfxPZ4W8Ek/mmx7hpU+5vfop5A1OBXu9Fa5atGgRvfSM3kMlvvWrgG+6IytlzutkCTthahx/hp0gtpHNNvTmQNKKXl2VrexFMlC7VSBTI0tJgxvCnxkcinY5akTgMsOwdOaayTXd+rZl6ZzrVqIgekKVTIUy5wFbJARD4Uz0gjMLpt3M/MyLoXcuYNAbqOkNYxaegUsMzjV74s4UJmqCtK1vJp7Z6oEQCyh7artISRtX06QOHNKxs0nOLcO2C7oTp+6UOzIC4LlJzJ6fL/tmsUCWbpQJbJYyVv/XbMsCN7sV6Jm2L9EDXtbguv2XexMuZl/SxLpcwCeHdHYAsueIErKfDeTkC7dcpBic+218rBGBTmh3LULJbg21zpZCR8EEXLKFf46f/OkJoTZuQflZLKvbvV/jho9rmm3ZwFigeS8wkxg6N4KNAp7BgZOjlsIb5HMYvzCrWIUenNxMS7hp1WVo1p81OANQ2P9B4QC2ptA7csMrqB4GL5SBw7J+68NCxv4QOoHJ0tAtQPwa9+vWLGoExQf6Ek1uAQ2sCVmzpujMhpDeQQ2E/2kmIR9BOUKpSyWp+QHQhF4HfWw3YdpdUbMhDUg0A30ABhVmS/t8oM9YadIqr3oK1wYhyrG/cZ/V5SwrB01ojxG7syEneLnY2QJzfnZcSE96J2punCT7tXnPyTc9AlMRscuulqh63lWhkmhwpUqVnE7n4MGDUSO+Q14WTpcUXcK2jTiMaThlrSM7ApSTteCljoRRmqUo5Vs93vbr9pCgrpfZLa1UgB7ZA1vTIcgeCoZNltDvYam86JlZuT3k6ZCmS3uWoY6ORBb1rQO6LCSRrSDxS7I1daGAEMsKWYYKiaRakJNFNhUKTHU08GDli01nhBJ+Pol+eCiL/DwdhKAUcmiLCNUzT3JRKL96ZqKUrVJhehJsZ09ncF26ZQJ7UgswoYBXC6Ab7Bw5ak8ukxxVaDHSJ3MCDZoptKh4HIJn9kOxcGY6v7hlXpkllYUeabZbsud6v0WbrGnEPsoE3bqYGhpM5EKPbFh1Pdh3DSNP4zdQl4VDUL6tcfAA/9sGtehRprvCpAe1bdqUzZUC2yztp4NL2zcwhINdyGLYIjjEkCyXb30EhTN7FvEDm+QEoCElsiXIN9Ebn9HJAwVRRaAqix7pFjfymwHWaJcK1hFUh+qwp2VMztnOUSExQb8cQliJZ/OUpuZbrMKybyYyVigLhMNCzs4PcsGsTQiS+GCF1llx1PD86RnE0LZYoCcHRVv/47zNcS36G6wdHs1WGLNKgCJbmtuXkEqisCzpTB/BuUiCsxQq3EG+6RF0yjFyYxgGtNR1nRIFUA9VTJ48OTo62ml/3nvvPc45YywiIgK/JOx2uxlj9HvIyMzTt8IY/TGVWX/OzD9FZdafnY2TSs5S8UvLqv1hjNFPLudcOvdchTGH/Qel7IK2DqrK8EfKKExRmJtZfw4IzGyIfSyURAMUpuZbTxICtVQBLqpOsRQAao7M86rCnApzOpjL/rPSClOFduWOAmOqqhKG+OVt/C50AH6q2q6OKoUablsZmBI6oF6njRXOWnKsfyEWx2EOiuUbtxxk2NUpTqa4mPXtDHQtaktoIldlcpZt5+ZXz9A6AYuQiw5pQ6c6Lbhs3ARjKzbaWVF1MuZSmEdhHhvhHPTNzb5Bi1hthxbod1Shw8q3+hJjrmCnC5SksYNL0CsyR/dF4cwvbjk0KUuWPY1YJhYbhC6HctAm5DuLCOEAxZzMGr/WRFe4eUZVmOqwBqbTyVxO69vptHLsj6oyhxoYFoExIigSGOUuG3zgb3cJsUhATE7jFxZVg3OcOKXYVQqjlZCx6sIE4mSqU5gbqZMGIFac1gyZy/wsKgj0HA6H5S9goIAse6YNNj5rd1IdNmiK1esyO16mdQMj2h7XgbnaNncu+sBV0RRnIa3kUlRUPWuaNLQutZtCIwLdHs3CRTQoaLa0Z0WrM9j9weoAdIr6LZQqCj2tLhfsbOhvVr2WworVsUMmHktnS3s1OFViwgyUzApDliNVVYlu0j1PAVhHjpfkmx5BCt1S030//QIl/bQNmDtCQXn/RlMNw/D7/YmJiZhVnU4niBH9NGOBf0gleItMNyeZ9BZMXOPcF/zLDPNmA4/u5KAwYwVEMlQPmzsjniyqYS+Z4ZbUb0WgA3cPgeh3kHEHbibQkECmad0dEGG9lJ4I0ljhZc36I7Jvq5XJ6zXr5tiw/wJ3HkGA6EYqeMsSPEH3KEKGkNQ0DboBWPHOIBgrtqCyP1AyeBtqhbjtKDeqpltS687FDuDr1n1e8I7KgshacMxy4yXoEUwWiX2pFrKIkMhcvBAyqY1BPS71f/71FO56A7bDgobduwLxISx8BG7uTTtw57UHReadvYWz9Q9tDNyCBi2UXevc7Ev9JXAJBAVuyoUF5UDfCwwXuzAsbXdFa4XLWuQK/mWaO7smyMk/brlJytQMbbGtiVAE1mgsZagn5I5QNvl20ULoGVxFolt4ACZ+m9Zw8Nmo0RwS0IMMYyfoKJuWgYwc7YtW04zq5Rx/Yo0Bi1IFlDAIWFFjK01iLzI/Qy3DMDCr4Hcn7cW1HCq0CqPe0KqC+aQVjGLPHtTbkMAozs2+2T233+9XVTU3PHPJR7TSa0e5sEMgs2tljk1cbOmctT1QTmyLlZM5nVp7M3R/SNX50TNYXW5g2gM6tKdlrY9GCmKxueEZaKJpKoqCtZGsYormKN9OnWgQESPTNEeNGvXPf/6zU6dOtWvXTkpKwu0OY8zlcin5/4Ac0u0m7vMQoXnkkUeo3cQZKSdPCVhOKBrSW/Llq2jycjgcSAuC85REbwhVCkvF9uRF+gTLkD+wRqXN9kIHfHCCtubowIgIkqRL6IngLfVfVEmjPxDQRswWgVzoYG14wh9IFQgL9i5k9u9gA3LDRVVVkXbbA9fSO0QdGj+Z85ElGV7frtm0wuNYOAg03/YB3qAbwGQI9pmpXk5qFda+FAwPzvXAAJoDV8wCmW3JSY1L5uVPTygR8m3XYechQm6YFtuwV0B063/rlLWPLcCZrONAPDzIoSEwd12z29dSO+tVUMDuOSGdig5pkwpi9WCZAR0CwvBfVsk56pU/3HISkaXGoHdAo0I6al6m+5xqsPLyoSe13bqOTGlZ0zYodToQStuuWTtnJmwk6uKDJKh0TvbNpBdAg6qnbh+UHcAOeoZ80/Qi3twGq831fziIiIgIupe2brqydmC7N9tVZzJy3Hz6bS7nB4b2zAHEwMKDa3sEEeYUi2pc+qNpGm7/8kuPbAytbu+1/qzJn9t3sJmzh90U3F0DWFtBGiOB5S0qHwAfrUA3ENTPk54iAoH+ZvW0bP0NlrdHhnB3SnO7Va1omixiBZ2CSfqdddBf4IlhEixSBP/nmx6BqREXnjhxImPstdde+/jjj+fNm3fo0CEoRUGgvMeNUJI2eWiaVqFCBVCliIgIj8fDGPN6vagaQBSQIV0Kt0zTBMdu9ivIHvhddMaYuIMye/nccmgOtSsNzBGYXq3OH1QFfsTuTCEzHRxXoCSK270f3EgzrM2O1vSaJz0RKLDdYaYONKXZY592SlotsvCxdLanLcuB2fSIvjOdFjUkVxxMExjSLgGURIuCdVk1Cm0MRMuCVgrGtOzNlT57mydOmQI9snJsEWhW8NpQvYrGvlZF4G2BSlE5pifxG43KTZlQ5YTj/OqJijLNQRXbCRyh/wT27ZK9g30z0C1tHYjHBLiUdS7nj5mLfS1Ngh+h9kAgyJYfiMSY1qYQ7AuxHAPIN7QjX5s520JWUHL2//OLW3YJyAnUg5ldtKg9eAX1AkwlNzm55edbT9HHWJ3OqpfMJPCMgHO1LBYc72hLJnKBYzI8RkzOJs7ZviQxOJWFkCQAZncB1GJVkc3KmbYOlLT+I61yQ87aQ4MtGcAwcGNPKlkDk1okzKKWvEAQPbjvXjwM0qNMOcGhHQjV5KoP5/zChQuYjeG/LhXLDxWF6dlnEzcfELDi4sL9iY0KwnWBMW7LgLIY18F9hJm3nVZJgtOGOB96ZulvmY4Au7gQ5cLTG7Zgwsqqk6aWwKmADnbomrb/Wppd7MMYg31TU1MvVq5A5/JNj8ToUatWrfr27Qt7o3bTNIkYEdHJr2I+n8/v93/55ZcRERFutztjB9KgQYN0XXc4HOBGfr+f+Fm+hJv28xo+7g8+tRGITwZ6EjqR3VPg7zMfc8i9GtjG4XAgkXvBXM4EugYmMooM2XcqeDIiOA6pP9lhD8tnWPc0gacnss9xFDINdK886Rns68Fp3Q4hYPXKnkoQisc6SyCQgBkG81zw/iOoclZccwGAsh0OB6UD9qVxC5JBYxgJoRobHIuf2VwtsF4QMgThOwOZ9kEQe6o2h0SecMvhOivLnrmw39PSje59heJikwClcDI/ybzoaaNk3UHSX6Z/EsC0IMLHysRslfW2O3j/Z2ts2LtZvZyn2fN2rtNZDva1xhpaDXCCHYaUEeGxdKUHhYITerAkxaGCGYh+WfcGF//kBbeLSoCK9ryPpEXWAg/x0e2GTR+99n5tW1hQy2CDg25DqAlFKCOveoqSg1IxdcDWmaMggC229FpWy1IARD7AIRA48ZrW4lh+7UsdA2Mzc90zp+qCGot2t2OWVpek2SDwoG4wAEYYZUtomuZ0OgEdBKBSu4Oj71nNAWakj1AmIFEEULCLfeeTpQ/bDiWbGiGuEJObYRgulyunsrnmoTvhZsBSGkPHakxwHFkULTj7gSWJtw5Bkmo3GVQm0HarSrthomPNk5459LcAYyM8s9jO4uKavepnVZgFaksUOKsVujPtv4v0N6DqdDo1TQPdDIvoEVC76aabJk2aZBnD57PsY21EsPa4kG0LpitJiIqKioiIGDhwoGU4e20oI0xFZ1FLyCFVnVsC9MjLNTu0YFnRQl80cOAOgKbsXLu72FjcOREIudWeQ75YtXUavRxxXZpWrACvddL2SbSQ77MybP11IzBOgi4/MPgDj6IYhNKl9QzqY9Mg69Ffm3AEuZq9G4l2DwToUZBJBXo65jXIsRscFCmMwxyAsLIURYGqNJ1Z11gCMx/KyKzFshTMFJjgaKTRvBG4HBOEjV5mziW3LQid+dK45dIikY4gEBIwGQwX+n2xzpZLDVZ2Puxr9xnEEoQ4n3D3SR4ICasniZQ9U0Oa2mzYDdPa+nMJepSDfS0EKFpgOc5AL0Evovk1S8JmHgh4oBh92/3e7m+IsFqhpsDYyQm+fOGWkwAasDYJQ0e3Hsjyc9PLzcwH/gPjMXOvXrCZIWPDLkcV4WR+7WtdTmKDsrIayzofGAjW0IHhsB5t4ZXJnyw5FGJB6C44FwUli//nZF/NdnLoGPa1wVbh/2DnsVUiWVA3MAfbBkRpBLqsaww7NHwJegT7UoTGWp2wW4ehL4zEAGBZelkQRSglAhhsAc0/mZvebJnUjBwS9PQSdhGQbjkUzSkLVQe6iWEEdtxZx0ZwW5cVMMPWrsDAxQigMZLJkECP6DtzLoUjozAHzX45aWTnZVHLyhHhyuxOwNfySvZ9guVccqJHlt7WnICXLOQGKfkIrDkQD8lVyQKdyHf0yGq8aU6YMOGpp55C9DJkv0iB1Ai9yDTNJUuWhBCs/HamUKH2sbVPF5NDkMhZtZCBLa+QeWjqNi/JUVDWzALqBifkM6xuYvdgm/1zg+t2WDLN5BdMnmbftAWnYLtYum6NAZ8dOed+vzVfBCc2dE1Lu8B9fxZFL6EnLvZbA85iSIae+dyvXReRM3vFzsLRNAOqW1iZ3PDaVyAPqFqlLHeFwH5gbGdRKnCQk24G1332DO63JgNYx3Kjmsa9Xp6Wxs9r3G/pQCFmm64Fp1a/ZqYjQq5zwx8E12qb3ypimL6LuE9Rx5x0E8/nng5aVvPb3c4uaFh7eIwAdCa3oLNmfHJNWaTla9H2EnqaNhg6t4xmER8dJAmRLSsLHZImU6uM4eX+dJ7m42kaT9O512ukWXOWOGQCIwa7W3IdMjnqRmHawDwYGJw2K4MDsnOAlb2hwW8G5n/byKbBNbtjkD52R0XcLre5NQu+9kGOumUvli3HUjG4fm3b0To8z61hm2pvgMP+dfgBw8LbzHy1DPozBk4AT6ECxBqFDCuZRz0NzQbMHmyY3vz2vY1mgaX7bdFWf7P08mr8gp+n+7g/1fQFZxG7J1jcKNBpccsRcHUhOgUPc9JNuAVF98bIxKBAJcI3gtOWOa2JyN566c+cnm247I5h6WFJFt5OFFQi6/+mvXU3ix8R+klwzg1qgBnYZk8WjzEsyqhbMQwLMN00LHoVgBR4gJ/Z9MiabANns6qQ69GlaUeOlwZmLM3wn+e6n3t91m4Eiy16veY5bqvqt7sbN33cuGDwdGuGDDy4YBg+rw2j1Qy7NbTwGnijQfb58OJ6BrDNRNVS2kZH91vd3drbkdnfrA7l1fkFzdYq3fAFKFOgpYH+Bi+Ux72hiqJksW+OoBU0syD0yPh/9t4DPK7qWhse1em9qVtyx5hiIBhCSIHUmwZJSCAkBC5p9+Z+aTeFhOYmq46mq7gDIYQQOjGmmGbAuPdeJFmy+mg0ml7OrO9fa58zGmlGGhuS//lynyuEfGbmzDnrrL33Wu+qm+Py8vIYNkr5tT4sAVO/l1IGKduOeacuXDRMveKU16mAJ9MB9CmtBFwPTNJBEuLRBCpRYT1MuUbmy2yiIfOsrO+QlGIzQsgD4FAycASfI6SThIA36nX6JbuYLwBJxCa6kzHBwtbp5CnL7p2DTvaVdDMepTmvTdm8T5vQyEGhEWU8DeKRnphxFbMNAAAgAElEQVS4OzuNN1OysmB62rgkRGlFsVQJNiKJJMRDEAkiQoqFEQBxSQYxmacjgtdDUZtkJR6xaDKcgLg/goF/0p4cxCORqJ+kxrTqPJ3UHHxLPzX9mNAGYjA2l4ShZm+TMMCzBYTJxDVJLupI+SGWfQ46mVQXXCqJJN8HL8KFJ9AJWxdIBQ4ZcTQZhSjNRkRIcRRwAlhn2o4UQ9rESGfBxHEO2ph9MPEXL83EejKZYLowwkUJ0vEZSAmOZduniEhb0hO3vaCjXLRNdxEulggnIR6O8PU+CS5C9kwogVYNKlSsBBKWbzIaQq7SD15RsMTiUQHhpd3nw8GjlMTCSUWMQdsBZxLKE5YRwo81G7VklCWIxNEkQ9gbjcfINGfglJ+kTD5dLDxCNJ5E3yT+CPTwEowHE0wsoKAV1CqbW6zmNJGMRdnQ891HU/CdBGBOF/BUeJT2dbqhcFe2LqIcRDiIs5AZYv0EWlFhih3T0mXza4JyPIEIIbk0sXAmrj3D0cywI/sXGf0IcoMAES4aYhoqnkiGEyFGJ/Ec1QdhdH8UQkEIhZM4S6kqbeqAsu6RxF5BLky+98x0MqSN30jjLZtvaYluAvdw5vHzLSZ4j8hWxMUgmET8xXLKE7xnJvydTPxHfHXR8IjjuPb29t/+9rfsxgzNfAg5PgPd6cAo3TX1YUVY2q3YKhekFSQhFotE46EEGlXR9OFkyzXlwUu7RPbDD0dbArggRPw4g8MoRPiyTRQljFKSbwjwSXDR/GGOaloKYYAwOvFR9tEJOL9JmvDiJpPWmelMYmAA+UAGhzCn2bJnsxVFAxMfE5UdbH7jdxPhOIfeBaKOCQ5acjzqogdknM2kLJtlzGR6DIUUb7mRHOMzKuOAli8ixhhpFzwimcZi24QUg9FICg/TnTmmU5OkKqLJCK8qstGT/t7MfEs/c/JxakR5JYkOBPTJIdmojVgtGC9ckrEIxqnZT8pOEN64oH9z0EkDEY9hBkkS4hEuTMOdBofpBJpCsSiDQUIGQzIBcQ493lGCpMi3FNgSBvli1eeESE1TOTQ0kTDnjyQDTP2QJ4Qen4ngJC7XeIJNCY5AMJ/axfNI0CLI4unnWzpDc/At/dS0YzY/oziXgPcuAERiiDXR78z4w2x5NHhQm4YTIQ4dI7hO+eJftjrY30kXz0L7zHSSc1Do+Mzunlq2eLs4Od5ikIwmY2FcPBFS7nysg81IxrFUdPIi1H8mbVQSwYWAC2O7alr+jB58wdwKE44NfjKgMxUQjaM/FVdNHGIBCEQoYZQkIVFIrqWLhkfIXhRnzE3F/BM8ekOBy5y4cS4SSJIWj/FWAWHftKWcJNtZSJHGJ8G5OI33N21IJx3ODDsmnZr2IhbBaYOLNxZELxsjggGbJETC/DYD6McHXwh/E8wjKKwXiMZjCWpgzR6ffcozn1+GafcjCJI5suwMEhST5xszVXhlFueSEY6F0hJRiESRqUyb0N9oiGPYmZYDs4WYK46YyS414/r9fw4eJZPJX/ziFxaLhYGYCUtoEks//IsU0kptQYCGB6U0TTdIF3GzFMJNcMkYc1OilZCOjUJxkm4UiEkRk/MWH442gkexAHpB4nFI8F4Eps9J+0wIE16Dcnginos2Tmp98lE2Zi2iEERhlCFv8SFmppPgEeat86CBSYTUhGYucfzLPkDRGUe1gPdKoJnIFxmFE0FWfsIbBCnZMaO6yqSNJDymcrDnYZCR8QSNclrMGK/AR03Eg0HqG4tc4SJBHFViAh8voJOZyxMDbfSM0Tg5mnKObi6+TX+BeBLCHIwDhLhkCAMxqBqJXTS+eJyERCJJM5wxOsvF/mHzEO/HJWnnBrKMUfdEuGiUxafY/XE00dMQQUdRDOeUgMghiaM8qawhlfdG7J1RlGWbe6kR5eUyc0aikyO1vUMMo6v4E0c/AsVa2ck068g5wSYeDzh4QT8ZFGfh6eS3Mufe5M+nfRWNYziZwR3M0+H48cXJGQccc1o1CeRiOIKQBNUJumqS2HQDa1lSrqPJ7GPzZMqNZ6ZTWL9RvBLjLdMxuFhw6AgesQxxwh9CNIv36DC7EXmKqCWB+Bj9r7jSUlB4MpHp5GXSlsSnRjnLLAGcd3TEYS//WAJjtczNRrdIRd+IY5DkuAQGtmIQjeJsZPU0fJ4ce7jpaeHpylCfDCNiRzcGDlKOXRRdsXAy5KfMGEywjOEvIgmcgWwweNGDvE3xYxK8mFG+pfMKx4dqOae8mfMlI4RJeDyZSWI2yuRZRcowOwKfh5YqesRCYZyWrAM7ZZMlotQdgMUfkI3Md5MNb85AJxMUZEvTFVIOQmQKu2IsCSy9gdr1sZFNUKJUCkglgOYDxjFZKBMfgcVJGOybnikZ4zv9qR/qk4v2HgHAl7/85S1btrBkKCa4L1x85ySSIaH0in2m0nKq9pxXphNwzOKJEItRMW8H5mvHY7FEnCUaoepPzUFhR46cF88UDTm/wk7AZZZIJniHSCzJRUjHC8qTVxt4LkH1SBiG4+CNJMdQviQx1SeVD0SHbNIxCwOfY8rPzHSm1jx+M7VgBH7gpVJQSRAQKYnBJEM0lmDZXXiywMaJb6U9zhTCph1fRgldCsMEKQJQLsTwN8klEww+odMrArFgIoDjG4+wqBU+VJzSGEmSJcm9i9QKJlcmJZnvzMy3zPPZOzRkXITD0B4Co2QCVwoGXOLIE8YfgTtxLkIBSsxNYauAvwiivwv9yUEnuRdQ9KD0RM03kf/I+DwJISE/Eyw9i00GGmOaJOhLokUUQXWClXC5cy+y0Ja6aWqq0IOyRcG/R0zEcZ98DgBEIjE22cJRBnNp1fB5UQI9F8a8LLRdCMuZcqIqCco0ilE3BERyGPLl1TzEScczx5ufC1CkEk0yBqr4seYnw8RdM97Aj2amk0pPYiFE5ORFQP8qZeqiBwuHkIGeOEQ5ytjDBBvyuHKI2ciWiQPGYfA/VFcUSGVwiubmjOp/OtoSiQTCodTKRcbEo2gTBiIQiCJCEry/pJ4TlBxFqp1KLDEHCAd/kvJlfMo1uBnqk2P1UDy8YNflhRJjViiR9MWTfnp2xEYoxpB1HLnpCU4kmGdLAARMAgp5EUjohf3MADumu0ASuDBGykIIyJE4MqiZs5yHaSSj45huwUWSyTiEoijncJ2l6KSnZqKJNf7F2zH+ZhvfGeik+RaJIgAT5lsqlEwQTZhvYbKWY0kumuDCOM84YMYXml5hvLvgiMWrkWyZNhcznTkZ45v+4T/g+KLhEcdxs2bNOnPmTHrg6R8Ij9gzpRKb0ncvmW75XTgbEhAPgz8AvjHwjMDgMIwMwVAfnB+EoUEYGQbPGPjIkRtGjz3bD/XCrv7haaOZEYGQF4Y80DcI3f342zMIA0NIkncYvEMwMggDfdDbC9090NkP3QEYSUAAwQJN6GAMlRj5kFiuCG32hFee+pOTTlwmcaBUHqw6CUNgEIb7YaQXhnphYBAGhmHAA0PEt5EeGDkHA+eQtqFh8I5BMIyagLaJYpovfU3yAnIqSanXWWhLCUXmGGNxCg5CXGgchkah2ws94zBCSRUQg0QwGQ2jRuCC3FgE6Rk6D+eG8ExvFCJoqVNhMiMKyclmLaXoST/IQlv6x9Mfh8JYoBEHCGKyVMgLYyMwPIojOzQE/f3QOwh9Hhz64WEYGgdfHM+d+LlY72wOOhn+TUAkFgxDaAyn1mA/9PXB+X4c3KEhXBH4OwhD/TDQD33ncSqe98Mo5sDFKJZJTkJSMKzoiYyNC0hNzU0bmzM0aykuEw9jYCXkgdERoqoHevtxXQwNweAYeAMQ8KN+JbcSU3XsLz/TJkyFCYZOc5SDtmm+hQssjurTC2MD0H8WOruguxd6hnHKeTy4cHr66Lcf+oZhaAzGwpQLIpQNYjiHvzZP+cSdMt7Aj2amU3D7EVjkCBgRdEuQWvWBbwSGB3HW9dHvQD+u3L7zRFsYQnG0zRCG4PInhMTSlfg8n1wIOAtt7BkYzEhicDYC0QAEhmCkHwZ6oeccCrSePlwFAx4Y8eAo956Drh7o64bBPnzHhyuXL8tAZk1ExPDiDBBPMG3K0RT1ySzMBGtPkAI0eM1YAHx9cG6QZCwNWe95lMaDw+AZJvHbiyPbNUgLdhypooib4LYhOcwEyhQSpn05A+yY7jsMjsQBTeh4MjgIw70w0ANdYzCE5TuI5ZDJBIpjXBxzs4fxuUZ6oH8c/OgPZpmaEyZs6lZCdTC7SurtGb1cbL4h0MfscAKwpI8QY0NkjGTdEAycx2Xby2bdIPQOwXkvjEQhEIuH8FuCi4hCfhi757cCTJMGaeRMOpwyvpM++0e8uGh4BACf+9znUunS6W6efwQ9eI1005ldM9XS8CPeIgKxYfB0Q89m/5bfb/vDv/3pK4sdiysayyos5YtaF3z60U/9/K3/ejn40jnoHgdfDFfihf5kEQ0X9FUukYwGwf/4/seu+eNVFQ+VGpv0erte1qTQNRvNDSXlqysqaqvK6srMjUadRWNoMpY9POv2R757Co7EwYtQhBwlmPBGgoMEGXNjCv6nyWTkoHPChojHwT8AXR37W6+sv8a0olLbXKaxGA1N+pIGfVm9saTBbGgs0TWZdRZtpa20urZywf3zf/jovZ3IukAoQWs1ZUnwopYlO9AinkwVe5WFNsF1HCUrEyUSGh7JU3Bq7kNV5Y3a6vrSj9ctHQEPS2RAnRpFVvhg5Cjs+vy6z5TXllbWV825f+6P2+4eg8EkcCE/ZYqgS4m5lqelJ53GLLSlfzzdseCt8SfCY+A/B71/D23++Tv/50tPfXG+Y85cR82spoq5TdU3dFx39+bvtw60HofjYzCWuljK6kgdpD6a7iAHnUneVgtArAv6frP5d4tWXFq2ssyIs0urs2gNTUZjo9ncUFJSX1ZWh7+lDeWzV87+3Su/GYTzUQihGiDzj3JtsX6QZWojpMmqz9MIzaSN5abQPt50XkrCYvQzPA7eLjizJbD5gV33ffZPN13WsajMUlJprVyy/sovPPH51UdW7YQd56F3HHxoT6eQNOEN0qO4Q3imhZBG0cRhJm0Tn01/xLw1+30Hr1l2XWV9tcqmk9mUJrvRsEJdXmsqqzMYLVqzw1jlrFq66YZfvv3rZ3qfG4LhCAHlCFrJHLmNs98gKztz08kKIRknyUoKQ6QfBrqg69nxZ3/7we+++JcvXOq6tLypstxSUeOce+OTN//43f96LvFSF/SMgjeIRhdpLNJzKXnA/CjZCRXezUIbXoqyhDCwF/aDfwhGNhx79LI/LJm9fF5ZXYWhyaxr1uuajcZGY0l9SUmDUdek0FiUOmtpSUPN/BVX3L3phz3JU0mgKi0yHJizHAeZ9WPLUOcCOfjvFPVJ6pyalTCtTMWkEQgNwdDa4+suW3FFyfIKfV1JaUuFsc5kWmGcVV9TtrKipLasxFKmbdIZbYYKS/mC1Qtvbf9GH/QFUPgKmADFLcvUviB5wmjLwrF06rMdxxLxaDwEEDoR3LdoxWJ9XYm5oeS65mtHESEhERTNCo7DSBgCR+HITZtu0i7Xzls559qHrvqR+54xfD+E/uhU9JnoJWsne1+rXDCOfFiCGUzh1OgwjPZA71Oep//7/d/821+/tMC2oLShtNJaOctefc0j1333lR+09aw9DieGYDCKUI9ECnO1CuzkjYZcq3fK+GZj2Ed676LhUTqzUg6k1MFHokX4MlMGqe7JKd0wzWRiTltkMjGTzc7UX/yUORKjEPOAb3Po1a88ckv5A5Wzmmt0DUZli0a3RpdvERW15Jvaddo6ZXVt5R1//vZbwa1j4IlS+YlA10z/TkPbTF8hhcLFIeyDkY5jruoVlYZWXX6rSNQqEm0oKGwvlrnkKrtabVOr7Eq5SypuLZY7lcaGqq898s1+6I2DDyM2guebSQ1yYad6/vEcSSciB51s2SDPIiHwDEGP+4zd0GAucMlFa4tFawsL2wslrcUKp0ThkMtcSolbLnEWqhwSQ7O2ckXFtzbc2gM9YzBOwktYgcxhjsH+QBQLnid5R3LQxsOLZARCEYjgV9ERH93L7TBZNSK3SNpRfGnr4j4YYlXzHKVM+iByCPbcvOZ6TZNCbpcZWsy3PHvrCTg6Dp4Eh/mMrJkmqxInF3k6FdmPc/At+5eI/zFMggpA6Dgcv/Ovd8xprNE3GtQWtcaqUrfIVU1SfYvaZDdo6tTGRuPS1uv2JPeNoKsGuUTpXKwSnHcH0pxJTfUsd81BJ41vHKdO7BwM3PPKvbp6jbRVmt8hKujIL2wvLGqTSNxyuVOpcChVdrXKrlXaNIbV5l+/+as+6PaDF+/NphrB7zhGSfi9+WYiiyjNpC1BeyNEUK8Qr5iQxQSZ0DAMvRt/99tP3F6xvLyypUzZKJHaiuStYolbKrHJDHZ9ZVPZ7BXVv3z9Vyfh1Ch63cgbz0IM5JNhGy/wcjYLqya9lUnbpI+neRGHeAD8e+FAycryApdYtE4k2iASOUUqt1xrl6rs4kJXXr4rT+KWIhsbTPNWLPjZ4//ZDV0B8AchQHktlIE0zfUztUMOOpnBLZSecEmceOeg53Vu6xc3fGFeyzz1Kq2qWa1x6qV2udgqlrtVMrtGbS0pbaj8/KYvvgvveGAAnSsscMoHTCYSGUm8TENrVs8Wmy1hjL0mIBIA/3k47zjbWlk7V9tikriURa3SojYJzTqpwqFEqeIuLG4tyHMUKewG8/LKb677pgf6EuCjfC2cJEIQiVofYTbTTHBkivpkOgK5yuARLjIuCIFe6LWecxhWmxVubb67uMBRJHfKjQ6dqkGhteqUVq3SrS12SiVuibRZYm4o+dqfbzmHfms/XkoIobI9A2ZmUTrv0jVp+vszHyNH0T8UOJzYbmjUidpERR1Fi9oWDcJAgnxpcYBx8A/DwBE4+AXXZ5XNcrlbVtVYftufUAZ6CJ3zZAuLhSlOgndZ+DkTnchQIQpG4xCB2BCMnIRT33vqewua52tWaHQ2vcqqkbeoVHa1zKqWObWSZl1JQ+WNbZ/elnx/EIZQoKT8vHSRiWGamRcZ8DfX6Rf9+UXDo5wO3osm4YK/kE00MPcCxjlJtLKCC/xLEpKtcsz09EPAA75HzzxRvXqOwWZQO1TyZrmxpdxQX66vKzM0mEwtOlWzWGItVDtlOov2Stvlr4+/5IMh9GRm/KQQW+qTbLSlPpzhAPvpjcGQ/WRT6SqdwSVXthUrbFK9TWduMJfXlc1aVVGzsqpqVVVFLf7OWlk97+EFd677ng+86M+k/DUmgphm4WPH2Horllq36be/ADp5yRGFwCiMrD29RttkKGyTFHfI8lvEBge6FmrqZ1WvqilfXjWrdnbN8lmzl1XPemDOlcuv+V77dwm34YJhadq8yqQwn9Ag7mLgEeo8DqjUC7/GQ+DI4cTOkkZt0bo8kVM0r3VRNwygI4ie2AexA3DkExuWam1ymUuqadbd+fQ9p1AhYWY05V0GqPFGCGUE/n9BPxfAt2zXocK0ACT7off2x24xN2k0bQpxs8JsKZ+zYu6nXZ+4wXbV7OWlZU1mZYta2qpQtGiucX38MBwPoOTlglgIzjpzUrSeZAcxlhV8ZKE/B50C/I0DDMLgD7feo21RFLeKilvzNC1afV1ZaX1NyapZ5atmVa+uxlm3oqpyZfUlD1368EsPeGCQXwuIWUkLUNJGygrFKYeCe1p1lUnbRLAA8zloDSchyI0Pw8iT3udmN1wmtZjkbQaVRaGpk1Y2m8obTMY6k77BrGvQGux6lV2taTDetPFr2+CABwtjiCFCvINKLv65lYkUrA/thl36RkPemnzRGlGxq9DUXFa2sqpmZcWsFSVVjeW6VfrSpgpNs07aKpU4i011+ruf/d4AnIuAH3mVhCiHGSSCSmBpLllGlk2vTB5OmnapiDYlOkWAG4Dh9f3rZjdXq2wymVsit6vUFp2+3lTVVGVapq1sKtE26XRuo9Qq0VmVixxzXo4+j4Qxvy8aX6EICJ45zP/Koj5TBGShjckmHq4lEhAZhhFnd6t5daXUpi52yBUWVYm1VF9rmNU4u/rhmrkPz567qrpiublsVcncxvnz/rjgB2vu9oEXJwctJR4bcdRBCms2ZqIHp0Nm4TefacQgEj5RFDX6kPWcQ19vVNrFSrdYWS+vsVTVPFhyybKa6uXVs1bNn1u7sGbZ7NkrqvD34bnf3vjdITSeyWjhZS6CSP4wxZEZD2aCHdN8kbEzguGn8QPJbXqrXLRWVNxedKnrshEYxdkUi4ZRbvv2wYGb1n/S0KiR2xXaRtNdf/33XhgYg/Ew+SxTYo8Hc8zDwEvXqfeekU7WBBUFPrbaQmTm64Xu7z1xmxmBkVzjUKialNVNNde1XX+D/eNzV83RWIxip6rQJtW1mD7e+pkjcJyDMDr82bikKMEVgHp8BnmSfXynkv+RXv8PgEfoPxHgEev3wHgcjyfCaJ1iCCoyBr5tie2LVl9hbDUX2AoMdnVVc/k9W3+81vvos/Dy0/CCs99+5+u3mZoNKrtaapdranVfdX3+HJyMoCsSf9LZPOXlR4GMcS42CiPOc9Yqm1neUihrLvzqa19+Hl58C95+H97fDu/ugHe348EHO2DnTti5Az7ohLOYIBWiXXcoRS+EJR4oYQXTivlHhDmXRnoWEZb2KR2iyMDGTxDxgW/9yQ3aJl1he2FhS9G/vfvV5+HFN+HtbfDWDti+E3buht27Ydcu2L0XDr8Vff8MnPKBh5ocYvYl1j2RxhL6brKg+EWoT3oATO5IjS+5fCKH43uN9fq8NpHIlX/Jmst7YSjAReLAecC7Fw7c3H6zyW7IaxSZHKbbNt9xAlO1KPcT1xoWYiUAUy+RX9PSMpUpF8C3qV9hrxNYtxZ5YfS56hXlCrdYZBHVrFvQPOQ4BWe7MFXl+Ck40NJTP9c2R9miUVtNVavnNe23emEUPXj0i5zENu88taktkxhvp9w1N51MDCVhBIbvefMulU1S3CqSO8S/P3Xfq/Dmu7D7fdizA3a9DW9vh/d3wAd7YPce2H0eeiLgxzpn3KaSPDKCIEuDRxGq1LoI+Etu3Vg0EcR8N7LCYxD3ge/NyNsLLVfIrUZRm0rsVpc0mH+58z/XDrS+kHj+6fhzzoG2W577uqFWK3NLilxieZ3xi4/fdhoGxiGGhjUP7zENI6d4TXEvN99Sp6YdYKwWggdhv6penbdOJOkQVa0tfR42b4Md78Lb78LW9+H91+CNdUMbv/LcLRJ7sahNJG0TG5drXxl5MQy+SASRB9bxkEChJUzgbkJRTZ2guelk3yX7xAvjW/yvzbfOlzskIptI4ZaWW6p+8OaP1o89+kL8hReiT3f0Ou7cfEfJapPUUix3iA1WzSccS/uhD3lIqh4TgT8iPGKXwtmC8mkUPM5ut6HBLHEpxXbJ17d+9SV4fiu8uR127IJd+2Dvdnh/N+zYAe+9izNwezd0jYMXnwmrJlGN4uTDlC22cezFq09hHZEkYYGFuAc89l6XqckksYjUDsktr35tC2zeA+/tgHf2wN63YNtO2HMQ9u+G93bCtu3w/hE4FkBHOC1JXFB4UQHep82PGQ9nhB3ZvynAo0QCQoeSH5gsclGHqLC98BLn5aPg5yLJBIR8MLIPDny6/bOKeoXKpS5tKr3t6e90Qs8Q5l/ya1Oor8RCY0RIbM5MUnETBOSgk1ry4jWwQ11sDLzPeJ+qXl5mdquULqmhSW8L2HfBvuNwqgd6jsPx+v4mU3OZ1mEwWEor7q/pOLwuCuOp1HxeJpOM+l94NDEGF3KUTTSwhDIc4Anwzi8ALhoN08BjB+ohGPjM2ptVVq3IWShpkX7Kcd2OxLYhSv0bhLE+zJb19ELPM/6XrrAsVawu1dVWLrn/8k3b16TgUSYkSqc5G23pn2c/ZjQPgq/5TIupyaRwyHU2/d2v3nsauofBOw6hcQiMox/eR7/+AL4MjCW9uC6xVAalZ4owtnjSs40zJ3xuOuk7AjzybzixUd+kFrflK22K775xZw90joMnCJ4wGk/eEIz6ML13dBjGRsHngeEQFrFTNUxqyZECIKnP8bucZmdG9rRTakvJF0tTQisWfe1LHDE0loja82Ud8kscl5yH3gQ64TwHYO8n1lxfZjMpGhWVlsp7X/rRSTg7igUy5Glj4JFJNcb6dGZNQxV7Ozffsn6dEFgAxlftWV3WNKvIKRc3K36z+74u6PFBIIRxVe8gnOuD060HrJc8sGjhw5d/qenL9c83RLChFXa1ZsAXr038FOpNSEmkOJx269x08nOCG4H+H7x9l9whKW4t0Fk09hMWSh8e9cCYD/xjMDYOXj+MhsEfxTBQJMaR+426GvI3FEaW5XAROJ9JXWWnjfW5oWdJxCEI8V7o/f7f7pTXy1Tr1YXNhYvXLX4DXjsHncPgGQW/B1Pihnug29FpMVnUsvZiiVuibzQ1HWwZxiR9AfWSIkgtjTQOZT/MTlv2cye9mwRuV2BniaUcwxwu0aVras5A5yj4fOAZx+IAnw+Co+A/BZ03/fmzGqdWskaqaVIve/2BAHgJw0A0xnuPSNkSA3n1gAb0pJtlDWClncFyuSK4n0ksCN5e6Pn6n26VNivyXQV6t/aajiXbYHsfjA4RG8fA64HhAeh5ZuSpq1xLSiwl2jpj9bL5jx752yj2+8E5RoUOOPWYgM2kJ+3mWdZvapFR5/tEgsGjc05TvUniLFbb5Xe/fHsnHGdFCT7wBMDnJUkyhmM9NA7eoUQfTgrS6+xqfByWzIWZ6WGyMb2r8uQVk/L3cKPgaTxjMbeUqNuVWof2zi0/OAan+rBgYnQMRsexCMA7DkM+GAjAMK2Lcb7aTrgiZTVhnR2/vNL5Ms1xDtgx3bcYzgTuRHR/Zb0p3y0SrSme3XrpMPg4SPrAuw/2Xr/+4yqrttil0jWZf/L0D4cw4WEkiM6s0WUAACAASURBVL2q0esbDdMaIUIZ+SzwQt1BqXRl8q1z0MmMTLpaCBKD4H3o0DJdg77YJlZbdPftfqgTS08CAZyQsVEY64bujpPtl/zx0itWXPmZ+puWvbA8DL4EGreIfdlMo7GdTMQ0r7J4B6c588O9/S/uPcKxodgnCRTet8nsWWHkOY6LQuj90LuaWk3xRqmoo8DsLH038aYPhtGAwJAP9j5PJKNRzNEbe+zUM1/c8J2HjzS+NPqSB4Ywd4x+Zha1H068YpiCg2EIOHvdpmaD1C7XtZh+8NwPz8NwmDy39BBCTQFNwViCzPcksBaC/HxiD0sSjTEhEyqxp8hNJ92FRT18ENhwYqOhSSlpy9PZNbe/cPsojEASuw9wsSAk0DMXTobC1GCDepOE48xPyiwphlMJubLZP7P4yKSNCUSybpB86uSBPQ33cMe0TRUid76kTbq4deEg9Hhg4CDsvrn9RmOLUtKYX15ffu/mH/diSQ75wFkXOgJDExxjURh6XsacGf5m0jbDyWkfYaMeP4ws27vS2FRZ7FKoHbplhx/uhu4xzMTiwhDzYTWTbxQGdsd2dEHnENY3Ifyl0kmqARQKdNhkIEGcgkcp3vD3zEmnMFPiQ9D//bfvkjkUxW6xsUm/5oh7DAapyQ2QcUkZl5hYkERjHb/GkixQYbNcQ3aplPcoZ2QhO21xjMihXucwUuKD0Nbo1qpl5ao2ebErv7TR9Hzyb8PQ58dSiWQkicU4UYiPweh5OPvbAz9XWyTyjiJpU9HS5iXn4HQQfNRomzpzUXQtbSxmOsxO20zf4D9LJhOHY4eMDWUFHYWyVtGlzuohGKCOwDH0+VF4P5KID8DwipOrNM06kVskb1H86qVfeGCYSrORwTQH2WqZBI8yN82YmU6CRxBMRpNoRw38PfRS6YpKeYdW7JaXrSrZEt/sRRcgSrQIqSIOV25oFIbWnVz71U23/GH/w3/xv9AFgz5skIFzjDcoaKSFmTMtUzJpE7wdWFUVRocPNwpeZ7ebwSOTW3Pv83cOQFcQfDinsF4uGsJbJyLUsFLYEYjanSAtzNlDk5G3F6Ylhn0wRX1OACzUwJj1xSbtKHgd5936RlORtVhWL//BS/d2Qd8I+MN8S7xIjBtPYnQ+RG3MolRJR4tiQsTxLd9yIrYUxTlgR+q8KQfCMByJHqqqLSly5+etFVd3zO+FPh/4PoAPbmz7lMqqkbYqNBbj9zbf1QfdERiLkI3NOkki+1JKQtCb1OAjQK3ep3p/c9BJ8IhF1uIAfeD5/b77zc7yIqdU5zA/tLe2BwVaYIwLkLiNB2HMAwNHkoe7oKsPej0wFCFfPtt+hI9+sGe8AMk8ZXynsOqjv/wfAI8EDyctZmQpW9bMMYD9bjB9cvW7K3XtWlGbSOQo+MorX+uGLr5QWfAfJCEU5byUTBDzQGAY/F7wYZJ/hgGXlemZoiHraZlvJgFGwOvobim16GROid6qv+eFe3thIIgCAuu0CPKjQKPUOd6Fi1EiapOH7gSMvAjbqjMATjxgTSOnzLHcdPJ5QlwUNXdow4lHDI1qSWu+2oZG1TB4WFIRc+SE4kGWnEv7cFF+DGM+kxqpv4Jvb+Y82ay04UphBgr1osTebQA7k8d0zZVF6xUFjvxqZ8UJOLofdl3nvMbQqJY5Cs1W/X9t+Xk39PvQYEKpGgtQtiltTMf75/lrCvzKHJjJ72SlbfIpWV6xepBRGGnr6tA8qFO4pWK7aGHbrCfij3VBzwiMj2OnCQhAgsr+PWEYiWFKykQiDvbOpinKACcLGDFcR1XNpE3T7pyTTpI8qBsIHt0jdaiK3RJzo3HdYbcPBrGVEeIvSsolGSrEMHAQsDNCXEgSZ83TmSAjLuYMLmSnjfoFRdFRgRvADcJA/cGVZfVGibPQ6NLe8ZfbBjEzF91/wspGPRSLhsPgOwz7Llk1V2OVGd3K2SvMr8WfH4aeKG4Ph20ucYSnzP40Rk05zE7blJMyXpJrM3ogccDQWFHQLpG78y+3z/XAEHauwpAohZdjEOHC56H3wTMPSFqkIrdI12b+2Qs/HwVvOBlmeoXgZsoKYmAUnzgTcc5MJ0oMcukl0f/X84ddfzA1VxS1KHWWknueunsIBvx8aQKF84g5CaxpH/OhJ2l0DHzjEAhCkFAykcGIYFoLVSm9mcEH9kZW2gR/J2YGJgHGwOfsajfUl4pdMmmj9J7nvt/H5zhjFiZtRIrzPcoCuGg+JqhVCI+N2NWEtTANHWlvZ6hPls7CQ0S6GqKFUfC1dDvNlkpVq0Zr0d+7+cfnoHcUffaRCP1Sy+dICII0orThfKrKkhCG4Pmbuh7TaJl6mAN2TD2dXgv2Yhy4PYm95kZjfptI3FE8Z83sk3DwPe6NT264UWsxFtvERpvhF6/+ZAh6sDN6MhlCHzDlkLHuTil4xLMSmU8tOrPk6s1MJ3a0womEm9RBErzgX9u1Uf2AttgmlrmkC10L1vvWnYKTfdDH9ClAKBofjUIoAOPU8gobH8ViuFscy20nEzrNVMjKB+HNjPEVPvgH/fs/AB4xZIBjxGNPlnyAzEbxGMGCtZEfPPH9Aku+aJNI1apa2b18GAbYcCL4wShGzA/DPqwzDARgfBg8XvD7UFLgfiMXwuqsouFCvkiL0+votRqbVQUtIrVT8a0tt70Bbx6AQ0fh2BE4cggOHoH9h+DgIXrnTLQriNXUmNYTSQjd3NCo5vnAbsrsSN5dmUZHTjqZvqO+pjHmPdI3qYva88VW8ddfv/UdeO8oHD+QPHIIjh6EYwfg6BE4djB+4AQc7Y6dwT4WEdxkCtcLu5BgXaXeSKNl6mF22lI4BpcfZpOEIb4TDilWaPLbi4rbxVUbq/4OLy51LzVYdXKXROYuvHPH7Z0ocyNhSGC3z8hE4k4Um0XGeZt46v1nep2dtpm+gZ+REy40Cp7jcPxG5ydKbTqlo0DTUlzWoL/e/vH73nxw46m/7EM3vm8YvOS6P49p47EQ7f1EPKT+b5TqzhACQiMBHjHoMin+kpNOIaIfH4Lh7791r8yuLXZL/r+qfscJyxCWdg+OYYzD74fxIIT8GIUZH8P2QiE+qCGgZ1ptlBuLe/IhqUx0z8CSrLSxb0WxvTK2qRyE3jtf+JbOqsx3iDRN6vaD7iD4aes8vEUkEY9BDPfOQ7MnOgiD3/vzHUaLTmYpqLGYmo4uH4Y+3Kg4we8kc8HoKEtgaIYHSX1E0C60PbzdbKkUuYvFjoLL2haeg24f+EexuZp/HIJBdM94jsPhj/9lqcwlLWwV65tLbPudY9iPIEzpKzTF0VFHCEnIBflw8Aj330FdHfBAz3c23y63GpWtBlN9aet+5zh4sd8BZqhAmMNW1NQEzjuOcUDfOA56IIAWRSjGjZNpJohUhgCw4GMm9Z91fAXjFXeaA/QO+l0Ij8oLHRJVq+Y7r3z7TXhjL+w7DIcPJQ/si+05mDh8iDt2BE4di5zqC57DvF30o6McIUsVJQBZaGx1pIYi+0GG+kyHR5QZSd8bBX9Lp1NbZyxsKZLbFd957Y6t8OY+OIBUweEjcPRA8tCe2L5DcPwEnD7s2R/FygkhL5vHsDR2bC1kp2XquzPDjqlns9dMyWEj6tgO2KWzaEVrRJL2oso1Ja/ACzduWKqwqIpa5cVO6b377u6EI1HwYUd+dOljAi6qsiA1c8XFTKKZiRIcGWwZmjVXLyedtIE6n8MUgsgROPaFdV/QN2k0LqXBqquwlN+w/rpfvvuL9Z0bj8JhD/QEqMFbAIJYjIw0sUIABo5ZY9UJNJydD8K7GeMrfPAP+vdfHB6hKMERZtOGbXeAnGECByCcDI+DvxM6b33sVr3LWOjIL7Fq/zS+LgBeZppFIqE4cOPg74XOTjjeA2fOwZnTcPIEnNwPh7vIsrmQtgXTiIYco0S6gRuCkabuRoNVI+0oLOzIK24pNtrNpnpz6epSc73B0KjTNmvUFo3aoiurLb9hxSf6MQQeZvVDlPaBwJ+6gFCcEec6Tv0PIV4Z59gXI5Qku/7UOo1FLVonylsrKnIVGmwmc0OJvtZgaDBrm0v0LWX6eqOhVl/dXLl01VXjWKWJ4W22PThJEPJ/kZoSHA3T8iQ7Dxk8YsqDVnUYQjthZ4W1RLymUOQU6R83zdo0W9akELdiGo3EXvxA9/396LPFxvks45c8MEx/R8i7EKMYDfPLTEtP+gfZaUs/I9sxTUsuApFx8L7lfeVqy2X6OpnWLlHYCw2tGplFrnLqDfbSRbbF/77lnjXnWs/C8QHoCbOaJqaJBHwpgA98lzcDUEBPVVe56EzlLeOsu/uNH8tt2sLWIplT8vvTv34VXn4XCwK27YD3KDV75wew+wP44APuvXHwYECB1CT1ueWouS1GV2my0YqjUc7GBv69TNrQekGIj+E78kvFR6Hv809+qtieL94kltfJt3j+zldOkTKinRDQWZrAZt7cEHh/9epvdc1GZatM3yz/9fb/HMa6dI5tF0RBq0nY8aJom+Hk1EcJ3Bp57ADsVtUZ8tdIJW3SWWuqqHxh21Z45zXMOP7gbXhrw/D6rzzzJWlTQbE9X9OiXbB60Uk4NQZjLBckkaS9QvmBZv/gXM26XjJ5mCImZYFg7nyS88DQtY9+QtyhKXQWmxuNL3ie8sFICHe9gihukxEZgb5zcKoLjnbC8ZNw4jScPQlne6B3APop2kUbXVO1WgI7HPvjGAS5yMYcKZqEXO9x8LV2tprqzcVucX57ntRSrLfp9Fa93mrWNehLrOUmS6m2zlhqrZm1cs6nH7rBg/4PH1XYMM6gNqXd6wTcNeOsy1SfkxjLLsmBDwLWzlaDpVSytkjUJiqwFWtsRlO9qbTOrKszmJpKy+oqyutqyhtrSh8sv7Huuh4442O9JEhWEgnkmhZiEemDMt1xTtiR5YtMGFJz4+3wvqZFI1orym/NV61VV/2pRtSYl7+2qGC9tNih/v3pB/qhN4IQBDFIEOERedKD5JOkrDeEm+l7d0zDyRnoZM68cDJMxXTo/o1QdvYL/c8utVxlqNXqbDqxRaJ0qqRWmc6tV9bKrnRf+sNX72nv2XAKs8V9AcDtp5gSZ1sj8x22eDMsCw/S38oc3/RPP/rxvz48IuzJUluo4SZWsWE9CMnTCERHwdMF3Te1fVbdoNE41aY67fOxJ1EDIazCbMEgxP568OnF9y+cvbJi9vLKWQ9iLf2sldWzVtYs+ePVIzCSSNBeEDMye2axNd1Xaa1yHvC0nLMYLboip6igXSRpE0scUrldpbKqVDaZ0i4RuyTFbvyra9Z/rOGas9DJQm8skBXGPEqC4byEZftlZHd6zUwn08ECPIph5dqpNQiP1oqwRKIjT2TNU7dhHyaFQ1nskIudCrlTrrTL1C3Kyxsu8cEAJKK0LxZHCyaCTgGWWjJJLGXnR3bayN1BhiMJILSc/LvgvZI6lbgdu/WIXHlip0LZqpO7pDJqyFTZUPH8wPM+bI8exp3syCoX1n4MfRCULBWhfRmF97OTlHo3O22pj6c5QH6Sb4VLRv3gOQR7Htxz3xLnYlOdXtWk1LSq8+0F0lapulllqjPObq6+ynLlo+c3MbnGsAiftUtankjFMWYDRIbXh4ZHMAKj92z9qdKqzW/PK2gXaVtUpjp9aUNpyWpTea25uq6qYlVNxfKaihWzrlp+5atnXozjUKJsjVDGLvUyFvpls8fPqs/TOJONh6wHB/kb8cm4Yei5/rGPYfevNSK93fCq9+UoNt+LY1wPBT1C3iBuMg/jEBoE3wPbV6ua9GKXWG2R/GrXzwZhKJ4gGzhCe7PgIr8ghJSNtjTSpzmkCgb/XtihbzSJ1hTntxcUO8V6q1FfbzI1lhtWlVSvrq5YWVbZUqaxKOUuidamnLd63l+HnvbAaJR8wNFkBKvtUguPfCQTjMyYnTnpJLCFKmYAhq578lMid1FBW0Fps/7V8eepqAJ7ogLqS9/fTv3pmvsvXfTw7DnLq+etWDB7+bx5qxbOu2/+9f99XQ90CV2YMewSxfL+QJwy9GdINshOG9PoAjzygdfVhfBI3CoVtWIdn8RZWOwuErdKZC65pEUstUtlLnmBVaFvLr125ZI+OB0FX1pQD2cB+Tk+JDxiqDPl8WFG8hj4bd1ufaOh0CUSrcVOQkWOYp1doW6WaZxqeYtC12LQWoxKq9HYXLKkcfEJOOTBQjA+7ZVcMHT8/xM8QrffB7BdazWIOvJF7nxxu7zYpVCs0RQ4CrGW06UrrZ31/MgLo5hRHiPTGYUgPmwCcwhJcVD8kk28ieBplok+AzzCeHcSO4+w5mdMncWxTnz4KOz/4/bfL3FeaW4o0bWYlDYNyWexvEVmtJv1dWWXtyx9rP+ZAVZOkUDnEyujwykvKIuM6T+VvP+FRxMcybb8eGtYyPzFSDW/gAl+RiHmhdHT0PnVTV8rs5dLmuSmxvJNo48GsQ0r2iExrHgKPXr2LyVNJrE7r9iVL2ktljplMptS2aKcu2pOH5xnbuF/Rmo2Tq9EYgx89rO28oYSbCXnkGgsalO9qaK2YvaKqnnL8Zf6bVTPW1az6IEFn1pxQw90hwC30klSGmoEjQmqOOAdLSC4K7MkCmTj4QSHabFg/QXr7z4Ovo0nNhgadeK2QkWbRNEiMTUbylab566eVbOiHEHkqqqa5bPmrpo9Z2XNDQ8tRQ1K8bwoyl/MO0aNlhSUH6b2ZiEpdftM2phTUNjWi9d0YQjsgfdKVsvFrSKRS1ToLNY5zFc98bFvv/Wtkga9slUmt0ousy7eBu+MwTjzsaFYSCTIR0EyAttixcIclufkXIGMvEzaUmTnOGCDgmCVi0OIdnXwvBXc3rTf/sO///jj7mtnLS+rqq2oaK5QNij1Vn1FQ4Wry019rSjdh1UmsupZQW0K/7LJP0n956ATv8nHwjwweu/WHyttKsS+61BRye0ymUMmc0qULpnCJpVZlGq7WeuoMD1Y8+LASwHwI7NY7Aa5xnprCftPCRJtBm5ko43DTQYhxkX5Nl390PfZZz8nai0Qrc9XNCpeHHw6Ar4EhDgOQ4qRZIK1fYpyiQDEesHz4y2/1LtL85z56mbZf+/4uQe8CIfYJpgYhQz/k+ERF4PQYdinrzfmry8QrReJNmJb18LWomKnWOlUqFuUSqu82C2WtMnUFvVnHr/pZf/LHswwwwWLyAN3OCOesjAHThLBOzixnCeYmo2HE5+SZuHQD8fBEIx84umb89ZKCzryTc3a5wf/EkSHB48qxmDor+cfmbusXNeg1boMsmaN1mWQ2IvNFt1lDy48C8fR4qKZxWwwPrQ6aa5Nuu+0zU0EeETdPbD1hv1cq76hXOxW5juL1Ra1uVFvXG2oqq+Ys7x6/vKa2cvLZ9fNKltdXfPwgs8t/9wIDEW4MFLCSw6WO0PWIOPYjAt4qvpkaACfgu0Pj+g5SQ1BWjodxkaz1J6n7ihSNUkrm0rmLDNesry8ZllF9bJZcx+Yt2D5JVUr51Q/OPuTtdf3YgFvAHlCOCsInA/CLNF+KlOmfz0z7Mj+PVyA6D+LQGAH7NI3VYo65CJ3UZFTrm00fezRpXdtu7Oi0SyxFysc6oWWy96B90dgmM864nDpxznM8IviL5oOSL4wQDwoybjxTHTSd7kESxDDjdVQ9dBW6REsZB4chIG3Atvse53/8cJ/XG+9trq20mQxSyzKQodM5TSU181dd+4xP+4TgGkwNJK8dOKJmXFwcbZn9rXKoP+jvPE/wHvE29O0WFgPPeQ0pgKiuwEDZ33Q94On7lavVqnbtOpmU+3ZZi+MsZ1BE8B5IfzEyWfnrJxdajeZnEaVXS12ycQdsjyXqLTW2APd/1R4BOja9TtO2yvqS7UtCo1F/p23vrML9hyBo6fhZCec7OL/nj4HnbTvT/coRjoE9QQQTOJ0nzyRhLDL5HenFWETMwitefYbxZCQf+OJjYYGg6S1WNJc9M33b90FO4/CoVNwqBOOnoKDZ+D4aTh9Ck6fgJM90I0yLIR/KNOWi/AySIBHJOPYIpi4YdpRpuhnwakwVrLgDttszUQgshc+KG9SS9eICtrylE7NHW/f/Q5sPwqHvvHEV9TNioIWkdap/OSmG87AKT8EIskkpejSwiPKcBVTNkNqN/g0KrIfZtKW/byMd2PRJN4KkWGcxfiimKAaHgLvGYzknt4N79fvr7vWvVRlVRW5iiUO6SLn5f1wHvOWyM6jTWFx590JkSEkAGWa8rnpFHCMF0Z+uPVepU0hWiPK7xApmiQV1jJdnVGzQmtuMFdYysvrK80rKw0rZl3ZdMOL517yoxFP1bd8JgqB3UQqniso3gwOpN7IRhu1dUWkj2clE+AB7zf+frvUrRG1ijR2neuQZRyrR30AcX+QOs0Al6CNmMch0Al9t/ztDolFKeuQl9lMjm7bIIygKqUau3gihC4QpuRTRExzkI22aU5Ne5tM3tju8M6yejOWfawRidpEpg0mVb3a0GAyrDKYV+qxBVdbvqi96JOv3bwL9gxCXwzT0AEiuNbiWLoaQ+1A8osYjFOdwshE++QlnJPOWIzS6jnwwMgtW75TYJfmt4q0zUrH4eYxrKtAuZHApKfA46c2XvrQ/HmNs80NJaXWSkWLpqijSGIvmrOy5hgcjgAmeKWSl1NcZSOVxoOJw+y0pem9BMSHwWM/59Y3lEpcSplDdtvb39gFHxyC/ScwwHf0HJzuhOPH4dBBOHYKuvtwpzAfMoBQCHEiBY8IT/NeoAkaphxNVZ8pKIDsRl3OWkV7wOPuazPW6xX2QqWl8Jtbv74bPjgFB87CwU443gmnu+BMJ5w5RuLuPHR6MUs1xry48RiagmMQph1sZsSPk4mbCXZMPnPiFTITjaIIRHYm95saZxW0yfNai3Uu04/f+ukROHQcDnz7T18z2FSFVpHWYfjE+k+ehqM+GMZRo2JF2mwHO2EyFM5AEo+QkL9Z6J+JTkEgJDF4x3zJqHq4ZCQG4TA6HWMBbF/iH8Qt9ro/gPfqTjcsbF8saZOJ3Pkyq2aJ7doBOB+LC016+QecYZZNMON/4dEkXsy8/JhhwK8lWjYxamAXovha62GnvkUrsomKXYpP/uXzfbRLF0lRDF9EEUWFPLh73/AJOP3N12/TtapFTlGFzdgNZ6f4jaa8ZCRmp20S+dO8QHgUcp11ltaZpE1inUV71+a7j8GpYUyWxL5HtP+APwyBMNZQxCioQVYx7cUdi+JMYr/MzhOCagyMTJ3uOehE8UEporh+Ij7wrz+5UdusKWorVLg0d7x911ns6eIZx74Dngh4QljzglV+Y1g4SsGXUDKBjhqWPsm7Nxh5Oad8Jm3M4xrDbAP6Nl0oDrCP22do1OS1i/LaRDVr5p+AzkEY9cDIETh4VevVpg6jyC0SN+Xf/cL3+zFXF/EZtjNE4EdSEXtDEoJk29FPMzLpb2fSlv7pdMdsTpKM8HnBQ/G+yHgcc8UD2BFnZAT6x2gnzr2w+5KNC0QuUd66AkOL+ZX+V5hzC/1eZI1heD410kJg/mLhEfMOMlXshcF737hHZVWJ3UUaq8rW23IYk+16e2CoB2UZ7og8iPsQ91IbUi/lt6EqZ/l+qSmXmnXM6Ug6LDs/svAQCeI42uoW213GuTEI1B1r0TaWFrUrJC3ybzzytX7ojKLjirLI8HzqoYNlld4DcHj26rlKt7KgOa9iuXlr8vUxCLA6efQaYqOmfzo8CiSDR+BQxeoyRZtE1i6Zu3bOfjjQi7v54q6rh2D/1bVLpE5F3lqxpFGxJrBuGAZwCpIqIYdiLJag9mxky1NJBPrTeG9NhvrPwsMpzGZrLpwIgHf1sUZNg1Hskhhadd964utUI0blS9hfMT6KHcv6RnAD7DOn4OT3X8M8fXW7qWRF1T444CNISvhSqEilWTflbukvs9KWmicU5o6NwpCr225q0IkdBRqH7J4t3z0NxzwwEoBQCDe0DgUxqx1Xyjh2vkD4kkzQBOGVNzqkJ5KIZ5htRNlUeETOEuFLrE0A+vBGYcjS2WRo1EltRQa7+p5X/v0EnB6CkXEM0I+HsGzCE8BOYNjOKg7+WJw6ngsRQ4pdoMedtvtIZ8lMxzPBjpm+R+3QILGTO2huKCtwF4pbi+e7ajrhxDgMBWDkOOy/2rHI4JBLXWJts/reF7/XB93ISXKk4j61cSyCZhnuVIBMOoJnb5ZgdA46SYnGMKcNt8AF2sdmDDfX83hQhWFpcwTCEewvGhjHegXvCTg+t61KvVGW5xTpV+k+8L5FGyoQNsPwAuZoUxRI2Bxnem5kju/0536YT/7VvUekNgVzlp/3vJsaxTiLrUQg8s74GyUNeum6oqKOApOt9FnfS/0440MhCCPcIZmCmWXA9ULfXa9/T95YJNuQr66VdcPZKanZ/3B4NAxed6djjqNChan++h+9+JNeGAqSQ0hIwhVmMHtCpnVpXqLK5CCGliiq/lRHE5oLrNZj0rTIKsImzuCvjHM0gfAosPbkI5pmTUFHodimvm3LXRQqJqs3QRFtDHZgAIN2FeWoFRN+ig020gyRFL2CYJq4YfpRNtrwapS7xxYPnp4AwLaQLUZRu0jUmrewffEgleTEMVd3+KXolpKV5fIOqXKt2FyrW7H7YQ+MRND1TQ42to05A0lopf/T1WcC4r2xnufOPd2yz/Kzp39h2eYYAz81hPQEMTk3lMANSsd6oOuWbV8pXl8oWpenqNe81PP3KHAhggS4jzrSSfU7zPwlnUN/Lg7+0kAwT0XMA/13v/UDpU0ldWJhv3Of1QND1MIKnX/k8YMkVr2EohDiIJzkomi5sjAHqe00YIRzjxLhyU+XPqhpx9nGF4eVYsTYFCeZwJKcbYnt1cvnKtx6mUs5a3XlX0cfH0WM66NNSxA/RDlvBHw9cPYPe+7T12M4VW9TfcZ9YxecCaNChTDmFHK0Xcc/d3xpu6/nuwAAIABJREFUz7jYnvieyrryYmuBzFl0WdslA9Afo8zHYCzkheF1RzvUDTrxGrnYKl/StuQEHPHT/g8QSsZiMdztnLw0yEFyFpLVI8AjJtly8jDtBPwmCcAoBLaG3pzXcImkRVrUUlBaa/xb6MkhbOiKue1hzLmMo/TD2TjcDZ0/efNnhQ0KsU1VXjvnABzzUXEWwSNKySdKLn79ImVs1rEmBz6ER1Zzg0bZVqxpEd/9zHcHsCF7DM08CnUjGEKhAhH0uyb5lgfskVjsBv8yD3cW+ZbOiUzvAhOSeHX8Yd4fhEdjCI8aK53lCic27WQSeBzj76zgDtUDh92kcCcGLhpCG5K5SHA5MNjIJZMJrIa+4J8csCPbdZggZc3p93CHShqMhS6RtK1gcetC3CwvHk5g3s/I5tiz8y3VSkoMNa3SL9vzMHVMpW69tHK5BOMhCnnew4pDyyzqqTfOQSdNjBiOCAqHIf/o5q5XG3Y0/+TF/6jf2TiMJnSYxzpckuPiMYj2Q+933rlF3JYnahWZrYbnup+MT2pBjgKfWkv8LzyaOhYzvc4uXpl5kpIjgiqOx6N8MJgGvg96bnvuFnGjKM8pUrhF8xpnvwav9eL28t44hMKcP4iV/L4+GHwX3rnx8Wvl1iLxusKSFtM5IbiWouwfCY9ovQbA19bVoltRLLbmGezau567qwd6A+jfwPgU5ThjuSO95PxYr472E0lBLomf8M5nMj1RkQpSLMt0z87DiWejNYJLKE7wKLT+xGMEj4oVLtO3ttzdB15/MuZPRqi1DEsEQYFMMhlbJeEvNu2lHzY0E66OLF2AU3eeJvBHwReshGOPi8+WJHikaTaI1uUVrsH9hjzgw6pVbDXNDYO//fi6stWlartUZsctrp4a/LMHS0kDIVx1XDSe6lLM2p9MRRjpJKWOc/Atdd7UgzgH4+/1vbagdoHaojM6S+ZbF76ZeHsIPXB+LP7CtkexEPjOwsnLn7xM1CESt0oq66veG3svnAwzLEAbCDIvOMXX2KjyXJ1K/AXRifMjPkJtIaVOGWsLuel4WwA8HETjUczeIzQpAFNhPvE1CmytCWQI+g8D2ZltDNP5kZ02ehDKoyMEmEx4YOSnz/1E2aDOcxQp3eqFrfNfjj4/jGU4/kgyEMRs05EB6NnUu7aypaTYmid15pdbDJs6O8YwzRMXPUuH52FCGkxPJ2bKcXbappyU8TKBOCO8N7m3qrmi0CXKbxctWjd7GPpwlmKMiwuD7xyc/vSTn1a61YoOhbJe8fM3/qMbTmE5Hv0Q3E1gf3/iJwtWTBhFGX2GctKJa45kYJI2B/362ltK2kx5rSKxI29uW/Vm7pV+9FaOhyE+logFscGmtw+634StV266UtomljqKy+8vOwGngtR/nHaw4RthpMRKBhv4N7LQxksAfDYmsnzgcXU7TQ0GibNYa1P+8MW7+6BvJIE5gpCEUJCvjiQrCPt/CgKQOX7ZnOP/kuE0df5PoW2Kd4EpB7KGMbLG8tjIezRiO9eiqdWoXEqjRfeTF3/aC30eboyJNX8iHIW4nwuEk6EEutWZ8iZzBR3l1FIRne7MYJ1CwrQvc8CObN9j04O1Mj/IHaxo1Ba6ROK2vEVti/pgmCXgjkPoPPS1d67V1paInRqxU1Vuq9rQs2kIRrBJjSBIaHVEsOdaquqZDVbGfXPQSdIAMwcosvHuwLvzH5hTYjNo3fIaV/lWeK0fBmi2xxMxTH0ZB+8pOHHNE1fixsPuPJPF/Krv5SDWRZLeEvQ4L3IEyZNBFP/GlPGd7rQP/f6/vveIPXpqaHnzmtqyIYZApnORRBD8r8Q2L2yp0bgK5K0ik1NbsbrsP7b86Inzj24LvL6be/+18S3N+5p/8Nw98+vm6+pVeodS0lg8v37eIAxMwUNTXrL7ZxENFzgmSRgDj6uzudyilbnylC7pN16+9R14Zx/sp6ZHhw7CQeH30AE4tBsOHIFj/cletKdZSSSiFLLCKTOE98zj3ZkcmURHbjr5L2E7ynEIrT/5iJa8R0V22Ve2fvNt+OAgnNjLHToIR/bDoX3Jg4fh4KHEwaNwbH/k0Gk4OQLDwURwIgObXY3X5aRup1dX2Whj8IiaT/F+XzQZ9yUO6a1mUQfWmCywLPCBH5c9VbYFUCt4fvn6r0pWG4vthUqXbFHDvNdjrwyDx8+31cd+fTSIKcw1iUVZX2SjLeuJU97EMJ4Hej+98TOFDdKitmKxRbLYdnnLMdvbsfe64FwvnDsaP/jCuee++fitmlatyClSN6s+bls6AP1xiMeYPY2QDvtv8W4GgaV0p6nO8Bx0ppxP2ICx/3vv3CV2Ytdsc6O+da8lCB6cUahxsIVxAs1ltAi5EIXjhJAGKQEsHUdQLBBDiieHNZ+VtmgEtTlGXpI0jTHuE9gT332l/SqlQy9yFIrtstkNVT998Z6ne596L7jtdd8rm7o33vHnb5cvK1G5lGJ3kc6i+ubfvtYLXREIJmJIMD4lClYWZ5oyItlfZqUt+6lp7zJ4dAgO61bp89zY/GLB2uohOA8JTDMjZRYYht6/w+by+nK5XaZ0ycwr9Y97Nw1Q4wnkV4K1IGdNj3gfMLM3BPonIYCcdFKhJ5eIYUuLMRjfkfygZnWFyi0rbBMpWuU1jfN+9OJP/9b/9PvhD7YH977iedN1uO27T99ZWluit2mUbnGZXb/kocWdcJaVZQkOaUwYJ7aSDkvjQPrhNLSxKYLOFcAUZq+ry42F/U4sUrv1xVvegXf2w+HDyZOHE8dOwqkj0UOHI0ykHN0TO3AieZp4FaHJQXcTJDwxLwdmy1SfQt8v1muHzVhuDDOinKamEqmjWG6R3r7lO9uwwdvRw9yRA3BkN0rgoyfh1FE4dCCx9yAcPhY/NhDv5+uFcSEIv7nUeTq7csCO9FOFYyFEgF0tDnL7KxrVhS5RcatofuvC81gLCaPhUAQD95FeGPjV+781WSvyXMVil2xe04I34E0vjLIVjSsXVwezD6mungeywp3S/p2ZTmoVi8KX7UM1AOdv3vBJrR3bn8rchQua57ccse7idp6GM4PQfwgObuxa9/W/flnbohHbJca20stdSzrhbJDluTNslOJhSqenETPlMHN8p5zwEV/+q8MjnN/0y9YJE4gYvIxCJMZvUYlTIgaxYRh+/Nyfa2pn6+16sUtSYCuQWiUmt07brNTUK7QNKoPNJGtWyewajVNrbDR+wrF0W+ytAG4ihhnyKVSUOkhn/TSiIf2U7MdJgGHwWntaDFadyCkqWCNSuGW6Fp25wVxWX1LWoC9p1BqbtIZm/DU2Gssaq2run/tc13MB8EWS2GwUt8XEzdJRcjEDgkRJnLKIpoqzmelkE5IlPEQR6Qc2nNygb9IUrBGheHWLtQ2q8oaS8oaSkgZjuaNC06TWtShMVo25wVy9unrOryqf7XoS97BEfxKJHiFPlrw+MWrMP63/OZM25sZAwZym1+MQ2ZvcraxTFa4vLHSJLncvHIRedJUn49RvKT6GJvv5r2+61Ww1yF1SlVVzVevVB+EA2igsJsinZCK7LvAnk7YL+SIqyGRsHPxv+F+7uuFKnUWraJVL7XJFi0bXbDQ2mjW1OrOl3NBYIm9WFRI4nldXve4kOkJwMJPYY1OwpNNUlGBjkQl4MeqTmc/I0PgADH73nXukDo3YJStpMG440RFgzY2wEwJOmxjLJE8L/bCucgF0ilC8j3n1aLqQTGOKcFrGZOchfZPt90Q5/fFYNBgE/0vel2fXLtJ0lIjc+cWuQoVNbLSaDE1GdZNW6zAorGqpUyFul2schs89+qXTcIZSiXGesEdkMQTyWExLT/oH2WlLPyPbMTXZD+2I76yw1OS7xSKX6MoNl/VAFzKQw54zCYh7ksNDMNKwt0ldq1S2S6X2giXrLz8GJwPohCAlhem2LJ6J8xEp580J5nG5mPHFwYpHogFWGxGEiAeF3sb5tTVahzbPVqBwa3VOg2KFpLRJZ7YYNU1qSaNC6dYq3UpFi8ywUvlJ+9L3g2+zXWCFGgtMOUADhYGAlPbKYEgmD1NjgciIHmoUfNQWslTcKi1sL1Q7Fdpmtdlh0jbp9I06Q6OupMVkthpUjSptk2FOy/yFf1j0wplnKamc8BmTA0IgMrPt7RSisqpPknJkGrGrUXGM7azT3FKS50IJLHFL5c2q0kaTqU6vbNLonWX6RpNula6sQV/eYKpoqJr9wLxnzj0/gukZ4RgVeaQJqCkkTPtyZtgx7dc4hGNRiO/l9rHgmqw1f6FrQQ+MsIz+OIcerQB28uu+ZdOXNS5lUUeBrFmytOPa43DSh82r+BhgChExgc80aOZ9Z6QTp2g0jgIfczsTSR/43+feXbh8jsGqUXUoNK3aotUSs62yzFqpXa3VNqsNrSqprUjikOttZeYHqtefe8yDaayUfodihwfTzJc0/Vzjycw6vpmP8KHf+R8AjzALWACaPDwiFyim9xNgIM8fpm/ERmD01dgbn173uZLGUq1Dr7Ir5Q6J2FaocEtVLuxvobRqDdayufb5q0/WdsIpLwyx/tT/JHiEeRJYzeF1nG2trK/WWrUyp0Rqlansao1VpW1RaK0yjU0sd4hlTrHcIVFZVdp6w7xVi/586nEPDGInEi6INTCxIE5uYYvQjwKPhNQFjFaNg//RY49UrSzX2uQam1hjEyubxQanSm2RaG3yYmuh2CUWt4qk7jy5XWGsMy5eseDJ7j/5YIz55FGkpsEjqhOhwrZpZms28coc7Gh4sgcEzJwIHUjsnV2PrSC1zZqP2ZYMQV+Yo704MKSRiONAew/D8Sual5ibS7UWY+Xqmh9u+OEwumRCVEkeQe/IhZf159oKdJoHQpIp4hkbheF3w2/evO4mw2qjqkWvdOgUVrXKpZU71QqnTtqg0luNRot2sX3BIz3rBqEvDAGsqmNjmuCrB4ibAh94yXHx3iNULajtBmDk3tf/y9BQZWgsq1kxZ+3+di+63ynpKIGqLEKthigxnPxyUXyWILrjER4h0k1GUGVOYLUPCY84TBWKsF8ENHjJmAe8b8H7n3/mq9oWk8aBDcBUVo3ColY7dDKLUmPXq5r0Zbaqn+361WnoHsFd6sgYZmY8AxkMoE83NpPfz5x7kz/P/orgUWRf4lDFw/P0tnK1RXeF9XLWmhLVb5IBnXgQwt1w7nObbtY2qDRWVelK8++e/eMIjLFiTFJWqZIBHHNhqjP7/qLhURI7YnPjSex9Gkbn5cArwZc/+9gXDI1l8nqNxq7T21Qaq0zuECtcCpVdq7EY9fXGy52XthxvOA1HSejxO/tS2QrLLKRSJyFsmZUdmTxk85/FCikbgBsFX/uZDVXL5+qtZqlVprTK1Xap2FGAcT1XkcxdXOwqLHYVytdgjwnVSs2ilZf85cSjlAIh2DLsouS7zLmCs6hPQVUgMmUTNom1w22n15avmqVzacTugiIXdp5TOeQqB7b6zHMUKVrVUqtCbZermxW6ZmPNqgWPnP7TMG5VG6EK6URa8VdW3mR5c0bYkeV8fIu5jzjck25vfH/Nihpts8Zs0V9tuboffBg3YBzBVRQJ4Bbduy51z1fZFGaroeKh8ns23DuAyWd8pQubaUl+F5rUrJt66xnp5OLUmYLjELUBpfwPwMCb0TdvWvsZwyqD1qLXuE0Si0ZqU8scCrlLKrcWa1tUxtVlS6zXP3L+r33k1EeDTHAKksWAc35ioKZSNPE6y/hOfPgPOPpXh0dof03GmDjlBZfSJHlNOzzExjGps3vL0N8f2Hr/19Z+9bqWpZc2XDp31Zwl1iVfeuTffrf9vmfHnz0JJ2gzWj8ON66h3D+ZoiH3d1CIxwMQHIKRjUceu+oPS+f/cfGs++fOXblg7oq585bNmf9wzfxl1fOXVc9bVj0HO4LMmffwwsv+sOS6/77+uaNPj2PWm48vLRHwA3PLE0OozcXF5y4gxiJtGMTUbN9fDz159W+uuuS+eZc8hPQQJdVzllfPXlFVs7J61qqqqpWVc1fPqX5w7uIHL7/290v/cvQvuFsCFtlR95VJ0zxHsCOThwngaNsjIVSCQ8GNJ8dPJE4v+d3SBX+47NIHl9y06vP9MIA7BzNtQjZUFPWr7+WxrUseuP6yhz+28LdXXPuLj9c/3+ADbwT30SOkwUqgJs+e6UYtk7bpzpz8Pj5yHAs3AmPgOQVnnhp49tev/e6La796Rf01C1ZdumDVpVc1XvMF1+f/8+kfP3Z2w0k4NIa21NStbJikyEbp1MmZg04+twUR5BCM/fKZ+xff//GF9119zX03Prr7zx7Mw4slaFOYJMVCIknmSuJlVZq2Y0MpGPSTn3m6V9PQlpqo7IAtOC6Ee3H4zkL3Zt/Ly99d/s2137i+9oarH/7Y9Suvu7npprsf//e2w+27YFcfDFDVJO7OkdJ2AgGTlr/wZvZ/p6Et+8mpdxPA+SF4Mt615Hc3zv3jFYsfvuKm2k8PQHcQdzPlMDZJhX5cMjoO3r+Pbb7s/isvfeCKy3+75FM///SrJ14dx5QLLOxPYPZ92lCy8UYscpHwFyljAhCxLJk68SAiJG8P9D3neel3W+//+vpvXNd0/SUrL51fu2BJw9Xfbr991aurXx15rQvOjGKtlhcL1dkCITLYoJPFlUZhigVpB1l5iAYL+Y3C1J7NA2Mb9m362O+XLr5/8fyHFsxbNmfO8uqalRWzVpXhb21J5arS2XWzsKfaHyuveODya399zTOHn/KBN4xdNIX2JQJh2VZEGkHk9c/Ly5vk72eTgmF6VOmxOITGwLPp8GNX3Ldk7gPzZ62sqVpVXb16dnXtrMoV1JOstqJqFXYJJgm8YNH9l1/zm6XPn3xuGMv7QxiZYON1EdMNiZwRdkx6iokXAmD2Q+Bo4thVv79m3n0Lr3hwyWeXf3EYArh3OluXiHi4/8velYBJUVz/6jl2dpc9EORaQAREkUNuxGBARTFeaFRUoonGaBI1fmoS/94mCoJHjHIpXgkxKKcgIIeA3MjhFRQW5L7vYxeW3Znp6e7/Vv2m39T2zM7ODrPLCrXffrvV1VWvXv3q1atXr6qrSqyi/daeySemXPRCh3ZPX9Tl8W69H7381Yn/OMZT8g/7OXq2/wyywrNHYVoRn5FqC+ONa+wj1tHt1s7J+6f+Zc6T1753Y5dXL2n1QpsWA89vP6TDNcOue2TSY//dOGGN+Dob9iWvoNwuYRkW6w+RyscIKfMoAkrM7hd5nVDICJn8jOkSq6jQOrrX2r3D2r7F2rLR2rjV2rrN2r7L2n2E29dF3P4OkV1dMenkeBNfvviPWUVHrMK91sEd1oGt1q5N1vaN1qbN/AgQfuiR+N20mV91snWztXMXvwpgh7gYq/C4WcDXI+wzA21FRhIeEVyqQMV8YkHLMo9bJ4o4Y0e38y0yu3ZY27damzdbmzbZv4KlTev4+UycvZ3Wzt3WnsPc4Vzk57pMMlvtLmf/J3bKBKJ5ExYt7j23+4/wAh60juyyDmy3dm+z9uzhN0IXcvesPdUVq1LGcav4oFW42zq0w9q3zdq1h39rve+YdfQYB01oexweGJ8nm8Fo3uw38f8bJj/uiO+HhKehgB8BcniPdWCbtXMj/6B64w7+ZfWeQ9b+ImG6iW1W8WnGe1sBn/xLTj5sFunHC6yiPdbRbdaBHfzr/cMHraMnrOKAKcZp0woE+MnU8bdax+Mj1rtYvEFEhRFAmjqso/nutxKrWNxfdviAdWCvtW8Pb+7de6zde619h60jRfyrqxNB8bVaZIjCWMUZiCH/sfjicbF4Ky9tJJ7f3sudrMU7rMObrT3brR37rV2F1r4SLpD8spTwTlj+vVPhQevwDmvvDmvPLmsfunAxv5WzKOz1ElTDwsirYHDa9olQVGRl+RQ6gbtgT/Bvmo4JGA/s5Ic1bN/ENd7Ow9aRE/yj62LRZ+1bt6gt7N4RpVuIo0ggBm+gI/w+Ot8Tc+IYvwzu6F5+csQeoVK2bubaY8Mm/rt+Iz/9aO0Ga90m3i+27rV27RYX0R+zCgPc52GbR2UmXREGokMxhk+qGhczmEdFRfwMw8Nbre3bhPr90dr4o7Vhg/XjRn7QEefqR37N1OaNYQ3Mz7w4yHcc8yvu+dcVwi4Qe6uiWSg3piKzI1ZG9F/D8gsTZKe1e7u1Y5u1Y691qJB/YWqbR8KOFQfXFe619m3hB+bt2WXtPsxPTCg8xoXTHwZTNuxi2UaVNePiy9tWa+d+6/AR/hVUcZGYQvPjtvkdOHZnjfAQ9nHEQiESF6N9Iy9TEDoNvEeVQAGNF7RCJVbAL5RvkThYSJxvUVTED94oEXMUA19/xLSmY5YXQzXETOeIFGIRPBEI6EE/P4nk2BHuZjhewE/a4FdFFvHfo0Vcpo+LceL4AXGxthgYisIXaxumGeDz+CgVFmN4qJBPvtlF9C6+o51D5C+yio/yAz84AziP5JgQ7hP8yK/iQt7lDhXyeecRPz+qpLjEL45XRuG2uGMTavzhthzeBCEBFOxAoeuLC62jBdahAl7u4eNWAT+G2F7IEx+4Bv1iPBDHMh0q4rP5ItvZFq4hv9W9gvlwpLXK4S2SIHYI3R4LlvgMRtxj4+cAFhZYh45y6I6eEAYlvyyMO8dP6qcCPqFeuVM0cMjguvIwx/Co0JhFQauYf/EbhppbtwGD37Keqp9o3mypELvOacyD5HB55je7FYtboo9ZhUetI4esg0esw6J3FBaJk8CEU4HbIWENC3UfZrri2SdVLZo3ehU/YHBlwo/AKOAXSB31892vx0KhInzbz3e34YijUKCYWwaHD1tHDwvAi6wCvnfQDPAVEbExh/ovNk6JjWVOeaiQT8lxHvb5cWT4J+kBseXA7xd4FloFBdaRo2IyU8LPNykWSNrmEbWF3fzEmx0RA5UYvCFb+JhLPn/x8wb1F1klRbwLFAv1W4TwCfFYyLUfV3cF/Jyh4wFxghovjFpWcGA/VdCBYw+fyAx1EXbRBU+E+MFyRZb/qDhyqYjfR86vJy/hJ7rxQ5gKw7/Fwp/NLybiy6d+vxXC6B4HmBhY8QqZZgzEYqeVYoVEBK1AoTiNqcA6dIRfpl4gms9eogprXUN8fXy4kE8kCkv4lcP8M22dnyUBHcjRAxjwNYY3IUmlVchnpeRNuCcB5rET4kgksc9RMGH3es4Q/1HmUdlmqPApGWEqSxS9ld+GIA5S5pLBj9bgBgG3/TGYQbaE1Ig1q7IkynlKkjc4S/GRvtiLKy7dpG9H8XmF6IfiGxf+fSk/OY2rM7FNJMQ/7LcFy64dJB5u1kqrV2TWA0H+eRdfHAjwT6i4M1bXhari0kujvtj1Hj4chV8eIpbz6ZpDfNkUVmd8v0uZ+V8UkjEwpBYRjYJvRHRx9WHAOqZz7Xm0SD8oTu8w+HjOy9Jxq5qOUwY450F+dJD4RgiHXnJbVDzHN9dkBmPwJr+OE6YRIih8CWhrfsdQQNz0WczPTDODYeYr0PZxigm/qpjPsBnNfTMBbjIeCVnHg2YB38TGLzTjfYGfSo1kiduPFbMWw0MjvC/ct1HmUADR6IYuRh2uJfkJpeLaL36y3AmrSFwsf1xcNcj3HfKS0fRhAQArCalX4rpi3Chp2YDJ1x91cYGauKBXL+HiKZQJP/wIH0eGv9TnvUn4w44FxHlX4rsKg3upoW3Cy2F8ZUsAgq/Zy5RXEZ+oNcxNabCkbwx5+4prt3g30UNiiujn8PIOHuKX7YRCpjjshyAV5Zd9KsMSPcTgjfov340Y1hy2TRwW+Yg+EbIX4qfz8Fe8VcE2vsXFAC5NtzAwU+kxAw7zCH1RWNNCZsgogHrhFySLpoBGxVssb4Z7DW/Y8EDBMRaDu8hr8B1kuOcpJiMxIpMzj+wq8INXikJHg3x9tkgcn8bPKQBuvA6ognCPmZZffPQQDPI91HqIXyiC1/wvVguEeucyELZXJH7j8pmAvPFuwKeGkDdxRCTkzbbFI9xCgfOyRTW5ypYYiRF0tG+MFCcXdSZ6j5xiFD5fXji5aYtkWNASRTeGakgkqy3slh7iu9u46tJL+GUI4kIrI8inJvw3bKOLzQhGiWE7i8ITIDHPtDuwvTkvSfMoFBIn1YpbyYRBEywJncBpHwbfJ8Fv5w3vQ7RVhZiXChOzJLwVik+a8baMOouh7mWQYmBI+Nj6S3QlbFAM8q3B/DeoB/mZ9H6xZcrgy0N+3SwpCRRxPMXuK36cq2hZ4xj/moh3Pj4kBwOmP1odyCxROAZv9K78ALb64LNXPlLiHEqxvGXpfMcJjkwBWgYfmiIKonyq8d7E5xPAFQUMP3dT4attscM6WCJGZNFqdpPhdL54hVXyXTRvwj8UyzyCxuQ8hkw+vw8P7zSyogvzMZvGbQoIrspMahPgM5q3BDLxJPzCY34YoLBFsJvN3tNW4g+3J38vzGJDh1dafOXOT6HV+cKgPYtA6wS4mCRvHomRD0N6WfOIrHMylbhqMUN88hMQ3/nyg+LKoujAAGOqIzLyGBNDvpXNHoz5VU+hkgC/QYJfesgtS1ImpMpwZBQdzwM1QsoEwsn7Lw3wEQaiQ47hk06GC+/pptoKweITKYFZSbEYl9E/wIk4yAL6Cz2HZ7XHCHzj6ecfLogTLaP5iBUT1+yIlUHohqD4bI3PK4L81uXw54T8aCr+K8RepCP1j6riu0FghltJUfcwjPzIFXF0tb12IJUfl09QLEfeMLsneUM/5jKGCb+Azd4ZIszSiPYjxS8xEiPoaN8YKU4u6swyj6DOYPOHQiGoNS4hun2NJZpbyL3Jr8ewTzisCOWYqqGiTEIa+FyTixdsIxxvw/fFkieGVAO4gmkd3mMrOMdkwDaPxAhLusNpfVfIJz/7VZwPawinC46fl/9KikmauMsF2p2FA0sKKAF1FoM39BIx/aA7xziqPF6ohmD4e2OymDgiYWuI63q6xoRPAAAgAElEQVQ+F0aXJyOYd1eT31Mgru6qUvMoxJdW9GLRwGGVHmlNLnb2eC9COOW9YqGJlyIGhlJy3Lxkfw5tcK+HLhZ3+F5tMW0XZ90J89HiV33YA4BEI/lgNG+ieWEKYBoqiENmZIlCWKxOckuJhArGMjwTEqtkGyXYuEnvPRLdVpzmBZ0v/EdcmQjJx164IsMfEGv16AHg34BZTquuQd57bWHn3iNhqaDaZQCPxrDMa/4gAVcektjzLZAUWPFxHyMrcoScagOFxOBHLr183oxQSGz5F0M4BnL7r5Mm9+WTijMtfhA/b2WBDpijCoYfZRacYcfwSeaRvdwXSQ/www0CxQW9IRmveIvJDF+m1nm7IiMmPtKZcxHK5YXimh2xM2HDA27Y5BsqsHRbIrDkjiK0o1gxoPrwOxXC9xHpAfHBBUc1HMO553jCugqfBeUouyI+Kydv4YGOa3P6tcQUKFIsGjaB5uWLP86t9xEyKQidceZReKonWskenIwAv0ODqyRoJdhPQmhi64lo4MtXDdFp5ZiwTGMOVxTk05awnscEmmRPxPI4MsYxraG5DGwGPv+XKEhjBkqtmE++3icA4CdM424JA/5YGEniiBq+3iGWsf3ijgKr2AodDwVK+LXq/DCcsjBK45lc9ahwTN7QiTB4RuwHrpxsJv3cWa4bIXGdOwYs7nIIhvSAwV024fknljA4nny3NAqPgieKJzsiJm/2y3L/i8UjfgQX/yLMFGdRCl3PD9cP8RsA7AVHydAsl1hCL+LzyQ+SEHu/ORe8lcQ4qYfNIGj/gPh0kRfG9ZOYTSdUcsWJ4vEma0QR5od3y5YQdYRwc9q9k0xwu/zE29TOwf/H401O5wxzs8ivF/ExBjaHKVys/GITvlQhzn3m0/wSi1tJAlIBLKqjWybfxGKP/Y6OQphIhVbAJ2VBwLYkhBxiHsanhPJMQYilmDGIGzxwoCuRkUomw6tsnPQUkzc+wSRy4UAoGBAfx/Ga8xU9OKeFJzVYzD/zLAnw9T6/UDIcIOkGLnvuReoxbns7hk+yGSL93wbKHywRDGALQVC3AsWBY+Iyn/AVYGIxmjcoViG5NWl7PvitVCaushH2hoRJnGBFZkeMrKId+T0KAWxnpiEAPYVzAQtJsGGbbnyzg2nATYneE640maGQRtsQdBQcj09Hy0ryJo6g47vqIG+2R1Wy3u01ZYs7EWlUqwSAnH1lHlFrxex+9DbRAD+MhF/+gmkTOqfYYcPvPwqG/d18Dd5uyYQIJ8sbP8wwZOm2fcZL1SNyI1iwZdnuAsJRjwUaIfhC+/AttLD2wjNmWXClGlTMp9xVMK9ATJgN3gOxxxPmUYB7R/gJK8IRofvFXiVokLAnjPcZ8RNXkcUcomAF0YBom60Gv4lJ8MNdbMIWE4qPG1E83jY2uHecH4PEeeO2r8kbnXjhR/ZUxFKY85MYPkP8HAHZqwDGwzuxuPiZYk4HeDFSUqmVD8RvXwwPwp4Mz8hx9CN8byXh6/O4EPIFVNPgR+ckDFGFzMbgTZbS6LCgCPsYqPHWC2/esnsnciGlPRBXyEl0ghi8RSeKEcPNI75YIOxIQ+zy8HMY+RHgIXHPTcDiX12U2AunwjzmjIYXncC/LYhlhm3qd1K5FfDpNBoiPmnsHQzwdTS+mxDbm8QmKcloEwWBQwlXKh4M0aMzEJs3yBwYiwzOIMWHTlhIYE8YlEEyjwL846aSEr63BlaktFvFWVMnM3gud/gsI2ycGZuNAO4MwWVk/KpBcSuZbMAJtWZfAGDytX04P3iPofW22OyUiY1ndpRJGHnAdEuMWaJDCI3P3UaR1go7AklnoqH9Yo8q345ghsLnmYlMnDQhmZx5VEZKnfIWtIL2vlXuJOaiFt5JEB7a+FpF+PQQTIE5O4n/lNu+iZOIm/Kn5z3CPYUQRMdlsXFrar8kSeLtgPGfdkBD9UZG0PhNZd9NYYVCIaiGJPgp008d5rwkeTTv4dWQ8/AqYNIgu74koReX1QOuSvCJIsAAdTUEIlwhFNZxGCewLRoTPjKPwpDHR1OYIOCTGher1bZSJScwH0wcjm5BW8wsRWEEF0Ypmzdsq4pkD1uctmg4/qeifYVLwQxrBt5WglFiL2zwOQYPBx8VPVaaz3B7cLrSfhe+M8reaGG7ClLtPXK0L5dcCBEJFccnHCUmMLyx6JeHKH24FvzZThnWsOGKSdWMCWGlcYtBxZZJofmxmiauxAKX4a6BsV+wLtUlTK1MZcNxZatZOT4jYHEkxQAa9tCELTluYELRiYk9lWV3TyJgR9gNEIY+BgqIYow52hc7i8J0QJeaTw7IRSIsKIogOfUxoZXmWlLKaJ6giknj6Xx3DlfUPCUVR4aFgxQlkAOOMuRXENoIXo6k4Ud+AbFl+f38fCLORXJfrolWIAUimlDMZ8KF8EkyrYqImWPYABVGFbdRkIXc6pxruS6WVTk+KS9noEJ5E9/uIAtA4IVHRi4wL9CxubLr5fiPBsWkGlIXCPCTDVL785MxjwzDYIwRKMnvG6XmDAfsAYx/dmCPrwJjqRHjYY5WIdUQL2msdzI7YTElxWFzIDpDeIuGRIOnsxe8oAFt7wgygo7daRPh0+5XkiYi7SkbSQ4OwxN89DuufIUi5iwJcXf0PqkGZYM0++S71O15mI1BeBzCJgmyjWgfgCgDG2fKFCdmK2XMX7AECvHNI3CXCG5l6yE9AT1yRNrqmLRbuHax2kuiklAwIT5RkP0XbGDLOOlZgQkaGAsZCZWeSKIY7UvSZSMj6MDKCc+DZRHib23mYSjZqwmy/NvukDI0y2UwIdzKzc3Z4T+iLGwI9HNvpe3F5FN7VAd6ho/uVAMMBnYVkExQQ4rK91/wYvOEgiLmRXiLCRQdTHZ+kaptcaJQqXxbc9gcJ2AegQHqvyTnZTqaXDsqnQI0eqP5yvIj8UhchSsd/Q86RJY6kYZKsuWkDFGbrCyZJEhABOnlvxEQbestihsMWDR/Bm+apkUljBshFUqdl3pupL0EP0KuJDs4vO4GeeAWlT3tDAskCk6GT7tgwV1F8mZXAf8FD+Es2JLBxRHvCPZyIIGYySMvjRrl5Kh09E/GPIKdmJ6ezqQfTdOkpwSDLsY8GnNpzOXmv8wjft2MuRnT+K+LlfmNR9br9dJrt9tN4UoERJFIjyB4C1dMs3kBfzaLnFEHm3gU2ezaedyimoyxRPnUBBZeGxGXQEQwZ3PFcRO/Yaw8zINfAaYrUhu7Mkgn/oLFhLDRNM3tdmuiUahpJFKMabwdxS+aMvwgCwRYIOSITgRbOXUsvhLFLVZexNmwuDQudWBY/NVcvApgEThHsCufXDlvEuQTzeuxRZ0To2aSghWhUg4TlYlG+4oc4UbkAk3MOAIxKSONoxcI1kn+EYiZG5EJ4lY+BRfTOP9u/uviydAxNa5GPCLe1ie87dMi/UmQdFSTHsN922N38oT7L6cqIUIE7RYVHcrlYa40/utJ40xCDYb7tchefnUTfhNuX6CBFnbbrIGrCAAomvcOjbPkS2MZaSzDw3xu5rW7jFQpuYLAvCKuoJljDBZl8EER4NXDeNH8l0V+6RW1SyyJLYcZlI6/JHUul5CZcrJER8frv5I+hKKT2XWqvrIdP1wQ+o4YUivDp9Q0ZfDkVB3y5okoQFv7Sbl5Y4b7LzLyv7bkOsGQWxNWD+Y5lbaA4mb4KZlHuq47bFtyJsWtYzkvbTM2bKvaJjClxnt6jBkIBoNksdLMIGbKuJHCXiarmRgLzzv5Xh/xiwV4zKrD02X47YXj1HYdlZ2fotwE+cTWP3EICs5BkWa05VXAPowxPIOyUaNKIIDpYxTGEaIO9HRd5z5ePocLX2aOvbj2hFvarIEC+JxQpJRncnBrYYUozJCYO4o5vT1rjvAQHUoQt+iMkRiUG3mOhMIcCd+yuKWOz6LiQBTJGRVKlE9eJOEJqbOny+FJdeQt3DZRRSUZEbN9Ze8CTWftFQF73Sr8WY29Jzc8CZaXDOCn5DGiTaUaVYRmoriVU2ksTfIFG7uVqUZCdAU7YocsJ8B7ivhah4fISRLuzrZgR6b1NLnnt8klrGdsoYpoNYqJRKGtUQDN0SPpyqltuGfFflt++/KDxcWaTsTDR5V10nJ4WyVUibuKmjRMUl5egIq2fVphQRdevTAkpJ0cpciPFKbWphgRSLTn8ut67M//aexw4lDes+zTivjsIwvQkSbm3sGg+JXWs8CxrCElObSXXO29JYnxWRYEqXwZJpI3oXKknl5G2mljaFkq5WERjr/jjjv8fj81cQWpK/n6J2MekSVkGEZI/FBMZaoMxcRdjrRME9VatjM8LDqxydOGALwOhfgZHg4dETunIxbyBSUV6blhxcoFhf+UeQHlgu/s8BcxDsJ4PCk+o2VfKgMvCb3otJIi45CKWkj5o4K6+OE3MdiryGLPY2TAFjkkKMrYPfYQRWsHsIGILSqOx4CmvSWIXkmBk8JNoiMFwTlOjxPrgGEFx+PtT3gSVbJEtvJ82lebETJhnWufoYJt7zacVNDJB6LbN2TyDzHlbRBgyhYVqa2lLmAPruF+ags/Ekts2rSkqEiw8rhF8lII5lH4EB0bMfQIqHiwEF5aCgNOFpKjdmGqZGDBgAqGxAePdpGV0jPhAssy5jAFbMLivyOD1IFpsCuTvuxDdPtyfQjpkilLuaRojPFo0/Divt3QkeEynFXKJhFzBtHEsEXCgwWZF0SBZyLtFNNshfEtp6GGs5EFNTI0nYzwZ8z3yDCKlSSBuDL8y4Ik5Q0zU/ZSGqpvJAA9QOooHAjpgWAwmByfEdoCmPhDgyNxRNZ4iBAud7GSJzKMv//97x6PZ8iQIZU2NCXA4gR/MuYR1YGsoqQQKWMewbaIzOPCy7FhtWvP8KhkZ4CMIQznyYkUJ0qSQkYSxaBMPJbtfpQkIlgSg/QWYoQ3CfEp90C5xFjF0Po3egIKlbigYMXi7jD/ga3YJGg7OYgYD9gEZRsonIB0XCQjoRGuBH8WFpJtCpShbT+krH0jDNufVMOGCzvGwtWxh3m7+IT/V5JPQGdTj0ADdYm//G35rWnnrcz/mO0b0IMQIWdZEa4EH5GCsHcn8lcypCKJEgxVErcYVEn+HfxyMbOrROaOJHsxSEWUgHgpDy2V5LNM+6JQYo/IUiDMFTiidHJAvKKIWKzzuJjtyw+MpZLAFwjZVGyyYZWLr2JtZ3l4Bls2R1luynBvE7X/BwIBcIW/fFt0cUlYc0hERRDMyUMB76rYQ4nNYfBeRzQPJ2S3MnJTBW0GyvuP6X15byuItyGzBQylls0UTsNfUfJwCnrG3Iz+kkaVKCXGZxkGEpC3MukjpUUYk9Q7QI4kioTgjKhduzZjzOfzyZPqSKKTDv1kzCNsp7cdpLze/FzH8CFilYIBzVNGdOSmidvjyhRkmiZ9hpCcbWSrTj6HFqMj/eXCD8US5oesFtlkIXbkCohIOXvl+CRS6Pw2NSqKB6Q0gm1a+BDYRt5GoMYULeI+LUMu/CAbvqZpcu1mm6hl59+CAd5zuAIVNm5ECQvQoG0jbIIjUtQRSOM2duVwi1UjCSpsPwwvA4VVLbUp+CuHQoXRifNJOESaKEKdhqgyuEXen3Qoun0FSUlIiC3E2bDIbIe5QMNRekcgouvjzT4Txy1u1SX+5XLJiyki7Y8eymAbkT6ShHDvDtNEf6kUn2X7o2A8UgwZ4rA8Ih9y2klEubGGTAI4DhQx2leuF7WppD8EWQeA4K2crQLEh81xefyQZqYtGY6UpCElNevgBI92vrJF44nyVsRO+HOwyNdzgmoSo4ZcLjkCbRbDE0JKA3MPGtKefUlWnc20DEVAD5+ELPMmh+2ywv8rJW/2+p09XsiQ0rjGuQLy9lq5o0j7cdCgQR6PB+bRyy+/bEen8v9PxjyCfxJVT8oqSiVqoIVJCfXDODJUXtlCLsOfpMGVhd37jiE/LMYQJlmM8EIWsiiJ5y/FV2AJ8+nUEehXdu8SVZFL5Gsj0vcRpFvDfp0ItTIUohABemT+4lE3+IHika/Ny5SLBSmYHRHzyNYIznFIVgFhYyuKB0dEJXFz5A4/Est2+4bPzHS+RrrYNCqITZxPGQRizA7Q9yMcTDuygqITfx2zfUVkRELCpULCSc4FM2Ta8hKJufICtkUS3xxPHLe41YS3UqoF30RYds2C2/FlBJUYj1RHJlB2b1yl+LR7mSBHxUSGHHKfB+0zD8MOBlFHiQkHDzbq5UERs33DF+eVYSNSYxHNjXJ7OHQE7CKRneSBqIUzlscRX88CdPiLUYNyk0SRiePgLCxmIE/ZECgrk4n0F5QOlGAkgatyuS/nhdyFy3AegZEzXvbbXi57pMZlwqgN6ITXuHm72ycgiEB8Pisrb2WccCje0d/LyGq86Q19pwUjSa5XqsI/JfMoVXWuUXQc/a58g8fm2jaA7Ody/9sdudwEKXpRVqnJ9ZH8T0mX5aBXlk7EdSwnK6/icpqydKrjyS6d83wKf2w2YrBAr04ZhyT9UZJDvMXg+9RHRSvxsp2CD11ljLoYLFMNEYiRIlVRDt7KIZsqIaB6lVNOotGp4scuj/hKGm+Zgk21Ov7L5ZaHiiNNecnArpy4CirgkDeps4At+W/c4ml3r2EYL7/8Mr77S0tLY4xlZGS8+OKLcXMn81KZR8mgpvIoBBQCCgGFgEJAIVDVCASDQVovCrsATdPtdmdnZ9evX58x1rhx44yMjPT0dEqWKpaUeZQqJBUdhYBCQCGgEFAIKARSjwDtISsuLp43b15WVtaECRNw8riu6x999FFWVtYXX3yR2oKVeZRaPBU1hYBCQCGgEFAIKARSg4Cu6+Q0ojNfaINURkYGX7kWP8p7lBrEFRWFgEJAIaAQUAgoBGoyAvgcknYdgVU6cSAYDOLSmPj7x5OuoPIeJQ2dyqgQUAgoBBQCCgGFQFUhQA4hciA5YmAe0YeTqeVDmUepxVNRUwgoBBQCCgGFgEIgBQjAeyQf+CLbSaZpulwuflCSYdCxWyko1SahzCMbCfVfIaAQUAgoBBQCCoGahIAhfsAR2Ub0yBhz+JNSyLsyj1IIpiKlEFAIKAQUAgoBhUB1IGCapqZpVbTxyLIsZR5VRyuqMhQCCgGFgEJAIaAQSCECyjxKIZiKlEJAIaAQUAgoBBQCpwMCyjw6HVpR1UEhoBBQCCgEFAIKgRQioMyjFIKpSCkEFAIKAYWAQkAhcDogoMyj06EVVR0UAgoBhYBCQCGgEEghAso8SiGYipRCQCGgEFAIKAQUAqcDAso8Oh1aUdVBIaAQUAgoBBQCCoEUInCGmkc46AknhQNNOUznHBiGgXh6iwCdE5WSlgA1/KUr8Sig6zrxI7NK98IQbylhprJEwBu4JVgQCAaDoCbzb5omMUx1pIyVLb289CBIBSEZtSZOQaW8cjKZVUpQFQEUREXT1T8oy+/3U6EpB4coJxggBqIbNBgMogqUJkGaVZGM2g580im3OBKXOKT4quCBaBIzuM+SRI5aPBpMylvNAYfsWZYF3qgKSEAAVjN7MYsDM8QhpZHVC0VWaYDQi5Yrh1asUjbiEJcbjsJ0y1j1IxaHVeodhGqcxNXw6owzjyAfJCWAWO5mUA0lJSV0Zy/eUhq8SlXbQCBOnDgBgmCMhIPKMgwjEAjEPNqcDkRPFUuVpUN6AcwTUKBDNpBlWZTSNE0Z58qWGCd9ee0LnMGbLn6ofcGYfHYqDV1xCjr5V0BDxkRWVRR/8gWdDAXgSYAgAKzwigZ+ejyZ4pLOGw0m2SVEk3qTQ0QpQcoDwCS6KSnGYbqlnIFECKJN8Rc3k1ObUnYatyimmgOEGAWKi4upCxuGUc0zCl3XZZUCNBCDRicZO7X9ghouGAyCJZrSWJZFyhmoEs/V3LgyerIOPCVsyIWeceaRXHm/379ly5aePXsy8fPVV1/J7bRx48Z77723SZMmaWlpjRo1uvvuuzdt2kTSJtNJSVhWTDt27LjkkksYYxkZGatXr5YLLSgouPvuu+vUqZOZmdm4ceMBAwbs3LmTVEZKOEmOiGmamzdv7tmzp8/nY4z973//C4VCxJhpmvn5+VdccQWgXrt2rWVZ0GhU8eTKjZNLbl+Xy5Wfn0/61DRNXdcff/zxpk2bulyuc8899+mnnyZ+4tBM4SvSm6NHj27Xrp3X661du/YvfvGLpUuXohQazlNYaBKkwCdpUlB45513OnfunJ2d7Xa7O3bsOGTIEGrrJIo4+SwrV650iR/GmKZpbrcbksYYW7ZsmdyDosf+ky89JgUgRgZlKBTav3//r371qzp16tSqVatTp06jR492MBaTTpVGggGMi9dffz1jzOv1AkMA2KlTJ2KSJLZKWUqEeJcuXTRNY4wtXLhQ7ibEaiJEUpImFAq98847PXr0yMrKqlWrVteuXUePHl1cXAysDMOAAKSkrKSJ6Lo+c+bMLl26eDyeBg0a9OzZ85133iFqBGBNaN9//vOfubm5jLEbb7yx+luTMEHgTDSPSF7ffffd7OxsaAFN0zB8wuu4bdu2+vXr0ysEcnJy9u7dm1r16pBIXddHjRqVlZWFzs8Y+/777zEPNgyjsLCwRYsWXvFDg0FeXt6hQ4cc7Vptj1Cspmm+9957MIygYWEA4W0gEHj77bdzcnIYYxi3vv/++6qbqcRsX8bY6tWr5UL79+/vcrloHHW73XfffTe5taoHwGAw+Ne//hXS5XK5MCxlZmauWLFCZuAUWh7yimQoFIK4Pvroo4wxj8fTvHnz888/nzHmcrl++9vfyjxXc3j58uWAkf56xI+maatWrQIzgLF6wISkkX7Xdf3w4cONGzf2er2y9TZu3LhTPl0Gq6Zp9urVC1OyFi1aNG7cOC8vr3Hjxv369ZN7TTU3KxVHjvNQKDRo0CCIn9vtnjlzJoFM/sJqYJhMisceeywtLQ1SB2WiadozzzxDa5RyD6LqVFsAUIwaNQqIeTwe0jaDBg0i680xDFUbe3JB27dvv/LKK6n/3nnnnfLbUxI+48wjUo6ff/45Y6xBgwb33HMPhGbt2rU0AAwYMMDlctWuXXvJkiWFhYX//Oc/3W63z+d766235EWik28z2XdimuaiRYvS0tJycnJ+97vfYbD84YcfaJ341VdfhfR8/PHH+/fvHzVqVGZmJmNsxIgRJ89JchTQr7744gvGWOPGjf/whz+Aw++++4601cKFCz0eT25u7r333guzjxw51BzJlR6diwg62tfj8cDQhNr6/vvvwcnQoUOLiopef/11qLYNGzZE06y6mJ07d6LcX/7yl3v37t2wYcN5553HGLvuuutIzE6t5kLpxENJSUlRUREcDAMGDIB//o477kAPkgeqqgMtJmVd13fv3n3gwIG9e/fuEz//+Mc/GGNNmzY9duwYgYm5DVUnJqmURwKWBx980Ov11qpV68svv9y7d+9ll12madpFF12U2ulWEsyTCurcuTNj7LHHHtN1ndaawTwcq9WMW8y6rF+/3ufzXXjhheQ9gp6hSRGpnZjZUxu5fv162EZ//OMf9+/fv3bt2k6dOrnd7jp16gAroHcK+wWWHevVq6dp2s9//vNt27Zt3ry5a9euLperfv36Mhq0+iZHVls4FApdfvnlpcsON910Exr3hhtuqLbSyyvojDOPSD/Onz//lltu2bdv3+TJkzGir1u3jlTVhAkThg8fvnDhQgCn6zoGgEGDBlGa8jCtbDwMfOijefPm3XTTTQcOHJg6daomfmAeYRwaNGjQVVdd9dBDD1ERmZmZLpdLjqFX1RYwDGPOnDm33HLLzp07p0yZgvH+hx9+ID01b968m2++ed++fdOnTwfUDkdOatUHkHS0r6ZpsNigRjEBbdSoEcD3+/1ZWVmMscGDB9MCXJUCCO05ceJExpjP51u+fDmG8HfffRcAYlAHD2CySvmJQ1xW9JZlHTx4EO6iDz74AGCOHDkSzbpr1644dKr6FblhQqFQUVFR48aNGWP//e9/US6N9/I4WtUska7QdT0rK8vlcg0ZMgTSvn79+jlz5mzZsqUaeIhTBMFiWVbTpk01TRsyZAilLy4uJtlLbSelIhIMYIqo63rv3r1dLtdnn30GkZsxYwZxSLo9QZonkwzTsM2bN7/99tsjRow4evQo1N3TTz8NDxxxRRO2kynuZPJu3rz5avFDPulXXnkFzqTdu3ejOxC3J1PQSea94YYbJk+ebJpmly5dvF7vTTfddJIETz77mWgeoZ/TRpMZM2ZAVlavXo2RgGQFs6hDhw4NHDgQQv/111+fPOgyBRp7KIC3M2bMwGpLfn4++bQoI7rctm3bkObVV1+lV9UcQO8i1Tlr1iysoK1fv572jPv9ftRu+vTpVCkynlLOcMz2ZYzl5+ejZU3T7Nevn8fj6dWrF/nAu3fvzhi7//77aUhLOWMOgqZpTpkyBVr+f//7H3gbP348Yr799lua1jsyVvMj2o6sRl3X27Ztyxi75ZZbgFX//v09Hk/btm2rmTFHcdRtDcO4++67fT5fjx49ZGGgliVxdVBI7SPJv2VZ+fn5mF8tXryYXFlgmJZpUlt64tQgZqZpYvn77rvv7tq1a1paWosWLZ5++mnsgAY1x/6zxItISUrDMIYPH+7xeB566KFdu3a53W5N02gGK7d+SoqrkEgwGETXgDYuLi5es2ZNmzZtGGP9+/eXrSIZwwrJpjYBwSLL/P33369pWkZGBpWFt5SY4qszQO6rTp06McbuvPNOjNHVyYOjrDPOPKLZEs01aSICQwQAkTA1atQIm2kuvfTSL774oooECGSxXxhKfOrUqfAi/O9//yNLguwkwzCKi4u7d+/udrszMjJ27tzpaNfqfDRNk+R46tSpGN0d/iFUAd4jl8tFb6FEaAA+ebbjtC8W11Binz59GGPXXnstNWjv3r09Hk/fvn2p6U+emXKZiI8AACAASURBVDgUUMrWrVvhIxwwYEAoFCooKOjbty9WDT755BNkrx5+ymOV8KGhUdf1tWvXwkJq0qTJueeeyxhr167dmjVryiNSDfHUg0zT/P7777H8t2jRIjJ/iQd53KLIKgpAsEOh0OzZs9EvPv/88yuuuMLr9TZs2PDJJ5+EjzCF8l/ZigANyBgMONogiMX9X//617CMT60cGoaxZ8+e7Ozsc8455/jx43v27AGec+bMIcYgA/RYWSgqlR640baHkSNHYuJXv379v/zlL3Am0YyiUpRTnliWrkAgMGXKFGiYxx57jHpHdXaK8ipIqgaLvGpxLTZQjLHYLyofC8nQdT0/P3/58uUrxA/0ODUGmUeIp94Fv0j9+vUh9y1bthw5cqQsapVlBzZEKBQiVb527drl4ufLL7+Eu4UsISyulc7RsUpFucDekSNHevbsCXX23nvvVZaTJNJjKozS16xZs2TJkq+++mr58uXYgg2CoVBo+vTpsOrWrFlDSJKaoMU1rGMCh5OBNPH21TRN3i3eo0cPxli/fv3Io3DDDTcwxq644griNgmUorNQ7UzTPHz48MqVK9Hiy5cvP3LkiGVZt99+OwQsMzMzLS3trLPOwuPkyZOreRkomnnLso4ePYqOA84LCgpM09y+ffstt9wCww6jVL9+/WDHxySS8shDhw6tWrUK3XnlypVAkvpOv379GGO9e/dOebkxCcJwRENjB/Hx48dXrFjx5ZdfrlixYvny5QUFBZ988glWJHNzc7Ozs7FhpVQm+/fvH5Nm1UWiIxcUFHzzzTdLlixZvnz50qVLjx07dvz48bPPPjs3N/fqq6/etGnT2rVrsVMbX4egL5MwVx17oByzfa+99lpN06ZOnWpZ1q5duzDGz5071+GNI8WeEiapytH9t7CwkFTcsGHDwI/P57vxxhu3b99OU9mUsJEgkUAgcPTo0W+//Xbx4sXLly9fuXIlvtohP/T48ePxAc0FF1wgnyaDalabkRSzfcnb2qVLF5fLJS+uyXOzBKFISbLT1nvkkM6uXbtCj2ua1qVLFxk7jNm0dVces03TDAQCmzZtGjhwYHp6OmMM30NSn5HpJBKmAQ+C2LFjR5qrde/enfR7MBjEKpWmaWvWrCHfDIrYvn17hw4dvF6vy+UaMWJEatVBIrXo3LkzbCDGWNeuXeXJ5ZQpU6D616xZA8bkToh1zLS0tG+++UZmWw4nwgBKlFuhwvZljP3444/UzS6//HKXy3X99dfTdyXY03DllVdSKyTISeLJsFsccsgY+/zzz3G6wZ///Ofc3Fyfz9e3b19ARG/Jeku8lNSmpEVesD179uzjx4/n5eWV7uW68cYb9+zZc+DAgZtvvlnTtAYNGhw+fDi1pUdTg6JH7yAkZ8+eTcLw9ddfw+0xceLE6OwpjyHRJUeCvGaKCczUqVPJb3r99defOHHCNM177rkHdvCPP/5Io2zK2XMQJJc5KT3on1mzZtGnYVSjFStWwAIeOnSog07VPZbXvuPGjcO+XfSIffv2AT10IrKQUju3cVRT7r+apqFoEryjR48uW7bsoosuYoydc8458gBUbWaHZVmkQCB7M2fOpFq88cYbAK1Dhw4wm0pKSqi5qSKUvioC5bWv3AWgzPv374/EDtNcBrYqOJRpnrbmEQY5tH0gELj44othT2iaBkOEUJg2bRr07OrVqxFJ0kyry5ZlXXLJJW63+4orriB5IgqJBJCL8kIWu3XrRnZGjx49yHiyLEvelUL0dV0/dOjQeeedl5aW5na7MZGquuGcykUgEAjgu/fOnTtDb7pcrh49etDAYFnWzJkzsZELK1mQbFLKWHpzuVy0EIMTGgkWR4nxH9F5sGm9wvZ1u920W9w0zbvuuosx1qNHDyqiU6dOLpfr97//vdxR6W3SAVowtSxr2rRp0FlY+pkxY4aszVHu/Pnzyf1WPQorftWmTp0KnjGOzpgxY9q0aZiAYqu7ZVnffvstbOKPP/44PrWUvDVNE2KG+brX6wWSgOvxxx9njNWuXZtM4ZQUWh4RWXRJcc+aNYv6NWNszpw5K1asgNE2a9YsNPr333+PsWrChAnlEU9hPOk00Jw8eTLQA5/Tpk2jsqCF4CxB07/44ovYhSlXltKnPBCzfXv16uXxeOrUqdOsWbO8vLx69eqhE9WtW/fCCy8k2y7ljR6n/06fPh22Gh3wZhgGvuFNS0v74osvaKE/5RBFE8S5wZZlffrpp0AGe7Pmzp0bCARCodCbb76JLnzjjTdiyuqYdadW70VzSDEx2xdIQqVfdNFFXq+3f//+sgKk0yzlSKJZRYHT1jyifoIuDe0g/8WOyFAoRPNjGtFN02zVqlVmZiZWZ2F//OxnP2OMXXDBBck1D3kOkR2mRrRvAGwbhvHZZ59Bc9Gg7vf7SwULO4gbNmyIcxerzTaC/JGSlc8HIkD8fj+sOk3TaHeRLLiffPKJpmkul4uglt9WKpxE+2KzM0oZMmQIY6xu3bqokd/vr1u3bunu+1deeYXOq6wUPxUmli+HITvY7/cvWLDgjTfe2Lp1K4ThySefBGNQXuTcqpB+NSQAVh9++CF245FkbtmyBWP/8OHDq4ENND0GbJJ/spXPOeccxtjdd99N69FVzRJ1CjJ2S0pKqInx9tixY7Ap33//fYxDq1atKv1SMi0tbfr06STMVc0qxhiHlQNN+O233z788MO33Xbbvn37MK7DD+f1emn53pGxiriN2b5XX301OQvp7EqM93Xr1gUntMmdNFIKOYzuv4ZhjBgxokGDBmlpafv370dZn3/+OfR29Vi90RWEPSdPWS3LotHk3nvvDYVCQfGDvCR71WYexWxf6jumaV566aW08wEiR7zRYeXRFa+KmNPWPCK4CTW0CtQWGSuY06ObrVu3LhgMQp1dccUVpd+4+ny+SZMm7dix46OPPoIuu+eee4hgcgGaasgcks0EmjDaoA7kTTxDhw7FfO7DDz88ePDg7t279+zZs1/8JMdM4rkw/EBvkpakSRtNRD7//HOXy0Ubfag6GPvnzJmDGTPtU6GukjgnlJL6DGLit6/L5cKGJ8uyTpw4sWnTJjg8/vnPfx4+fPjFF1/EAL9jxw6qHRV0MgHoKdLXNGqCW7/fj4Wqq6++uqCg4IsvvoCV9sADD5B4OKp5MswklxcDA6pQUlKyZs0aSOZTTz2FfvTMM88gZsmSJckVkXiuaDQIW8Mw8vPz4RQZNWqUbLUkTj+JlBAYallwKM8f0OWvu+46l8vVtGnTtWvXHjx48NprrwVoBw4cSKLQJLJA5NATARpBZJrmjz/+iC5w2223bd++fe3atZdeeinA3L59exLFJZelvPZ19MqdO3d6PJ5S7/Xs2bNJNclLbMmVHp2rvP6LsuAUZIzdeuutW7du/f777y+77DIols2bN4MawR5NPIUxKIXKIvMoGAz6/X4cctGtW7edO3fu3bv34MGDBw4c2L59OxmUmGY4QE4he0SqvPaFKKIp27dvr2nazTffLE9+5IxymChXReC0NY+opUkFEHywQKdOndqkSZPGjRuTn7ZevXrnnntu06ZNi4qKvvnmm7S0NBy8Cy3m8Xhq1ar1v//9j/QgEUwkAH7I3Uo6nfKC7JQpU/Ly8po1a5abmwvvaF5eXoMGDfLy8gzDwFdC0AvY6QneLr74YqJTpQHi36GJJk+enJeX16RJE5xCrmlavXr1mjRpkpeXFwwGP/vss0aNGjVu3DgnJwdTq2bNmjVp0uTss89Omtsk2hcwNmjQAJbHfffdB/Rg+DLGnnjiCdSLiCfNXnRGdGlQlsNvvPEGmhKGY+lRPS1btty7dy9SJids0aWffAwkFn9vuOEGt9vt8XgaNWrUsmVLcN63b9+qwC2ac9KkctcGpBMnTsT8ARezyAmi6aQkJrrK8nIM1D3SbNmypXbt2qRScOr9k08+SW6wlPATh4jceSkZzDg0Kw5Dp04B2+jll1/G+nW1jUkx2xcM49tvv9+/a9cuNPT8+fPRR4g9WuKkOqYkIPdZhAHarbfeShcYQLkxxnCCfLRspISTOEQgbw6l8cEHH5BuwbobmtjtdmN9kJYyCMM4RZz8q/La92c/+1nDhg1btmyJk+WzsrLq1avXuHFjSCDMekfVTp6Z+BROW/MIQ6Asx8CXRHb06NHYJQNZgS7AX8j96tWrb7rpprPOOsvj8dSvX//mm2+mHTNEJD648lvafyNHorFRHP6OHTuWZJf0FGQ6EAg0b96cePZ4PODW4/F07NhRJltFYYg1HAaymBqG8Z///Afayi1+5G+aAoHAmDFj4A+H+qC7R1wul67rNOOpLNsh8YNmRV7ZKehoX8yM4SYE86VL8s8++2zz5s09Hk/Tpk3p7KgkGjcO5zSNI28Q6kvH+eu6/t5777Vq1UrTtCZNmvzmN7/Zs2eP7MmnjHFKqc5XWDkaPHhwmzZtMjIyfD5f69atX3rppaKiIshwlTJDjY5SZIWOm20wEqxevZo8mlXKj2PaDQTkRqfmCwaDa9asuemmm7Kzs9PT09u3bz9s2DBZYquaT1g56C8OxUhFv/322+3bt09PT8/Kyrrkkks+/fRTfJ4SjTZlSW2gvPalXgmE9+7dC/VIW7OhYFMugXJTAjT0X+qhpmm+8sorHTt2zMjIyMzMbNOmzciRI+VayCKaWqxkamSUAwEq1DRNhybEqAFNSKeHAN6UoydziLCMDHUNvGrZsiUNeRRwuVxPPPEEtT5SVgOfKOh0No+AKQxqxyCKyjtcILLKiA6To0+2DIhOggGSQmpgFIS/8mQXMWRURb+Sa+SQngSZqVQyghGMIS9FQtCpdnhLdSTEHBM7qiOlrCxL8uBERCgQs31l/uWdPfLcWqZQKZZiJgYscgs62kvGh8TMoTtiUq6GSEebypxTmALVwA+KcJQot1ccnKuUPeKBAugdYFWWOmKDakEBepXyAHEVTZncVwRd9LYtuXdEU0h5jAMQMA8MaXOCnIbgRVeKU9kkWEVBBI7cQ6kgYoBOEkIuSpBEuZXNQoMFISPbcERNZglZKD2lqeqAo0RMEmg0AdQynzI/5cXLaVIVPp3No1RhpOgoBBQCCoHKIkBjABS6rNbJaYRISlnZIlR6hcBpgwD1gprTX5R5dNpIl6qIQkAhULMQwEIM9D45YOBpkFdtahbTihuFwClCoKb1F2UenSJBUMUqBBQCZwACdICIY05MSwk0aT4DwFBVVAhUgECN6i/KPKqgtdRrhYBCQCFQWQTkpTRsI7v11lv9fj/tM4NVJO9oqWwRKr1C4LRBoGb2F2UenTYCpiqiEFAI1BQE8BUC9hj5/f5XX301Ozv7hRdeAH/0TQBZSzWFb8WHQuBUIFAz+4syj06FLKgyFQIKgTMAAXIO4UPltLS0kpISmihHB84ASFQVFQLlIlDT+osyj8ptKvVCIaAQUAgkhwAOMMQFNS+99FJWVhZjzOfzvfLKK2QVYTCgTUjJFaRyKQROAwRqZn9R5tFpIFqqCgoBhUCNQ4D2XOMcVByCn5aWhlOFyCoia6nGVUAxpBCoRgRqYH9R5lE1tr8qSiGgEDiTEDAMY/DgwTCP0tPTGWOlf//+97/T0YK0mnAmoaLqqhCIjUBN6y/KPIrdTipWIaAQUAgkjQBNhd1ud0ZGBu4EbdSoUXp6ekZGBr5lI7+R2qCdNM4q4+mBQM3sL8o8Oj2kS9VCIaAQqFkIBAKB2bNn16lTZ/To0bqua5pmWdaYMWN8Pt+cOXPAq3wZRc3iXnGjEKheBGpgf1HmUfWKgCpNIaAQOJMQkKfFFAYA5DRSRtKZJBGqrvEQoD7idrspfKr6izKP4jWVeqcQUAgoBJJAAJpdviSBMabrOkyi4uJi0CQLKYkiVBaFwGmDQM3sL8o8Om0ETFVEIaAQqHEIwADSdZ0xBuYwEtDGI9qmXeNYVwwpBKodgRrVX5R5VO3trwpUCCgETncE8N0+3T5rWRb2HsnrBbikFh6m0x0PVT+FQDwEamZ/UeZRvDZT7xQCCgGFQBIIwAzCd/u6rpum6XK5QCf6xCPZk5REWSqLQuCnjkDN7C/KPPqpy5XiXyGgEKihCJD3yDRNWlyrobwqthQCNQmBmtBflHlUkyRC8aIQUAicFgjoug6fEK0aeL1etY52WrStqkR1IKDMo9go1wRcYnOmYhUCCgGFQMIIYMnANE1d1z0eT8L5VEKFwJmOQE0wA5T36EyXQlV/hYBCIOUIhMSPZVknTpwA8Zqg7lNeTUVQIVBFCNSE/qLMoypqXEVWIaAQOKMRoC3YQIExJn+2dkZDoyqvEKgIAWUexUaoJuASmzMVqxBQCCgEEkMAe4/8fj+SK7WWGGwqlUKAI1AT+ovyHilZVAgoBBQCVYvAiRMnfvGLX6gzsqsWZUX9NEJAmUexG7Mm4BKbMxWrEFAIKAQSQIDOcaEFNaXWEoBNJVEIhBGoCf1FeY+UOCoEFAIKgRQjQN+s4WjsGrJYkOJKKnIKgSpDQJlHsaGtCbjE5kzFKgQUAgqBxBBwbM3GpSKJZVWpFAJnOgI1wQxQ3qMzXQpV/RUCCoGqQICW1UzTDIVCbrdbXR5SFTgrmqclAso8it2sNQGX2JypWIWAQkAhkAACsm2EHdl051oCuVUShcCZjkBNMAOU9+hMl0JVf4WAQiDlCJCjCK4jtfco5Qgrgqc3Aso8it2+NQGX2JypWIWAQkAhkDACZCQp8yhhzFRChQBHoCaYAcp7pGRRIaAQUAhUCQK0xGYYRmZmZigUqpJiFFGFwGmHgDKPYjdpTcAlNmcqViGgEFAIJIAA+Y3IJGrTpk0C+VQShYBCgCNQE8yAGuc9CoVCffr0sSwL+kXXdSUsCgGFgELgJ4cADCOyk2qCuq/5GAI0utDXsiyyL2XmHYcmyK9SHsYYRO0oD0nkHbQsC/EyY7quIwElo41olmVRZEyGqbjyEIiZq1KRjhE2Pj9xKOPLA2JYxidOLmpoOQ3QA6mnnnqKXtFx84ZhJM0nUUskQFL3wgsvID3FJJI9wTQswXRysmbNmm3evNk0TcBkGAahIydTYYWAQkAhUPMRgEJX5lGCLRUIBJAyFAoBOvylcdcwDIRpSE6QchLJaDCWy4L1hhhd/MCIoSFfHkqJeaIgGwHxWZKtAeIkfpbE3xI/iWcpLyXVV9d1mefo9EhJTRkMBhGWa0dhv/gBEZksJYimn8IYstGpdhRIVSnJmEfXXnvtjBkzyIFEvSVVPCk6CgGFgEKgShGg2R1UeXFxsdfrVdO8xDEHVqFQSB7FaSgFqtWAJ0rHGBQIBOSBmRxFhmHQxcNUQV3Xg8GgzDxZdRjaZFKUiwJ4i780KsfPQnkTCYBUSUmJZVnBYJCKSCSvnMY0TRqgyeiRE0SHkSwUCqF0GujJAAoGg46awuoCqWpodGBCHj4y05NGKRoExFTaPNJ1/eGHHx46dCgEyzRNclGWV4aKVwgoBBQCNQoBjBnQpxgP3G53jeKwZjKDoQjK3zEaAVIyRBIcjE++mmDDMSqjdBq2wTCNWQjIRZMNIS+WOSoop8fYTHR0XY+f2JE3kUcQh83nsMMSye5I4wDE8ZYeyQZCesMwgIzcmkiDCUYgEJBfkS1FBKsuADZkA91htJ180ZU2j0zTHDly5LPPPmtZlixSJ8+KoqAQUAgoBKoNAWw0oSFTLa4liLxsjpATDlYFpso0SqXcYojDIVkqtM0IpRMP1NBEBO4iOSOFEaBHyuIIwEFF9U3hgAiaDgYcjw5m4j9SXgrETI+3ZPFQ1ZCYKoh4x1ui7IiPWdDJR5IhDlLU0CdPmShU2jyCeQhVAvGqCsOZ+FMBhYBCQCGQcgRoAABlXdevueYa0v4pL+50IkijIAL0KPtdAoFAVQxXMWF0rPVgbJbbFzHkZiCG5VEcThpyQcnZYxZqGAatPVHFZYIxc1U20u/30xJhhSzFJI7KOhiTOXfkklPC2C0pKZGJyGFykSTHm6PoSj2SdBUVFVWdy6rS5hE8Wm+99dZDDz1ELFaqYiqxQkAhoBA45QgY4gcjYigUUpeKJNIiGAgNw1i9ejWTfmrXrv3LX/5y9+7d8l4LMkQSoZx0GpRCw/aSJUu6du2anZ2dlZXVvXv3adOmYavK3LlzZ8+eTcM/+R6GDRvGGFu5ciUkAdtFZJpxGDNN8/vvv2eMDR48OOUmAoz1xo0bX3rppVS7OMzEfPWnP/3J5XIxxv70pz+RNRMzpSNSrk4wGHz88cc1TbvmmmssyyouLj7//PM1TWOMffrpp2RTEoAOUlX0aJomNWIVFVFp84j46NKly4cffqgsJAJEBRQCCoGfCgK0nRMDD85xofBPpRanhE+g9OWXX7pcriuvvPLVV1997bXX/vCHPzDGLr30UrBUbUiSuQOzrLCw0Ov1tmvX7p133hk1alSTJk2ys7P37dtnWVanTp0efPBBWnqDyyEUCm3dunXChAkHDx6EEwic0xac8hAmp05+fr6maQMHDiwvZdLxWPydNm3a0qVLaTNyZak98MADHo9n5cqV69evR17ivDxS8oIpjKQePXo0b97c6/Vef/31APybb755//33GWPjx4/HNixqCLKWyqOfqniSMdSIHlNFn+uEytIiFHRd79Klyx//+EfaQE6SdzKMkr2FhiGsqVzypFXYzJWtmkqvEFAInCEIkD4hZaX2HiXe9KZprly50u12//Wvf6Vc3bt3T0tLg35+/fXX8/LysrOz7733XtM0/+///o8x9sMPP5imWVJSkpOTc+2111qW9dlnn3Xs2LFWrVo9e/bcu3evZVmvv/662+1+8803MzIyVq5cOXfu3Pbt2/t8vubNm7/zzjsoa8aMGe3bt8/IyOjZs+eePXtks2bBggVut/vFF19EypUrV44dO7aoqKhFixaa+PnZz3729ddfM8aee+65Zs2avfLKK++88w5jbOnSpd98801aWtqgQYN69eqVlZXVr1+/4uJiXdeXL1/eqlWrzMzMF1988YILLujVqxeIG4YRCoU2bNjAGHvkkUcuv/zyjIyMG2+8sbCwcPDgwYyx5cuXW5Z1/PjxzMxM+F0gdbquM8Z+9atfgU7Dhg1//vOfW5ZVUlLy61//ulGjRqV1v+aaa2Cx1a1bF1i99tprjLGPPvqoVatW2dnZzzzzDLK/+eabTZo0adiw4dtvv10qw3/7299IpC3LevDBBz0eDwbTffv2Mcb++Mc/ygaQ3+9v27Ztq1ataKjFzEHuIM8+++yJEycyMjKuv/56FKrr+ldffeVyuSZOnIgY/KVccmQVhWEqyIZsykuvtHlENhCYGzlyJGPsqaeeGjZs2IwZM7Zs2ZISDxucZlRb0ESrI1LtEqgimVNkFQJnDgKybvX5fPKCwpkDQqVqSl8qffvtt5qmPfTQQzt27Ni0adPMmTOzs7M7duxoWdaUKVMYYy+88MLcuXOzs7MHDx68dOlSTdNef/11y7JmzZrFGBs9evS2bdtq1ap17bXXfvPNNx07duzbt69hGBhQOnfuPGHChF27dqWlpd18882rVq164okn6tWrt2fPnq1bt2ZlZV1//fXfffddp06d+vTpQ+O6ruuFhYU5OTkZGRmPPPLI1KlTsTElEAjAJLrjjjvWrFmzYcMGTdNgT6xZs2bEiBGMsQULFmzatIkx1rRp0zlz5vz5z38uDX/wwQeWZTVp0qRu3bqffvrpfffd5/F4YB5BVAzDWLNmjaZpZ5111tixY//yl78wxl566aXNmzczxp5++mnLsubPnw+zBkMnMrpcrrvuugsf1uXl5fXq1SsUCv3jH/9gjM2cOXPevHnnnnsusjdo0OCyyy4LhUIffPCBpmmXXHLJihUr+vTpo2lafn7+li1bPB5P165dZ8+e3bNnT5/P99xzz6FBT5w4AfMINqtlWfv37+/YseMrr7yCMZSsqFvFD9wc0V2ARuGsrKxrrrmG0F64cCFj7FSZRzA/iFsEUr7Wlox5RA4eCowcOfIvf/nL5ZdffsEFF1xzzTXSknSlg263mzHmdruxtIn8LpdL07RBgwZRU1WqS6vECgGFgEIgDgK6rg8aNIgGjDgp1SuMo6tWrYKu9ng80Nht27bNz88PhUL9+vVzu90YqwYMGHD++ecbhnHuuef26tXLMIxHHnkkPT39yJEjw4YNc7vds2bNsiwLNsqRI0fefvttj8czevRoDMO1atXq3Lnzxx9/vHv3biD/+uuvM8bmzp1rGMZbb72ladqRI0fkz4OWLl3at2/ftLQ0xlh6evr999+PbdS0/+aHH35gjN1zzz0Yv8DG4sWLf/jhB7fb/fDDD1uWtXPnTo/H8/DDD69fvx4eF8uyioqKatWqBU8PmDEMA5bQQw89hASZmZlYYbz44ovbt29vWdZjjz2WnZ19/Phxmt4Hg0HZe1SnTp3LLrvMsqyBAwf6fL7HH3981apVcMIFg8FGjRrB8wTn0IQJEyzLmjBhAmNsxowZb731FmNs0qRJpmnOmzcPXjEaJU3TfOihhzRNKy4ulhd5HJYQoMYOd+TNz89/+OGHH3zwQVi0qGytWrX69etH+9C//vrrU+g9Ap907gCtKaW2eyZjHqGZyYqEkJHhBqOVpCdpdmlzAAzDUg8t2pgIKl1GUKiAQkAhUCkEsC+bstAJvBSjAjERIK27cuVKxtivf/3rcePGDRw4kDE2ZMgQZLn00ksZY5mZmT6fLy0tLSsry7KsP//5z2lpacePH2/ZsuV1111nmubTTz/NGMvJyalVq1Z6ejpjbMWKFfAeLVq0COPf2LFj8/LyMEm+4YYbAoHACy+8AOJZWVler5cxRsaEzHAgEJgzZ06fPn1cLtfYsWOPHj0KX5dpmhs2bPB4PJhsG4bx3nvvMcYWLVq0fv360vU3XFJx5MgRr9f7u9/9bunSpV6v97XXXsOnbfDlYDAGh2vWLJzQdgAAIABJREFUrCll7+9//zseGzVq1LFjx1Ao9Prrr3u93h07dpx33nlYHaMR0zRNxthvfvMbnPfYokWLnj17hkKhwsLCW265hTHm8XgaNGiATeUNGjTo3bu3YRijRo3yeDyLFy82TXPy5MmMsbFjxw4ePNjn8y1ZsiQUCm3fvp0x9uyzz2J3OcwdLK6RTQPOZacpGlRejQkGg7Nnzy51g3m9XthtSJOTk3P11VcD5GAw+OWXX55a7xG5jmhjlhwjC0PS4WTMI+IGpVKHIQsOW8qT4xVCRn4pxyeIaFekoWW+pCuvMioEFAJnLAI0SJA+OWOhqFTFAdeqVasYY9h7pOt6165dPR4P9g8NGDCg1D2zbdu2zZs3b9iwYe3atZZlzZs3z+PxYAPNmDFjLMuCXfLvf/87Pz9/x44dW7ZsOXHixKhRoxhjy5YtoyEgFApt3Ljx2Wef9Xq9o0ePfueddzRN+9e//rVjx44NGzZs2bKlsLCQ+J8xY8add965Y8cOjEqw4YYMGXLs2DFN0x5++GHDMLBbiPYnwSBbtWoVvkF76aWXLMs6ceIEY+yBBx7Iz89njN1///2WZfn9fo/Hg6UucsasWbPG7XbDe+T3+zMyMnAn6Z49e3w+3xNPPOFyucaNG0ejIYwkl8t18803gyZj7LLLLgOqfr+/qKhoxowZ559/fuvWrUOhUP369a+66qrSABxFK1eutCxrxowZPp/vo48+gtft008/tSxrzpw5mqY999xz8oj84IMPulwumEqIR0GAV5Z8bEhCPLg9fvw4gMWr7Oxs2ntkWdaqVatOofeIWpzkRK41vT3JQKXNI2pmHHpEzEFc5EeylirLItWTykIAFi61qKOsypai0isEFAJnOAJQJlA4fr+fNM8ZDkuc6pNOXr58uc/n+7//+z8knjRpUql59Ic//MGyrPHjx7vd7qeeemrBggW9evV69NFHMaPOzc2tU6eO1+stKCgwTXPnzp3p6em//OUvly5deuedd/bs2VPX9bfeesvlci1btsw0zW3btvl8vqeeemrVqlX4/H7WrFk7duzAOD1//vy77rrr5z//OVjClzpz5851u92tW7cePHjw66+/3rlzZ6/Xu3jxYsMwGGMdOnRYunTpunXr4D2CfYyt2QsXLszPz3e5XM8//7zf7y8pKWGM3XfffaZpNmnSpH79+hMnTvztb3+bmZl5xRVX0M21uq6vW7eOMXbWWWd98skn2Hv0xhtvQK769OmTkZGRnp6+f/9+jI8kbx07dvT5fHPmzHn00UdpPe6ee+5p2bLlokWLli1b1rVr14svvtiyrPr1619xxRWWZcEuXLRoUakx+tlnn8F7hO/munXr9tlnn/Xs2RM7nyDGGKAffvhh+uZg7969F1988WuvvUYrM0Dgtttuu/XWW2lglb//x5g7ceLETz75xOv1XnzxxePHj//uu+8sy1q0aNGp9R6RfwSck2TGkd7Kvqq0eUQNjJKIM1mzhEIh2Mgy4glyhizyLTPU2ERBPlqDIlVAIaAQUAhUFgHyIZE/oLIUzsD0uq6vWrVK07QnnniC1oy6devm8Xi+//57y7Jefvnlpk2bZmdn/+IXv9i6dSt2XDzwwAOMMexfweR55syZbdq0qVWrVqdOnebNm2dZ1rvvvgvvEdaDhg8f3qJFi/T09CZNmvztb38D1NOnT7/ooouys7M7dOgwf/58x8x83LhxXbp0ycrKys3N7dat27hx42AN3H///VlZWT179oT36Pnnnwc1eI+WLFmSn5/vdruxRHjs2DG32/373//eNM1Zs2Y1b968du3aL7zwQsOGDXv37k0DXCgUgvfo6aef7tq1a61atQYMGFBcXAz76T//+Y+maagvoQSDY/78+U2bNq1du/Zrr7124YUXYrvSjh07rrzySq/XW7du3Z///Ofr168vtRfr16/fp08fwzBkZKZPn84YgxPulVdeadiwYfPmzYcOHVq6CWzgwIEwFOA+KN0/lJ2djX0p+/fvpw1Ysg3UunXrNm3a0AIcsUoGh2MHMb59w978U7U1W7Y3YCc5YlLSKyttHskmGxpAtoGivwk8SS6xw87tdl9++eUghcaTldpJFqGyKwQUAmcgAqS+oMHkr53PQDQSr3LMccgRCS1NB1XTlhcaPmgwRrnITkMJBeS3lJfeUsPJyegtLS9QDI33VFnEIAHS09ybsvv9/l27dsEBlpOTc+uttyI7JSB7gsgiMGPGDJfLNXr0aJRCENGRNBSD4cxBkMgiGSWm6iBw9OjRgwcPmqaJk6hGjhxJ9EOh0J/+9Cd4j5A4ppBTxR38U0Ex4xcuXOh2u0+VeQSWDMNo164dvgxo3rw5AehgOOnHZMyjpAtLJCOahEQhKyurTp0677777meffUardUCB0iRCVqVRCCgEHAiQ+guFQgsWLOjZs2d2dnZOTk737t1nz55tWdbatWvJXd+gQYOrr75aHmCwuxmdsUGDBlgCIB8MdU9Z+Truf6COXLpIcfvtt2PRBJHy8En7RokmlUJKn8ZOook0w4cP9/l8X3zxBWWhAKhhECrdKQzeqHRghfpSJI36mzZtwjhU6vDIy8vr3bu3ZVm0b+bHH39kjGF3C4GMt0uWLAFlDFT0lqqGsmj5hjZ6rlu3rvQDXmwcpsmhPBBS48p54REZNGgQvaUWhB1AVYvmhLKcyQHTNLEQtmDBghdffNHlco0aNSo+IIZhFBUVffzxxx06dKhfv75j+2z8vBW+lZvPsqyDBw9qmta9e/cvv/zy2muvTU9PX7duHaUp/Zg/iWMhY/IA+SRp+e677/79739Xw7GQEEuyFIk36i+TJk3617/+lZGR0bBhQ3qbqkCNM49QMWqM0s1fbdu2xSPUMXVjWYGmCg5FRyFw2iMQ3YMKCgp8Pl/btm3fe++9t956q3Hjxmlpabt3796yZQt9yzNjxgwYGeh3hmGQzgoGg9OmTcM3NVDN1GFRFg35ME3wlpS4aZp0YB2Bj69v6BEBmZr86ZkjMVHGjg18EuUghUdUAbs0aPYFJmkkQEoy0RD/2GOPtW3bFlk+/fRTGD1vvvlmZmbmggULsMk3pnmEXTUyM2QyOmBBGmLjyJEjEyZMyM/PR+0AhfyXTiQCHWQ8cuTIlClT1q1bR24DxCMjVY0iZeIyk2dy+Ntvv73iiivS0tKaNm36/PPPyx+TR8MCALdv3+7z+Zo2bbp06dKq+ygSazWTJk1q1apVenp6mzZtJk2aRN93B4NBwzCSvlTEUTUY4tQLmjRpggMdquFSERJysvtJmIPBIACvU6dOq1atqLM4mE/6sYaaR6izZVk+n69ly5aonq7rv/rVr9xu9yeffAIVkHS1VUaFwBmLAHwP1MX8fv+SJUtcLhf5GL755pvx48cfPXoUJ8Qgvl69eldddRU01LBhw1q2bInT+Xbu3GkYRoMGDa666qrSnaT4vubjjz++8MILs7Ozn3rqKdgQb7311tlnn92gQYMPPvhAPp3FNM3jx4/jkDOXy9WjRw983DR06NA6deosX758586dd9xxh8fjycnJuffee/GZ0uuvv65p2vvvv48NLp988snf/vY3n8/XvXv3vXv3yvYBPo8aOXJk+/btc3Nzn3nmGejQWbNmlR6Rl5GR0atXrx07dliW9corrzDGhg0blpubu2LFik2bNl155ZVZWVnnnXceNrjAijIM47777is99hA8FxcXN2nSBJ4z+kR8y5Yt5XmPXn755datW+fk5ACZUCg0Z86cDh06pKWl9ejR48CBAzjB5He/+13pbt/27du/8MILLpdr7ty5+IQKl1fk5ubedddd9913X25ubrt27TZv3mxZ1j//+U+PxzNmzJjWrVvXrl0b9HFsDwy13NzcAQMG/P73v8/Ozm7Xrh02CRUWFj7wwAN169Zt27btwIED09LSyAg+YztIdMXJa1ihK4hGbgzqFaaPLit+jMNHABcgzu8mkxePoIO+QK8QmRxXjjEXjzCYSJnEZ/5k3pLH1LKs4cOHa5r22GOPoV6lp4nWq1evdHfaydCPmbfGmUdkAALxzMzMZs2a0U7t2267jTE2depU8pDHrJWKVAgoBOIjgH0h0HEFBQWZ4pSaRx55ZObMmYcPH8ZaFc4RxoIOnfiCM1H+8Ic/zJgxo3bt2rCKmjVrhosz33zzzdJTZC6//PIvvviib9++jLGNGzfCXLj00kunT59+2WWXlR7jS9ts0c0nTpzIGLv33ns3b9789ttvu1yuzp07jxkzZs+ePT179qxdu/b48ePfeustj8dz1113WZY1dOhQTdNuvPHGOXPm5Obm1qpV66mnnsInSLTlFl9NDx8+3Ov1duvWbcSIEW3atCk9jm/Dhg2Y3F933XXffvttx44dr7nmGl3XR4wYoWlahw4dxowZs3v37tatW5933nkrV66EpYLzlwEp3jZv3nzVqlWhUAjmka7rb7/9ttvtXrp0aRzvUffu3WfOnNm3b19N0xYvXrxz506fz3fDDTd89913F198MY6ZGT16tNvtvvPOOydPnty4cWOPx7NgwYL8/Hyv1wvz6Oyzz05PTx85cuSYMWPcbvett95qGAbuwOrVq9eyZct69+7NGFsnfihXvXr1cnJyhg4d+tFHH3k8nl//+tehUGjMmDE4I3HSpEnnnnsuY+yLL75wDITxBekMeUuYmKZJTpTy6k4bmOBqpUGtvPSJxxMb5L6ViZMnEr1btorkjIkXRymplJKSEpAigpSGYuRy6W3SAVpBpvUi9PTHHnsMZgAOz2zWrFlqy03mzrWkK5l4RrQE5mrp6emtWrUiv3coFILuppjEyaqUCgGFAPaykCKjieZXX311ww03eL1eTdMyMjJweefq1as9Hs/LL7/s9/vz8vIweGOKcuzYsVAotGzZss8//9wwjLPOOusXv/gFFrPS0tI++ugjy7LGjh3LGPvkk0/efvttTdPGjx9vGAbO9n3++edJ4RqGgVW8Z555Rtd1fKHzr3/9y7KszZs3a5qGix0ty+rbt29mZibSuFyuyZMnl+5IhalRVFRUUlKiadqAAQPkdTeZGnZLTJ48Gbc3zJs3zzRNfLh08OBBmBcfffSRYRg4QPnZZ58NhULr1q3TNO2///0v7C1o5O7du+NMZNM0GzVqhKNuoLUXL14sn6xDKht7j8aMGRMIBJYvX46zBFE6dnoNHz689JTn3bt39+/fnzFWUFAQCoVwW9n8+fPxAfmQIUMMw2jUqNGFF14IYb7gggs6d+6s6/rIkSPT0tLGjx9vmibMzalTp8reozp16rRr1w78n3feeZ06dTJN85ZbbnG5XAcOHCgdWZ9//vnSM3gWLlyougkhQH4REldaU6Y0jgCdkIyTJB1vU/Io91+yHhDp9/tJ5OSyUBFcYyLHVypMbieUpes6LekSHeKNYk4yAILAH5X1+/0FBQX4HBKVzc3NLV36jFnxkym9xnmPaCsiDKD09PSWLVuiacleJrEjkT0ZCFRehcCZg4DcZUj1k5FUVFQ0Z86cq666ijH23//+V/YeNWrUCEtIvXv39vl8hBiINGzYsG/fvsFgEFcfLFu2DBeOgg4ugsDF47B44OMhlb1nzx5c3Yj7JXw+H86qwX1VL7/8MtgeMGBAWlra3r17YYgsXbrUMIz+/ftnZGRAM+bk5PTv3x+8YZzAYt+iRYssy/r0008ZYxMmTHj22WcZYziTJjMzkzH29ddfw1JBuXPnztU0zeVy4Whmr9f75ptvggc4+Tt16oRpm2maDRo06NOnD1laixcvhikTc+8RdimtXbvW5XI9+uijzz33nNfrzczMzMnJwWaO77777uqrr87MzERx77//PrxHP/74o8fjgdeNzsLRdf2iiy5q3769aZqo6bJlywzDmD59Ok4jhKGG5dG8vDx8QF4KRceOHVu3bm1Z1tVXX52eng5nIczHpUuXpnyYIWn5KQYIDdpFRDHR1cErSiC7kaITJxcTc/iDDSG7tWjvP0VSf0+uXFQKW5ocFGSrq0Lz0ZE3/iMZW8R8dAxOhzrnnHPik0ribY0zj6jy6LGlM1GoIVr9RSVJ/pKos8qiEDhjEUD/oh0S8Ih8/vnn995778aNGwELDkQeMmQIvlx79dVXQ6FQ3bp14SMZMGBA6f0MBw8eDIVCs2fPfvfddw3DqFu37pVXXklfb8EImDZtWukZfePGjRs6dKjX6500aZJlWTNnziy9NoH2OWEWtHXrVnhTSrcxwcACBdhnf/rTnzBruvLKK10uV+ktoe+//77L5YLRc8stt2RlZaFemZmZuLCC2nfUqFEul2vp0qW6rk+bNs3n83344YfvvfdeWlrav//9723btm0SPyUlJTC5QHPjxo2MsT//+c8bN27cvHnzxo0b9+3bB5rYfdWtW7cOHTpAC9WpUwd1xxVgy5YtA24xzaNx48bRkXovv/wyVvT+/e9/g41t27YVFhbefvvtbrf70KFDpeA899xz8OjA5MLiGr4ihJeic+fOF154oa7r4B/bpOjYwNWrV/t8vpdeeikYDDZs2JC+PezUqVPr1q1N07zjjjvgqSo9Kvrxxx/3eDxz5swh9FQAciXf6Vbhvg7KAvRoXE8JmDSjoJUmeVMOreXRwY8olCZFsGOSGD0h9pSRjmwgV5nMBiVLSZVlZzBMvUAgAJBB3zTN3NzcM+LDflSYjG6fz9e8eXNE+v3+QCBw4sQJepvaZkhJWyoiCoGajwCpbKgbOEvatm07aNCgYcOGtWvXTtO05cuX0zBfeuVTw4YNr7zySizcaJp2//33z5o1q2HDhr169TJNs2HDhlh6w84hGBkYpMeNG4cP3bt06TJr1qzLL78cW7NlBQfz6Nlnn8W+Iq/Xu2TJEvTuSy+9NDc3d9y4cSNGjIDHxe/3Y6Hqyy+/xPJQZmYmEvt8vl/96leYWcGiIpPFMAxYZuPGjdu1a5fP5+vXr9+iRYvuvPPOyy67rNTCGz58OGMMvhPTNLt06dKsWbNS99Xf//73Tp06rVmzhgYky7J69OhRu3btKVOmnDhxolGjRuQ5c7vdCxcujPNhf7du3ebNm9e7d2+32/3VV1/t3r3b5/PddNNNCxcu/O1vf9urV69gMIgFwd/+9reTJ0/Oy8tLS0ubO3culskGDhxYehVr/fr1cZRAqYuua9euLVq0oE3x8NtNnTrV7XaPHTsWubB7rF69emjB0qMOL774Ykw7geTvfve7iRMnNm3a1O12q63ZcfpvIiOObIuAVCK54hTqeAVPAXUfmbjjE06kcaSnvu8gW+GjXJAjMXmMZCPJkSbpR6oFVVnX9ePHj8uLa3Xr1j0jvEfyaZ6hUCg9PR3mEWQOq/JTpkyR1+CSxl1lVAgoBIDAuHHjunfvXqtWrXr16nXq1Gns2LGWZWGYHzx4sGEYZ599dt++faEiX3311RYtWmBP8a5du+T9NzBiFixYYFkWzvYdP348jlGuW7du06ZNcbbvc889h1k4CMI8QiQWieDvsSxrz549N954Y926dRs1avTwww9jizS2acOEuvnmm7Ozs6H0fT7fLbfcghqB8ogRI7xeL3wqU6dOxVUM4K1Dhw7p6ent27efP39+KBSC12rx4sVwaG3cuLFPnz45OTnnnHPOG2+8IdtGpmm+9957OTk5derUOXToUKNGjXr27GlZFrZmL168GLjh9gYSsDfeeEPTtGHDhjVq1Khhw4bwLYGT9u3bp6end+zYEZuQTNO8/fbba9eufdFFFz3zzDOMsQULFsDQGTx4sGVZ9erVgycP5tF5551X2gS088myLNT0448/JkPNNM28vDw6XLdLly4wj/x+/1133YWynnzySU3TCHniXAUUAqcQAfKGUB9EV33kkUcopk6dOmeEeQSlRnaipmno/NBZt912m8vl+uyzz8hcPYXNpopWCJw2CFCPkyeXFIlqom/ir1xxWqqT09MhJVBhx48fP3LkSCAQWLlypdvtHjlyJBLL/V3ODuOJYuijeuKBLnagNMSS/P0ObVxFvSi7ZVnYZ4r5LsWDGp2EJE/DHAsWVC55C+SpHfQV/hJNcChzAu8dEkCn4YDKvXv3YnI8ZMgQfP2HvLRLjKbp4DxmQfQKTUD0KS8437p1K4xOlPXDDz8QkiqgEDi1CJA6ohE/EAhgJvDXv/4VhzwZhlGnTp2m/9/elwdXVWzv9j7zSU4SgiQgMSBhJgMJCSBhuiSAilxHLhRwRUFklluCKEIUUAYVgyjIEAQsB+CCoCDGhEwSCAEUucqQhDCj1xAChABmOufsd8qvfl91nfge/gSeqaLzR6rP3r1Xr/V191qrV6/dOzT0lrNa73KPMKWR/1VZWenr64vQMdWNlw665YgoggqBOxYB2aASBKzeqKfoDFFhyfYe1p2zFUdylJWVaZp233337du379FHH9U07dixY6zJ1FG2jhxY/KQt9/IAWBkbCkyGIDXyz5oyKdytK5Ts65ACF6kg5XQ60UrNb3/Yy3M6naQm80C4QI236F3hOt04l8v1xRdfGAyG0aNHZ2RktG3btkWLFjU1NXyQBJkP63Q65VeKZNy83kJnl7GwceNGo9H47LPP5ubmRkREhIaGyqkeMgKqrBD4qxDgZMG45STl1A4KCmrRogXnyK3isz66R8TC6XQ6HI7AwMCUlJT09HQIT2iojG4VFoqOQuCORYDTCggwF5UKiAWvuA4XcDTbdXNX3W73xo0bmzdvbrVa27Vrh+02NMTJTtUmc4K7uMLrCKtg+tMrAjVafdj42t/+vD4ECfZQk6/h0Duh+HWdHjhJVDvkB4/I+OCKHG2SY2l0trwOpwFLoP/yyy83bdo0ICCgR48eP/zwAwgylCUHt3gRD4INykXeZPaIEnp5xowZQUFBNpstPj7+wIEDbEsVFAJ/OQKcbuAEM5pjXtf1jRs3rlq1Sj4++hbyXO/cI2glTmaj0YizWJD46aXpqFtvISKKlELgjkWAezcM/2Am0nfBjGPgh/MUvoI8HxnUYR2iyvgEPQz5QVRDMIbxHtnVqEuH3EKZ1qVGmnyWBZmy7GGQN3ozEISODj1IfsYBNOmTsQkWAC/BJAVWYBMwABCEzlBdJGktamtr6fRQfKBX9zro8DoLFJkFMqYKCoG/EAEoEw5sclJTUxMZGYkTMfh1Dd69+UK9c48IARej1F+YxtSYNy+8oqAQUAgQAU69qqoqGEjYUTgNMOqIstCK4xb+gw5tv0yWJ5YhKwiP85Xgq1evwhuAEsRd+XGvstvt5l4S+GQeEn6yObo73GOijLW1tSTCN93QEBiQEfASikS4iuW3n7yYJzIseMnCn/TwoOW8olmsBk64rSYrSdQBb/DhIILXdS9hQRD/yTwLbFcVFAJ/FQKcO9APPPYJCoSBUi66biGf9c49QuibE5tKSlZJxEu+eAtBUaQUAncaArCIslVGAhACHrSXfIuEIRNeIWKYnpi5KONxXJHnLN0aPsudO058Rmu4KQZq9K5QE3fpr8gFrw04yoJ1l8wPfRTUwUoMZfynLmZz8uMo4z91lCwasYKil3frWF+OzDG85Ha7KS8Jsmk8W11dDYm4nqTTKVsOelQUQe4jlAkp21IFhcBfi8Dvjkk52s0ZdAv5rHfuEdQQzyelCoDM+Mk6txAIRUohcIcjIPtGchmwyOoJE5AvSfAnn5J9GjyIOgx7eMVjYLNpuTHN5bkv6z62AsZknYBWeEV2C7zcC9knAB1K4fUTzfEuafIKnCpZTHoeFOF3C7xIUiyAB/6Xr8veD7uANcl83f7yepDBeJl/7iR6EVQ/FQJ/CQIc+Ziw8oqFI5xaRdYSt4TbeuceyVJxjUV1w9kr6yy+xytXIx3gW3dLjkFs+SkCTc0FOvzJ3kLfgIhXvJprUDbqtX716kWqe9oMZhvIvKFFcEJ+WCAyaB184r9XBiibgzUCBaJBEwU6uEtqFJ/tUkYvoepyDiRlKVhHpsYyRz+7UmaGF1VBIaAQUAjcEgSo30CNP6GLvNQg1BF1NfUVFSwNAajRCoAO69OIkD4UIzUhHvfy76HwUYeUaUHIcN1WZK5kVlFT1rF8lkZBVvK8K19kfBQ8yyLQxFDto46X+Lgo1wEsICUTZM3bV6h37hHWnV4ooCeILztGrkaU2f28wvqkw2EkezZ8Xxf9zTd10Qp3E/gRPrYOF4GtyJ6KV8/JoweumExE9kgQGAcnFISVQRbjhvKi4HVR/olETi8icnwSZJm6QeZltmXpQAqCYwqxzGdRkKcQniJjdStwbsisEl6vB70aUj8VAgoBhcCfQIAaBgFCaF1cxH+vdbjsW0Ap0VVC63UpQElCGeJxNkoNKSs9kGXmHOtwGc/ju2R5ZesmX5cry1qUZKl4melflxlZ/5M4/DMvWWi2vLwrXsd2MO0XoiFoESJQcNaRN83Z+u0r1Dv3iKLS55B7CDB5XeFY4WAiEQSfORRYAMrsTtlFkLNHORRQU36cPLDvUZkRL1zHHJBTFmTe6pblKQcmwRtHPHw4ckIfjgXQBHtg2yuoTmHlWYEhyxdhQESe3vxcuYwJhJV3UjjB6KsRZK5+iBghIryQC+kXaJ11OEO48VoXPXVFIaAQUAj8OQSgM6laZYUjqzWsqKnWWJ/6DXRo4Blfp8ngmlzWt9DG3LpFHepDSMRG+ZMqmmlqrANfTdaWZIDZzWgUrfCuLCx1NcTBMWY0HPKyGeLT/MnUUJb/kwIuMt8OclHzU0xK8cctKZ69yf/1zj2Cf8ChRvHoNwA7jB6Xy4VuI/Ss5uVmcozCuqM+iKOrMKo4thhJojeAMYQBwUHD3mU10GS0k/yDYTCPQcZHOFhZmW3xCueqPHbBOYcaBxnRk8XEg6gso0E8GR5D6wAW/8kG8PG6yLtemKManVdUI8Iyb8w89Rr9rEypya3cqCorBBQCCoGbQUBWNbJehTKk3sNP/Ge7VLZ8AAAcbUlEQVRz8voTi0+5AkySrNnoA6FaZWUl1bJME2WGCfiTvgIfxy3qRi9q+MlIDBQvJKISZoE6nJZURoZmSLaPMs9cKoMgJZWJgB+Gjsi2XId3ISMekRti+bYW6p17RGkdDofnI95CCKvVGhcXt2LFCt4ioLgCA/yPf/zDarUOHDiQHQxMGRGVhywefO+994QQ+IhjVlbWl19+CQ+DNX18fDxfF8exCv7+/k888cTPP//MuyBCX4EjQ76Cj3riO9vkn2xztHHIwvHi95XwwjDHrhzZQischV7E6cUj6sNqgwYN8vHx+fvf/86mdV3Pycnp3Lmzn5+f5yubHTt2/Prrr0GN7cLb84Id8SqAXHf44llgRTqkgLmHp3DKn8y/HDGiq0eW6JvKj6iyQkAhoBC4SQTMZrMQwmg02my2Ll26yEaHlKGRoJmHDBni6+vbv39/qFMqOmg2uk34CWX4/vvvCyFyc3Pdbnd6ejq+sgfiqA/Dp2kazJ+maS+88AKelU0PdCmv1NTU4FMbO3fupCXi0pQrZ2yn1NTUDB482G63w1yS7bS0tN69ewcEBPj5+XXp0mXHjh3U2LJEbBQFHJAhR5JAkO4OEJNNEilAcKp0L20PmqADcLwqsFNuU6HeuUdA1u12W63We+65Jzk5edq0aS1btjSZTC+//DIRZ1gSoJeUlOBr3oQJNdGp9FcYNUH3LFu2DJ+rdLvdUVFRU6dO5eOVlZVut9vPz69ly5YpKSkrV66cPHmy2Wx+7LHH6JeAOAIb7G+vwpUrVz7//PNDhw5xcJAZunHy+Stg4MqVK5s2bTpy5Aj54Y4Y6XNMgyC5YiyKY45Ezp8/L4T417/+RSJOp7O8vNxms3m+J7B69er33nuvVatWVqu1rKxM3qgmbvLoJBHSlzuFAWQOblQjn/jJmYOfnNhQN2zCa5ZSdjatCgoBhYBC4CYR8PX1bdas2bx585KSkkJDQ00m07Rp06jBqHZQwHeUp0yZgn0AKCtZmVPVu91uxubhxOTn57tcrs6dO48ZM4bKDUtZX19fz/nyCxYsePvtt5OTk+fNm4cFPETzOgtDVpgpKSkmk4mLW9l/oiIF52fOnBFCTJs2TfZpysrKGjRoEBYWtmbNmpUrVwYHB9vt9kuXLtHJAwMgRYtAyrgL64NW5Ft1gxQyqgTWa48FNIkPCMo8o8Lt+1/v3COa1QYNGnTv3h0uyJUrV8LCwoQQFRUVnlH11VdfRUVFORyOHj16nD9//tdff4Wj7RkcXbt2dblckyZNaty4sZ+f3+DBgwG9EOLJJ5/EdmzTpk3xhW18G/y7775r1qwZKMTFxckDzm63d+3aFR3pdrubNGnSvn17+EOZmZkdO3Y0GAzdunWDM3Ht2rVJkyYhADNnzhz5O9sLFizQdT0wMHDYsGETJ060WCwxMTE//vijruueCWA2mz/66KOWLVsGBAS8+OKLuq4fOXJE07Q5c+bout6gQYPBgwePHz/eZrOFh4cfO3YMgc0JEyb4+fm1b98+OTlZCLFjxw55lJw+fXrIkCF2u91ms40bN66iouLixYtEqVu3bvQ/9u/fL4TwaASIuX///o0bN164cEHX9czMzIiICIvF0qdPn5KSEszesWPH4jvnr732mhAi67c/IcT777+v63phYaGmabNmzcL33hMSEgIDA9u0aYNPuO/fv99kMi1cuDA+Pt5msz322GPQGidOnHjooYccDkfr1q0//vhjqJi0tLSoqCir1dq1a9fz58//395hlqVWZYWAQkAh8CcQwOZXQEBAXFwcjXRYWJjJZCovL6+urk5PT+/YsaNH08bHx5eWlp4/f95ms0GjduvWzeVyTZ48+a677goMDBwxYgQWihaL5amnnsKppyEhId26dautrV26dKnRaMzNzW3durUQwmKxQBvX1tbCnfL39+/SpQvTCehk+Pr6Dhs2bNy4cTabLSYmpri4GMZx9OjRPj4+7du3nzJlislkys7Olr2TkpKSJ554wmazORyOUaNGXb16tbS0FPshniBWQkIC1+15eXlCiDfeeAMW8Pvvv9+4cSMUb2pqanR0tNFo7N2794ULF8DnuHHjzGZzZGTk7NmzYQi++eYbIcQnn3zicrkOHTokhEhKSnK5XKdOnUpMTAwMDGzWrNnevXudTue3337r+R7GvHnzEhISzGbzoEGDKioqdF0/ceLEgAEDGjZs2Lp16w8++AD9+PXXX3fo0MFms3Xv3v3cuXOwXH+ii//EI/XRPcLIsNvtnTt3ZkbwW2+9ZTAY1q9ff/bsWbvd/vDDDx84cCAmJqZPnz66rm/duhUfcSwoKPjggw80TXvnnXdWrFghhHjvvfd0Xdc0bejQoQAoKCgoISHB6XS+//77mqbl5ubu379f07TBgwcXFhbSk62srPT394+JiSktLf3ll18yMjIw3HVdP336tM1mGzBgwKFDh2JiYhISEnRd//DDD4UQTz311Geffda8eXODwZCVlXX06FGDwfD666+73e7g4GCbzbZ06dJ169bBXdN1ffny5Zqmde/eff/+/X/729+EEMePHz969KhnV3HBggU1NTV33XWXv7//kiVL1q9fbzQahw0b5nK51q5dK4QYOXLk5s2b4dvt3LkTkRhs9/bs2dPPz2/Dhg2rVq3SNG3kyJFut3vbtm1CiFGjRhUUFHDWlZaWNmjQwGazTZ06dcuWLZcuXQJKZ8+etdlsAwcOPHDgQHR0NCbSmjVrQG3r1q1Nmzb1TJic3/6EEGvXrnW5XEePHtU07dVXX62uro6KimrVqtWePXtGjhzZoEGDa9euYdPw7rvv3rFjx0svvSSEWL16ta7rnTt3btKkybZt25555hkhxIEDB06ePGm32x966KHvv/++U6dO/fv3R79AI7CP/sSIV48oBBQCCoHfRcBqtXbr1o1pN/PmzRNCfPbZZ2fOnPH39x8wYMCPP/4YFxcHo4MvB0OdpqSkGI3GxYsXL1u2zGAwvPvuu263WwgxfPhwmLOgoKDExEQofGyu5efnG43GQYMGHT16lNrY5XI5HI7o6Oji4uLT//MHxd6kSRO73f7uu+9u3LhRCDFkyBBd12HsJkyYkJ2dfc899wghvvnmG9m16tq1a2Bg4Pr165cvX242m2kINE175plnjh49Chxqa2srKiocDofVap0yZcr27duvXLkCOufOnYMhOHjwYFRUVN++fXVdX7VqlcFgGDVq1BdffIF2s7Oz4R4tW7YM62QhxGuvveZyuSIjI++99978/Pxnn33W4XBUVlbCEDRr1iwtLQ2GYOXKlR47HhMTExwc/NVXXz355JMmk2nXrl1nzpyx2WyPPPLIt99+GxMTAwx/t+9ux8X66B7B+NlsNoxUiL1mzRqTybRy5cpFixYJITIzM10uF8I/ly5dOnnypKZpL7/8sq7rP//885EjR9xud3l5uaZpEyZM0HVdCDFixAhQvvvuu3v16oWRajKZdu7cefXqVYPBMH78eMausDPl6+uL9YHRaBRCtG/fvqioSNf1RYsWaZqWmprqdrsRLC0pKRk6dKgQ4uLFix5/fObMmUajMTMzs7i4GKPE7XYHBQWFh4dDnLZt26IM92jDhg26rn/yySdCiM2bNxcVFcGp0nWdIStd11u3bt2xY8eampp//vOfQgi49tOnTzcajdnZ2aDsdDpPnDghhIDguq4nJibabDaXy3X69GkhxPTp0zkbMfH27dv34IMPYklhsVjwIPzRjIwMp9OZkpJiNpvPnTs3dOhQTdMQSZo5cyYWDdnZ2XCPqquri4qK4B4dPHhQCPHiiy+6XK5jx44JIdatW4fY0oQJE1wuV0lJCXb6CgsLjUbj1KlTXS5XRUXF9u3bi4qKlixZIoRIT0/XdR0II6CFfiH/t2NKKJoKAYXAnYYAVIrFYkH0CPtlH3/8MTQbslShjpYvX240GktKSs6cOWM0GmF0fvnll8OHD1dVVV2/fl0IMWbMGBidYcOGIdrRqFGjhIQE2qz8/PyrV696dPj48eO9tJndbjf+9gfTI4TAN4n9/PwiIyMRRO/QoUNERISu68OGDfOoWcTgZ82apWlaTk4OCVLfojf79u3r4+NTW1t78uRJIcTMmTOxY0Crt3///gceeMBqtSLlF7y9/fbb2J3wmDAkTpWVlQ0ZMsSjvS9fvuxJEZkxY4amaVlZWbt37xZCLF++XNf1goICg8GQlJR08OBBonTo0CFN0z755BO4RxMmTHA6naWlpUKIyZMnw4g/99xzuq6Xl5dv27atuLh48eLF3BtB67B6/3/GZ71zj7jR6BVjXLhwIezlq6++iuw5Hx8fX19fg8Gwe/fuc+fOGQyGGTNm6Lq+b9++6Ohok8lkt9sZpGGhtra2adOmPXr04EjNy8vDSJ08eTJ3i+FI+fn5hYeHb9++PT09fcOGDeHh4UFBQWfPnoVn4HA4/P39EWI9ePBg//79rVYrHly6dCmWCIcPHzYajXPmzHE6nffcc0/v3r2R0RwbGxsZGel0OpcsWWKz2eDcpKamCiE2bNhQUFDgSQmfO3eu0+kMDg4eMGAAYImLi2vXrp2u67169TKbzche+uCDD4QQO3fu5IjJyspC6BJXRo0aJYQoKys7fvy4EAIo8U0KpihVVVXl5OQkJCQYDIaPPvoIe2dms9nf3x+e0w8//PDggw/abDZMJ7Sbm5ubn5+vaRrSGOEOzpkzBz4T+shut2NPDYnqs2fP1nW9oqICzmtGRgY8SDlq+sorr1gsFrvdDg/VarXu27cP4nBKU15VUAgoBBQCN4MAwtLI6ODxRciR+Pzzz2F0PMGbwMBAKMPvvvsOq9CkpCRd1/fs2XPffffZbDYkdz/99NNck4OrkJCQ+Ph4z3IXexp79+4tLy83GAzPP/+8nFeK6FFYWNjmzZu3bNmyffv2bdu2Xbx40el0hoaGJiYmwr7Exsa2adNG1/UHHnjAZDKhicWLF2uaxnVyTU3Nzp07sQuB/bIRI0bAEPz0009CCKRAVFZWMnsEflVFRUVmZmZiYiKM0axZs+AtIbZkNpt37dr18MMPWywWtIuAWXZ29o4dOzRNQxyosLDQYDDQEBgMBofD4efnZzAYkpOT4R699tpruq5fvnxZCDF27Nj09HQhRHJyMg2BR1i0jqZhR/bu3XszHf2/erbeuUcI6LlcLrvd3r17d3TY9evXQ0JCAgICysvLV6xYYTAYNm/eXPjb3/Hjx6urq+EOv/TSS7qu9+zZMygoqKysrLS01GAwjB071u12m0ymxx57DIdDWK1W5h5pmrZr1y64R5MmTaIfDc/DbrdHR0cDUGzGmUymTZs2rV692mw2r1mz5vjx4wUFBYWFhZWVlYMGDfLEbEpLS+FQW63WnJyc//znPyaTaf78+bquN2rUqF+/fqAWGxsbFhbmuYitaDg3qampmqatX7/+yJEjRqPx1Vdf1XU9ODi4Z8+egCU6OrpVq1ZOp3PYsGGappWXl3tWOUlJSYjiYBfZ6XQi8+6FF15AVl2PHj38/f1dLtfZs2fhiMALxExLTU0dPnz4Tz/9BJGZioRp/Omnn546der48ePFxcXV1dWPPPKIEOLq1atut/uFF14wGAxpaWlYNCQnJ9fW1sIrmjNnDiJG48aNKy4uPn78eFFR0ZUrV7BpiO3ta9euCSGeffZZ9B0yHCsrKxcuXLhnzx62XlhY6MmjKigoqKio4M4aOP9fDXRVWSGgEFAI/L8RQKYj6pSXl4eFhfn5+V2+fHnFihUmk+nDDz8sKCg4duzYmTNnampqioqKbDZbUlJSdXV1jx49GjRoUFpaWlZWZjKZRo4cqeu61Wp96KGHcMSiZwWLLbnly5cbDIa8vLyKigo5xs9X2f38/JCNBJ3PdWxQUFC/fv283KNHH33UbDZfuHDBczYKthHy8vIqKytRDQ7clClTYAgSExN9fHxcLldxcbHZbJ42bRrRcDqdqampI0eOPH36NC7CELz++uurVq0yGo0bNmw4dOjQ6dOnjx07VlVV9fjjj3tCPpcuXfIcUpOUlGQ2mzMyMvLy8uD9uFyuzMxMT/Rr9uzZWJNPmTLl1KlTRUVFxcXFFy9eLCgo0DQNL3QjdRiWwrP98txzz1VWVpaXly9fvjwvLy8lJUUIsX79epr7a9euke3bXaiP7hG61uFwhIaGzp8/PykpqU2bNtjQrampOXXqFLJSMjIyRo0a1adPn6qqqlOnTnmc6FmzZtXW1rZv397X13fXrl1jxoxxOBy9e/cuKSmJiIjw8fHZuXPnxIkT7XZ7//79q6urESbNyspyOp0GgyE6OnrPnj1wXeGWORyOsLCwtWvXpqSkvPXWWy1atBBCFBYW/vzzzxaL5ZFHHsnNzX3qqaf69evnceBWrVqFsOq6deuaNm1qMpkyMzOLioqEEK+88gocnX79+oFy586dW7Vqpet6SkqKpml4G3Pr1q1IbTt27JimafPmzfMw2bhxY8wrl8vVtWtX5IYvWbLEaDSOHDny008/DQkJMRgMyH3mcImPj/f19f3ss8+WLFlisVjGjx/vdDrxqsX06dN55JLL5crIyDCbzW3atJk/f/4777wTFxcnhMCmr8PhuP/++3Nzc4cNG5aQkFBVVbV27VrkP23btq158+Y4FuGXX37RNK1bt255eXkDBgzAusST6tSpU6dWrVp55sns2bMjIyMPHTpUVFTkWXshelRVVYVFg8vlioiIaNSo0ebNmydOnIgt559++gkHEOTm5j755JOJiYkM7DG+SGFVQSGgEFAI3AwC0CoOh6NFixZvvvnm3LlzW7ZsqWnaokWLdF0/e/asr6/vo48+mpOT8/TTT/fu3bu2tha5CjNnztR1PSIiIiAgYPfu3aNHj/b19U1ISLhw4UJ4eHhgYGB6evrzzz/v7++fkJBQXV2NHaLdu3dfv37dbDZ70mexNobVc7vdDocjJCRk4cKFb7/99ltvvfXuu++uX78euRm9e/eG6u7SpUuLFi2Qe+QJCE2aNOnzzz/H20tZWVnAAYvJ+Ph4h8OxceNGtDtu3Di32411MgwB8it0XU9LSzMYDK1bt54/f/6bb74ZGxsLE1ZSUmKxWAYOHLh3797hw4f36dPn119/XbVqlcViGTVq1Pbt20NCQpDzdPnyZU/OSZcuXXbv3j1w4EDPJg8coPDw8NDQ0KysrLlz58bGxh48eLCgoMBkMr3yyisul6u8vFwIMXr0aKfT2bFjx+Dg4G3btk2cOBFm6PTp00A+Nzd35MiRffr04WkFN9Pdf/DZ+useYdPKs0lkNpvbtWuHZDdIlZqaGhkZGRAQEBUVlZmZqev6yZMnjUYj+nv79u1NmzZt1KjRwoULZ82aZTQaV6xYkZmZ2bRpU8922KJFiyIiInr27OnJlV62bJnRaMzPz3e73Xg1DC8XoBW3222z2RBK9aT022y22NjYLVu2IFs8LS0tPDzcbrfzoKBr166NGDECiXUzZszAhtfhw4ctFsvcuXNdLldoaGivXr0wajt16tShQwfwIITIz8/XdX3Lli2apv373//G5hrGVuPGjZmYHBERgZgq2sLhHGgrOzsbjhem2fnz5x9//PEGDRrcfffdEydOvH79Ot4gsFgs2FyTPaT169fHxcX5//bn2b9DIpSu619++WVsbKzNZuvYseOOHTvwxtzQoUMbNmwYGRk5ffp0zIqamprk5OSAgICQkJBPP/0UK6qqqqqioqL+/ftbLJaWLVsuXboUb+QJIebMmeN2uxFTfe6556BoEhMT/fz8mjVrtnTpUgS3U1NTO3ToYLFYoqOjU1NTdV2/fv060PuDg1tVUwgoBBQCfxwB5GMg0zQqKmrJkiV8YTY1NbVVq1YOhyMqKionJ8fpdGKLCsfNbN26tUmTJp7XaDzu1KxZs+x2++LFi9PT05s1axYQEPDGG2+0b98emwDIpMRqdsyYMWazuW/fvvRRamtrkTEi57zed999WF3ff//9kCU6Orpt27awRMOHD7darZ6XfBcsWCCE+Prrr3kYIzJxBw8e3LBhw5CQkLFjxyJLCSkQWKaCII6a3LRpU3x8PN7U6dSp06ZNm2Am0tLS2rZt6+vrS4NbW1s7fPhwPz+/mJiYF1980Ww2wy2bO3duw4YNmzRpsm7dOh8fn6lTp7rd7hMnTvTt29fX1zc0NHTx4sVM3J47d66u61evXvUEwCZOnIiaffr08fHxuffee5ctW4Yc+S+//DI8PByvS/PYgj/epzdTs965RxwoMPPy6TvcW4GnzwN+ID/HBMIMcoxBPnjQ6xBS0mRwAmOOu2xkgzvEsoWW82CcTud///tfjL8FCxZomnb48GHMLjguEA1l8CyXcZwDMoHYqHxAKtpi66WlpXi5YMGCBQaDoaCggFu2PCCVyKAhHE4N4rgil/E4cQO3qEB+UAc/8bIG5jl7DRW4mc2eojfGwYo6OF2NfPIuxZSbxl1yyMqqoBBQCCgEbhIBamNYZVmnyeoLR/jU1UtyxgJJebHkdYYQts9oRKj05KfYEHfZcLduE14MU1fTckEuEoTFZOuoL9tB8MP6qIAEFfmcSex/7dq1S66JtmRB5DJ0OESQo0HU7TJXeBDMgGzduzLxW1iud+4RZKNb4DXm2AG4DmcCY463iI58fhSz7XAXP9E9HGde9eEhgSy7DZ2EYy0wZ5javHnzZpPJNHr06JycnHbt2jVv3pzjEo2yIQ4dVJCHGoYg/8sFzCWQ2rBhgxBi3Lhxubm5zZs3b9myJecGiSOXqO63eIgP+Oew43V+qgVXUAFlpDcBk9WrV+NsJ4DjcrnkI9Hk46MgBcTHyJanB/jEXVDmFIWvSczpsxJJ8qwKCgGFgELgZhCgomMB1GS1Jt9Cig+0N9QazbZsjPg4L9KaUNFRs0EZQmGyPs9gZDYSGONa2is0ALXppSTln5CC9GlMiR4/ikWzIscpaIkgL+JhyA+BD0ejA0FQDQzIbKA5MMPrxARXyImu65CLrZPb21eoj+4Rw0IAzgtcDlB50MiQYayw7+sOWV7hmoAuhezQyNVAHx1GyuxR1PScZzpjxozGjRs7HI5evXodOHAA3Ubi7EUvzlmNTiGbkB9BK7jlcT6SkpKCg4PRFt789EKGRPAg3Ti0LrsvEIRoUy4yhgLpA42VK1dqmvbNN9+QMqqxXbqP7B3cYgUUZLmoJmRXlfzIF4mMKigEFAIKgVuOAH0OrlHp1lB5QjVRAVLVU2XJyo13SfB3FaOXmmUdCMgW615HW8QB2pXU8KCX7iVL8l2GuPisbBYpLBhwuVxr1qzBu0Eyh5BRpkDGaHYZZWA11iEPFJN1WGDl21eoj+7R7ZNWUVYIKAQUAgoBhYBCQCFwQwSUe3RDiFQFhYBCQCGgEFAIKATuLASUe3Rn9beSViGgEFAIKAQUAgqBGyKg3KMbQqQqKAQUAgoBhYBCQCFwZyGg3KM7q7+VtAoBhYBCQCGgEFAI3BAB5R7dECJVQSGgEFAIKAQUAgqBOwsB5R7dWf2tpFUIKAQUAgoBhYBC4IYIKPfohhCpCgoBhYBCQCGgEFAI3FkIKPfozupvJa1CQCGgEFAIKAQUAjdEQLlHN4RIVVAIKAQUAgoBhYBC4M5CQLlHd1Z/K2kVAgoBhYBCQCGgELghAso9uiFEqoJCQCGgEFAIKAQUAncWAso9urP6W0mrEFAIKAQUAgoBhcANEfg/zk7tflan5icAAAAASUVORK5CYII=)\n",
        "\n",
        "Source: https://www.geeksforgeeks.org/python-lists/"
      ],
      "metadata": {
        "id": "zkecf_LK-vMu"
      }
    },
    {
      "cell_type": "code",
      "source": [
        "List = ['G', 'E', 'E', 'K', 'S', 'F', 'O', 'R', 'G', 'E', 'E', 'K', 'S']\n",
        "print(List)"
      ],
      "metadata": {
        "colab": {
          "base_uri": "https://localhost:8080/"
        },
        "outputId": "44c71738-6263-4b52-c6e4-e697b06cda02",
        "id": "LMX1PtEO-3oa"
      },
      "execution_count": null,
      "outputs": [
        {
          "output_type": "stream",
          "name": "stdout",
          "text": [
            "['G', 'E', 'E', 'K', 'S', 'F', 'O', 'R', 'G', 'E', 'E', 'K', 'S']\n"
          ]
        }
      ]
    },
    {
      "cell_type": "code",
      "source": [
        "# Tidak menampilkan indeks 0 / elemen pertama\n",
        "print(List[1:]) # Indeks 1 s.d akhir\n",
        "print(List[-12:]) # -12 s.d. akhir"
      ],
      "metadata": {
        "colab": {
          "base_uri": "https://localhost:8080/"
        },
        "outputId": "b5d895d3-0a47-4602-95ab-b3f752e9962c",
        "id": "mF96k7qI-3oa"
      },
      "execution_count": null,
      "outputs": [
        {
          "output_type": "stream",
          "name": "stdout",
          "text": [
            "['E', 'E', 'K', 'S', 'F', 'O', 'R', 'G', 'E', 'E', 'K', 'S']\n",
            "['E', 'E', 'K', 'S', 'F', 'O', 'R', 'G', 'E', 'E', 'K', 'S']\n"
          ]
        }
      ]
    },
    {
      "cell_type": "code",
      "source": [
        "# Menampilan indeks 5-12\n",
        "print(List[5:12]) # indeks 5 s.d. indeks 11\n",
        "print(List[-8:-1]) # indeks -8 s.d. indeks -1"
      ],
      "metadata": {
        "colab": {
          "base_uri": "https://localhost:8080/"
        },
        "outputId": "928d99c7-2c0a-46fd-c489-6565f7803bbf",
        "id": "jDLeQdvu-3oa"
      },
      "execution_count": null,
      "outputs": [
        {
          "output_type": "stream",
          "name": "stdout",
          "text": [
            "['F', 'O', 'R', 'G', 'E', 'E', 'K']\n",
            "['F', 'O', 'R', 'G', 'E', 'E', 'K']\n"
          ]
        }
      ]
    },
    {
      "cell_type": "code",
      "source": [
        "print(List[1:10])"
      ],
      "metadata": {
        "colab": {
          "base_uri": "https://localhost:8080/"
        },
        "id": "Ym9IHG5noki0",
        "outputId": "e63c7177-bac2-45e5-9ad5-ee3b727bf529"
      },
      "execution_count": null,
      "outputs": [
        {
          "output_type": "stream",
          "name": "stdout",
          "text": [
            "['E', 'E', 'K', 'S', 'F', 'O', 'R', 'G', 'E']\n"
          ]
        }
      ]
    },
    {
      "cell_type": "code",
      "source": [
        "# Menampilan indeks 1,3,7,9\n",
        "print(List[1:10:2])\n",
        "print(List[-12:-3:2])"
      ],
      "metadata": {
        "colab": {
          "base_uri": "https://localhost:8080/"
        },
        "outputId": "1eb6df98-90ac-47a4-daa7-84cb20caf821",
        "id": "yb_U-_4N-3oa"
      },
      "execution_count": null,
      "outputs": [
        {
          "output_type": "stream",
          "name": "stdout",
          "text": [
            "['E', 'K', 'F', 'R', 'E']\n",
            "['E', 'K', 'F', 'R', 'E']\n"
          ]
        }
      ]
    },
    {
      "cell_type": "code",
      "source": [
        "# Melakukan reverse\n",
        "print(List[::-1])"
      ],
      "metadata": {
        "colab": {
          "base_uri": "https://localhost:8080/"
        },
        "outputId": "a73844e4-6f8f-4205-fdc7-1ab3d5016fd7",
        "id": "PMQ6gPMQ-3oa"
      },
      "execution_count": null,
      "outputs": [
        {
          "output_type": "stream",
          "name": "stdout",
          "text": [
            "['S', 'K', 'E', 'E', 'G', 'R', 'O', 'F', 'S', 'K', 'E', 'E', 'G']\n"
          ]
        }
      ]
    },
    {
      "cell_type": "code",
      "source": [
        "# Print semua elemen\n",
        "print(List[:])"
      ],
      "metadata": {
        "colab": {
          "base_uri": "https://localhost:8080/"
        },
        "id": "aAYJdeD3_MkC",
        "outputId": "fa594481-9325-40bb-85f8-e4289a465a88"
      },
      "execution_count": null,
      "outputs": [
        {
          "output_type": "stream",
          "name": "stdout",
          "text": [
            "['G', 'E', 'E', 'K', 'S', 'F', 'O', 'R', 'G', 'E', 'E', 'K', 'S']\n"
          ]
        }
      ]
    },
    {
      "cell_type": "code",
      "source": [
        "# Example\n",
        "List = ['a', 'b', 'c', 'd', 'e', 'f', 'g', 'h', 'i', 'j']\n",
        "print(List[5:])\n",
        "print(List[:5])\n",
        "print(List[3:7])\n",
        "print(List[::2])\n",
        "print(List[3::2])\n",
        "print(List[:5:2])\n",
        "print(List[3:7:2])"
      ],
      "metadata": {
        "colab": {
          "base_uri": "https://localhost:8080/"
        },
        "id": "3s1tUsg3aA8w",
        "outputId": "a0f847bb-8e45-471d-ea06-30c258089ed9"
      },
      "execution_count": null,
      "outputs": [
        {
          "output_type": "stream",
          "name": "stdout",
          "text": [
            "['f', 'g', 'h', 'i', 'j']\n",
            "['a', 'b', 'c', 'd', 'e']\n",
            "['d', 'e', 'f', 'g']\n",
            "['a', 'c', 'e', 'g', 'i']\n",
            "['d', 'f', 'h', 'j']\n",
            "['a', 'c', 'e']\n",
            "['d', 'f']\n"
          ]
        }
      ]
    },
    {
      "cell_type": "code",
      "source": [
        "# Example\n",
        "List = ['a', 'b', 'c', 'd', 'e', 'f', 'g', 'h', 'i', 'j']\n",
        "print(List[-5:])\n",
        "print(List[:-5])\n",
        "print(List[-7:-3])\n",
        "print(List[::-1])\n",
        "print(List[-7:-3:2])\n",
        "print(List[-3:-7:-2])"
      ],
      "metadata": {
        "colab": {
          "base_uri": "https://localhost:8080/"
        },
        "id": "s8KZSpI2azT3",
        "outputId": "dbf7f372-f64d-4ce4-c268-0cb554884e71"
      },
      "execution_count": null,
      "outputs": [
        {
          "output_type": "stream",
          "name": "stdout",
          "text": [
            "['f', 'g', 'h', 'i', 'j']\n",
            "['a', 'b', 'c', 'd', 'e']\n",
            "['d', 'e', 'f', 'g']\n",
            "['j', 'i', 'h', 'g', 'f', 'e', 'd', 'c', 'b', 'a']\n",
            "['d', 'f']\n",
            "['h', 'f']\n"
          ]
        }
      ]
    },
    {
      "cell_type": "code",
      "source": [
        "# Example\n",
        "List = ['k', 'l', 'm', 'n', 'o', 'p', 'q', 'r', 's', 't']\n",
        "print(List[-4:])\n",
        "print(List[:-7])\n",
        "print(List[-5:-3])\n",
        "print(List[::-2])\n",
        "print(List[-3:-8:-3])"
      ],
      "metadata": {
        "colab": {
          "base_uri": "https://localhost:8080/"
        },
        "id": "Ejl2k_ohr3ov",
        "outputId": "e368cbc8-ed7e-4d4e-ce0f-5c7b7efba5be"
      },
      "execution_count": null,
      "outputs": [
        {
          "output_type": "stream",
          "name": "stdout",
          "text": [
            "['q', 'r', 's', 't']\n",
            "['k', 'l', 'm']\n",
            "['p', 'q']\n",
            "['t', 'r', 'p', 'n', 'l']\n",
            "['r', 'o']\n"
          ]
        }
      ]
    },
    {
      "cell_type": "markdown",
      "source": [
        "## Mengakses Elemen"
      ],
      "metadata": {
        "id": "3coqmXLYjMlF"
      }
    },
    {
      "cell_type": "code",
      "source": [
        "# Menggunakan Index\n",
        "\n",
        "List = [\"SanberCampus\", \"X\", \"ITB\"]\n",
        "print(\"index 0: \" + List[0])\n",
        "print(\"index 1: \" + List[1])\n",
        "print(\"index 2: \" + List[2])"
      ],
      "metadata": {
        "colab": {
          "base_uri": "https://localhost:8080/"
        },
        "id": "-PQl0BffjSJq",
        "outputId": "b9e2d419-67be-4161-8b9b-d31462539c0e"
      },
      "execution_count": null,
      "outputs": [
        {
          "output_type": "stream",
          "name": "stdout",
          "text": [
            "index 0: SanberCampus\n",
            "index 1: X\n",
            "index 2: ITB\n"
          ]
        }
      ]
    },
    {
      "cell_type": "code",
      "source": [
        "# Menggunakan Index untuk Nested List\n",
        "\n",
        "List = [[\"SanberCampus\", \"X\", \"ITB\"], ['Batch', 2]]\n",
        "print(\"Index 0,0: \" + List[0][0])\n",
        "print(\"Index 1,0: \" + List[1][0])\n",
        "print(\"Index 1,1: \" + str(List[1][1]))"
      ],
      "metadata": {
        "colab": {
          "base_uri": "https://localhost:8080/"
        },
        "id": "ClxWG1BAjoFH",
        "outputId": "7a1718f4-64d6-4573-8ab4-318348ded931"
      },
      "execution_count": null,
      "outputs": [
        {
          "output_type": "stream",
          "name": "stdout",
          "text": [
            "Index 0,0: SanberCampus\n",
            "Index 1,0: Batch\n",
            "Index 1,1: 2\n"
          ]
        }
      ]
    },
    {
      "cell_type": "code",
      "source": [
        "# Negative Indexing\n",
        "\n",
        "List = ['a', 'b', 'c', 'd', 'e']\n",
        "print(List[-1])\n",
        "print(List[-3])\n",
        "print(List[-5])"
      ],
      "metadata": {
        "colab": {
          "base_uri": "https://localhost:8080/"
        },
        "id": "apQ3xdrXkRy5",
        "outputId": "d99f04c1-53b9-4f6d-9650-559bde8fd84d"
      },
      "execution_count": null,
      "outputs": [
        {
          "output_type": "stream",
          "name": "stdout",
          "text": [
            "e\n",
            "c\n",
            "a\n"
          ]
        }
      ]
    },
    {
      "cell_type": "markdown",
      "source": [
        "## Add, Remove, dan Update Elemen"
      ],
      "metadata": {
        "id": "GzUpfYdkmBIi"
      }
    },
    {
      "cell_type": "markdown",
      "source": [
        "### Menambah Elemen"
      ],
      "metadata": {
        "id": "PdWnVUptmLhD"
      }
    },
    {
      "cell_type": "code",
      "source": [
        "# Metode append(): Add an element to the end of the list\n",
        "\n",
        "lst = []\n",
        "lst.append(1)\n",
        "print(lst)\n",
        "\n",
        "lst.append([2, 3, 4])\n",
        "print(lst)\n",
        "\n",
        "lst.append((5, 6))\n",
        "print(lst)"
      ],
      "metadata": {
        "colab": {
          "base_uri": "https://localhost:8080/"
        },
        "id": "ib4A7ygPmA5-",
        "outputId": "f8b0a163-02d4-47e3-a320-697db5e2b5f6"
      },
      "execution_count": null,
      "outputs": [
        {
          "output_type": "stream",
          "name": "stdout",
          "text": [
            "[1]\n",
            "[1, [2, 3, 4]]\n",
            "[1, [2, 3, 4], (5, 6)]\n"
          ]
        }
      ]
    },
    {
      "cell_type": "code",
      "source": [
        "# Metode extend(): Add all elements of a list to another list\n",
        "\n",
        "lst = [1, 2, 3, 4]\n",
        "lst.extend([5, 6, 7])\n",
        "print(lst)"
      ],
      "metadata": {
        "colab": {
          "base_uri": "https://localhost:8080/"
        },
        "id": "fDffLtkVnbqb",
        "outputId": "41cd865f-5d56-4478-b144-d50bdcedad3e"
      },
      "execution_count": null,
      "outputs": [
        {
          "output_type": "stream",
          "name": "stdout",
          "text": [
            "[1, 2, 3, 4, 5, 6, 7]\n"
          ]
        }
      ]
    },
    {
      "cell_type": "code",
      "source": [
        "# Metode insert(): Insert an item at the defined index\n",
        "\n",
        "lst = ['b', 'c', 'd', 'f']\n",
        "lst.insert(0, 'a')\n",
        "print(lst)\n",
        "\n",
        "lst.insert(4, 'e')\n",
        "print(lst)\n",
        "\n",
        "lst.insert(7, 'g')\n",
        "print(lst)"
      ],
      "metadata": {
        "colab": {
          "base_uri": "https://localhost:8080/"
        },
        "id": "tkuYhbN1m2jJ",
        "outputId": "57861f32-6628-40f0-b981-b1cc8df01160"
      },
      "execution_count": null,
      "outputs": [
        {
          "output_type": "stream",
          "name": "stdout",
          "text": [
            "['a', 'b', 'c', 'd', 'f']\n",
            "['a', 'b', 'c', 'd', 'e', 'f']\n",
            "['a', 'b', 'c', 'd', 'e', 'f', 'g']\n"
          ]
        }
      ]
    },
    {
      "cell_type": "code",
      "source": [
        "# Concat menggunakan '+'\n",
        "\n",
        "lst = ['b', 'c', 'd', 'f']\n",
        "lst = lst + ['g', 'h']\n",
        "print(lst)"
      ],
      "metadata": {
        "colab": {
          "base_uri": "https://localhost:8080/"
        },
        "id": "DfrhSsTh6Me2",
        "outputId": "f150aad1-8bbe-4700-ba71-2ca4ec807620"
      },
      "execution_count": null,
      "outputs": [
        {
          "output_type": "stream",
          "name": "stdout",
          "text": [
            "['b', 'c', 'd', 'f', 'g', 'h']\n"
          ]
        }
      ]
    },
    {
      "cell_type": "markdown",
      "source": [
        "### Menghapus Elemen"
      ],
      "metadata": {
        "id": "O-jSbabcoRAs"
      }
    },
    {
      "cell_type": "code",
      "source": [
        "# Metode remove(): Removes an item from the list\n",
        "\n",
        "lst = ['a', 'b', 'c', 'd', 'e', 'f', 'g']\n",
        "lst.remove('c')\n",
        "print(lst)"
      ],
      "metadata": {
        "colab": {
          "base_uri": "https://localhost:8080/"
        },
        "id": "87MFvADSoUrX",
        "outputId": "9c5c3071-5729-45b4-c042-6a99d0762ce8"
      },
      "execution_count": null,
      "outputs": [
        {
          "output_type": "stream",
          "name": "stdout",
          "text": [
            "['a', 'b', 'd', 'e', 'f', 'g']\n"
          ]
        }
      ]
    },
    {
      "cell_type": "code",
      "source": [
        "# Metode clear(): Removes all items from the list\n",
        "\n",
        "lst = ['a', 'b', 'c', 'd', 'e', 'f', 'g']\n",
        "lst.clear()\n",
        "print(lst)"
      ],
      "metadata": {
        "colab": {
          "base_uri": "https://localhost:8080/"
        },
        "id": "xMVW1au0o2YA",
        "outputId": "c45f9018-7596-47a4-e091-91c9d047c359"
      },
      "execution_count": null,
      "outputs": [
        {
          "output_type": "stream",
          "name": "stdout",
          "text": [
            "[]\n"
          ]
        }
      ]
    },
    {
      "cell_type": "code",
      "source": [
        "# Metode pop(): Removes and returns the item at the specified index.\n",
        "# If no index is provided, it removes and returns the last item.\n",
        "\n",
        "lst = ['a', 'b', 'c', 'd', 'e', 'f', 'g']\n",
        "lst.pop() # Menghapus index terakhir\n",
        "print(lst)\n",
        "\n",
        "lst.pop(2) # Menghapus index ke-2\n",
        "print(lst)\n",
        "\n",
        "lst.pop(4) # Menghapus index ke-2\n",
        "print(lst)"
      ],
      "metadata": {
        "colab": {
          "base_uri": "https://localhost:8080/"
        },
        "id": "GmVNQmHtodVB",
        "outputId": "9120c2ac-16e1-47c8-ab14-effc98127f8c"
      },
      "execution_count": null,
      "outputs": [
        {
          "output_type": "stream",
          "name": "stdout",
          "text": [
            "['a', 'b', 'c', 'd', 'e', 'f']\n",
            "['a', 'b', 'd', 'e', 'f']\n",
            "['a', 'b', 'd', 'e']\n"
          ]
        }
      ]
    },
    {
      "cell_type": "code",
      "source": [
        "# Menggunakan del()\n",
        "\n",
        "lst = ['a', 'b', 'c', 'd', 'e', 'f', 'g']\n",
        "del(lst[0])\n",
        "print(lst)"
      ],
      "metadata": {
        "colab": {
          "base_uri": "https://localhost:8080/"
        },
        "id": "KfIPtCJv6cFN",
        "outputId": "6e7c1180-4247-4a02-a999-a5e793d405c3"
      },
      "execution_count": null,
      "outputs": [
        {
          "output_type": "stream",
          "name": "stdout",
          "text": [
            "['b', 'c', 'd', 'e', 'f', 'g']\n"
          ]
        }
      ]
    },
    {
      "cell_type": "markdown",
      "source": [
        "### Update Elemen"
      ],
      "metadata": {
        "id": "ScqpX-hopHCb"
      }
    },
    {
      "cell_type": "code",
      "source": [
        "# Menggunakan Indeks\n",
        "\n",
        "my_list = [1, 2, 3, 4, 5]\n",
        "my_list[2] = 10\n",
        "print(my_list)"
      ],
      "metadata": {
        "colab": {
          "base_uri": "https://localhost:8080/"
        },
        "id": "b1Y8lGn-pJ7j",
        "outputId": "1e01b670-88b2-4727-9660-69de5fee3d7d"
      },
      "execution_count": null,
      "outputs": [
        {
          "output_type": "stream",
          "name": "stdout",
          "text": [
            "[1, 2, 10, 4, 5]\n"
          ]
        }
      ]
    },
    {
      "cell_type": "code",
      "source": [
        "# Menggunakan slicing\n",
        "\n",
        "my_list = [1, 2, 3, 4, 5]\n",
        "my_list[1:4] = [8, 9, 10]\n",
        "print(my_list)"
      ],
      "metadata": {
        "colab": {
          "base_uri": "https://localhost:8080/"
        },
        "id": "0N9hwjWVpgcM",
        "outputId": "d1377927-9948-41e0-dfe4-3b606e82e7d9"
      },
      "execution_count": null,
      "outputs": [
        {
          "output_type": "stream",
          "name": "stdout",
          "text": [
            "[1, 8, 9, 10, 5]\n"
          ]
        }
      ]
    },
    {
      "cell_type": "markdown",
      "source": [
        "## Built-In Function"
      ],
      "metadata": {
        "id": "qWfmeejmkkbH"
      }
    },
    {
      "cell_type": "code",
      "source": [
        "# len() : Returns length of the list or size of the list\n",
        "\n",
        "List1 = []\n",
        "print('panjang list1: ' + str(len(List1)))\n",
        "\n",
        "List2 = [1, 2, 3]\n",
        "print('panjang list2: ' + str(len(List2)))"
      ],
      "metadata": {
        "colab": {
          "base_uri": "https://localhost:8080/"
        },
        "id": "r3m9MLCTk0nk",
        "outputId": "7f7709a0-7fb6-4324-f28f-b7c4332d569b"
      },
      "execution_count": null,
      "outputs": [
        {
          "output_type": "stream",
          "name": "stdout",
          "text": [
            "panjang list1: 0\n",
            "panjang list2: 3\n"
          ]
        }
      ]
    },
    {
      "cell_type": "code",
      "source": [
        "# sum() : Sums up the numbers in the list\n",
        "\n",
        "numbers = [1, 2, 3, 4, 5]\n",
        "result = sum(numbers)\n",
        "print(result)"
      ],
      "metadata": {
        "colab": {
          "base_uri": "https://localhost:8080/"
        },
        "id": "g4ty09HDr6-_",
        "outputId": "b09c7af6-1a16-4152-cf6c-58f0069ec881"
      },
      "execution_count": null,
      "outputs": [
        {
          "output_type": "stream",
          "name": "stdout",
          "text": [
            "15\n"
          ]
        }
      ]
    },
    {
      "cell_type": "code",
      "source": [
        "# max() : return maximum element of a given list\n",
        "\n",
        "numbers = [1, 7, 3, 9, 5]\n",
        "result = max(numbers)\n",
        "print(result)"
      ],
      "metadata": {
        "colab": {
          "base_uri": "https://localhost:8080/"
        },
        "id": "b-ndqS2FsDjC",
        "outputId": "a3e2b86f-7416-42a3-ed3e-61b802ca2aed"
      },
      "execution_count": null,
      "outputs": [
        {
          "output_type": "stream",
          "name": "stdout",
          "text": [
            "9\n"
          ]
        }
      ]
    },
    {
      "cell_type": "code",
      "source": [
        "# min() : return minimum element of a given list\n",
        "\n",
        "numbers = [1, 7, 3, 9, 5]\n",
        "result = min(numbers)\n",
        "print(result)"
      ],
      "metadata": {
        "colab": {
          "base_uri": "https://localhost:8080/"
        },
        "id": "qEXhu_hZsG2D",
        "outputId": "35a04245-7951-46fa-c640-fa84f9cdb14f"
      },
      "execution_count": null,
      "outputs": [
        {
          "output_type": "stream",
          "name": "stdout",
          "text": [
            "1\n"
          ]
        }
      ]
    },
    {
      "cell_type": "markdown",
      "source": [
        "## Metode List"
      ],
      "metadata": {
        "id": "AilA1mNuq8mn"
      }
    },
    {
      "cell_type": "code",
      "source": [
        "# reverse(): Reverse the order of items in the list\n",
        "\n",
        "lst = [1, 5, 3, 4, 2]\n",
        "lst.reverse() # [::-1]\n",
        "print(lst)"
      ],
      "metadata": {
        "colab": {
          "base_uri": "https://localhost:8080/"
        },
        "id": "YWcccJ00n8SL",
        "outputId": "f7c84760-efdf-4726-9904-58f911f58d0f"
      },
      "execution_count": null,
      "outputs": [
        {
          "output_type": "stream",
          "name": "stdout",
          "text": [
            "[2, 4, 3, 5, 1]\n"
          ]
        }
      ]
    },
    {
      "cell_type": "code",
      "source": [
        "# sort(): Sort items in a list in ascending order on default\n",
        "\n",
        "lst = [1, 5, 3, 4, 2]\n",
        "lst.sort() #asc\n",
        "print(lst)\n",
        "\n",
        "lst.sort(reverse=True) #desc\n",
        "print(lst)"
      ],
      "metadata": {
        "colab": {
          "base_uri": "https://localhost:8080/"
        },
        "id": "1NAzIsXGs1sn",
        "outputId": "a68476c4-bad8-489a-a438-018bab1b7771"
      },
      "execution_count": null,
      "outputs": [
        {
          "output_type": "stream",
          "name": "stdout",
          "text": [
            "[1, 2, 3, 4, 5]\n",
            "[5, 4, 3, 2, 1]\n"
          ]
        }
      ]
    },
    {
      "cell_type": "code",
      "source": [
        "# index(): Returns the index of the first matched item\n",
        "\n",
        "lst = ['a', 'b', 'c', 'b', 'e']\n",
        "lst.index('b')"
      ],
      "metadata": {
        "colab": {
          "base_uri": "https://localhost:8080/"
        },
        "id": "ZQ8qXcsMqHHZ",
        "outputId": "b69e6cfd-8c49-4d4e-feb4-4a56e678a688"
      },
      "execution_count": null,
      "outputs": [
        {
          "output_type": "execute_result",
          "data": {
            "text/plain": [
              "1"
            ]
          },
          "metadata": {},
          "execution_count": 309
        }
      ]
    },
    {
      "cell_type": "code",
      "source": [
        "# count(): Returns the count of the number of items passed as an argument\n",
        "\n",
        "lst = ['a', 'b', 'c', 'b', 'e']\n",
        "lst.count('b')"
      ],
      "metadata": {
        "colab": {
          "base_uri": "https://localhost:8080/"
        },
        "id": "r21xrVVWqdN1",
        "outputId": "090a0bc2-09a6-4e4c-99b7-1bbbf1deb729"
      },
      "execution_count": null,
      "outputs": [
        {
          "output_type": "execute_result",
          "data": {
            "text/plain": [
              "2"
            ]
          },
          "metadata": {},
          "execution_count": 310
        }
      ]
    },
    {
      "cell_type": "code",
      "source": [
        "# copy(): Returns a copy of the list\n",
        "\n",
        "lst = ['a', 'b', 'c', 'b', 'e']\n",
        "temp = lst.copy()\n",
        "temp\n",
        "\n",
        "print(temp)\n",
        "print('lst is temp?', lst is temp)\n",
        "print('lst eq temp?',lst == temp)"
      ],
      "metadata": {
        "colab": {
          "base_uri": "https://localhost:8080/"
        },
        "id": "c_MF4ZI-tYGF",
        "outputId": "acda6d81-4d30-4d0d-8daf-fa27e28f3de0"
      },
      "execution_count": null,
      "outputs": [
        {
          "output_type": "stream",
          "name": "stdout",
          "text": [
            "['a', 'b', 'c', 'b', 'e']\n",
            "lst is temp? False\n",
            "lst eq temp? True\n"
          ]
        }
      ]
    },
    {
      "cell_type": "markdown",
      "source": [
        "# Tuple"
      ],
      "metadata": {
        "id": "iHQfGSX973U0"
      }
    },
    {
      "cell_type": "markdown",
      "source": [
        "## Inisiasi Tuple"
      ],
      "metadata": {
        "id": "-W_GJmf373U1"
      }
    },
    {
      "cell_type": "code",
      "execution_count": null,
      "metadata": {
        "colab": {
          "base_uri": "https://localhost:8080/"
        },
        "outputId": "f407e024-6b25-41b3-fabd-e37832676d07",
        "id": "TsGYkizD73U1"
      },
      "outputs": [
        {
          "output_type": "stream",
          "name": "stdout",
          "text": [
            "()\n"
          ]
        }
      ],
      "source": [
        "# Tuple Kosong\n",
        "\n",
        "my_tuple = ()\n",
        "print(my_tuple)"
      ]
    },
    {
      "cell_type": "code",
      "source": [
        "# Tuple dengan elemen\n",
        "\n",
        "number = (1)\n",
        "print(number) # Integer\n",
        "\n",
        "number = (1, )\n",
        "print(number) # Tuple\n",
        "\n",
        "numbers = (1, 2, 3, 4, 5)\n",
        "print(numbers)\n",
        "\n",
        "fruits = ('apple', 'banana', 'orange')\n",
        "print(fruits)\n",
        "\n",
        "mixed_tuple = (1, 'hello', 3.14, True)\n",
        "print(mixed_tuple)"
      ],
      "metadata": {
        "colab": {
          "base_uri": "https://localhost:8080/"
        },
        "outputId": "71ce3032-4539-44e7-c19a-91936b67ff2e",
        "id": "B5TFFeB273U1"
      },
      "execution_count": null,
      "outputs": [
        {
          "output_type": "stream",
          "name": "stdout",
          "text": [
            "1\n",
            "(1,)\n",
            "(1, 2, 3, 4, 5)\n",
            "('apple', 'banana', 'orange')\n",
            "(1, 'hello', 3.14, True)\n"
          ]
        }
      ]
    },
    {
      "cell_type": "code",
      "source": [
        "# Nested Tuple (Matrix)\n",
        "\n",
        "matrix = ((1, 2, 3), (4, 5, 6), (7, 8, 9))\n",
        "print(matrix)"
      ],
      "metadata": {
        "colab": {
          "base_uri": "https://localhost:8080/"
        },
        "outputId": "f87a7905-2b77-4af8-808f-ae0c20a79eb2",
        "id": "8DqdCQSS73U1"
      },
      "execution_count": null,
      "outputs": [
        {
          "output_type": "stream",
          "name": "stdout",
          "text": [
            "((1, 2, 3), (4, 5, 6), (7, 8, 9))\n"
          ]
        }
      ]
    },
    {
      "cell_type": "code",
      "source": [
        "# Tuple from List\n",
        "\n",
        "lst = [1, 2, 4, 5, 6]\n",
        "print(tuple(lst))"
      ],
      "metadata": {
        "colab": {
          "base_uri": "https://localhost:8080/"
        },
        "outputId": "4f79c5d8-af1d-42df-e839-46cf69f1ad2a",
        "id": "xSirhL2V73U2"
      },
      "execution_count": null,
      "outputs": [
        {
          "output_type": "stream",
          "name": "stdout",
          "text": [
            "(1, 2, 4, 5, 6)\n"
          ]
        }
      ]
    },
    {
      "cell_type": "code",
      "source": [
        "# Tuple dari String\n",
        "\n",
        "teks = 'Halo saya dari sanbercode!'\n",
        "tple = tuple(teks)\n",
        "print(tple)"
      ],
      "metadata": {
        "colab": {
          "base_uri": "https://localhost:8080/"
        },
        "outputId": "01630331-c6e1-41f5-c858-70f601f2e7ba",
        "id": "FZXkIFxa73U2"
      },
      "execution_count": null,
      "outputs": [
        {
          "output_type": "stream",
          "name": "stdout",
          "text": [
            "('H', 'a', 'l', 'o', ' ', 's', 'a', 'y', 'a', ' ', 'd', 'a', 'r', 'i', ' ', 's', 'a', 'n', 'b', 'e', 'r', 'c', 'o', 'd', 'e', '!')\n"
          ]
        }
      ]
    },
    {
      "cell_type": "code",
      "source": [
        "# Tuple dengan pengulangan\n",
        "\n",
        "tple = (1,) * 3\n",
        "print(tple)"
      ],
      "metadata": {
        "colab": {
          "base_uri": "https://localhost:8080/"
        },
        "id": "QK3NyDuV5IdA",
        "outputId": "671b8085-36a9-4b4e-c289-3ed03717ca39"
      },
      "execution_count": null,
      "outputs": [
        {
          "output_type": "stream",
          "name": "stdout",
          "text": [
            "(1, 1, 1)\n"
          ]
        }
      ]
    },
    {
      "cell_type": "markdown",
      "source": [
        "## Slicing Tuple\n",
        "\n",
        "![image.png](data:image/png;base64,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)\n",
        "\n",
        "Source: https://www.geeksforgeeks.org/python-tuples/"
      ],
      "metadata": {
        "id": "-aoB56Ws8Pvp"
      }
    },
    {
      "cell_type": "code",
      "source": [
        "Tuple1 = tuple('GEEKSFORGEEKS')\n",
        "print(Tuple1)"
      ],
      "metadata": {
        "colab": {
          "base_uri": "https://localhost:8080/"
        },
        "id": "KWPHjiSF8NfL",
        "outputId": "410eefe8-453f-41be-d694-67a20b55bda7"
      },
      "execution_count": null,
      "outputs": [
        {
          "output_type": "stream",
          "name": "stdout",
          "text": [
            "('G', 'E', 'E', 'K', 'S', 'F', 'O', 'R', 'G', 'E', 'E', 'K', 'S')\n"
          ]
        }
      ]
    },
    {
      "cell_type": "code",
      "source": [
        "# Tidak menampilkan indeks 0 / elemen pertama\n",
        "print(Tuple1[1:])\n",
        "print(Tuple1[-12:])"
      ],
      "metadata": {
        "colab": {
          "base_uri": "https://localhost:8080/"
        },
        "id": "q9Ch07C48pmg",
        "outputId": "9f784bb7-5e08-4d10-ff1d-9fd39cf0eac4"
      },
      "execution_count": null,
      "outputs": [
        {
          "output_type": "stream",
          "name": "stdout",
          "text": [
            "('E', 'E', 'K', 'S', 'F', 'O', 'R', 'G', 'E', 'E', 'K', 'S')\n",
            "('E', 'E', 'K', 'S', 'F', 'O', 'R', 'G', 'E', 'E', 'K', 'S')\n"
          ]
        }
      ]
    },
    {
      "cell_type": "code",
      "source": [
        "# Menampilan indeks 5-12\n",
        "print(Tuple1[5:12])\n",
        "print(Tuple1[-8:-1])"
      ],
      "metadata": {
        "colab": {
          "base_uri": "https://localhost:8080/"
        },
        "id": "H74Ktsl587Yy",
        "outputId": "95e0d59b-8e6d-4fbe-f2c3-7593aa8791a9"
      },
      "execution_count": null,
      "outputs": [
        {
          "output_type": "stream",
          "name": "stdout",
          "text": [
            "('F', 'O', 'R', 'G', 'E', 'E', 'K')\n",
            "('F', 'O', 'R', 'G', 'E', 'E', 'K')\n"
          ]
        }
      ]
    },
    {
      "cell_type": "code",
      "source": [
        "# Menampilan indeks 1,3,7,9\n",
        "print(Tuple1[1:10:2])\n",
        "print(Tuple1[-12:-3:2])"
      ],
      "metadata": {
        "colab": {
          "base_uri": "https://localhost:8080/"
        },
        "id": "O9XsVwBG9xeZ",
        "outputId": "f10ed031-193f-4778-a01a-0f05ae497936"
      },
      "execution_count": null,
      "outputs": [
        {
          "output_type": "stream",
          "name": "stdout",
          "text": [
            "('E', 'K', 'F', 'R', 'E')\n",
            "('E', 'K', 'F', 'R', 'E')\n"
          ]
        }
      ]
    },
    {
      "cell_type": "code",
      "source": [
        "# Melakukan reverse\n",
        "print(Tuple1[::-1])"
      ],
      "metadata": {
        "colab": {
          "base_uri": "https://localhost:8080/"
        },
        "id": "keRDC4w_8zUg",
        "outputId": "f0d65a63-ea55-4c74-be95-00304fe5585a"
      },
      "execution_count": null,
      "outputs": [
        {
          "output_type": "stream",
          "name": "stdout",
          "text": [
            "('S', 'K', 'E', 'E', 'G', 'R', 'O', 'F', 'S', 'K', 'E', 'E', 'G')\n"
          ]
        }
      ]
    },
    {
      "cell_type": "code",
      "source": [
        "# Print semua elemen\n",
        "print(Tuple1[:])"
      ],
      "metadata": {
        "colab": {
          "base_uri": "https://localhost:8080/"
        },
        "id": "glEfxLa2_RxX",
        "outputId": "7e3fe841-62a6-442b-d5ab-0f3d4a1a9b89"
      },
      "execution_count": null,
      "outputs": [
        {
          "output_type": "stream",
          "name": "stdout",
          "text": [
            "('G', 'E', 'E', 'K', 'S', 'F', 'O', 'R', 'G', 'E', 'E', 'K', 'S')\n"
          ]
        }
      ]
    },
    {
      "cell_type": "markdown",
      "source": [
        "## Mengakses Elemen"
      ],
      "metadata": {
        "id": "D_1ZRNCY73U2"
      }
    },
    {
      "cell_type": "code",
      "source": [
        "# Menggunakan Index\n",
        "\n",
        "Tuple = (\"SanberCampus\", \"X\", \"ITB\")\n",
        "print(\"index 0: \" + Tuple[0])\n",
        "print(\"index 1: \" + Tuple[1])\n",
        "print(\"index 2: \" + Tuple[2])"
      ],
      "metadata": {
        "colab": {
          "base_uri": "https://localhost:8080/"
        },
        "outputId": "90c93cf6-e7df-438f-8457-20977ccca50f",
        "id": "bTE3gr0o73U2"
      },
      "execution_count": null,
      "outputs": [
        {
          "output_type": "stream",
          "name": "stdout",
          "text": [
            "index 0: SanberCampus\n",
            "index 1: X\n",
            "index 2: ITB\n"
          ]
        }
      ]
    },
    {
      "cell_type": "code",
      "source": [
        "# Menggunakan Unpacking\n",
        "\n",
        "Tuple = (\"SanberCampus\", \"X\", \"ITB\")\n",
        "a, b, c = Tuple\n",
        "\n",
        "# a, b, c = \"SanberCampus\", \"X\", \"ITB\"\n",
        "\n",
        "print(a)\n",
        "print(b)\n",
        "print(c)"
      ],
      "metadata": {
        "colab": {
          "base_uri": "https://localhost:8080/"
        },
        "id": "tz11kxD45W4T",
        "outputId": "300efcbe-96db-47d9-888e-31ff55608f19"
      },
      "execution_count": null,
      "outputs": [
        {
          "output_type": "stream",
          "name": "stdout",
          "text": [
            "SanberCampus\n",
            "X\n",
            "ITB\n"
          ]
        }
      ]
    },
    {
      "cell_type": "code",
      "source": [
        "# Menggunakan Index untuk Nested Tuple\n",
        "\n",
        "Tuple = ((\"SanberCampus\", \"X\", \"ITB\"), ('Batch', 2))\n",
        "print(\"Index 0,0: \" + Tuple[0][0])\n",
        "print(\"Index 1,0: \" + Tuple[1][0])\n",
        "print(\"Index 1,1: \" + str(Tuple[1][1]))"
      ],
      "metadata": {
        "colab": {
          "base_uri": "https://localhost:8080/"
        },
        "outputId": "d8c55976-98ce-43a9-cefa-c30c20bc6770",
        "id": "wWW_xqEA73U2"
      },
      "execution_count": null,
      "outputs": [
        {
          "output_type": "stream",
          "name": "stdout",
          "text": [
            "Index 0,0: SanberCampus\n",
            "Index 1,0: Batch\n",
            "Index 1,1: 2\n"
          ]
        }
      ]
    },
    {
      "cell_type": "code",
      "source": [
        "# Negative Indexing\n",
        "\n",
        "Tuple = ('a', 'b', 'c', 'd', 'e')\n",
        "print(Tuple[-1])\n",
        "print(Tuple[-3])\n",
        "print(Tuple[-5])"
      ],
      "metadata": {
        "colab": {
          "base_uri": "https://localhost:8080/"
        },
        "outputId": "bf35109b-df0a-4773-c35e-b4b9688e2ffa",
        "id": "fXKWHy1Z73U2"
      },
      "execution_count": null,
      "outputs": [
        {
          "output_type": "stream",
          "name": "stdout",
          "text": [
            "e\n",
            "c\n",
            "a\n"
          ]
        }
      ]
    },
    {
      "cell_type": "markdown",
      "source": [
        "## Add, Remove, dan Update Elemen"
      ],
      "metadata": {
        "id": "5NpRBemh73U2"
      }
    },
    {
      "cell_type": "markdown",
      "source": [
        "### Menambah Elemen"
      ],
      "metadata": {
        "id": "qfaVt1qD73U3"
      }
    },
    {
      "cell_type": "code",
      "source": [
        "# Concat Tuple\n",
        "\n",
        "Tuple1 = (0, 1, 2, 3)\n",
        "Tuple2 = ('a', 'b', 'c')\n",
        "\n",
        "Tuple3 = Tuple1 + Tuple2\n",
        "print(Tuple3)"
      ],
      "metadata": {
        "colab": {
          "base_uri": "https://localhost:8080/"
        },
        "id": "c3hD132K5lIH",
        "outputId": "35a0000e-8b76-46a9-e38f-21b81e5770be"
      },
      "execution_count": null,
      "outputs": [
        {
          "output_type": "stream",
          "name": "stdout",
          "text": [
            "(0, 1, 2, 3, 'a', 'b', 'c')\n"
          ]
        }
      ]
    },
    {
      "cell_type": "markdown",
      "source": [
        "## Menghapus Tuple"
      ],
      "metadata": {
        "id": "vfqsAow_sf5p"
      }
    },
    {
      "cell_type": "code",
      "source": [
        "Tuple1 = (0, 1, 2, 3, 4)\n",
        "del Tuple1"
      ],
      "metadata": {
        "id": "CBPGRY_wsi1n"
      },
      "execution_count": null,
      "outputs": []
    },
    {
      "cell_type": "markdown",
      "source": [
        "### Keterangan Tambahan\n",
        "\n",
        "Tuple tidak memiliki metode append(), insert(), remove(), pop() dan clear()"
      ],
      "metadata": {
        "id": "qF_aXu5s7Ttt"
      }
    },
    {
      "cell_type": "markdown",
      "source": [
        "## Built-In Function"
      ],
      "metadata": {
        "id": "eS8joPj673U3"
      }
    },
    {
      "cell_type": "code",
      "source": [
        "# len() : Returns length of the tuple or size of the tuple\n",
        "\n",
        "Tuple1 = ()\n",
        "print('panjang tuple1: ' + str(len(Tuple1)))\n",
        "\n",
        "Tuple2 = (1, 2, 3)\n",
        "print('panjang tuple2: ' + str(len(Tuple2)))"
      ],
      "metadata": {
        "colab": {
          "base_uri": "https://localhost:8080/"
        },
        "outputId": "687bd0a4-1d84-4185-ee88-cbf6f74bb7f2",
        "id": "5PmeA3_Y73U3"
      },
      "execution_count": null,
      "outputs": [
        {
          "output_type": "stream",
          "name": "stdout",
          "text": [
            "panjang tuple1: 0\n",
            "panjang tuple2: 3\n"
          ]
        }
      ]
    },
    {
      "cell_type": "code",
      "source": [
        "# sum() : Sums up the numbers in the tuple\n",
        "\n",
        "numbers = (1, 2, 3, 4, 5)\n",
        "result = sum(numbers)\n",
        "print(result)"
      ],
      "metadata": {
        "colab": {
          "base_uri": "https://localhost:8080/"
        },
        "outputId": "f7c22030-fc58-487c-8a76-ea53b95e183d",
        "id": "6ALDggqL73U3"
      },
      "execution_count": null,
      "outputs": [
        {
          "output_type": "stream",
          "name": "stdout",
          "text": [
            "15\n"
          ]
        }
      ]
    },
    {
      "cell_type": "code",
      "source": [
        "# max() : return maximum element of a given tuple\n",
        "\n",
        "numbers = (1, 7, 3, 9, 5)\n",
        "result = max(numbers)\n",
        "print(result)"
      ],
      "metadata": {
        "colab": {
          "base_uri": "https://localhost:8080/"
        },
        "outputId": "f7257b41-7a12-4b94-a751-4bf2409597c0",
        "id": "ANj9wPXz73U3"
      },
      "execution_count": null,
      "outputs": [
        {
          "output_type": "stream",
          "name": "stdout",
          "text": [
            "9\n"
          ]
        }
      ]
    },
    {
      "cell_type": "code",
      "source": [
        "# min() : return minimum element of a given tuple\n",
        "\n",
        "numbers = (1, 7, 3, 9, 5)\n",
        "result = min(numbers)\n",
        "print(result)"
      ],
      "metadata": {
        "colab": {
          "base_uri": "https://localhost:8080/"
        },
        "outputId": "d06134dd-49ba-4a13-9277-04f09a9026d7",
        "id": "t2-aimQ573U3"
      },
      "execution_count": null,
      "outputs": [
        {
          "output_type": "stream",
          "name": "stdout",
          "text": [
            "1\n"
          ]
        }
      ]
    },
    {
      "cell_type": "code",
      "source": [
        "# sorted(): input elements in the tuple and return a new sorted list\n",
        "\n",
        "tple = (5, 4, 1, 3, 2)\n",
        "sorted(tple)\n",
        "\n",
        "lst = [1, 5, 3, 4, 2]\n",
        "lst.sort() #asc\n",
        "print(lst)"
      ],
      "metadata": {
        "colab": {
          "base_uri": "https://localhost:8080/"
        },
        "id": "cxEfowfttONd",
        "outputId": "651e5224-a8f9-48c5-dd54-f4ab049e3e97"
      },
      "execution_count": null,
      "outputs": [
        {
          "output_type": "stream",
          "name": "stdout",
          "text": [
            "[1, 2, 3, 4, 5]\n"
          ]
        }
      ]
    },
    {
      "cell_type": "markdown",
      "source": [
        "## Metode Tuple\n",
        "\n",
        "Metode tuple lebih sediki daripada metode list. Tuple tidak memiliki metode seperti sort(), reverse(), dan copy()."
      ],
      "metadata": {
        "id": "dDOjRAgj73U3"
      }
    },
    {
      "cell_type": "code",
      "source": [
        "# index(): Returns the index of the first matched item\n",
        "\n",
        "tple = ('a', 'b', 'c', 'b', 'e')\n",
        "tple.index('b')"
      ],
      "metadata": {
        "colab": {
          "base_uri": "https://localhost:8080/"
        },
        "outputId": "8df9c928-1a60-4f1c-f51f-7750a67c59b8",
        "id": "FN5CfO2P73U3"
      },
      "execution_count": null,
      "outputs": [
        {
          "output_type": "execute_result",
          "data": {
            "text/plain": [
              "1"
            ]
          },
          "metadata": {},
          "execution_count": 335
        }
      ]
    },
    {
      "cell_type": "code",
      "source": [
        "# count(): Returns the count of the number of items passed as an argument\n",
        "\n",
        "tple = ('a', 'b', 'c', 'b', 'e')\n",
        "tple.count('b')"
      ],
      "metadata": {
        "colab": {
          "base_uri": "https://localhost:8080/"
        },
        "outputId": "d7baa840-8d2b-4447-aad6-a60d4178b61f",
        "id": "94s1tCF973U3"
      },
      "execution_count": null,
      "outputs": [
        {
          "output_type": "execute_result",
          "data": {
            "text/plain": [
              "2"
            ]
          },
          "metadata": {},
          "execution_count": 336
        }
      ]
    },
    {
      "cell_type": "markdown",
      "source": [
        "# Set"
      ],
      "metadata": {
        "id": "8qiJSKCMSE7E"
      }
    },
    {
      "cell_type": "markdown",
      "source": [
        "## Inisiasi Set"
      ],
      "metadata": {
        "id": "nKBt9hVsSE7L"
      }
    },
    {
      "cell_type": "code",
      "execution_count": null,
      "metadata": {
        "colab": {
          "base_uri": "https://localhost:8080/"
        },
        "outputId": "06ccfef9-c395-4ea7-d09f-34ee2f68e665",
        "id": "tGQEZtYXSE7L"
      },
      "outputs": [
        {
          "output_type": "stream",
          "name": "stdout",
          "text": [
            "set()\n",
            "<class 'set'>\n"
          ]
        }
      ],
      "source": [
        "# Set Kosong\n",
        "\n",
        "my_set = set()\n",
        "print(my_set)\n",
        "print(type(my_set))"
      ]
    },
    {
      "cell_type": "code",
      "source": [
        "# TIDAK BISA SEBAGAI BERIKUT\n",
        "\n",
        "my_set = {}\n",
        "print(my_set)\n",
        "print(type(my_set))"
      ],
      "metadata": {
        "colab": {
          "base_uri": "https://localhost:8080/"
        },
        "id": "SiAFRvuYA1qf",
        "outputId": "2c230dac-9514-4ad3-be18-15dbb8fbb9b3"
      },
      "execution_count": null,
      "outputs": [
        {
          "output_type": "stream",
          "name": "stdout",
          "text": [
            "{}\n",
            "<class 'dict'>\n"
          ]
        }
      ]
    },
    {
      "cell_type": "code",
      "source": [
        "# Set dengan elemen\n",
        "\n",
        "numbers = {1, 2, 3, 4, 5}\n",
        "print(numbers)\n",
        "\n",
        "fruits = {'apple', 'banana', 'orange'}\n",
        "print(fruits)\n",
        "\n",
        "mixed_set = {1, 'hello', 3.14, True}\n",
        "print(mixed_set)"
      ],
      "metadata": {
        "colab": {
          "base_uri": "https://localhost:8080/"
        },
        "outputId": "3038a94b-1b71-4577-ca2b-2116158b67fb",
        "id": "h8dikjezSE7L"
      },
      "execution_count": null,
      "outputs": [
        {
          "output_type": "stream",
          "name": "stdout",
          "text": [
            "{1, 2, 3, 4, 5}\n",
            "{'apple', 'orange', 'banana'}\n",
            "{'hello', 1, 3.14}\n"
          ]
        }
      ]
    },
    {
      "cell_type": "code",
      "source": [
        "# Set dari List dan Tuple\n",
        "\n",
        "from_list = set([1, 2, 3, 4, 5])\n",
        "print(from_list)\n",
        "\n",
        "from_tuple = set((1, 2, 3, 4, 5))\n",
        "print(from_tuple)"
      ],
      "metadata": {
        "colab": {
          "base_uri": "https://localhost:8080/"
        },
        "outputId": "32f669d2-684f-4d09-9b20-645e4d982e15",
        "id": "BxzfSjX9SE7L"
      },
      "execution_count": null,
      "outputs": [
        {
          "output_type": "stream",
          "name": "stdout",
          "text": [
            "{1, 2, 3, 4, 5}\n",
            "{1, 2, 3, 4, 5}\n"
          ]
        }
      ]
    },
    {
      "cell_type": "code",
      "source": [
        "# Set dari String\n",
        "\n",
        "teks = 'Halo saya dari sanbercode!'\n",
        "my_set = set(teks)\n",
        "print(my_set)"
      ],
      "metadata": {
        "colab": {
          "base_uri": "https://localhost:8080/"
        },
        "outputId": "2d57d212-e560-49a1-8aa6-c4f246b6690d",
        "id": "yEEVT4B4SE7L"
      },
      "execution_count": null,
      "outputs": [
        {
          "output_type": "stream",
          "name": "stdout",
          "text": [
            "{'!', 'a', 's', ' ', 'd', 'o', 'n', 'H', 'b', 'l', 'r', 'i', 'y', 'c', 'e'}\n"
          ]
        }
      ]
    },
    {
      "cell_type": "code",
      "source": [
        "# Set Comprehension\n",
        "\n",
        "squares = {x**2 for x in range(1, 6)}\n",
        "print(squares)\n",
        "\n",
        "odd_square = {x ** 2 for x in range(1, 11) if x % 2 == 1}\n",
        "print(odd_square)"
      ],
      "metadata": {
        "colab": {
          "base_uri": "https://localhost:8080/"
        },
        "outputId": "a06e64b7-1cfb-4b00-ac35-7179f8cf83b2",
        "id": "mpr1qxQLSE7M"
      },
      "execution_count": null,
      "outputs": [
        {
          "output_type": "stream",
          "name": "stdout",
          "text": [
            "{1, 4, 9, 16, 25}\n",
            "{1, 9, 81, 49, 25}\n"
          ]
        }
      ]
    },
    {
      "cell_type": "markdown",
      "source": [
        "## Add, Remove, dan Update Elemen"
      ],
      "metadata": {
        "id": "pWl4OSmhSE7M"
      }
    },
    {
      "cell_type": "markdown",
      "source": [
        "### Menambah Elemen"
      ],
      "metadata": {
        "id": "eDh8jCS2SE7M"
      }
    },
    {
      "cell_type": "code",
      "source": [
        "# Metode add(): Adds an element to a set\n",
        "\n",
        "my_set = set()\n",
        "my_set.add(1)\n",
        "print(my_set)\n",
        "\n",
        "my_set.add((2, 3))\n",
        "print(my_set)"
      ],
      "metadata": {
        "colab": {
          "base_uri": "https://localhost:8080/"
        },
        "outputId": "bf8b4357-266f-4599-c741-05c68bf8c2ce",
        "id": "fUgM2INUSE7M"
      },
      "execution_count": null,
      "outputs": [
        {
          "output_type": "stream",
          "name": "stdout",
          "text": [
            "{1}\n",
            "{(2, 3), 1}\n"
          ]
        }
      ]
    },
    {
      "cell_type": "code",
      "source": [
        "# Metode update(): Updates a set with the union of itself and others\n",
        "\n",
        "my_set = set([4, 5, (6, 7)])\n",
        "my_set.update([8, 9])\n",
        "print(my_set)"
      ],
      "metadata": {
        "colab": {
          "base_uri": "https://localhost:8080/"
        },
        "outputId": "6eb430b9-833b-480c-e174-9bd4ce2c1665",
        "id": "2B0roDwJSE7M"
      },
      "execution_count": null,
      "outputs": [
        {
          "output_type": "stream",
          "name": "stdout",
          "text": [
            "{4, 5, 8, 9, (6, 7)}\n"
          ]
        }
      ]
    },
    {
      "cell_type": "markdown",
      "source": [
        "### Menghapus Elemen"
      ],
      "metadata": {
        "id": "INMshgizSE7M"
      }
    },
    {
      "cell_type": "code",
      "source": [
        "# Metode remove(): Removes an item from the set\n",
        "\n",
        "my_set = set(['a', 'b', 'c', 'd', 'e', 'f', 'g'])\n",
        "my_set.remove('c')\n",
        "print(my_set)"
      ],
      "metadata": {
        "colab": {
          "base_uri": "https://localhost:8080/"
        },
        "outputId": "e42ea07b-4d4f-4349-afc2-fc8c3e954585",
        "id": "lICaWPVESE7M"
      },
      "execution_count": null,
      "outputs": [
        {
          "output_type": "stream",
          "name": "stdout",
          "text": [
            "{'a', 'd', 'g', 'b', 'f', 'e'}\n"
          ]
        }
      ]
    },
    {
      "cell_type": "code",
      "source": [
        "# Metode clear(): Removes all elements form a set\n",
        "\n",
        "my_set = set(['a', 'b', 'c', 'd', 'e', 'f', 'g'])\n",
        "my_set.clear()\n",
        "print(my_set)"
      ],
      "metadata": {
        "colab": {
          "base_uri": "https://localhost:8080/"
        },
        "outputId": "35737773-9dc7-44a8-b87c-f04e21ac6fe7",
        "id": "00x8Yp_hSE7M"
      },
      "execution_count": null,
      "outputs": [
        {
          "output_type": "stream",
          "name": "stdout",
          "text": [
            "set()\n"
          ]
        }
      ]
    },
    {
      "cell_type": "code",
      "source": [
        "# Metode discard(): Removes all items from the set\n",
        "\n",
        "my_set = set(['a', 'b', 'c', 'd', 'e', 'f', 'g'])\n",
        "my_set.discard('b')\n",
        "print(my_set)"
      ],
      "metadata": {
        "colab": {
          "base_uri": "https://localhost:8080/"
        },
        "outputId": "62687b16-aee9-4a99-ed75-e2ffc35bc896",
        "id": "-Oa86jqYSE7M"
      },
      "execution_count": null,
      "outputs": [
        {
          "output_type": "stream",
          "name": "stdout",
          "text": [
            "{'a', 'd', 'g', 'f', 'c', 'e'}\n"
          ]
        }
      ]
    },
    {
      "cell_type": "code",
      "source": [
        "# Metode pop(): Removes and returns an arbitrary set element.\n",
        "# Raise KeyError if the set is empty\n",
        "\n",
        "\n",
        "my_set = set(['a', 'b', 'c', 'd', 'e', 'f', 'g'])\n",
        "my_set.pop() # Menghapus 1 elemen secara random\n",
        "print(my_set)"
      ],
      "metadata": {
        "colab": {
          "base_uri": "https://localhost:8080/"
        },
        "outputId": "e0d381f9-d3fe-4128-f2e7-2b7b6c6c0483",
        "id": "xBKtdQGKSE7M"
      },
      "execution_count": null,
      "outputs": [
        {
          "output_type": "stream",
          "name": "stdout",
          "text": [
            "{'d', 'g', 'b', 'f', 'c', 'e'}\n"
          ]
        }
      ]
    },
    {
      "cell_type": "markdown",
      "source": [
        "## Operasi Himpunan"
      ],
      "metadata": {
        "id": "MhtsEDWCSE7M"
      }
    },
    {
      "cell_type": "code",
      "source": [
        "# union() : Returns the union of sets in a new set\n",
        "\n",
        "set1 = {1, 2, 3, 4, 5}\n",
        "set2 = {4, 5, 6, 7, 8}\n",
        "my_set = set1.union(set2)\n",
        "print(my_set)\n",
        "\n",
        "my_set = set1 | set2\n",
        "print(my_set)"
      ],
      "metadata": {
        "colab": {
          "base_uri": "https://localhost:8080/"
        },
        "outputId": "c681617b-3fa4-4656-bf8e-42385370a541",
        "id": "GC-Km0tdSE7M"
      },
      "execution_count": null,
      "outputs": [
        {
          "output_type": "stream",
          "name": "stdout",
          "text": [
            "{1, 2, 3, 4, 5, 6, 7, 8}\n",
            "{1, 2, 3, 4, 5, 6, 7, 8}\n"
          ]
        }
      ]
    },
    {
      "cell_type": "code",
      "source": [
        "# difference() : Returns the difference of two or more sets as a new set\n",
        "\n",
        "set1 = {1, 2, 3, 4, 5}\n",
        "set2 = {4, 5, 6, 7, 8}\n",
        "\n",
        "my_set = set1.difference(set2)\n",
        "print('set1 - set2: ', my_set)\n",
        "\n",
        "my_set = set1 - set2\n",
        "print('set1 - set2: ', my_set)\n",
        "\n",
        "my_set = set2 - set1\n",
        "print('set2 - set1: ', my_set)\n",
        "\n",
        "my_set = set2.difference(set1)\n",
        "print('set2 - set1: ', my_set)"
      ],
      "metadata": {
        "colab": {
          "base_uri": "https://localhost:8080/"
        },
        "id": "wEFrW0cdHcgT",
        "outputId": "97d45ae6-fa52-4dce-b1cf-733a721af68c"
      },
      "execution_count": null,
      "outputs": [
        {
          "output_type": "stream",
          "name": "stdout",
          "text": [
            "set1 - set2:  {1, 2, 3}\n",
            "set1 - set2:  {1, 2, 3}\n",
            "set2 - set1:  {8, 6, 7}\n",
            "set2 - set1:  {8, 6, 7}\n"
          ]
        }
      ]
    },
    {
      "cell_type": "code",
      "source": [
        "# difference_update() : Removes all elements of another set from this set\n",
        "\n",
        "set1 = {1, 2, 3, 4, 5}\n",
        "set2 = {4, 5, 6, 7, 8}\n",
        "\n",
        "set1 = set1.difference(set2)\n",
        "\n",
        "#or\n",
        "\n",
        "set1.difference_update(set2)\n",
        "print(set1)"
      ],
      "metadata": {
        "colab": {
          "base_uri": "https://localhost:8080/"
        },
        "outputId": "b358b362-6da6-41e9-b623-39c8eb607043",
        "id": "kbKkhPF3SE7N"
      },
      "execution_count": null,
      "outputs": [
        {
          "output_type": "stream",
          "name": "stdout",
          "text": [
            "{1, 2, 3}\n"
          ]
        }
      ]
    },
    {
      "cell_type": "code",
      "source": [
        "# intersection() : Returns the intersection of two sets as a new set\n",
        "\n",
        "set1 = {1, 2, 3, 4, 5}\n",
        "set2 = {4, 5, 6, 7, 8}\n",
        "my_set = set1.intersection(set2)\n",
        "print(my_set)\n",
        "\n",
        "my_set = set1 & set2\n",
        "print(my_set)"
      ],
      "metadata": {
        "colab": {
          "base_uri": "https://localhost:8080/"
        },
        "outputId": "52b48643-20ad-4cb4-f348-1cd364dce471",
        "id": "Xl7ba68iSE7N"
      },
      "execution_count": null,
      "outputs": [
        {
          "output_type": "stream",
          "name": "stdout",
          "text": [
            "{4, 5}\n",
            "{4, 5}\n"
          ]
        }
      ]
    },
    {
      "cell_type": "code",
      "source": [
        "# intersection_update() : Updates the set with the intersection of itself and another\n",
        "\n",
        "set1 = {1, 2, 3, 4, 5}\n",
        "set2 = {4, 5, 6, 7, 8}\n",
        "\n",
        "set1.intersection_update(set2)\n",
        "print(set1)"
      ],
      "metadata": {
        "colab": {
          "base_uri": "https://localhost:8080/"
        },
        "id": "Yyrp6ikrIPvw",
        "outputId": "cf7a8856-9341-422b-e771-1988c358472a"
      },
      "execution_count": null,
      "outputs": [
        {
          "output_type": "stream",
          "name": "stdout",
          "text": [
            "{4, 5}\n"
          ]
        }
      ]
    },
    {
      "cell_type": "code",
      "source": [
        "# symmetric_difference() : Returns the symmetric difference of two sets as a new set\n",
        "\n",
        "set1 = {1, 2, 3, 4, 5}\n",
        "set2 = {4, 5, 6, 7, 8}\n",
        "\n",
        "my_set = set1.symmetric_difference(set2)\n",
        "print(my_set)\n",
        "\n",
        "my_set = set1 ^ set2\n",
        "print(my_set)"
      ],
      "metadata": {
        "colab": {
          "base_uri": "https://localhost:8080/"
        },
        "id": "GKtsr0PRJMwW",
        "outputId": "469c8636-3d3a-4acd-d278-72f272a31468"
      },
      "execution_count": null,
      "outputs": [
        {
          "output_type": "stream",
          "name": "stdout",
          "text": [
            "{1, 2, 3, 6, 7, 8}\n",
            "{1, 2, 3, 6, 7, 8}\n"
          ]
        }
      ]
    },
    {
      "cell_type": "code",
      "source": [
        "# symmetric_difference_update() : Updates a set with the symmetric difference of itself and another\n",
        "\n",
        "set1 = {1, 2, 3, 4, 5}\n",
        "set2 = {4, 5, 6, 7, 8}\n",
        "set1.symmetric_difference_update(set2)\n",
        "print(set1)"
      ],
      "metadata": {
        "colab": {
          "base_uri": "https://localhost:8080/"
        },
        "id": "4td5TpCpJMZU",
        "outputId": "881b3cc2-f9a0-4908-ba46-08bb31a75327"
      },
      "execution_count": null,
      "outputs": [
        {
          "output_type": "stream",
          "name": "stdout",
          "text": [
            "{1, 2, 3, 6, 7, 8}\n"
          ]
        }
      ]
    },
    {
      "cell_type": "code",
      "source": [
        "# isdisjoint() : Returns True if two sets have a null intersection\n",
        "\n",
        "set1 = {1, 2, 3, 4, 5}\n",
        "set2 = {4, 5, 6, 7, 8}\n",
        "\n",
        "my_set = set1.isdisjoint(set2)\n",
        "print(my_set)\n",
        "\n",
        "set1 = {1, 2, 3}\n",
        "set2 = {4, 5, 6}\n",
        "\n",
        "my_set = set1.isdisjoint(set2)\n",
        "print(my_set)"
      ],
      "metadata": {
        "colab": {
          "base_uri": "https://localhost:8080/"
        },
        "outputId": "6b88d0c7-b571-4345-bdb1-30b373bb8d8e",
        "id": "JMJ_qZYaSE7N"
      },
      "execution_count": null,
      "outputs": [
        {
          "output_type": "stream",
          "name": "stdout",
          "text": [
            "False\n",
            "True\n"
          ]
        }
      ]
    },
    {
      "cell_type": "code",
      "source": [
        "# issubset() : Returns True if another set contains this set. Himpunan bagian sejati.\n",
        "\n",
        "set1 = {4, 5}\n",
        "set2 = {4, 5, 6, 7, 8}\n",
        "\n",
        "my_set = set1.issubset(set2) # True\n",
        "print(my_set)\n",
        "\n",
        "set1 = {1, 2, 3, 4, 5}\n",
        "set2 = {4, 5, 6}\n",
        "\n",
        "my_set = set1.issubset(set2) # False\n",
        "print(my_set)\n",
        "\n",
        "set1 = {1, 2, 3, 4, 5}\n",
        "set2 = {1, 2, 3, 4, 5}\n",
        "\n",
        "my_set = set1.issubset(set2) # True; Apakah set 1 himupunan bagian sejati dari set 2?\n",
        "print(my_set)"
      ],
      "metadata": {
        "colab": {
          "base_uri": "https://localhost:8080/"
        },
        "id": "eu2MzH7vIgOI",
        "outputId": "5d1cd8c9-6df9-4267-c9be-32222df6b93c"
      },
      "execution_count": null,
      "outputs": [
        {
          "output_type": "stream",
          "name": "stdout",
          "text": [
            "True\n",
            "False\n",
            "True\n"
          ]
        }
      ]
    },
    {
      "cell_type": "code",
      "source": [
        "# issuperset() : Returns True if this set contains another set\n",
        "\n",
        "set1 = {4, 5, 6, 7, 8, 9, 10}\n",
        "set2 = {4, 5, 6, 7, 8}\n",
        "\n",
        "my_set = set1.issuperset(set2)\n",
        "print(my_set)\n",
        "\n",
        "set1 = {4, 5, 6}\n",
        "set2 = {4, 5, 6}\n",
        "\n",
        "my_set = set1.issuperset(set2)\n",
        "print(my_set)\n",
        "\n",
        "set1 = {'kucing', 'anjing'}\n",
        "set2 = {'kucing', 'anjing', 6}\n",
        "\n",
        "my_set = set1.issuperset(set2)\n",
        "print(my_set)"
      ],
      "metadata": {
        "colab": {
          "base_uri": "https://localhost:8080/"
        },
        "id": "VqHAHY09I8H_",
        "outputId": "4a878f4a-2e10-4150-f102-9e4cca86fe16"
      },
      "execution_count": null,
      "outputs": [
        {
          "output_type": "stream",
          "name": "stdout",
          "text": [
            "True\n",
            "True\n",
            "False\n"
          ]
        }
      ]
    },
    {
      "cell_type": "markdown",
      "source": [
        "# Dictionary"
      ],
      "metadata": {
        "id": "M4ydajAtJkP0"
      }
    },
    {
      "cell_type": "markdown",
      "source": [
        "## Inisiasi Dictionary"
      ],
      "metadata": {
        "id": "WX2HPtG8JkP0"
      }
    },
    {
      "cell_type": "code",
      "execution_count": null,
      "metadata": {
        "colab": {
          "base_uri": "https://localhost:8080/"
        },
        "outputId": "2748616c-b062-4698-dbeb-f70d549a5575",
        "id": "iLqD8xcTJkP1"
      },
      "outputs": [
        {
          "output_type": "stream",
          "name": "stdout",
          "text": [
            "{}\n",
            "<class 'dict'>\n",
            "{}\n",
            "<class 'dict'>\n"
          ]
        }
      ],
      "source": [
        "# Dict Kosong\n",
        "\n",
        "my_dict = {}\n",
        "print(my_dict)\n",
        "print(type(my_dict))\n",
        "\n",
        "my_dict = dict()\n",
        "print(my_dict)\n",
        "print(type(my_dict))"
      ]
    },
    {
      "cell_type": "code",
      "source": [
        "# Dict dengan elemen\n",
        "\n",
        "my_dict = {'kunci1': 'nilai1', 'kunci2': 'nilai2', 'kunci3': 'nilai3'}\n",
        "print(my_dict)\n",
        "\n",
        "my_dict = {'Name': 'SanberCampus', 2024: [1, 2, 3, 4]}\n",
        "print(my_dict)"
      ],
      "metadata": {
        "colab": {
          "base_uri": "https://localhost:8080/"
        },
        "outputId": "e49a04e3-a04d-4afe-ecdb-a899ed6ee573",
        "id": "a7SPg3dYJkP1"
      },
      "execution_count": null,
      "outputs": [
        {
          "output_type": "stream",
          "name": "stdout",
          "text": [
            "{'kunci1': 'nilai1', 'kunci2': 'nilai2', 'kunci3': 'nilai3'}\n",
            "{'Name': 'SanberCampus', 2024: [1, 2, 3, 4]}\n"
          ]
        }
      ]
    },
    {
      "cell_type": "code",
      "source": [
        "# Dict dari List of Tuple Pairs\n",
        "\n",
        "my_dict = dict([\n",
        "    (1, 'Batch 1'),\n",
        "    (2, 'Batch 2')\n",
        "    ])\n",
        "print(my_dict)"
      ],
      "metadata": {
        "colab": {
          "base_uri": "https://localhost:8080/"
        },
        "id": "lGSY-UNoM4I1",
        "outputId": "634e46d8-6d66-4480-c7e1-636fa4dad23f"
      },
      "execution_count": null,
      "outputs": [
        {
          "output_type": "stream",
          "name": "stdout",
          "text": [
            "{1: 'Batch 1', 2: 'Batch 2'}\n"
          ]
        }
      ]
    },
    {
      "cell_type": "code",
      "source": [
        "# Dict dari List Keys dan Values dengan Fungsi Zip\n",
        "\n",
        "keys = ['kunci1', 'kunci2', 'kunci3']\n",
        "values = ['nilai1', 'nilai2', 'nilai3']\n",
        "my_dict = dict(zip(keys, values))\n",
        "print(my_dict)"
      ],
      "metadata": {
        "colab": {
          "base_uri": "https://localhost:8080/"
        },
        "outputId": "27a74f64-5be2-4397-c396-0a6e3a558b42",
        "id": "VPeHBVpuJkP1"
      },
      "execution_count": null,
      "outputs": [
        {
          "output_type": "stream",
          "name": "stdout",
          "text": [
            "{'kunci1': 'nilai1', 'kunci2': 'nilai2', 'kunci3': 'nilai3'}\n"
          ]
        }
      ]
    },
    {
      "cell_type": "code",
      "source": [
        "# Dict dengan metode fromkeys()\n",
        "\n",
        "keys = ['kunci1', 'kunci2', 'kunci3']\n",
        "default_value = 'nilai_default'\n",
        "my_dict = dict.fromkeys(keys, default_value)\n",
        "print(my_dict)"
      ],
      "metadata": {
        "colab": {
          "base_uri": "https://localhost:8080/"
        },
        "outputId": "df469c01-e865-4030-8543-6f62930a632d",
        "id": "RokNQLlSJkP1"
      },
      "execution_count": null,
      "outputs": [
        {
          "output_type": "stream",
          "name": "stdout",
          "text": [
            "{'kunci1': 'nilai_default', 'kunci2': 'nilai_default', 'kunci3': 'nilai_default'}\n"
          ]
        }
      ]
    },
    {
      "cell_type": "code",
      "source": [
        "# Nested Dictionaries\n",
        "\n",
        "my_dict = {\n",
        "    'name': 'SanberCampus',\n",
        "    'partner' : 'ITB',\n",
        "    'batch': {\n",
        "        'Batch 1': 'Jun-Des',\n",
        "        'Batch 2': 'Jan-Mar'\n",
        "        }\n",
        "    }\n",
        "\n",
        "print(my_dict)"
      ],
      "metadata": {
        "colab": {
          "base_uri": "https://localhost:8080/"
        },
        "id": "GS5rBsH0NM1b",
        "outputId": "6722a061-219f-45df-eafb-9cf1b6130c0b"
      },
      "execution_count": null,
      "outputs": [
        {
          "output_type": "stream",
          "name": "stdout",
          "text": [
            "{'name': 'SanberCampus', 'partner': 'ITB', 'batch': {'Batch 1': 'Jun-Des', 'Batch 2': 'Jan-Mar'}}\n"
          ]
        }
      ]
    },
    {
      "cell_type": "code",
      "source": [
        "# Dict Comprehension\n",
        "\n",
        "keys = ['kunci1', 'kunci2', 'kunci3']\n",
        "values = ['nilai1', 'nilai2', 'nilai3']\n",
        "my_dict = {k: v for k, v in zip(keys, values)}\n",
        "print(my_dict)"
      ],
      "metadata": {
        "colab": {
          "base_uri": "https://localhost:8080/"
        },
        "outputId": "b41b6bb6-d747-4b3a-dee4-b68516a5f6b1",
        "id": "P2HRoyjPJkP1"
      },
      "execution_count": null,
      "outputs": [
        {
          "output_type": "stream",
          "name": "stdout",
          "text": [
            "{'kunci1': 'nilai1', 'kunci2': 'nilai2', 'kunci3': 'nilai3'}\n"
          ]
        }
      ]
    },
    {
      "cell_type": "markdown",
      "source": [
        "## Mengakses Elemen"
      ],
      "metadata": {
        "id": "mEU_DZinN7O6"
      }
    },
    {
      "cell_type": "code",
      "source": [
        "# Menggunakan Key\n",
        "\n",
        "my_dict = {\n",
        "    'name': 'SanberCampus',\n",
        "    'partner' : 'ITB',\n",
        "    'batch': 'Batch 2'\n",
        "    }\n",
        "\n",
        "print(\"name : \" + my_dict['name'])\n",
        "print(\"partner : \" + my_dict['partner'])\n",
        "print(\"batch : \" + my_dict['batch'])"
      ],
      "metadata": {
        "colab": {
          "base_uri": "https://localhost:8080/"
        },
        "outputId": "f5f42ad0-7e17-4637-c713-8e92aee207d1",
        "id": "drRmhTsQN7PC"
      },
      "execution_count": null,
      "outputs": [
        {
          "output_type": "stream",
          "name": "stdout",
          "text": [
            "name : SanberCampus\n",
            "partner : ITB\n",
            "batch : Batch 2\n"
          ]
        }
      ]
    },
    {
      "cell_type": "code",
      "source": [
        "# Mengakses Key untuk Nested Dict\n",
        "\n",
        "my_dict = {\n",
        "    'name': 'SanberCampus',\n",
        "    'partner' : 'ITB',\n",
        "    'batch': {\n",
        "        'Batch 1': 'Jun-Des',\n",
        "        'Batch 2': 'Jan-Mar'\n",
        "        }\n",
        "    }\n",
        "\n",
        "print(\"batch 1: \" + my_dict['batch']['Batch 1'])"
      ],
      "metadata": {
        "colab": {
          "base_uri": "https://localhost:8080/"
        },
        "id": "-oQB7d3fOlvy",
        "outputId": "65706a9c-c352-4022-e312-1f5963c3db0f"
      },
      "execution_count": null,
      "outputs": [
        {
          "output_type": "stream",
          "name": "stdout",
          "text": [
            "batch 1: Jun-Des\n"
          ]
        }
      ]
    },
    {
      "cell_type": "code",
      "source": [
        "# Metode get(): used to get the value specified for the passed key.\n",
        "\n",
        "my_dict = {\n",
        "    'name': 'SanberCampus',\n",
        "    'partner' : 'ITB',\n",
        "    'batch': 'Batch 2'\n",
        "    }\n",
        "\n",
        "print(\"name : \" + my_dict.get('name'))\n",
        "print(\"partner : \" + my_dict.get('partner'))\n",
        "print(\"batch : \" + my_dict.get('batch'))"
      ],
      "metadata": {
        "colab": {
          "base_uri": "https://localhost:8080/"
        },
        "outputId": "33270cec-3972-40cf-aa0e-fcbc1b2f2b11",
        "id": "o-Lxt2sgN7PC"
      },
      "execution_count": null,
      "outputs": [
        {
          "output_type": "stream",
          "name": "stdout",
          "text": [
            "name : SanberCampus\n",
            "partner : ITB\n",
            "batch : Batch 2\n"
          ]
        }
      ]
    },
    {
      "cell_type": "code",
      "source": [
        "# Metode items():   Returns a list containing a tuple for each key value pair\n",
        "\n",
        "my_dict = {\n",
        "    'name': 'SanberCampus',\n",
        "    'partner' : 'ITB',\n",
        "    'batch': 'Batch 2'\n",
        "    }\n",
        "\n",
        "print(my_dict.items())"
      ],
      "metadata": {
        "colab": {
          "base_uri": "https://localhost:8080/"
        },
        "id": "J6D1FQuoQuIk",
        "outputId": "c1aea06b-e312-4c3b-c1ee-6c54e545d0bd"
      },
      "execution_count": null,
      "outputs": [
        {
          "output_type": "stream",
          "name": "stdout",
          "text": [
            "dict_items([('name', 'SanberCampus'), ('partner', 'ITB'), ('batch', 'Batch 2')])\n"
          ]
        }
      ]
    },
    {
      "cell_type": "code",
      "source": [
        "# Metode keys():  Returns a list containing dictionary’s keys\n",
        "\n",
        "my_dict = {\n",
        "    'name': 'SanberCampus',\n",
        "    'partner' : 'ITB',\n",
        "    'batch': 'Batch 2'\n",
        "    }\n",
        "\n",
        "print(my_dict.keys())"
      ],
      "metadata": {
        "colab": {
          "base_uri": "https://localhost:8080/"
        },
        "id": "Udo-4-lwQjt2",
        "outputId": "eea956d4-294a-4904-d8e0-b1a1b8ce73cd"
      },
      "execution_count": null,
      "outputs": [
        {
          "output_type": "stream",
          "name": "stdout",
          "text": [
            "dict_keys(['name', 'partner', 'batch'])\n"
          ]
        }
      ]
    },
    {
      "cell_type": "code",
      "source": [
        "# Metode values():   Returns a list of all the values of dictionary\n",
        "\n",
        "my_dict = {\n",
        "    'name': 'SanberCampus',\n",
        "    'partner' : 'ITB',\n",
        "    'batch': 'Batch 2'\n",
        "    }\n",
        "\n",
        "print(my_dict.values())"
      ],
      "metadata": {
        "colab": {
          "base_uri": "https://localhost:8080/"
        },
        "id": "z2XgrE8DQzNO",
        "outputId": "4837112c-e48d-41ed-dbe4-b5f02975e7c7"
      },
      "execution_count": null,
      "outputs": [
        {
          "output_type": "stream",
          "name": "stdout",
          "text": [
            "dict_values(['SanberCampus', 'ITB', 'Batch 2'])\n"
          ]
        }
      ]
    },
    {
      "cell_type": "markdown",
      "source": [
        "## Add dan Remove Elemen"
      ],
      "metadata": {
        "id": "Qtw7-fYwJkP2"
      }
    },
    {
      "cell_type": "markdown",
      "source": [
        "### Menambah Elemen"
      ],
      "metadata": {
        "id": "RlFMC0sSJkP2"
      }
    },
    {
      "cell_type": "code",
      "source": [
        "# Menggunakan pair key-value\n",
        "\n",
        "my_dict = dict()\n",
        "my_dict['a'] = 1\n",
        "my_dict['b'] = 2, 3\n",
        "my_dict['c'] = {'4': {'5': 'lima', '6': 'enam'}}\n",
        "\n",
        "print(my_dict)"
      ],
      "metadata": {
        "colab": {
          "base_uri": "https://localhost:8080/"
        },
        "outputId": "8331c262-54c8-4dcb-d91c-0513b5123f4a",
        "id": "5TYo5fdWJkP2"
      },
      "execution_count": null,
      "outputs": [
        {
          "output_type": "stream",
          "name": "stdout",
          "text": [
            "{'a': 1, 'b': (2, 3), 'c': {'4': {'5': 'lima', '6': 'enam'}}}\n"
          ]
        }
      ]
    },
    {
      "cell_type": "code",
      "source": [
        "# Metode update(): Updates dictionary with specified key-value pairs\n",
        "\n",
        "my_dict = {'4': 'empat'}\n",
        "my_dict.update({'5': 'lima', '6': 'enam'})\n",
        "print(my_dict)"
      ],
      "metadata": {
        "colab": {
          "base_uri": "https://localhost:8080/"
        },
        "outputId": "b5bbd3d9-02a0-44a2-9ca3-e0100ca98965",
        "id": "hu-3DivqJkP2"
      },
      "execution_count": null,
      "outputs": [
        {
          "output_type": "stream",
          "name": "stdout",
          "text": [
            "{'4': 'empat', '5': 'lima', '6': 'enam'}\n"
          ]
        }
      ]
    },
    {
      "cell_type": "markdown",
      "source": [
        "### Menghapus Elemen"
      ],
      "metadata": {
        "id": "QaMHwg4JJkP2"
      }
    },
    {
      "cell_type": "code",
      "source": [
        "# Menggunakan del()\n",
        "\n",
        "my_dict = {4: 'empat', 5: 'lima', 6: 'enam'}\n",
        "del(my_dict[4])\n",
        "print(my_dict)"
      ],
      "metadata": {
        "colab": {
          "base_uri": "https://localhost:8080/"
        },
        "outputId": "b0d10dab-f401-4424-b826-9108a0e058d6",
        "id": "taBpbXyBJkP2"
      },
      "execution_count": null,
      "outputs": [
        {
          "output_type": "stream",
          "name": "stdout",
          "text": [
            "{5: 'lima', 6: 'enam'}\n"
          ]
        }
      ]
    },
    {
      "cell_type": "code",
      "source": [
        "# Metode clear(): Remove all the elements from the dictionary\n",
        "\n",
        "my_dict = {4: 'empat', 5: 'lima', 6: 'enam'}\n",
        "my_dict.clear()\n",
        "print(my_dict)"
      ],
      "metadata": {
        "colab": {
          "base_uri": "https://localhost:8080/"
        },
        "id": "RnaCKbDCG78t",
        "outputId": "f6768b5d-a708-4ae7-d8a5-d8a3cf5cb7c7"
      },
      "execution_count": null,
      "outputs": [
        {
          "output_type": "stream",
          "name": "stdout",
          "text": [
            "{}\n"
          ]
        }
      ]
    },
    {
      "cell_type": "code",
      "source": [
        "# Metode pop(): Remove the element with specified key\n",
        "\n",
        "my_dict = {4: 'empat', 5: 'lima', 6: 'enam'}\n",
        "my_dict.pop(5)\n",
        "print(my_dict)"
      ],
      "metadata": {
        "colab": {
          "base_uri": "https://localhost:8080/"
        },
        "outputId": "d59f405e-5ffc-449f-9694-e0b10eef2ddd",
        "id": "CE2tf90EJkP2"
      },
      "execution_count": null,
      "outputs": [
        {
          "output_type": "stream",
          "name": "stdout",
          "text": [
            "{4: 'empat', 6: 'enam'}\n"
          ]
        }
      ]
    },
    {
      "cell_type": "markdown",
      "source": [
        "## Metode Dictionary"
      ],
      "metadata": {
        "id": "-nk9efn8JkP3"
      }
    },
    {
      "cell_type": "code",
      "source": [
        "# copy() : Returns a copy of the dictionary\n",
        "\n",
        "my_dict = {4: 'empat', 5: 'lima', 6: 'enam'}\n",
        "my_dict2 = my_dict.copy()\n",
        "my_dict2"
      ],
      "metadata": {
        "colab": {
          "base_uri": "https://localhost:8080/"
        },
        "outputId": "c8c5c529-1961-4518-e15e-41d694f08e9e",
        "id": "Btn4Jvj1JkP3"
      },
      "execution_count": null,
      "outputs": [
        {
          "output_type": "execute_result",
          "data": {
            "text/plain": [
              "{4: 'empat', 5: 'lima', 6: 'enam'}"
            ]
          },
          "metadata": {},
          "execution_count": 377
        }
      ]
    },
    {
      "cell_type": "markdown",
      "source": [
        "# Kesimpulan"
      ],
      "metadata": {
        "id": "Yg-Num3kI7K0"
      }
    },
    {
      "cell_type": "markdown",
      "source": [
        "# Ordering"
      ],
      "metadata": {
        "id": "23HAe9R4JAfC"
      }
    },
    {
      "cell_type": "code",
      "source": [
        "my_string = 'sanber'\n",
        "\n",
        "my_list = list(my_string) # Ordered\n",
        "my_tuple = tuple(my_string) # Ordered\n",
        "my_set = set(my_string) # Unordered\n",
        "my_dict = {'my_list':my_list, 'my_tuple':my_tuple, 'my_set':my_set} # Ordered"
      ],
      "metadata": {
        "id": "a2bDqJz7I8nH"
      },
      "execution_count": null,
      "outputs": []
    },
    {
      "cell_type": "code",
      "source": [
        "print(my_list)\n",
        "print(my_tuple)\n",
        "print(my_set)\n",
        "print(my_dict)"
      ],
      "metadata": {
        "colab": {
          "base_uri": "https://localhost:8080/"
        },
        "id": "fK0Kf_X8KHJt",
        "outputId": "45532e97-cde1-402d-db14-c727dde8f116"
      },
      "execution_count": null,
      "outputs": [
        {
          "output_type": "stream",
          "name": "stdout",
          "text": [
            "['s', 'a', 'n', 'b', 'e', 'r']\n",
            "('s', 'a', 'n', 'b', 'e', 'r')\n",
            "{'a', 's', 'n', 'b', 'r', 'e'}\n",
            "{'my_list': ['s', 'a', 'n', 'b', 'e', 'r'], 'my_tuple': ('s', 'a', 'n', 'b', 'e', 'r'), 'my_set': {'a', 's', 'n', 'b', 'r', 'e'}}\n"
          ]
        }
      ]
    },
    {
      "cell_type": "markdown",
      "source": [
        "## Indexing"
      ],
      "metadata": {
        "id": "7Vh4OkJ8MWmA"
      }
    },
    {
      "cell_type": "code",
      "source": [
        "print(my_list[0]) # Indexed\n",
        "print(my_tuple[0]) # Indexed\n",
        "# print(my_set[0]) # Not Indexed (Output: TypeError)\n",
        "print(my_dict['my_list']) #Keyed"
      ],
      "metadata": {
        "colab": {
          "base_uri": "https://localhost:8080/"
        },
        "id": "8V9IjLlHMZDs",
        "outputId": "2e2f464d-69d3-4c07-fc93-eb5d32840065"
      },
      "execution_count": null,
      "outputs": [
        {
          "output_type": "stream",
          "name": "stdout",
          "text": [
            "s\n",
            "s\n",
            "['s', 'a', 'n', 'b', 'e', 'r']\n"
          ]
        }
      ]
    },
    {
      "cell_type": "markdown",
      "source": [
        "## Mutability"
      ],
      "metadata": {
        "id": "PPXndFleNEjV"
      }
    },
    {
      "cell_type": "code",
      "source": [
        "my_list[0] = 'X' # Mutable\n",
        "# my_tuple[0] = 'X' # Immutable (Output: TypeError)\n",
        "# my_set[0] = 'X' # Immutable (Output: TypeError)\n",
        "my_set.add('X') # Mutable (Only add/remove)\n",
        "my_dict['my_list'] = [] # Mutable"
      ],
      "metadata": {
        "id": "DnBWSnnKNIL2"
      },
      "execution_count": null,
      "outputs": []
    },
    {
      "cell_type": "code",
      "source": [
        "print(my_list)\n",
        "print(my_tuple)\n",
        "print(my_set)\n",
        "print(my_dict)"
      ],
      "metadata": {
        "colab": {
          "base_uri": "https://localhost:8080/"
        },
        "id": "SsKJBuJQPFYP",
        "outputId": "4204c725-0ae0-45e9-9e67-db90ca879f00"
      },
      "execution_count": null,
      "outputs": [
        {
          "output_type": "stream",
          "name": "stdout",
          "text": [
            "['X', 'a', 'n', 'b', 'e', 'r']\n",
            "('s', 'a', 'n', 'b', 'e', 'r')\n",
            "{'a', 's', 'n', 'b', 'r', 'X', 'e'}\n",
            "{'my_list': [], 'my_tuple': ('s', 'a', 'n', 'b', 'e', 'r'), 'my_set': {'a', 's', 'n', 'b', 'r', 'X', 'e'}}\n"
          ]
        }
      ]
    },
    {
      "cell_type": "markdown",
      "source": [
        "# Duplicates Allowed"
      ],
      "metadata": {
        "id": "5wxOy4dgPJUe"
      }
    },
    {
      "cell_type": "code",
      "source": [
        "my_string = 'aaabbbccc'\n",
        "\n",
        "my_list = list(my_string) # Yes\n",
        "my_tuple = tuple(my_string) # Yes\n",
        "my_set = set(my_string) # No\n",
        "my_dict1 = {'my_list': 'a', 'my_tuple': 'a', 'my_set': 'a'} # Yes, only in values\n",
        "my_dict2 = {'a': 'a', 'a': 'b', 'a': 'c'} # Yes, but will update the value of key"
      ],
      "metadata": {
        "id": "k09TjM8NPMoC"
      },
      "execution_count": null,
      "outputs": []
    },
    {
      "cell_type": "code",
      "source": [
        "print(my_list)\n",
        "print(my_tuple)\n",
        "print(my_set)\n",
        "print(my_dict1)\n",
        "print(my_dict2)"
      ],
      "metadata": {
        "colab": {
          "base_uri": "https://localhost:8080/"
        },
        "id": "opvLe_wyPmZL",
        "outputId": "34cec5b6-5c5f-4472-a7f8-8a4d49f230b0"
      },
      "execution_count": null,
      "outputs": [
        {
          "output_type": "stream",
          "name": "stdout",
          "text": [
            "['a', 'a', 'a', 'b', 'b', 'b', 'c', 'c', 'c']\n",
            "('a', 'a', 'a', 'b', 'b', 'b', 'c', 'c', 'c')\n",
            "{'c', 'a', 'b'}\n",
            "{'my_list': 'a', 'my_tuple': 'a', 'my_set': 'a'}\n",
            "{'a': 'c'}\n"
          ]
        }
      ]
    },
    {
      "cell_type": "markdown",
      "source": [
        "## Types Allowed"
      ],
      "metadata": {
        "id": "tq6VStMDQNfM"
      }
    },
    {
      "cell_type": "code",
      "source": [
        "my_list = ['a', 1, (1, 2), [1, 2], {'a': 'b'}] # Any Type\n",
        "my_tuple = ('a', 1, (1, 2), [1, 2], {'a': 'b'}) # Any Type\n",
        "# my_set = {'a', 1, (1, 2), [1, 2], {'a': 'b'}} # Only Immutable Type (Output: TypeError)\n",
        "# my_dict = {'a': 1, (1, 2) : [1, 2], [1, 2]: (1, 2)} # Only Immutable Type (Output: TypeError)"
      ],
      "metadata": {
        "id": "gamZU2sMQQzW"
      },
      "execution_count": null,
      "outputs": []
    },
    {
      "cell_type": "code",
      "source": [
        "my_set = {'a', 1, (1, 2)} # Only Immutable Type (Output: TypeError)\n",
        "my_dict = {'a': 1, (1, 2) : [1, 2]} # Only Immutable Type (Output: TypeError)"
      ],
      "metadata": {
        "id": "Q99zd8gE7wQT"
      },
      "execution_count": null,
      "outputs": []
    }
  ]
}