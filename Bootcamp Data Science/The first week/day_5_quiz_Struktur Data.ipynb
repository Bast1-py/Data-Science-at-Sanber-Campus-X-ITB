{
  "nbformat": 4,
  "nbformat_minor": 0,
  "metadata": {
    "colab": {
      "provenance": []
    },
    "kernelspec": {
      "name": "python3",
      "display_name": "Python 3"
    },
    "language_info": {
      "name": "python"
    }
  },
  "cells": [
    {
      "cell_type": "code",
      "source": [
        "# No. 1\n",
        "\n",
        "my_list = ['i', 'n', 'd', 'o', 'n', 'e', 's', 'i', 'a']\n",
        "print(my_list[::3]) # indeks 0;3;6"
      ],
      "metadata": {
        "colab": {
          "base_uri": "https://localhost:8080/"
        },
        "id": "5rUPc6I5_ZZD",
        "outputId": "ee1a591b-64f3-486a-94a0-6ead829107de"
      },
      "execution_count": null,
      "outputs": [
        {
          "output_type": "stream",
          "name": "stdout",
          "text": [
            "['i', 'o', 's']\n"
          ]
        }
      ]
    },
    {
      "cell_type": "code",
      "source": [
        "# No. 2\n",
        "\n",
        "my_list = ['i', 'n', 'd', 'o', 'n', 'e', 's', 'i', 'a']\n",
        "print(my_list[::-3]) # indeks -1;-4;-7"
      ],
      "metadata": {
        "colab": {
          "base_uri": "https://localhost:8080/"
        },
        "id": "JGhjosoC_lxZ",
        "outputId": "a87a49fe-d04b-479a-f9bf-3d2170995eef"
      },
      "execution_count": null,
      "outputs": [
        {
          "output_type": "stream",
          "name": "stdout",
          "text": [
            "['a', 'e', 'd']\n"
          ]
        }
      ]
    },
    {
      "cell_type": "code",
      "source": [
        "# No. 3\n",
        "\n",
        "my_list = ['i', 'n', 'd', 'o', 'n', 'e', 's', 'i', 'a']\n",
        "print(my_list[3:5]) # indeks 3 s.d. 4"
      ],
      "metadata": {
        "colab": {
          "base_uri": "https://localhost:8080/"
        },
        "id": "ChEHHY5U_t34",
        "outputId": "e5736971-fa27-4c0b-aed0-031631c59f65"
      },
      "execution_count": null,
      "outputs": [
        {
          "output_type": "stream",
          "name": "stdout",
          "text": [
            "['o', 'n']\n"
          ]
        }
      ]
    },
    {
      "cell_type": "code",
      "source": [
        "# No. 4\n",
        "\n",
        "my_list = [1, 2, 3]\n",
        "my_list.extend([4, 5])\n",
        "print(my_list)"
      ],
      "metadata": {
        "colab": {
          "base_uri": "https://localhost:8080/"
        },
        "id": "MtNHgxKk_zZJ",
        "outputId": "369e5488-478c-4d42-e45d-34bf81f840ef"
      },
      "execution_count": null,
      "outputs": [
        {
          "output_type": "stream",
          "name": "stdout",
          "text": [
            "[1, 2, 3, 4, 5]\n"
          ]
        }
      ]
    },
    {
      "cell_type": "code",
      "source": [
        "# No. 5\n",
        "\n",
        "my_list = ['s', 'a', 'n', 'b', 'e', 'r'] # len = 6\n",
        "print(len(my_list) * 5)"
      ],
      "metadata": {
        "colab": {
          "base_uri": "https://localhost:8080/"
        },
        "id": "M83tROECAE1e",
        "outputId": "4f29b897-e0b4-4994-f547-3637f81b646b"
      },
      "execution_count": null,
      "outputs": [
        {
          "output_type": "stream",
          "name": "stdout",
          "text": [
            "30\n"
          ]
        }
      ]
    },
    {
      "cell_type": "code",
      "source": [
        "# No. 6\n",
        "\n",
        "tuple1 = (1, 2, 3)\n",
        "tuple2 = (4, 5, 6)\n",
        "print(tuple1 + tuple2)"
      ],
      "metadata": {
        "colab": {
          "base_uri": "https://localhost:8080/"
        },
        "id": "8OWD2pffAQQX",
        "outputId": "2f8044a2-98ee-43e8-9b6a-cef20f410ead"
      },
      "execution_count": null,
      "outputs": [
        {
          "output_type": "stream",
          "name": "stdout",
          "text": [
            "(1, 2, 3, 4, 5, 6)\n"
          ]
        }
      ]
    },
    {
      "cell_type": "code",
      "source": [
        "# No. 7\n",
        "\n",
        "numbers = (2, 6, 3, 9, 5)\n",
        "result = min(numbers) * max(numbers) # 2 * 9\n",
        "print(result)"
      ],
      "metadata": {
        "colab": {
          "base_uri": "https://localhost:8080/"
        },
        "id": "rCcX1vC9AWeN",
        "outputId": "9dab8b11-d1ec-4852-b409-a910d823b258"
      },
      "execution_count": null,
      "outputs": [
        {
          "output_type": "stream",
          "name": "stdout",
          "text": [
            "18\n"
          ]
        }
      ]
    },
    {
      "cell_type": "code",
      "source": [
        "# No. 8\n",
        "\n",
        "my_tuple = (1) # integer\n",
        "print(my_tuple)"
      ],
      "metadata": {
        "colab": {
          "base_uri": "https://localhost:8080/"
        },
        "id": "hH0FK2UCArwf",
        "outputId": "5001af72-afbe-4c51-fd4d-784c7d13d48f"
      },
      "execution_count": null,
      "outputs": [
        {
          "output_type": "stream",
          "name": "stdout",
          "text": [
            "1\n"
          ]
        }
      ]
    },
    {
      "cell_type": "code",
      "source": [
        "my_tuple = (1, ) # tuple\n",
        "print(my_tuple)"
      ],
      "metadata": {
        "id": "ETJ_o4zBIVTw"
      },
      "execution_count": null,
      "outputs": []
    },
    {
      "cell_type": "code",
      "source": [
        "# No. 9\n",
        "\n",
        "teks = 'kucing'\n",
        "tple = tuple(teks) # tuple per chara\n",
        "print(tple)"
      ],
      "metadata": {
        "colab": {
          "base_uri": "https://localhost:8080/"
        },
        "id": "oN0-TTPPAhBR",
        "outputId": "bfd5705a-f19b-4dfe-fcc0-1ca9012424b6"
      },
      "execution_count": null,
      "outputs": [
        {
          "output_type": "stream",
          "name": "stdout",
          "text": [
            "('k', 'u', 'c', 'i', 'n', 'g')\n"
          ]
        }
      ]
    },
    {
      "cell_type": "code",
      "source": [
        "# No. 10\n",
        "\n",
        "tple = (2,) * 5\n",
        "print(tple)"
      ],
      "metadata": {
        "colab": {
          "base_uri": "https://localhost:8080/"
        },
        "id": "akhJB5JBA-PO",
        "outputId": "aea3a698-50a8-4736-d129-26adf4bb75fb"
      },
      "execution_count": null,
      "outputs": [
        {
          "output_type": "stream",
          "name": "stdout",
          "text": [
            "(2, 2, 2, 2, 2)\n"
          ]
        }
      ]
    },
    {
      "cell_type": "code",
      "source": [
        "tpl = (2,2,2,)"
      ],
      "metadata": {
        "id": "Yr3a3f9xIiem"
      },
      "execution_count": null,
      "outputs": []
    },
    {
      "cell_type": "code",
      "source": [
        "# No. 11\n",
        "\n",
        "my_set = {}\n",
        "print(type(my_set))"
      ],
      "metadata": {
        "colab": {
          "base_uri": "https://localhost:8080/"
        },
        "id": "rB7HiAv1BC2v",
        "outputId": "dba86330-406d-4dcf-83a2-42139ea9ae6a"
      },
      "execution_count": null,
      "outputs": [
        {
          "output_type": "stream",
          "name": "stdout",
          "text": [
            "<class 'dict'>\n"
          ]
        }
      ]
    },
    {
      "cell_type": "code",
      "source": [
        "my_set = set()\n",
        "print(type(my_set))"
      ],
      "metadata": {
        "colab": {
          "base_uri": "https://localhost:8080/"
        },
        "id": "Ha_e5mFrIphF",
        "outputId": "16471ef1-d6b5-4a2a-d384-acdbd675ae02"
      },
      "execution_count": null,
      "outputs": [
        {
          "output_type": "stream",
          "name": "stdout",
          "text": [
            "<class 'set'>\n"
          ]
        }
      ]
    },
    {
      "cell_type": "code",
      "source": [
        "# No. 12\n",
        "\n",
        "my_set = set(['s', 'a', ('n', 'b'), 'e'])\n",
        "my_set.update([('r', 'c')])\n",
        "print(my_set)"
      ],
      "metadata": {
        "colab": {
          "base_uri": "https://localhost:8080/"
        },
        "id": "wYYUOYXHBbOw",
        "outputId": "38cf3a4e-a694-4486-c2c5-42a1a1af1bbe"
      },
      "execution_count": null,
      "outputs": [
        {
          "output_type": "stream",
          "name": "stdout",
          "text": [
            "{'s', ('r', 'c'), 'e', ('n', 'b'), 'a'}\n"
          ]
        }
      ]
    },
    {
      "cell_type": "code",
      "source": [
        "# No. 13\n",
        "\n",
        "my_set = set(['b','i','r','u'])\n",
        "my_set.add('b')\n",
        "print(my_set)"
      ],
      "metadata": {
        "colab": {
          "base_uri": "https://localhost:8080/"
        },
        "id": "BBZgDgOOByVS",
        "outputId": "b8cf722f-963b-42f7-a2d6-7ac40246e81a"
      },
      "execution_count": null,
      "outputs": [
        {
          "output_type": "stream",
          "name": "stdout",
          "text": [
            "{'r', 'u', 'i', 'b'}\n"
          ]
        }
      ]
    },
    {
      "cell_type": "code",
      "source": [
        "# No. 14\n",
        "\n",
        "my_set = {1, 2, 3} # INGET! SET GA PUNYA INDEX\n",
        "my_set.remove(2) # remove value 2\n",
        "print(my_set)"
      ],
      "metadata": {
        "colab": {
          "base_uri": "https://localhost:8080/"
        },
        "id": "TzUef8AECHMy",
        "outputId": "be853a36-3e65-42f2-ed28-4616d1b97a0d"
      },
      "execution_count": null,
      "outputs": [
        {
          "output_type": "stream",
          "name": "stdout",
          "text": [
            "{1, 3}\n"
          ]
        }
      ]
    },
    {
      "cell_type": "code",
      "source": [
        "# No. 15\n",
        "\n",
        "set1 = {1, 2, 3}\n",
        "set2 = {3, 4, 5}\n",
        "print(set1.symmetric_difference(set2)) # XOR"
      ],
      "metadata": {
        "colab": {
          "base_uri": "https://localhost:8080/"
        },
        "id": "Mol78LI-CY9g",
        "outputId": "89b6fa50-d4b2-477f-b8b4-29c60020b8fd"
      },
      "execution_count": null,
      "outputs": [
        {
          "output_type": "stream",
          "name": "stdout",
          "text": [
            "{1, 2, 4, 5}\n"
          ]
        }
      ]
    },
    {
      "cell_type": "code",
      "source": [
        "# No. 16\n",
        "\n",
        "my_dict = {'a': 1, 'b': 2, 'c': 3}\n",
        "print(my_dict['b'])"
      ],
      "metadata": {
        "colab": {
          "base_uri": "https://localhost:8080/"
        },
        "id": "rSCW7H3RDBCR",
        "outputId": "4d48226f-6130-4314-e948-0d178b98d84e"
      },
      "execution_count": null,
      "outputs": [
        {
          "output_type": "stream",
          "name": "stdout",
          "text": [
            "2\n"
          ]
        }
      ]
    },
    {
      "cell_type": "code",
      "source": [
        "# No. 17\n",
        "\n",
        "my_dict = {'a': 1, 'b': 2, 'c': 3}\n",
        "print(len(my_dict))"
      ],
      "metadata": {
        "colab": {
          "base_uri": "https://localhost:8080/"
        },
        "id": "ebVrI1WFDWi7",
        "outputId": "da654dde-c594-4685-d800-6c366d453a83"
      },
      "execution_count": null,
      "outputs": [
        {
          "output_type": "stream",
          "name": "stdout",
          "text": [
            "3\n"
          ]
        }
      ]
    },
    {
      "cell_type": "code",
      "source": [
        "# No. 18\n",
        "\n",
        "my_dict = {'a': 1, 'b': 2, 'c': 3, 'd': 4}\n",
        "# list(my_dict.keys()) == ['a', 'b', 'c', 'd']\n",
        "subset_keys = list(my_dict.keys())[1:3] # indeks 1 s.d. 2\n",
        "print(subset_keys)"
      ],
      "metadata": {
        "colab": {
          "base_uri": "https://localhost:8080/"
        },
        "id": "MknGUrZmDhou",
        "outputId": "06620d61-ced8-4342-c533-c8b91c08b20e"
      },
      "execution_count": null,
      "outputs": [
        {
          "output_type": "stream",
          "name": "stdout",
          "text": [
            "['b', 'c']\n"
          ]
        }
      ]
    },
    {
      "cell_type": "code",
      "source": [
        "# No. 19\n",
        "\n",
        "mixed_data = [\n",
        "    1, #0\n",
        "    'apple', #1\n",
        "    (2, 3), #2\n",
        "    {'a': 4, 'b': 5}, #3\n",
        "    {6, 7} #4\n",
        "    ]\n",
        "\n",
        "print(mixed_data[2][1] + mixed_data[3]['b'] - len(mixed_data[4]))\n",
        "# 3 + 5 - 2"
      ],
      "metadata": {
        "colab": {
          "base_uri": "https://localhost:8080/"
        },
        "id": "BRccKOzwDscP",
        "outputId": "5709a34e-2935-4f09-93e5-cdf2b492ece9"
      },
      "execution_count": null,
      "outputs": [
        {
          "output_type": "stream",
          "name": "stdout",
          "text": [
            "6\n"
          ]
        }
      ]
    },
    {
      "cell_type": "code",
      "source": [
        "# No. 20\n",
        "\n",
        "my_tuple = (\n",
        "    [1, 2, 3], #0\n",
        "    'hello', #1\n",
        "    4.5 #2\n",
        "    )\n",
        "my_tuple[0].append(4)\n",
        "print(my_tuple)"
      ],
      "metadata": {
        "colab": {
          "base_uri": "https://localhost:8080/"
        },
        "id": "4rnV1b9eDwfC",
        "outputId": "066d6fb4-27cb-46f9-dd6b-59bfc807d410"
      },
      "execution_count": null,
      "outputs": [
        {
          "output_type": "stream",
          "name": "stdout",
          "text": [
            "([1, 2, 3, 4], 'hello', 4.5)\n"
          ]
        }
      ]
    },
    {
      "cell_type": "code",
      "source": [
        "# No. 21\n",
        "\n",
        "my_set = {1, 2, 3, 4, 5}\n",
        "my_set.update([3, 4, 5, 6, 7])\n",
        "# my_set == {1, 2, 3, 4, 5, 6, 7} ; len = 7\n",
        "print(len(my_set))"
      ],
      "metadata": {
        "colab": {
          "base_uri": "https://localhost:8080/"
        },
        "id": "52OACxilD1Tu",
        "outputId": "1d208cea-f302-420b-eeb4-cebe770a9009"
      },
      "execution_count": null,
      "outputs": [
        {
          "output_type": "stream",
          "name": "stdout",
          "text": [
            "7\n"
          ]
        }
      ]
    },
    {
      "cell_type": "code",
      "source": [
        "my_set =  {1, 2, 3, 4, 5} | set([3, 4, 5, 6, 7])\n",
        "my_set"
      ],
      "metadata": {
        "colab": {
          "base_uri": "https://localhost:8080/"
        },
        "id": "LYBoZdphKNgE",
        "outputId": "8bcfaafa-4a13-4ad3-b0e2-5eac751347e7"
      },
      "execution_count": null,
      "outputs": [
        {
          "output_type": "execute_result",
          "data": {
            "text/plain": [
              "{1, 2, 3, 4, 5, 6, 7}"
            ]
          },
          "metadata": {},
          "execution_count": 31
        }
      ]
    },
    {
      "cell_type": "code",
      "source": [
        "# No. 22\n",
        "\n",
        "nested_dict = {\n",
        "    'a': {\n",
        "        'b': {\n",
        "            'c': [1, 2, 3]\n",
        "            }\n",
        "        }\n",
        "    }\n",
        "print(nested_dict['a']['b']['c'][2])"
      ],
      "metadata": {
        "colab": {
          "base_uri": "https://localhost:8080/"
        },
        "id": "cL-mogF8D8cZ",
        "outputId": "c9b316d1-7295-4a46-b638-d72144ce3726"
      },
      "execution_count": null,
      "outputs": [
        {
          "output_type": "stream",
          "name": "stdout",
          "text": [
            "3\n"
          ]
        }
      ]
    },
    {
      "cell_type": "code",
      "source": [
        "# No. 23\n",
        "\n",
        "set1 = {1, 2, 3}\n",
        "set2 = {3, 4, 5}\n",
        "combined_set = set1.union(set2)\n",
        "print(combined_set)"
      ],
      "metadata": {
        "colab": {
          "base_uri": "https://localhost:8080/"
        },
        "id": "mu1sL7UfEDwY",
        "outputId": "c142ab58-bccf-4db6-8abb-cf993d0e3065"
      },
      "execution_count": null,
      "outputs": [
        {
          "output_type": "stream",
          "name": "stdout",
          "text": [
            "{1, 2, 3, 4, 5}\n"
          ]
        }
      ]
    },
    {
      "cell_type": "code",
      "source": [
        "# No. 24\n",
        "\n",
        "dict1 = {'a': 1, 'b': 2}\n",
        "dict2 = {'b': 3, 'c': 4}\n",
        "dict1.update(dict2)\n",
        "print(dict1)"
      ],
      "metadata": {
        "colab": {
          "base_uri": "https://localhost:8080/"
        },
        "id": "WvuLZqW7EGxG",
        "outputId": "b5f198ed-9e3d-458d-ad64-7a86a4a471fc"
      },
      "execution_count": null,
      "outputs": [
        {
          "output_type": "stream",
          "name": "stdout",
          "text": [
            "{'a': 1, 'b': 3, 'c': 4}\n"
          ]
        }
      ]
    },
    {
      "cell_type": "code",
      "source": [
        "# No. 25\n",
        "\n",
        "confusing_data = [\n",
        "    (1, 2, 3), #0\n",
        "    {'a': [4, 5]}, #1\n",
        "    [6, 7, {'b': 8}]] #2\n",
        "print(confusing_data[2][2]['b'] * confusing_data[1]['a'][1])\n",
        "# 8 * 5"
      ],
      "metadata": {
        "colab": {
          "base_uri": "https://localhost:8080/"
        },
        "id": "1DCHXvEKEQLY",
        "outputId": "18799c76-8963-404d-a2d5-ae8857b211f6"
      },
      "execution_count": null,
      "outputs": [
        {
          "output_type": "stream",
          "name": "stdout",
          "text": [
            "40\n"
          ]
        }
      ]
    }
  ]
}