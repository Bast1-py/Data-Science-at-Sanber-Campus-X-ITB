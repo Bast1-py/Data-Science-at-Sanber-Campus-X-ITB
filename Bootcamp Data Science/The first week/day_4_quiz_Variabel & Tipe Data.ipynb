{
  "nbformat": 4,
  "nbformat_minor": 0,
  "metadata": {
    "colab": {
      "provenance": []
    },
    "kernelspec": {
      "name": "python3",
      "display_name": "Python 3"
    },
    "language_info": {
      "name": "python"
    }
  },
  "cells": [
    {
      "cell_type": "code",
      "source": [
        "# No. 1\n",
        "\n",
        "my_var_no_1 = 1\n",
        "print(my_var_no_1)"
      ],
      "metadata": {
        "colab": {
          "base_uri": "https://localhost:8080/"
        },
        "id": "gV2jarPQiC-K",
        "outputId": "efa74314-7bcb-4ff3-8851-18cb4edef587"
      },
      "execution_count": null,
      "outputs": [
        {
          "output_type": "stream",
          "name": "stdout",
          "text": [
            "1\n"
          ]
        }
      ]
    },
    {
      "cell_type": "code",
      "source": [
        "# No. 2\n",
        "\n",
        "123_tuwaga = 1\n",
        "print(123_tuwaga)"
      ],
      "metadata": {
        "colab": {
          "base_uri": "https://localhost:8080/",
          "height": 141
        },
        "id": "2qUKYIv-iMBq",
        "outputId": "732cf0fe-5b86-4e89-d440-b497af2423cb"
      },
      "execution_count": null,
      "outputs": [
        {
          "output_type": "error",
          "ename": "SyntaxError",
          "evalue": "invalid decimal literal (<ipython-input-2-d4bccfb4e8b3>, line 3)",
          "traceback": [
            "\u001b[0;36m  File \u001b[0;32m\"<ipython-input-2-d4bccfb4e8b3>\"\u001b[0;36m, line \u001b[0;32m3\u001b[0m\n\u001b[0;31m    123_tuwaga = 1\u001b[0m\n\u001b[0m       ^\u001b[0m\n\u001b[0;31mSyntaxError\u001b[0m\u001b[0;31m:\u001b[0m invalid decimal literal\n"
          ]
        }
      ]
    },
    {
      "cell_type": "code",
      "source": [
        "# No. 3\n",
        "\n",
        "dollar_$ = 1\n",
        "print(dollar_$)"
      ],
      "metadata": {
        "colab": {
          "base_uri": "https://localhost:8080/",
          "height": 141
        },
        "id": "X-u2YC-1iXnv",
        "outputId": "b92e9ae1-b730-4096-e753-0017d070c956"
      },
      "execution_count": null,
      "outputs": [
        {
          "output_type": "error",
          "ename": "SyntaxError",
          "evalue": "invalid syntax (<ipython-input-3-24ea92caf6bf>, line 3)",
          "traceback": [
            "\u001b[0;36m  File \u001b[0;32m\"<ipython-input-3-24ea92caf6bf>\"\u001b[0;36m, line \u001b[0;32m3\u001b[0m\n\u001b[0;31m    dollar_$ = 1\u001b[0m\n\u001b[0m           ^\u001b[0m\n\u001b[0;31mSyntaxError\u001b[0m\u001b[0;31m:\u001b[0m invalid syntax\n"
          ]
        }
      ]
    },
    {
      "cell_type": "code",
      "source": [
        "# No. 4\n",
        "\n",
        "var_1 = 1\n",
        "print(var_1)"
      ],
      "metadata": {
        "colab": {
          "base_uri": "https://localhost:8080/"
        },
        "id": "Yc7RIX_zidvl",
        "outputId": "d0803f6a-4aba-4734-c0b3-0f2d36a04aef"
      },
      "execution_count": null,
      "outputs": [
        {
          "output_type": "stream",
          "name": "stdout",
          "text": [
            "1\n"
          ]
        }
      ]
    },
    {
      "cell_type": "code",
      "source": [
        "# No. 5\n",
        "\n",
        "Ha29__sjda3i2_ = 1\n",
        "print(Ha29__sjda3i2_)"
      ],
      "metadata": {
        "colab": {
          "base_uri": "https://localhost:8080/"
        },
        "id": "asYF1Ykjik3Y",
        "outputId": "8adfa106-0a3f-4d8b-ab21-af8933092ba5"
      },
      "execution_count": null,
      "outputs": [
        {
          "output_type": "stream",
          "name": "stdout",
          "text": [
            "1\n"
          ]
        }
      ]
    },
    {
      "cell_type": "code",
      "source": [
        "# No. 6\n",
        "\n",
        "finaly = 1\n",
        "print(finaly)"
      ],
      "metadata": {
        "colab": {
          "base_uri": "https://localhost:8080/"
        },
        "id": "YZ7oFOAXi2PV",
        "outputId": "8a5ed6d8-1c2f-4d92-f1a1-b788935011e6"
      },
      "execution_count": null,
      "outputs": [
        {
          "output_type": "stream",
          "name": "stdout",
          "text": [
            "1\n"
          ]
        }
      ]
    },
    {
      "cell_type": "code",
      "source": [
        "finally = 1\n",
        "print(finally)"
      ],
      "metadata": {
        "id": "6CG2zXuY8ftq"
      },
      "execution_count": null,
      "outputs": []
    },
    {
      "cell_type": "code",
      "source": [
        "a = 5\n",
        "b, c = 4, 5\n",
        "d = e = 1"
      ],
      "metadata": {
        "id": "a-wkzoN5i2qt"
      },
      "execution_count": null,
      "outputs": []
    },
    {
      "cell_type": "code",
      "source": [
        "# No. 7\n",
        "print(a)"
      ],
      "metadata": {
        "colab": {
          "base_uri": "https://localhost:8080/"
        },
        "id": "XXE_ytIajQBt",
        "outputId": "10fa3569-bcb7-4c93-db8e-e78261a7a527"
      },
      "execution_count": null,
      "outputs": [
        {
          "output_type": "stream",
          "name": "stdout",
          "text": [
            "5\n"
          ]
        }
      ]
    },
    {
      "cell_type": "code",
      "source": [
        "# No. 8\n",
        "print(b)"
      ],
      "metadata": {
        "colab": {
          "base_uri": "https://localhost:8080/"
        },
        "id": "xLTDnbY8jTXo",
        "outputId": "9f920d79-03ed-4203-c0f9-5a90c6d675b0"
      },
      "execution_count": null,
      "outputs": [
        {
          "output_type": "stream",
          "name": "stdout",
          "text": [
            "4\n"
          ]
        }
      ]
    },
    {
      "cell_type": "code",
      "source": [
        "# No. 9\n",
        "print(c)"
      ],
      "metadata": {
        "colab": {
          "base_uri": "https://localhost:8080/"
        },
        "id": "PxYXkZysjWAX",
        "outputId": "5ee75dd0-e2c1-40fd-b7ca-f9d4b2485070"
      },
      "execution_count": null,
      "outputs": [
        {
          "output_type": "stream",
          "name": "stdout",
          "text": [
            "5\n"
          ]
        }
      ]
    },
    {
      "cell_type": "code",
      "source": [
        "# No. 10\n",
        "print(d)"
      ],
      "metadata": {
        "colab": {
          "base_uri": "https://localhost:8080/"
        },
        "id": "OL4nsQVMjZNy",
        "outputId": "29fd2424-e27b-4f1e-be38-8dd54b8b6e19"
      },
      "execution_count": null,
      "outputs": [
        {
          "output_type": "stream",
          "name": "stdout",
          "text": [
            "1\n"
          ]
        }
      ]
    },
    {
      "cell_type": "code",
      "source": [
        "# No. 11\n",
        "print(e)"
      ],
      "metadata": {
        "colab": {
          "base_uri": "https://localhost:8080/"
        },
        "id": "_tg51Xb6jdo3",
        "outputId": "22e0df89-50a9-4923-e6c4-a2fd4e17e0d8"
      },
      "execution_count": null,
      "outputs": [
        {
          "output_type": "stream",
          "name": "stdout",
          "text": [
            "1\n"
          ]
        }
      ]
    },
    {
      "cell_type": "code",
      "source": [
        "a, b = 2, 1 # a = 2, b = 1\n",
        "c = a # a = 2, b = 1, c = 2\n",
        "a = b # a = 1, b = 1, , c = 2"
      ],
      "metadata": {
        "id": "10P0crXsj6jg"
      },
      "execution_count": null,
      "outputs": []
    },
    {
      "cell_type": "code",
      "source": [
        "# No. 12\n",
        "print(a)"
      ],
      "metadata": {
        "colab": {
          "base_uri": "https://localhost:8080/"
        },
        "id": "qZ6RbY82kMvY",
        "outputId": "bcf5174a-04b0-4370-bac0-e062017a135d"
      },
      "execution_count": null,
      "outputs": [
        {
          "output_type": "stream",
          "name": "stdout",
          "text": [
            "1\n"
          ]
        }
      ]
    },
    {
      "cell_type": "code",
      "source": [
        "# No. 13\n",
        "print(b)"
      ],
      "metadata": {
        "colab": {
          "base_uri": "https://localhost:8080/"
        },
        "id": "z274BqkUkOBO",
        "outputId": "b7a974ed-3b65-4331-fe29-71bd3d0c88cf"
      },
      "execution_count": null,
      "outputs": [
        {
          "output_type": "stream",
          "name": "stdout",
          "text": [
            "1\n"
          ]
        }
      ]
    },
    {
      "cell_type": "code",
      "source": [
        "# No. 14\n",
        "print(c)"
      ],
      "metadata": {
        "colab": {
          "base_uri": "https://localhost:8080/"
        },
        "id": "Tbe-eeHwkPZe",
        "outputId": "3e474559-cb16-4130-fdd9-b112dc83f969"
      },
      "execution_count": null,
      "outputs": [
        {
          "output_type": "stream",
          "name": "stdout",
          "text": [
            "2\n"
          ]
        }
      ]
    },
    {
      "cell_type": "code",
      "source": [
        "# No. 15\n",
        "\n",
        "var = 1000.00\n",
        "type(var)"
      ],
      "metadata": {
        "colab": {
          "base_uri": "https://localhost:8080/"
        },
        "id": "lgaeZSMOgsUd",
        "outputId": "683cc17e-97ed-4793-81a0-e6a424abb64d"
      },
      "execution_count": null,
      "outputs": [
        {
          "output_type": "execute_result",
          "data": {
            "text/plain": [
              "float"
            ]
          },
          "metadata": {},
          "execution_count": 17
        }
      ]
    },
    {
      "cell_type": "code",
      "source": [
        "# No. 16\n",
        "\n",
        "var = 100 / 2\n",
        "type(var)"
      ],
      "metadata": {
        "colab": {
          "base_uri": "https://localhost:8080/"
        },
        "id": "fTj6k5YGhBIW",
        "outputId": "2adb0ac0-2373-4952-a9a6-9edb52b55de7"
      },
      "execution_count": null,
      "outputs": [
        {
          "output_type": "execute_result",
          "data": {
            "text/plain": [
              "float"
            ]
          },
          "metadata": {},
          "execution_count": 18
        }
      ]
    },
    {
      "cell_type": "code",
      "source": [
        "# No. 17\n",
        "\n",
        "var = 1000 // 2\n",
        "type(var)"
      ],
      "metadata": {
        "colab": {
          "base_uri": "https://localhost:8080/"
        },
        "id": "Npjn7wnlhE_A",
        "outputId": "3863b93b-6c2c-4d7d-c57e-d0f130be8d21"
      },
      "execution_count": null,
      "outputs": [
        {
          "output_type": "execute_result",
          "data": {
            "text/plain": [
              "int"
            ]
          },
          "metadata": {},
          "execution_count": 19
        }
      ]
    },
    {
      "cell_type": "code",
      "source": [
        "# No. 18\n",
        "\n",
        "var = (1, 2, 3)\n",
        "type(var)"
      ],
      "metadata": {
        "colab": {
          "base_uri": "https://localhost:8080/"
        },
        "id": "NpRJz27AhJRk",
        "outputId": "a5a400aa-6b0e-4e6c-bb1a-61bc3e40e6d0"
      },
      "execution_count": null,
      "outputs": [
        {
          "output_type": "execute_result",
          "data": {
            "text/plain": [
              "tuple"
            ]
          },
          "metadata": {},
          "execution_count": 20
        }
      ]
    },
    {
      "cell_type": "code",
      "source": [
        "# No. 19\n",
        "\n",
        "var = [1, 2, 3]\n",
        "type(var)"
      ],
      "metadata": {
        "colab": {
          "base_uri": "https://localhost:8080/"
        },
        "id": "_HT3hrA_hOgR",
        "outputId": "e5cd8087-ec36-4474-e323-bfc871fcfa32"
      },
      "execution_count": null,
      "outputs": [
        {
          "output_type": "execute_result",
          "data": {
            "text/plain": [
              "list"
            ]
          },
          "metadata": {},
          "execution_count": 21
        }
      ]
    },
    {
      "cell_type": "code",
      "source": [
        "# No. 20\n",
        "\n",
        "car = {\n",
        "  \"brand\": \"Ford\",\n",
        "  \"model\": \"Mustang\",\n",
        "  \"year\": 1964\n",
        "}\n",
        "\n",
        "x = car.keys()\n",
        "print(list(x))"
      ],
      "metadata": {
        "colab": {
          "base_uri": "https://localhost:8080/"
        },
        "id": "ybn0zWTchS5F",
        "outputId": "1923f5fc-f707-4b8b-8938-84a9287ff773"
      },
      "execution_count": null,
      "outputs": [
        {
          "output_type": "stream",
          "name": "stdout",
          "text": [
            "['brand', 'model', 'year']\n"
          ]
        }
      ]
    },
    {
      "cell_type": "code",
      "source": [
        "y = car.values()\n",
        "print(list(y))"
      ],
      "metadata": {
        "colab": {
          "base_uri": "https://localhost:8080/"
        },
        "id": "X-_mtWm191zQ",
        "outputId": "47577101-b793-4900-84bd-430e8c80e278"
      },
      "execution_count": null,
      "outputs": [
        {
          "output_type": "stream",
          "name": "stdout",
          "text": [
            "['Ford', 'Mustang', 1964]\n"
          ]
        }
      ]
    },
    {
      "cell_type": "code",
      "source": [
        "# No. 21\n",
        "\n",
        "my_list = [1, 2, 3, 4, 5]\n",
        "my_list[2] = 1\n",
        "print(my_list)"
      ],
      "metadata": {
        "colab": {
          "base_uri": "https://localhost:8080/"
        },
        "id": "9zR2ZmAckrv5",
        "outputId": "161e81ae-97cf-4f31-9cfb-36099742623b"
      },
      "execution_count": null,
      "outputs": [
        {
          "output_type": "stream",
          "name": "stdout",
          "text": [
            "[1, 2, 1, 4, 5]\n"
          ]
        }
      ]
    },
    {
      "cell_type": "code",
      "source": [
        "# No. 22\n",
        "\n",
        "nama = \"SanberCampus\"\n",
        "batch = 2\n",
        "pesan = f\"Welcome to {nama} X ITB batch {batch}\"\n",
        "print(pesan)"
      ],
      "metadata": {
        "colab": {
          "base_uri": "https://localhost:8080/"
        },
        "id": "MX8e6g06_Wnj",
        "outputId": "ba387767-ac34-44be-9a43-0ab48e861a70"
      },
      "execution_count": null,
      "outputs": [
        {
          "output_type": "stream",
          "name": "stdout",
          "text": [
            "Welcome to SanberCampus X ITB batch 2\n"
          ]
        }
      ]
    },
    {
      "cell_type": "code",
      "source": [
        "# No. 23\n",
        "\n",
        "a = 12\n",
        "b = 5\n",
        "\n",
        "result = a % b\n",
        "print(result)"
      ],
      "metadata": {
        "colab": {
          "base_uri": "https://localhost:8080/"
        },
        "id": "23mkgd9eTqxO",
        "outputId": "1f52a024-25b8-4f42-d67b-f24ba52b53b7"
      },
      "execution_count": null,
      "outputs": [
        {
          "output_type": "stream",
          "name": "stdout",
          "text": [
            "2\n"
          ]
        }
      ]
    },
    {
      "cell_type": "code",
      "source": [
        "# No. 24\n",
        "\n",
        "x = 1 # 1\n",
        "x += 3 # 4\n",
        "x -= 2 # 2\n",
        "x **= 3 # 8\n",
        "\n",
        "print(x)"
      ],
      "metadata": {
        "colab": {
          "base_uri": "https://localhost:8080/"
        },
        "id": "ggpNBZl4TxzG",
        "outputId": "226d6874-29c0-4aef-d8a4-cb0e49b73a69"
      },
      "execution_count": null,
      "outputs": [
        {
          "output_type": "stream",
          "name": "stdout",
          "text": [
            "8\n"
          ]
        }
      ]
    },
    {
      "cell_type": "code",
      "source": [
        "# No. 25\n",
        "\n",
        "p = 8\n",
        "q = 5\n",
        "\n",
        "print(p != q) # apakah p tidak sama dengan q?"
      ],
      "metadata": {
        "colab": {
          "base_uri": "https://localhost:8080/"
        },
        "id": "yHXxtgnJT1IF",
        "outputId": "15afcca0-8332-4ead-a034-2ba9009b2360"
      },
      "execution_count": null,
      "outputs": [
        {
          "output_type": "stream",
          "name": "stdout",
          "text": [
            "True\n"
          ]
        }
      ]
    },
    {
      "cell_type": "code",
      "source": [
        "# No. 26\n",
        "\n",
        "a = True\n",
        "b = False\n",
        "print(a and not b)  # apakah True dan bukan False?\n",
        "\n",
        "# T & ~F\n",
        "# T & T\n",
        "# T"
      ],
      "metadata": {
        "colab": {
          "base_uri": "https://localhost:8080/"
        },
        "id": "pa1lReLYT6MM",
        "outputId": "b3f45dcb-f33f-4036-c239-19b8fb975e6e"
      },
      "execution_count": null,
      "outputs": [
        {
          "output_type": "stream",
          "name": "stdout",
          "text": [
            "True\n"
          ]
        }
      ]
    },
    {
      "cell_type": "code",
      "source": [
        "# No. 27\n",
        "\n",
        "a = [1, 2, 3]\n",
        "b = a\n",
        "print(a is b) # True\n",
        "b = [1, 2, 3]\n",
        "print(a is b) # False"
      ],
      "metadata": {
        "colab": {
          "base_uri": "https://localhost:8080/"
        },
        "id": "ev6YWWluUCnm",
        "outputId": "c9114b68-e76d-46ac-e364-694bcfa49402"
      },
      "execution_count": null,
      "outputs": [
        {
          "output_type": "stream",
          "name": "stdout",
          "text": [
            "True\n",
            "False\n"
          ]
        }
      ]
    },
    {
      "cell_type": "code",
      "source": [
        "print(a == b) # True"
      ],
      "metadata": {
        "id": "Gwrg3SamANHn",
        "outputId": "d23512af-b6dd-41f3-b7ac-5016730b2656",
        "colab": {
          "base_uri": "https://localhost:8080/"
        }
      },
      "execution_count": null,
      "outputs": [
        {
          "output_type": "stream",
          "name": "stdout",
          "text": [
            "True\n"
          ]
        }
      ]
    },
    {
      "cell_type": "code",
      "source": [
        "# No. 28\n",
        "\n",
        "my_list = [1, 2, 3, 4, 5]\n",
        "\n",
        "print(2.5 in my_list)"
      ],
      "metadata": {
        "colab": {
          "base_uri": "https://localhost:8080/"
        },
        "id": "LyEPs1WAmmxs",
        "outputId": "e353f78f-2443-48c0-b17e-be70c70aa067"
      },
      "execution_count": null,
      "outputs": [
        {
          "output_type": "stream",
          "name": "stdout",
          "text": [
            "False\n"
          ]
        }
      ]
    },
    {
      "cell_type": "code",
      "source": [
        "# No. 29\n",
        "\n",
        "a = True\n",
        "b = False\n",
        "\n",
        "print((a & b) | (a | b))\n",
        "# (T & F) | (T | F)\n",
        "# F |  T\n",
        "# T"
      ],
      "metadata": {
        "colab": {
          "base_uri": "https://localhost:8080/"
        },
        "id": "4WCMSgOOm5Ft",
        "outputId": "02187065-02d8-42f8-ae6f-8df07a7c2533"
      },
      "execution_count": null,
      "outputs": [
        {
          "output_type": "stream",
          "name": "stdout",
          "text": [
            "True\n"
          ]
        }
      ]
    },
    {
      "cell_type": "code",
      "source": [
        "# No. 30\n",
        "\n",
        "a = False\n",
        "b = False\n",
        "\n",
        "print((a | b) & (a ^ b))\n",
        "# (F | F) & (F ^ F)\n",
        "# F & F\n",
        "# F"
      ],
      "metadata": {
        "colab": {
          "base_uri": "https://localhost:8080/"
        },
        "id": "DVlAG6CRnDhR",
        "outputId": "6c0bdbb1-bef3-4a6d-f77a-178219da5c67"
      },
      "execution_count": null,
      "outputs": [
        {
          "output_type": "stream",
          "name": "stdout",
          "text": [
            "False\n"
          ]
        }
      ]
    }
  ]
}