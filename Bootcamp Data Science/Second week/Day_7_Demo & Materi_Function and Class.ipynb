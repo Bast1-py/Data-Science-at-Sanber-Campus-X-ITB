{
  "nbformat": 4,
  "nbformat_minor": 0,
  "metadata": {
    "colab": {
      "provenance": []
    },
    "kernelspec": {
      "name": "python3",
      "display_name": "Python 3"
    },
    "language_info": {
      "name": "python"
    }
  },
  "cells": [
    {
      "cell_type": "markdown",
      "source": [
        "# Function"
      ],
      "metadata": {
        "id": "lqUz16gBp7Tb"
      }
    },
    {
      "cell_type": "code",
      "execution_count": null,
      "metadata": {
        "id": "p0dALoqvp6to"
      },
      "outputs": [],
      "source": [
        "def tambah_bilangan(x, y):\n",
        "    \"\"\"\n",
        "    Fungsi ini menerima dua parameter, x dan y, dan mengembalikan hasil penjumlahan keduanya.\n",
        "    \"\"\"\n",
        "    hasil = x + y\n",
        "    return hasil"
      ]
    },
    {
      "cell_type": "markdown",
      "source": [
        "- `def`: Mendefinisikan sebuah fungsi.\n",
        "- `tambah_bilangan`: Nama fungsi.\n",
        "- `(x, y)`: Parameter yang diterima oleh fungsi.\n",
        "- `:` (titik dua): Menandakan awal dari tubuh fungsi.\n",
        "- `\"\"\" ... \"\"\"`: String dokumentasi yang memberikan deskripsi singkat tentang apa yang dilakukan oleh fungsi.\n",
        "- `hasil = x + y`: Statement code yang melakukan task.\n",
        "- `return hasil`: Mengembalikan hasil penjumlahan x dan y."
      ],
      "metadata": {
        "id": "4QoYATt7qHpK"
      }
    },
    {
      "cell_type": "code",
      "source": [
        "def kali_bilangan(x, y):\n",
        "    \"\"\"\n",
        "    Fungsi ini menerima dua parameter, x dan y, dan mengembalikan hasil perkalian keduanya.\n",
        "    \"\"\"\n",
        "    hasil = x * y\n",
        "    return hasil"
      ],
      "metadata": {
        "id": "CYn4m-Z4LC8O"
      },
      "execution_count": null,
      "outputs": []
    },
    {
      "cell_type": "code",
      "source": [
        "def kali_bilangan(x, y):\n",
        "    \"\"\"\n",
        "    Fungsi ini menerima dua parameter, x dan y, dan mengembalikan hasil perkalian keduanya.\n",
        "    \"\"\"\n",
        "    return x * y"
      ],
      "metadata": {
        "id": "YrLQoFslMoj6"
      },
      "execution_count": null,
      "outputs": []
    },
    {
      "cell_type": "code",
      "source": [
        "kali_bilangan(5, 7)"
      ],
      "metadata": {
        "colab": {
          "base_uri": "https://localhost:8080/"
        },
        "id": "c784P9tHMq0B",
        "outputId": "9e4ad6c0-7fbd-4479-c17e-af8756fe788b"
      },
      "execution_count": null,
      "outputs": [
        {
          "output_type": "execute_result",
          "data": {
            "text/plain": [
              "35"
            ]
          },
          "metadata": {},
          "execution_count": 16
        }
      ]
    },
    {
      "cell_type": "code",
      "source": [
        "def bagi_bilangan(x, y):\n",
        "    \"\"\"\n",
        "    Fungsi ini menerima dua parameter, x dan y, dan mengembalikan hasil pembagian keduanya.\n",
        "    \"\"\"\n",
        "    hasil = x / y\n",
        "    return hasil"
      ],
      "metadata": {
        "id": "a3WZOtMcLEdh"
      },
      "execution_count": null,
      "outputs": []
    },
    {
      "cell_type": "code",
      "source": [
        "5 / 5"
      ],
      "metadata": {
        "colab": {
          "base_uri": "https://localhost:8080/",
          "height": 143
        },
        "id": "6byE28uSMh4r",
        "outputId": "a1cd518e-85de-4db6-b041-8d9085014277"
      },
      "execution_count": null,
      "outputs": [
        {
          "output_type": "error",
          "ename": "SyntaxError",
          "evalue": "illegal target for annotation (<ipython-input-14-af234c4f1a35>, line 1)",
          "traceback": [
            "\u001b[0;36m  File \u001b[0;32m\"<ipython-input-14-af234c4f1a35>\"\u001b[0;36m, line \u001b[0;32m1\u001b[0m\n\u001b[0;31m    5 : 5\u001b[0m\n\u001b[0m    ^\u001b[0m\n\u001b[0;31mSyntaxError\u001b[0m\u001b[0;31m:\u001b[0m illegal target for annotation\n"
          ]
        }
      ]
    },
    {
      "cell_type": "code",
      "source": [
        "def kurang_bilangan (x, y):\n",
        "    \"\"\"\n",
        "    Fungsi ini menerima dua parameter, x dan y, dan mengembalikan hasil pengurangan keduanya.\n",
        "    \"\"\"\n",
        "    hasil = x - y\n",
        "    return hasil"
      ],
      "metadata": {
        "id": "qy5c4hQsLFIp"
      },
      "execution_count": null,
      "outputs": []
    },
    {
      "cell_type": "code",
      "source": [
        "result = tambah_bilangan(5, 7)\n",
        "print(result)"
      ],
      "metadata": {
        "colab": {
          "base_uri": "https://localhost:8080/"
        },
        "id": "VvREr80NLcvU",
        "outputId": "36d347dc-c603-47bd-bfaa-2f32fcb24065"
      },
      "execution_count": null,
      "outputs": [
        {
          "output_type": "stream",
          "name": "stdout",
          "text": [
            "12\n"
          ]
        }
      ]
    },
    {
      "cell_type": "code",
      "source": [
        "result = kurang_bilangan(5, 7)\n",
        "print(result)"
      ],
      "metadata": {
        "colab": {
          "base_uri": "https://localhost:8080/"
        },
        "id": "EWYw3gH6Lg2b",
        "outputId": "254cd910-ebe2-442b-dd55-c599d5d64e5d"
      },
      "execution_count": null,
      "outputs": [
        {
          "output_type": "stream",
          "name": "stdout",
          "text": [
            "-2\n"
          ]
        }
      ]
    },
    {
      "cell_type": "code",
      "source": [
        "result = bagi_bilangan(5, 7)\n",
        "print(result)"
      ],
      "metadata": {
        "colab": {
          "base_uri": "https://localhost:8080/"
        },
        "id": "9AtiL0nwLi0f",
        "outputId": "35d1c669-12c9-424b-c90c-624750ef7525"
      },
      "execution_count": null,
      "outputs": [
        {
          "output_type": "stream",
          "name": "stdout",
          "text": [
            "0.7142857142857143\n"
          ]
        }
      ]
    },
    {
      "cell_type": "code",
      "source": [
        "result = kali_bilangan(5, 7)\n",
        "print(result)"
      ],
      "metadata": {
        "colab": {
          "base_uri": "https://localhost:8080/"
        },
        "id": "qVxuKL5mLlmR",
        "outputId": "651971bc-6703-4c84-9b79-57f757d2c1bc"
      },
      "execution_count": null,
      "outputs": [
        {
          "output_type": "stream",
          "name": "stdout",
          "text": [
            "35\n"
          ]
        }
      ]
    },
    {
      "cell_type": "markdown",
      "source": [
        "## Tipe-tipe argument"
      ],
      "metadata": {
        "id": "gtMcT3ULrd6q"
      }
    },
    {
      "cell_type": "markdown",
      "source": [
        "### Positional Argument\n",
        "\n",
        "Argumen yang nilainya ditentukan berdasarkan posisinya dalam daftar argumen fungsi"
      ],
      "metadata": {
        "id": "SJnaSh7nrzIE"
      }
    },
    {
      "cell_type": "code",
      "source": [
        "def tambah_bilangan(a, b):\n",
        "    return a + b\n",
        "\n",
        "hasil = tambah_bilangan(3, 4)"
      ],
      "metadata": {
        "id": "5q71squ4rhOp"
      },
      "execution_count": null,
      "outputs": []
    },
    {
      "cell_type": "markdown",
      "source": [
        "### Default Argument\n",
        "\n",
        "Memberikan nilai default untuk parameter fungsi, yang akan digunakan jika argumen tidak diberikan saat pemanggilan fungsi."
      ],
      "metadata": {
        "id": "BMXbV3Kfr1qw"
      }
    },
    {
      "cell_type": "code",
      "source": [
        "def tambah_bilangan(a, b=0):\n",
        "    return a + b\n",
        "\n",
        "hasil = tambah_bilangan(3)\n",
        "hasil"
      ],
      "metadata": {
        "id": "pV76VegvsH2I",
        "colab": {
          "base_uri": "https://localhost:8080/"
        },
        "outputId": "065b9d6b-bb86-4a32-8826-d52a6e915821"
      },
      "execution_count": null,
      "outputs": [
        {
          "output_type": "execute_result",
          "data": {
            "text/plain": [
              "3"
            ]
          },
          "metadata": {},
          "execution_count": 23
        }
      ]
    },
    {
      "cell_type": "code",
      "source": [
        "def tambah_bilangan(a, b=0):\n",
        "    return a + b\n",
        "\n",
        "hasil = tambah_bilangan(3, 5)\n",
        "hasil"
      ],
      "metadata": {
        "colab": {
          "base_uri": "https://localhost:8080/"
        },
        "id": "5F09-1ReNXsb",
        "outputId": "65062cbd-212c-4d3d-a95f-c9efe76af3ba"
      },
      "execution_count": null,
      "outputs": [
        {
          "output_type": "execute_result",
          "data": {
            "text/plain": [
              "8"
            ]
          },
          "metadata": {},
          "execution_count": 21
        }
      ]
    },
    {
      "cell_type": "markdown",
      "source": [
        "### Keyword Argument\n",
        "\n",
        "Argumen ini diberikan dengan menyebutkan nama parameter fungsi saat memanggil fungsi."
      ],
      "metadata": {
        "id": "M6XS4BTLr25f"
      }
    },
    {
      "cell_type": "code",
      "source": [
        "def tambah_bilangan(a, b):\n",
        "    return a + b\n",
        "\n",
        "hasil = tambah_bilangan(a=3, b=4)"
      ],
      "metadata": {
        "id": "TS7rknk5sCLJ"
      },
      "execution_count": null,
      "outputs": []
    },
    {
      "cell_type": "markdown",
      "source": [
        "## Return Statement"
      ],
      "metadata": {
        "id": "OjtPFwcJuqdU"
      }
    },
    {
      "cell_type": "code",
      "source": [
        "# Dengan return\n",
        "\n",
        "def tambah_bilangan(a, b):\n",
        "    hasil = a + b\n",
        "    return hasil\n",
        "\n",
        "hasil = tambah_bilangan(3, 4)\n",
        "print(\"Hasil (dengan return):\", hasil)"
      ],
      "metadata": {
        "colab": {
          "base_uri": "https://localhost:8080/"
        },
        "id": "cbUDs8BjuskJ",
        "outputId": "f579f0da-7203-4ebe-8a19-ac4c978735b3"
      },
      "execution_count": null,
      "outputs": [
        {
          "output_type": "stream",
          "name": "stdout",
          "text": [
            "Hasil (dengan return): 7\n"
          ]
        }
      ]
    },
    {
      "cell_type": "code",
      "source": [
        "# Tanpa return\n",
        "\n",
        "def tambah_bilangan(a, b):\n",
        "    hasil = a + b\n",
        "    print(hasil)\n",
        "\n",
        "hasil = tambah_bilangan(3, 4)\n",
        "print(\"Hasil (tanpa return):\", hasil)"
      ],
      "metadata": {
        "colab": {
          "base_uri": "https://localhost:8080/"
        },
        "id": "JFis5_Bouwo2",
        "outputId": "01c58485-0bc8-44a9-9a87-d2e4a11b6806"
      },
      "execution_count": null,
      "outputs": [
        {
          "output_type": "stream",
          "name": "stdout",
          "text": [
            "7\n",
            "Hasil (tanpa return): None\n"
          ]
        }
      ]
    },
    {
      "cell_type": "markdown",
      "source": [
        "## Tipe-tipe Fungsi"
      ],
      "metadata": {
        "id": "yhAYtiSwrSUr"
      }
    },
    {
      "cell_type": "markdown",
      "source": [
        "### Built-in function\n",
        "\n",
        "Fungsi bawaan yang sudah disediakan oleh Python."
      ],
      "metadata": {
        "id": "A2VSzp5HrW6c"
      }
    },
    {
      "cell_type": "code",
      "source": [
        "# print()\n",
        "print(\"Hello, World!\")\n",
        "\n",
        "# len()\n",
        "length = len(\"example\")\n",
        "\n",
        "# type()\n",
        "data_type = type(42)"
      ],
      "metadata": {
        "colab": {
          "base_uri": "https://localhost:8080/"
        },
        "id": "QbvetiIJrWiI",
        "outputId": "12961af2-c7eb-46ba-8a0d-70df8f81dc79"
      },
      "execution_count": null,
      "outputs": [
        {
          "output_type": "stream",
          "name": "stdout",
          "text": [
            "Hello, World!\n"
          ]
        }
      ]
    },
    {
      "cell_type": "markdown",
      "source": [
        "#### Map Function"
      ],
      "metadata": {
        "id": "lQDXgJx7xgxu"
      }
    },
    {
      "cell_type": "code",
      "source": [
        "# Map function\n",
        "\n",
        "numbers = [1, 2, 3, 4, 5]\n",
        "squared_numbers = list(map(lambda x: x**2, numbers))\n",
        "print(squared_numbers)"
      ],
      "metadata": {
        "colab": {
          "base_uri": "https://localhost:8080/"
        },
        "id": "OnCc6lZExi6z",
        "outputId": "048dbeee-3c4b-449b-d5a4-de31dbdb34d3"
      },
      "execution_count": null,
      "outputs": [
        {
          "output_type": "stream",
          "name": "stdout",
          "text": [
            "[1, 4, 9, 16, 25]\n"
          ]
        }
      ]
    },
    {
      "cell_type": "code",
      "source": [
        "# Without Map function\n",
        "\n",
        "numbers = [1, 2, 3, 4, 5]\n",
        "squared_numbers = [x**2 for x in numbers]\n",
        "print(squared_numbers)"
      ],
      "metadata": {
        "colab": {
          "base_uri": "https://localhost:8080/"
        },
        "id": "0IrjvzlTxrsQ",
        "outputId": "dd4b0038-b6d3-45f0-87fb-03164e2d6911"
      },
      "execution_count": null,
      "outputs": [
        {
          "output_type": "stream",
          "name": "stdout",
          "text": [
            "[1, 4, 9, 16, 25]\n"
          ]
        }
      ]
    },
    {
      "cell_type": "markdown",
      "source": [
        "#### Filter Function"
      ],
      "metadata": {
        "id": "Qgg_NJr2xvjj"
      }
    },
    {
      "cell_type": "code",
      "source": [
        "# Filter function\n",
        "\n",
        "numbers = [1, 2, 3, 4, 5, 6, 7, 8, 9]\n",
        "even_numbers = list(filter(lambda x: x % 2 == 0, numbers))\n",
        "print(even_numbers)"
      ],
      "metadata": {
        "colab": {
          "base_uri": "https://localhost:8080/"
        },
        "id": "aocwpqNRx0RQ",
        "outputId": "c039cb02-878c-4c30-d744-570f7eb6b3ca"
      },
      "execution_count": null,
      "outputs": [
        {
          "output_type": "stream",
          "name": "stdout",
          "text": [
            "[2, 4, 6, 8]\n"
          ]
        }
      ]
    },
    {
      "cell_type": "code",
      "source": [
        "# Without Filter function\n",
        "\n",
        "numbers = [1, 2, 3, 4, 5, 6, 7, 8, 9]\n",
        "even_numbers = [x for x in numbers if x % 2 == 0]\n",
        "print(even_numbers)"
      ],
      "metadata": {
        "colab": {
          "base_uri": "https://localhost:8080/"
        },
        "id": "azm44ydrx3xL",
        "outputId": "0b522cca-1394-4cf8-8310-2947f664102d"
      },
      "execution_count": null,
      "outputs": [
        {
          "output_type": "stream",
          "name": "stdout",
          "text": [
            "[2, 4, 6, 8]\n"
          ]
        }
      ]
    },
    {
      "cell_type": "markdown",
      "source": [
        "#### Reduce Function"
      ],
      "metadata": {
        "id": "QSHI1ZlWx6wa"
      }
    },
    {
      "cell_type": "code",
      "source": [
        "from functools import reduce\n",
        "\n",
        "numbers = [1, 2, 3, 4, 5]\n",
        "product = reduce(lambda x, y: x * y, numbers)\n",
        "print(product)"
      ],
      "metadata": {
        "colab": {
          "base_uri": "https://localhost:8080/"
        },
        "id": "_B1E3EcGx8xm",
        "outputId": "da587117-f284-4bf3-9886-b8e128078049"
      },
      "execution_count": null,
      "outputs": [
        {
          "output_type": "stream",
          "name": "stdout",
          "text": [
            "120\n"
          ]
        }
      ]
    },
    {
      "cell_type": "code",
      "source": [
        "numbers = [1, 2, 3, 4, 5]\n",
        "product = 1\n",
        "for num in numbers:\n",
        "    product *= num\n",
        "print(product)"
      ],
      "metadata": {
        "id": "6iuNnylEx_ZK",
        "outputId": "8276c888-0c30-43e3-8e4d-1a342f9490a1",
        "colab": {
          "base_uri": "https://localhost:8080/"
        }
      },
      "execution_count": null,
      "outputs": [
        {
          "output_type": "stream",
          "name": "stdout",
          "text": [
            "120\n"
          ]
        }
      ]
    },
    {
      "cell_type": "markdown",
      "source": [
        "### User-defined function\n",
        "\n",
        "Fungsi yang didefinisikan oleh pengguna untuk melakukan tugas tertentu. Fungsi ini dibuat menggunakan kata kunci `def`."
      ],
      "metadata": {
        "id": "C7Xnnt6Nsd4f"
      }
    },
    {
      "cell_type": "code",
      "source": [
        "def greet(name):\n",
        "  return f\"Hello, {name}!\"\n",
        "\n",
        "result = greet(\"SanberCampus\")\n",
        "print(result)"
      ],
      "metadata": {
        "colab": {
          "base_uri": "https://localhost:8080/"
        },
        "id": "i_HzJvHhspQ9",
        "outputId": "43db03a9-f71e-48ff-e39e-0cc9431ad3d0"
      },
      "execution_count": null,
      "outputs": [
        {
          "output_type": "stream",
          "name": "stdout",
          "text": [
            "Hello, SanberCampus!\n"
          ]
        }
      ]
    },
    {
      "cell_type": "markdown",
      "source": [
        "### Lambda Function\n",
        "\n",
        "Fungsi tanpa mendefisikan `def` dan tidak memiliki nama (anonim). Fungsi ini digunakan untuk operasi sederhana."
      ],
      "metadata": {
        "id": "oVTKFHbfstL5"
      }
    },
    {
      "cell_type": "code",
      "source": [
        "add = lambda x, y: x + y\n",
        "result = add(3, 5)\n",
        "print(result)"
      ],
      "metadata": {
        "colab": {
          "base_uri": "https://localhost:8080/"
        },
        "id": "7uilxKistBbK",
        "outputId": "5a31abff-9586-4bbe-f155-7fa99218a35a"
      },
      "execution_count": null,
      "outputs": [
        {
          "output_type": "stream",
          "name": "stdout",
          "text": [
            "8\n"
          ]
        }
      ]
    },
    {
      "cell_type": "markdown",
      "source": [
        "### Recursive Functions\n",
        "\n",
        "Fungsi yang memanggil dirinya sendiri."
      ],
      "metadata": {
        "id": "gkWzZiCDtDuK"
      }
    },
    {
      "cell_type": "code",
      "source": [
        "# 5! = 5 * 4 * 3 * 2 * 1"
      ],
      "metadata": {
        "id": "F1zL7Md7O-Ux"
      },
      "execution_count": null,
      "outputs": []
    },
    {
      "cell_type": "code",
      "source": [
        "def factorial(n):\n",
        "  if n == 0 or n == 1: # base\n",
        "    return 1\n",
        "  else: # recursive call\n",
        "    return n * factorial(n - 1)\n",
        "    # 5 * 4\n",
        "    # 5 * 4 * 3\n",
        "    # 5 * 4 * 3 * 2\n",
        "    # 5 * 4 * 3 * 2 * 1\n",
        "\n",
        "result = factorial(5)\n",
        "print(result)"
      ],
      "metadata": {
        "colab": {
          "base_uri": "https://localhost:8080/"
        },
        "id": "PxdjwAYMtDEF",
        "outputId": "619d9c21-137b-4711-8590-4631a067bd60"
      },
      "execution_count": null,
      "outputs": [
        {
          "output_type": "stream",
          "name": "stdout",
          "text": [
            "120\n"
          ]
        }
      ]
    },
    {
      "cell_type": "markdown",
      "source": [
        "# Global vs Local Variabel"
      ],
      "metadata": {
        "id": "EUULSbwWvJ8_"
      }
    },
    {
      "cell_type": "code",
      "source": [
        "global_var = 'global'\n",
        "\n",
        "def print_func():\n",
        "  local_var = 'local'\n",
        "  print(\"Global variable inside function:\", global_var)\n",
        "  print(\"Local variable inside function:\", local_var)\n",
        "\n",
        "print_func()\n",
        "print(\"Global variable outside function:\", global_var)\n",
        "# print(\"Local variable outside function:\", local_var) # Name Error"
      ],
      "metadata": {
        "colab": {
          "base_uri": "https://localhost:8080/"
        },
        "id": "bBJlFULsvNmE",
        "outputId": "34166725-8214-4935-fbe5-44e36f6a5934"
      },
      "execution_count": null,
      "outputs": [
        {
          "output_type": "stream",
          "name": "stdout",
          "text": [
            "Global variable inside function: global\n",
            "Local variable inside function: local\n",
            "Global variable outside function: global\n"
          ]
        }
      ]
    },
    {
      "cell_type": "markdown",
      "source": [
        "# Class & Object"
      ],
      "metadata": {
        "id": "diuMi5fZloAk"
      }
    },
    {
      "cell_type": "markdown",
      "source": [
        "Kelas:\n",
        "1. Atribut --> Karakteristik\n",
        "2. Metode/function --> Behavior"
      ],
      "metadata": {
        "id": "rVNzAuDRTo5Y"
      }
    },
    {
      "cell_type": "code",
      "source": [
        "# Mendefinisikan kelas untuk Rumah\n",
        "class Rumah:\n",
        "  # Karakteristik\n",
        "    def __init__(self, warna, ukuran, jumlah_kamar):\n",
        "        self.warna = warna\n",
        "        self.ukuran = ukuran\n",
        "        self.jumlah_kamar = jumlah_kamar\n",
        "        self.pintu_terbuka = False  # Nilai default untuk keadaan pintu\n",
        "\n",
        "  # Behaviour\n",
        "    def buka_pintu(self):\n",
        "        self.pintu_terbuka = True\n",
        "        print(\"Pintu sekarang terbuka.\")\n",
        "\n",
        "    def tutup_pintu(self):\n",
        "        self.pintu_terbuka = False\n",
        "        print(\"Pintu sekarang tertutup.\")\n",
        "\n",
        "    def tampilkan_info(self):\n",
        "        print(f\"Ini adalah rumah {self.ukuran} berwarna {self.warna} dengan {self.jumlah_kamar} kamar.\")\n",
        "\n",
        "    def __str__(self):\n",
        "        return f\"Ini adalah rumah {self.ukuran} berwarna {self.warna} dengan {self.jumlah_kamar} kamar.\""
      ],
      "metadata": {
        "id": "ZAERYsNBlrNo"
      },
      "execution_count": null,
      "outputs": []
    },
    {
      "cell_type": "code",
      "source": [
        "# Membuat objek (instansi) dari kelas Rumah\n",
        "rumah1 = Rumah(warna=\"Biru\", ukuran=\"Sedang\", jumlah_kamar=3)\n",
        "rumah2 = Rumah(warna=\"Merah\", ukuran=\"Besar\", jumlah_kamar=5)"
      ],
      "metadata": {
        "id": "J5OLwcGFl2cR"
      },
      "execution_count": null,
      "outputs": []
    },
    {
      "cell_type": "code",
      "source": [
        "def rumah_3():\n",
        "  rumah3 = Rumah(warna=\"Biru\", ukuran=\"Sedang\", jumlah_kamar=3)\n",
        "  print(rumah3)"
      ],
      "metadata": {
        "id": "fWv0sr_DUT9w"
      },
      "execution_count": null,
      "outputs": []
    },
    {
      "cell_type": "code",
      "source": [
        "rumah_3()"
      ],
      "metadata": {
        "colab": {
          "base_uri": "https://localhost:8080/"
        },
        "id": "QUZ2L3TNUk0_",
        "outputId": "27538ffc-bf72-4fe7-f748-407ac747dbe4"
      },
      "execution_count": null,
      "outputs": [
        {
          "output_type": "stream",
          "name": "stdout",
          "text": [
            "Ini adalah rumah Sedang berwarna Biru dengan 3 kamar.\n"
          ]
        }
      ]
    },
    {
      "cell_type": "code",
      "source": [
        "rumah3"
      ],
      "metadata": {
        "colab": {
          "base_uri": "https://localhost:8080/",
          "height": 179
        },
        "id": "o6Ahlh8jUiSU",
        "outputId": "9018480a-8317-4d44-f171-315428cfcb7f"
      },
      "execution_count": null,
      "outputs": [
        {
          "output_type": "error",
          "ename": "NameError",
          "evalue": "name 'rumah3' is not defined",
          "traceback": [
            "\u001b[0;31m---------------------------------------------------------------------------\u001b[0m",
            "\u001b[0;31mNameError\u001b[0m                                 Traceback (most recent call last)",
            "\u001b[0;32m<ipython-input-47-9224bfc6e9f2>\u001b[0m in \u001b[0;36m<cell line: 1>\u001b[0;34m()\u001b[0m\n\u001b[0;32m----> 1\u001b[0;31m \u001b[0mrumah3\u001b[0m\u001b[0;34m\u001b[0m\u001b[0;34m\u001b[0m\u001b[0m\n\u001b[0m",
            "\u001b[0;31mNameError\u001b[0m: name 'rumah3' is not defined"
          ]
        }
      ]
    },
    {
      "cell_type": "code",
      "source": [
        "print(rumah1)"
      ],
      "metadata": {
        "colab": {
          "base_uri": "https://localhost:8080/"
        },
        "id": "5a72_t7_T_hr",
        "outputId": "bfe75a54-8f51-4b4f-fd28-98d430da4d47"
      },
      "execution_count": null,
      "outputs": [
        {
          "output_type": "stream",
          "name": "stdout",
          "text": [
            "Ini adalah rumah Sedang berwarna Biru dengan 3 kamar.\n"
          ]
        }
      ]
    },
    {
      "cell_type": "code",
      "source": [
        "rumah1.buka_pintu()"
      ],
      "metadata": {
        "colab": {
          "base_uri": "https://localhost:8080/"
        },
        "id": "DhVd0ExYTRsl",
        "outputId": "121a452a-70a1-41a5-8e3f-ec503de09adf"
      },
      "execution_count": null,
      "outputs": [
        {
          "output_type": "stream",
          "name": "stdout",
          "text": [
            "Pintu sekarang terbuka.\n"
          ]
        }
      ]
    },
    {
      "cell_type": "code",
      "source": [
        "rumah2.tutup_pintu()"
      ],
      "metadata": {
        "colab": {
          "base_uri": "https://localhost:8080/"
        },
        "id": "AoXpFIGUTXHj",
        "outputId": "8266f172-3b0a-46e5-f210-105975606070"
      },
      "execution_count": null,
      "outputs": [
        {
          "output_type": "stream",
          "name": "stdout",
          "text": [
            "Pintu sekarang tertutup.\n"
          ]
        }
      ]
    },
    {
      "cell_type": "code",
      "source": [
        "# Mengakses atribut dan memanggil metode objek\n",
        "rumah1.tampilkan_info()  # Output: Ini adalah rumah Sedang berwarna Biru dengan 3 kamar.\n",
        "rumah2.tampilkan_info()  # Output: Ini adalah rumah Besar berwarna Merah dengan 5 kamar."
      ],
      "metadata": {
        "colab": {
          "base_uri": "https://localhost:8080/"
        },
        "id": "ikP0Eu1cl4UC",
        "outputId": "e81a5864-f572-48d9-99a6-5665a94dc7fc"
      },
      "execution_count": null,
      "outputs": [
        {
          "output_type": "stream",
          "name": "stdout",
          "text": [
            "Ini adalah rumah Sedang berwarna Biru dengan 3 kamar.\n",
            "Ini adalah rumah Besar berwarna Merah dengan 5 kamar.\n"
          ]
        }
      ]
    },
    {
      "cell_type": "code",
      "source": [
        "rumah1.buka_pintu()      # Output: Pintu sekarang terbuka.\n",
        "print(rumah1.pintu_terbuka)  # Output: True"
      ],
      "metadata": {
        "colab": {
          "base_uri": "https://localhost:8080/"
        },
        "id": "HwetdChol6bR",
        "outputId": "597f34f8-6177-46dc-ecae-7f388c3a65e6"
      },
      "execution_count": null,
      "outputs": [
        {
          "output_type": "stream",
          "name": "stdout",
          "text": [
            "Pintu sekarang terbuka.\n",
            "True\n"
          ]
        }
      ]
    },
    {
      "cell_type": "code",
      "source": [
        "rumah2.tutup_pintu()     # Output: Pintu sekarang tertutup.\n",
        "print(rumah2.pintu_terbuka)  # Output: False"
      ],
      "metadata": {
        "colab": {
          "base_uri": "https://localhost:8080/"
        },
        "id": "fp8ue6LBl8zJ",
        "outputId": "e4955438-d038-42a4-d469-979ae3b606a0"
      },
      "execution_count": null,
      "outputs": [
        {
          "output_type": "stream",
          "name": "stdout",
          "text": [
            "Pintu sekarang tertutup.\n",
            "False\n"
          ]
        }
      ]
    },
    {
      "cell_type": "code",
      "source": [
        "class Mobil:\n",
        "    def __init__(self, merk, model, tahun, warna):\n",
        "        self.merk = merk\n",
        "        self.model = model\n",
        "        self.tahun = tahun\n",
        "        self.warna = warna\n",
        "\n",
        "    def __str__(self):\n",
        "        return f\"{self.warna} {self.tahun} {self.merk} {self.model}\"\n",
        "\n",
        "mobil1 = Mobil(\"Toyota\", \"Camry\", 2022, \"Silver\")\n",
        "print(mobil1)"
      ],
      "metadata": {
        "colab": {
          "base_uri": "https://localhost:8080/"
        },
        "id": "p3FF0lKzop7H",
        "outputId": "861a12f0-9b2f-4edd-86ad-51377a78e685"
      },
      "execution_count": null,
      "outputs": [
        {
          "output_type": "stream",
          "name": "stdout",
          "text": [
            "Silver 2022 Toyota Camry\n"
          ]
        }
      ]
    },
    {
      "cell_type": "markdown",
      "source": [
        "# Contoh"
      ],
      "metadata": {
        "id": "2AQyoZybuDbw"
      }
    },
    {
      "cell_type": "code",
      "source": [
        "class MataKuliah:\n",
        "  # self == objek ini\n",
        "    def __init__(self, kode, nama, sks):\n",
        "        self.kode = kode\n",
        "        self.nama = nama\n",
        "        self.sks = sks\n",
        "        self.dosen_pengajar = None  # Menyimpan objek Dosen yang mengajar mata kuliah\n",
        "\n",
        "    def tambahkan_dosen(self, dosen):\n",
        "        self.dosen_pengajar = dosen\n",
        "\n",
        "    def __str__(self):\n",
        "        if self.dosen_pengajar:\n",
        "            return f\"{self.kode} - {self.nama} ({self.sks} SKS) - Dosen Pengajar: {self.dosen_pengajar.nama}\"\n",
        "        else:\n",
        "            return f\"{self.kode} - {self.nama} ({self.sks} SKS) - Dosen Pengajar: Belum Ditentukan\""
      ],
      "metadata": {
        "id": "b73mdS9buFeC"
      },
      "execution_count": null,
      "outputs": []
    },
    {
      "cell_type": "code",
      "source": [
        "print(matkul1)"
      ],
      "metadata": {
        "colab": {
          "base_uri": "https://localhost:8080/"
        },
        "id": "a97B-FpcV95j",
        "outputId": "89ae2588-ee8e-4081-b71e-d3d37cbabab4"
      },
      "execution_count": null,
      "outputs": [
        {
          "output_type": "stream",
          "name": "stdout",
          "text": [
            "MK001 - Pemrograman Python (3 SKS) - Dosen Pengajar: Dr. John Doe\n"
          ]
        }
      ]
    },
    {
      "cell_type": "code",
      "source": [
        "class Dosen:\n",
        "    def __init__(self, nidn, nama):\n",
        "        self.nidn = nidn\n",
        "        self.nama = nama\n",
        "\n",
        "    def __str__(self):\n",
        "        return f\"{self.nidn} - {self.nama}\""
      ],
      "metadata": {
        "id": "K46nst5vuJnc"
      },
      "execution_count": null,
      "outputs": []
    },
    {
      "cell_type": "code",
      "source": [
        "class Mahasiswa:\n",
        "    def __init__(self, nim, nama):\n",
        "        self.nim = nim\n",
        "        self.nama = nama\n",
        "        self.mata_kuliah_diambil = []\n",
        "\n",
        "    def ambil_mata_kuliah(self, mata_kuliah): # matkul1 + matkul2\n",
        "        self.mata_kuliah_diambil.append(mata_kuliah)\n",
        "        # [] --> [matkul1, matkul2]\n",
        "\n",
        "    def __str__(self):\n",
        "        mata_kuliah_str = \", \".join([mk.nama for mk in self.mata_kuliah_diambil])\n",
        "        return f\"{self.nim} - {self.nama} (Mata Kuliah: {mata_kuliah_str})\""
      ],
      "metadata": {
        "id": "kYS5HAMvuLiF"
      },
      "execution_count": null,
      "outputs": []
    },
    {
      "cell_type": "code",
      "source": [
        "matkul1 = MataKuliah(\"MK001\", \"Pemrograman Python\", 3)\n",
        "matkul2 = MataKuliah(\"MK002\", \"Basis Data\", 4)"
      ],
      "metadata": {
        "id": "X-2UnaZYuNZI"
      },
      "execution_count": null,
      "outputs": []
    },
    {
      "cell_type": "code",
      "source": [
        "dosen1 = Dosen(\"123456\", \"Dr. John Doe\")"
      ],
      "metadata": {
        "id": "3p4fzQWwuOZY"
      },
      "execution_count": null,
      "outputs": []
    },
    {
      "cell_type": "code",
      "source": [
        "mahasiswa1 = Mahasiswa(\"2021001\", \"Alice\")\n",
        "mahasiswa2 = Mahasiswa(\"2021002\", \"Bob\")"
      ],
      "metadata": {
        "id": "wNzNJchYuP-6"
      },
      "execution_count": null,
      "outputs": []
    },
    {
      "cell_type": "code",
      "source": [
        "mahasiswa1.ambil_mata_kuliah(matkul1)\n",
        "mahasiswa1.ambil_mata_kuliah(matkul2)\n",
        "mahasiswa2.ambil_mata_kuliah(matkul1)"
      ],
      "metadata": {
        "id": "Kj491fbzuRi9"
      },
      "execution_count": null,
      "outputs": []
    },
    {
      "cell_type": "code",
      "source": [
        "matkul1.tambahkan_dosen(dosen1)"
      ],
      "metadata": {
        "id": "0tMoDdM8uTiW"
      },
      "execution_count": null,
      "outputs": []
    },
    {
      "cell_type": "code",
      "source": [
        "print(\"Mata Kuliah:\")\n",
        "print(matkul1)\n",
        "print(matkul2)"
      ],
      "metadata": {
        "colab": {
          "base_uri": "https://localhost:8080/"
        },
        "id": "KyriV9b1uYPx",
        "outputId": "a4f13f16-c816-4d27-e6c4-80124dba6a60"
      },
      "execution_count": null,
      "outputs": [
        {
          "output_type": "stream",
          "name": "stdout",
          "text": [
            "Mata Kuliah:\n",
            "MK001 - Pemrograman Python (3 SKS) - Dosen Pengajar: Dr. John Doe\n",
            "MK002 - Basis Data (4 SKS) - Dosen Pengajar: Belum Ditentukan\n"
          ]
        }
      ]
    },
    {
      "cell_type": "code",
      "source": [
        "print(\"\\nDosen:\")\n",
        "print(dosen1)"
      ],
      "metadata": {
        "colab": {
          "base_uri": "https://localhost:8080/"
        },
        "id": "rugggVQduatk",
        "outputId": "5b903951-dbe1-4371-ea35-3ae0dd8e7d05"
      },
      "execution_count": null,
      "outputs": [
        {
          "output_type": "stream",
          "name": "stdout",
          "text": [
            "\n",
            "Dosen:\n",
            "123456 - Dr. John Doe\n"
          ]
        }
      ]
    },
    {
      "cell_type": "code",
      "source": [
        "print(\"\\nMahasiswa:\")\n",
        "print(mahasiswa1)\n",
        "print(mahasiswa2)"
      ],
      "metadata": {
        "id": "bTJfVnaiucmy",
        "outputId": "de9779d9-60b6-4679-c8f4-f0500218a819",
        "colab": {
          "base_uri": "https://localhost:8080/"
        }
      },
      "execution_count": null,
      "outputs": [
        {
          "output_type": "stream",
          "name": "stdout",
          "text": [
            "\n",
            "Mahasiswa:\n",
            "2021001 - Alice (Mata Kuliah: Pemrograman Python, Basis Data)\n",
            "2021002 - Bob (Mata Kuliah: Pemrograman Python)\n"
          ]
        }
      ]
    }
  ]
}