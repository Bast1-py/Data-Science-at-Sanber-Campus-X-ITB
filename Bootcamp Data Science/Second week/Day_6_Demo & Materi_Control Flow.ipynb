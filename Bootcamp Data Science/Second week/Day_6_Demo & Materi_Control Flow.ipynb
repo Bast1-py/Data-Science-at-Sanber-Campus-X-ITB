{
  "nbformat": 4,
  "nbformat_minor": 0,
  "metadata": {
    "colab": {
      "provenance": []
    },
    "kernelspec": {
      "name": "python3",
      "display_name": "Python 3"
    },
    "language_info": {
      "name": "python"
    }
  },
  "cells": [
    {
      "cell_type": "markdown",
      "source": [
        "# Iterasi"
      ],
      "metadata": {
        "id": "FEoNHyZN4N6j"
      }
    },
    {
      "cell_type": "markdown",
      "source": [
        "## Iterasi For"
      ],
      "metadata": {
        "id": "IPV0ALCxztcQ"
      }
    },
    {
      "cell_type": "code",
      "execution_count": null,
      "metadata": {
        "colab": {
          "base_uri": "https://localhost:8080/"
        },
        "id": "3d8NthcdzY4Z",
        "outputId": "f466017d-613f-46a3-92d7-317c2ac577a5"
      },
      "outputs": [
        {
          "output_type": "stream",
          "name": "stdout",
          "text": [
            "Mercury Venus Earth Mars Jupiter Saturn Uranus Neptune "
          ]
        }
      ],
      "source": [
        "planets = ['Mercury', 'Venus', 'Earth', 'Mars', 'Jupiter', 'Saturn', 'Uranus', 'Neptune']\n",
        "for i in planets:\n",
        "    print(i, end=' ') # print all on same line"
      ]
    },
    {
      "cell_type": "markdown",
      "source": [
        "Ketika kita menggunakan loop, ada beberapa hal yang perlu diperhatikan :\n",
        "\n",
        "1. Kita perlu memberikan nama variable yang akan digunakan (dalam contoh di atas adalah planet)\n",
        "2. Serentetan nilai yang ingin kita looping untuk melakukan operasi kepada setiap elemennya (dalam contoh di atas adalah planets)."
      ],
      "metadata": {
        "id": "kZTsI5iW0JoQ"
      }
    },
    {
      "cell_type": "markdown",
      "source": [
        "### range()"
      ],
      "metadata": {
        "id": "HiD2hvmJz4eM"
      }
    },
    {
      "cell_type": "code",
      "source": [
        "for i in range(5): # 0, 1, 2, 3, 4\n",
        "    print(\"Doing important work. i =\", i)"
      ],
      "metadata": {
        "id": "M1NVPi0jz8tq",
        "colab": {
          "base_uri": "https://localhost:8080/"
        },
        "outputId": "1d12ce60-812c-4246-ad39-d76c5a73fa22"
      },
      "execution_count": null,
      "outputs": [
        {
          "output_type": "stream",
          "name": "stdout",
          "text": [
            "Doing important work. i = 0\n",
            "Doing important work. i = 1\n",
            "Doing important work. i = 2\n",
            "Doing important work. i = 3\n",
            "Doing important work. i = 4\n"
          ]
        }
      ]
    },
    {
      "cell_type": "code",
      "source": [
        "for i in range(1, 3, 2):\n",
        "  print(i)"
      ],
      "metadata": {
        "colab": {
          "base_uri": "https://localhost:8080/",
          "height": 194
        },
        "id": "D0njCOkPMg4f",
        "outputId": "0539bd3c-39e9-4f23-d968-7f6cd395365a"
      },
      "execution_count": null,
      "outputs": [
        {
          "output_type": "error",
          "ename": "TypeError",
          "evalue": "'float' object cannot be interpreted as an integer",
          "traceback": [
            "\u001b[0;31m---------------------------------------------------------------------------\u001b[0m",
            "\u001b[0;31mTypeError\u001b[0m                                 Traceback (most recent call last)",
            "\u001b[0;32m<ipython-input-30-ca4452e57bdc>\u001b[0m in \u001b[0;36m<cell line: 1>\u001b[0;34m()\u001b[0m\n\u001b[0;32m----> 1\u001b[0;31m \u001b[0;32mfor\u001b[0m \u001b[0mi\u001b[0m \u001b[0;32min\u001b[0m \u001b[0mrange\u001b[0m\u001b[0;34m(\u001b[0m\u001b[0;36m1\u001b[0m\u001b[0;34m,\u001b[0m \u001b[0;36m3\u001b[0m\u001b[0;34m,\u001b[0m \u001b[0;36m0.5\u001b[0m\u001b[0;34m)\u001b[0m\u001b[0;34m:\u001b[0m\u001b[0;34m\u001b[0m\u001b[0;34m\u001b[0m\u001b[0m\n\u001b[0m\u001b[1;32m      2\u001b[0m   \u001b[0mprint\u001b[0m\u001b[0;34m(\u001b[0m\u001b[0mi\u001b[0m\u001b[0;34m)\u001b[0m\u001b[0;34m\u001b[0m\u001b[0;34m\u001b[0m\u001b[0m\n",
            "\u001b[0;31mTypeError\u001b[0m: 'float' object cannot be interpreted as an integer"
          ]
        }
      ]
    },
    {
      "cell_type": "markdown",
      "source": [
        "### enumerate()"
      ],
      "metadata": {
        "id": "CVE9ByUt0aEI"
      }
    },
    {
      "cell_type": "code",
      "source": [
        "areas = [11.25, 18.0, 20.0, 10.75, 9.50]\n",
        "\n",
        "# Change for loop to use enumerate() and update print()\n",
        "for index, area in enumerate(areas) :\n",
        "    print(\"room\"+str(index)+\": \"+str(area))\n",
        "\n",
        "murid = [\"Ani\", \"Budi\", \"Dudung\", \"Dani\"]\n",
        "for tempat, anakmurid in enumerate(murid):\n",
        "  print(anakmurid+ \" duduknya di: \"+str(tempat))"
      ],
      "metadata": {
        "colab": {
          "base_uri": "https://localhost:8080/"
        },
        "id": "d36ovyBj0ZCR",
        "outputId": "d45bde79-fc15-4b52-a4ee-b23909270195"
      },
      "execution_count": null,
      "outputs": [
        {
          "output_type": "stream",
          "name": "stdout",
          "text": [
            "room0: 11.25\n",
            "room1: 18.0\n",
            "room2: 20.0\n",
            "room3: 10.75\n",
            "room4: 9.5\n",
            "Ani duduknya di: 0\n",
            "Budi duduknya di: 1\n",
            "Dudung duduknya di: 2\n",
            "Dani duduknya di: 3\n"
          ]
        }
      ]
    },
    {
      "cell_type": "markdown",
      "source": [
        "## Iterasi While"
      ],
      "metadata": {
        "id": "7giefxMr110z"
      }
    },
    {
      "cell_type": "code",
      "source": [
        "i = 0\n",
        "while i < 10:\n",
        "    print(i)\n",
        "    i += 5 # i = i+1"
      ],
      "metadata": {
        "colab": {
          "base_uri": "https://localhost:8080/"
        },
        "id": "_pDa56co16DT",
        "outputId": "93496e9f-887f-4dda-f708-592bbeae8b8a"
      },
      "execution_count": null,
      "outputs": [
        {
          "output_type": "stream",
          "name": "stdout",
          "text": [
            "0\n",
            "5\n"
          ]
        }
      ]
    },
    {
      "cell_type": "code",
      "source": [
        "nama = \"Dudung\"\n",
        "while nama == \"Dudung\":\n",
        "  nama = input(\"Dudung ga boleh masuk, nama kamu siapa?\")"
      ],
      "metadata": {
        "colab": {
          "base_uri": "https://localhost:8080/"
        },
        "id": "SM0RCrzhKenx",
        "outputId": "c79b0f5c-7e02-41b7-dcaa-bc4c60afdefe"
      },
      "execution_count": null,
      "outputs": [
        {
          "name": "stdout",
          "output_type": "stream",
          "text": [
            "Dudung ga boleh masuk, nama kamu siapa?Dudung\n",
            "Dudung ga boleh masuk, nama kamu siapa?Dudung\n",
            "Dudung ga boleh masuk, nama kamu siapa?Budi\n"
          ]
        }
      ]
    },
    {
      "cell_type": "code",
      "source": [
        "a = True\n",
        "nama = [\"Sarif\", \"John\", \"Anne\"]\n",
        "while a == True:\n",
        "  for i in nama:\n",
        "    print(i)\n",
        "  a = False"
      ],
      "metadata": {
        "colab": {
          "base_uri": "https://localhost:8080/"
        },
        "id": "IAOR5BijN6EF",
        "outputId": "845801d8-cfd0-4745-a5d6-72f742ae3ccb"
      },
      "execution_count": null,
      "outputs": [
        {
          "output_type": "stream",
          "name": "stdout",
          "text": [
            "Sarif\n",
            "John\n",
            "Anne\n"
          ]
        }
      ]
    },
    {
      "cell_type": "markdown",
      "source": [
        "# Conditional"
      ],
      "metadata": {
        "id": "TymW89oy4aL-"
      }
    },
    {
      "cell_type": "markdown",
      "source": [
        "## If\n",
        "digunakan jika kita hanya ingin menguji satu pernyataan sebagai syarat jika kode kita ingin dijalankan."
      ],
      "metadata": {
        "id": "e9YCUzAc4vCD"
      }
    },
    {
      "cell_type": "code",
      "source": [
        "nilai = 7\n",
        "if nilai >= 8 :\n",
        "  print('lulus')"
      ],
      "metadata": {
        "id": "eUWQ3ekk4c9m"
      },
      "execution_count": null,
      "outputs": []
    },
    {
      "cell_type": "code",
      "source": [
        "a = 5\n",
        "if (a < 10):\n",
        "  if (a > 3):\n",
        "    print(a)\n"
      ],
      "metadata": {
        "colab": {
          "base_uri": "https://localhost:8080/"
        },
        "id": "VuXu2AybVPFI",
        "outputId": "a56bc1d2-0ed0-45de-c021-c819d1bde56c"
      },
      "execution_count": null,
      "outputs": [
        {
          "output_type": "stream",
          "name": "stdout",
          "text": [
            "5\n"
          ]
        }
      ]
    },
    {
      "cell_type": "markdown",
      "source": [
        "## If Else\n",
        "digunakan jika kita hanya mempunyai dua kondisi yang ingin dilakukan. Kondisi jika True dan jika False."
      ],
      "metadata": {
        "id": "l_EvGOHp5Ss1"
      }
    },
    {
      "cell_type": "code",
      "source": [
        "nilai = 8\n",
        "if nilai >= 8:\n",
        "  print('lulus')\n",
        "else:\n",
        "  print('tidak lulus')"
      ],
      "metadata": {
        "id": "VnbhfeHN5U4Y",
        "colab": {
          "base_uri": "https://localhost:8080/"
        },
        "outputId": "b8fa7772-5e10-4ed2-b0b2-87471edcce8f"
      },
      "execution_count": null,
      "outputs": [
        {
          "output_type": "stream",
          "name": "stdout",
          "text": [
            "lulus\n"
          ]
        }
      ]
    },
    {
      "cell_type": "markdown",
      "source": [
        "##If Elif Else\n",
        "digunakan jika kita hanya memiliki banyak syarat yang ingin diuji secara berurutan. Jadi jika syarat pertama tidak terpenuhi dia akan menguji syarat kedua, dan begitu seterusnya hingga bertemu dengan else."
      ],
      "metadata": {
        "id": "ummYQCSc6AmI"
      }
    },
    {
      "cell_type": "code",
      "source": [
        "nilai = 8\n",
        "if nilai < 5:\n",
        "  print('tidak lulus')\n",
        "elif nilai < 7: # 7 - 8.99999\n",
        "  print('Nilai kamu B')\n",
        "elif nilai < 9: #5 - 6.9999\n",
        "  print('Nilai kamu A')\n",
        "else:\n",
        " print('Nilai kamu A+')"
      ],
      "metadata": {
        "id": "3ZHQTxZV6OCN",
        "colab": {
          "base_uri": "https://localhost:8080/"
        },
        "outputId": "3c6be40c-d360-45f3-f70d-635b24830d71"
      },
      "execution_count": null,
      "outputs": [
        {
          "output_type": "stream",
          "name": "stdout",
          "text": [
            "Nilai kamu A\n"
          ]
        }
      ]
    },
    {
      "cell_type": "markdown",
      "source": [
        "# Continue and Break"
      ],
      "metadata": {
        "id": "zMdV-z72_A_D"
      }
    },
    {
      "cell_type": "markdown",
      "source": [
        "## Continue"
      ],
      "metadata": {
        "id": "CKsf0a8Y_DuC"
      }
    },
    {
      "cell_type": "code",
      "source": [
        "for i in range(1, 6): # 1, 2, 3, 4, 5\n",
        "  if i == 3:\n",
        "    pass\n",
        "  print(i)\n"
      ],
      "metadata": {
        "colab": {
          "base_uri": "https://localhost:8080/"
        },
        "id": "4yvfdwcR_C9R",
        "outputId": "e89ef684-8329-4cd3-ed9e-00779f4c7378"
      },
      "execution_count": null,
      "outputs": [
        {
          "output_type": "stream",
          "name": "stdout",
          "text": [
            "1\n",
            "2\n",
            "3\n",
            "4\n",
            "5\n"
          ]
        }
      ]
    },
    {
      "cell_type": "markdown",
      "source": [
        "## Break"
      ],
      "metadata": {
        "id": "ds8rPJ4a_e3g"
      }
    },
    {
      "cell_type": "code",
      "source": [
        "for i in range(1, 6): #1, 2, 3, 4, 5\n",
        "  if i == 3:\n",
        "    break\n",
        "  print(i)"
      ],
      "metadata": {
        "colab": {
          "base_uri": "https://localhost:8080/"
        },
        "id": "eqX1XLNW_eaT",
        "outputId": "c13a96e0-c86e-474c-fde1-d52bcce41ed6"
      },
      "execution_count": null,
      "outputs": [
        {
          "output_type": "stream",
          "name": "stdout",
          "text": [
            "1\n",
            "2\n"
          ]
        }
      ]
    },
    {
      "cell_type": "code",
      "source": [],
      "metadata": {
        "id": "FTnuRbEkUb3R"
      },
      "execution_count": null,
      "outputs": []
    }
  ]
}