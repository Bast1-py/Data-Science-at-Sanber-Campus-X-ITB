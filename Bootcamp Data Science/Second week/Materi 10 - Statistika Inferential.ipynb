{
 "cells": [
  {
   "cell_type": "markdown",
   "id": "8251eb79",
   "metadata": {},
   "source": [
    "Contoh Soal:\n",
    "\n",
    "Seorang peneliti ingin memahami faktor-faktor yang memengaruhi nilai rumah di suatu kawasan. Dia mengumpulkan data dari 100 rumah yang termasuk luas tanah (variabel X1), jumlah kamar (variabel X2), usia rumah (variabel X3), dan nilai rumah (variabel Y). Berikut adalah data yang dikumpulkan:\n",
    "\n",
    "* Rumah 1: Luas Tanah = 1600 sqft, Jumlah Kamar = 3, Usia Rumah = 12 tahun, Nilai Rumah = $210,000;\n",
    "\n",
    "* Rumah 2: Luas Tanah = 1900 sqft, Jumlah Kamar = 4, Usia Rumah = 8 tahun, Nilai Rumah = $245,000; \n",
    "\n",
    "* Rumah 3: Luas Tanah = 1750 sqft, Jumlah Kamar = 3, Usia Rumah = 10 tahun, Nilai Rumah = $200,000; \n",
    "\n",
    "* Rumah 4: Luas Tanah = 2050 sqft, Jumlah Kamar = 5, Usia Rumah = 6 tahun, Nilai Rumah = $260,000;\n",
    "\n",
    "* Rumah 5: Luas Tanah = 1500 sqft, Jumlah Kamar = 3, Usia Rumah = 11 tahun, Nilai Rumah = $195,000;\n",
    "\n",
    "* Rumah 6: Luas Tanah = 2200 sqft, Jumlah Kamar = 4, Usia Rumah = 7 tahun, Nilai Rumah = $270,000;\n",
    "\n",
    "* Rumah 7: Luas Tanah = 1800 sqft, Jumlah Kamar = 3, Usia Rumah = 9 tahun, Nilai Rumah = $215,000;\n",
    "\n",
    "* Rumah 8: Luas Tanah = 1950 sqft, Jumlah Kamar = 4, Usia Rumah = 5 tahun, Nilai Rumah = $250,000; \n",
    "\n",
    "* Rumah 9: Luas Tanah = 1700 sqft, Jumlah Kamar = 3, Usia Rumah = 13 tahun, Nilai Rumah = $190,000;\n",
    "\n",
    "* Rumah 10:Luas Tanah = 2100 sqft, Jumlah Kamar = 5, Usia Rumah = 8 tahun, Nilai Rumah = $255,000; \n",
    "\n",
    "\n",
    "Peneliti ingin melakukan analisis regresi berganda untuk memahami hubungan antara variabel luas tanah (X1), jumlah kamar (X2), dan usia rumah (X3) terhadap nilai rumah (Y).\n",
    "\n",
    "Pertanyaan\n",
    "\n",
    "Buatlah model regresi berganda untuk memprediksi nilai rumah berdasarkan luas tanah, jumlah kamar, dan usia rumah.\n",
    "Hitung koefisien regresi untuk masing-masing variabel independen.\n",
    "Interpretasikan hasil analisis regresi untuk menjelaskan hubungan antara variabel luas tanah, jumlah kamar, dan usia rumah terhadap nilai rumah.\n",
    "Jika rumah memiliki luas tanah 1800 sqft, 4 kamar, dan usia rumah 12 tahun, berapa nilai perkiraan rumah tersebut?"
   ]
  },
  {
   "cell_type": "code",
   "execution_count": 2,
   "id": "73be4106",
   "metadata": {},
   "outputs": [
    {
     "name": "stdout",
     "output_type": "stream",
     "text": [
      "Koefisien Regresi (beta):\n",
      "Intercept (beta0): 112582.18085440499\n",
      "Koefisien Luas Tanah (beta1): 63.1960407481392\n",
      "Koefisien Jumlah Kamar (beta2): 8670.40986798308\n",
      "Koefisien Usia Rumah (beta3): -3695.657635251421\n",
      "Prediksi Nilai Rumah: 216668.8020499708\n"
     ]
    }
   ],
   "source": [
    "import numpy as np\n",
    "luas_tanah = np.array([1600, 1900, 1750, 2050, 1500, 2200, 1800, 1950, 1700, 2100])\n",
    "jumlah_kamar = np.array([3, 4, 3, 5, 3, 4, 3, 4, 3, 5])\n",
    "usia_rumah = np.array([12, 8, 10, 6, 11, 7, 9, 5, 13, 8])\n",
    "nilai_rumah = np.array([210000, 245000, 200000, 260000, 195000, 270000, 215000, 250000, 190000, 255000])\n",
    "\n",
    "# Membuat model regresi berganda\n",
    "X = np.column_stack((luas_tanah, jumlah_kamar, usia_rumah))\n",
    "X = np.column_stack((np.ones(len(luas_tanah)), X))  # Menambahkan kolom konstan (intercept)\n",
    "Y = nilai_rumah\n",
    "\n",
    "# Menghitung koefisien regresi dengan metode OLS (Least Squares)\n",
    "beta = np.linalg.lstsq(X, Y, rcond=None)[0]\n",
    "\n",
    "# Menampilkan koefisien regresi\n",
    "print(\"Koefisien Regresi (beta):\")\n",
    "print(\"Intercept (beta0):\", beta[0])\n",
    "print(\"Koefisien Luas Tanah (beta1):\", beta[1])\n",
    "print(\"Koefisien Jumlah Kamar (beta2):\", beta[2])\n",
    "print(\"Koefisien Usia Rumah (beta3):\", beta[3])\n",
    "\n",
    "# Prediksi nilai rumah untuk rumah dengan luas tanah 1800 sqft, 4 kamar, dan usia rumah 12 tahun\n",
    "rumah_prediksi = np.array([1, 1800, 4, 12])\n",
    "nilai_prediksi = np.dot(rumah_prediksi, beta)\n",
    "print(\"Prediksi Nilai Rumah:\", nilai_prediksi)"
   ]
  },
  {
   "cell_type": "markdown",
   "id": "c55fb27e",
   "metadata": {},
   "source": [
    "Contoh Soal\n",
    "\n",
    "Seorang peneliti ingin menentukan apakah ada hubungan korelasi antara jumlah jam belajar per minggu dengan nilai ujian siswa. Peneliti mengumpulkan data dari 20 siswa yang mencakup jumlah jam belajar per minggu (X) dan skor ujian (Y). Berikut adalah data yang dikumpulkan:\n",
    "\n",
    "* Siswa 1: Jam Belajar = 10 jam, Skor Ujian = 80\n",
    "* Siswa 2: Jam Belajar = 12 jam, Skor Ujian = 85\n",
    "* Siswa 3: Jam Belajar = 8 jam, Skor Ujian = 75\n",
    "* Siswa 4: Jam Belajar = 15 jam, Skor Ujian = 92\n",
    "* Siswa 5: Jam Belajar = 9 jam, Skor Ujian = 78\n",
    "* Siswa 6: Jam Belajar = 11 jam, Skor Ujian = 88\n",
    "* Siswa 7: Jam Belajar = 7 jam, Skor Ujian = 70\n",
    "* Siswa 8: Jam Belajar = 14 jam, Skor Ujian = 90\n",
    "* Siswa 9: Jam Belajar = 6 jam, Skor Ujian = 72\n",
    "* Siswa 10: Jam Belajar = 13 jam, Skor Ujian = 86\n",
    "* Siswa 11: Jam Belajar = 9 jam, Skor Ujian = 78\n",
    "* Siswa 12: Jam Belajar = 10 jam, Skor Ujian = 80\n",
    "* Siswa 13: Jam Belajar = 8 jam, Skor Ujian = 75\n",
    "* Siswa 14: Jam Belajar = 16 jam, Skor Ujian = 94\n",
    "* Siswa 15: Jam Belajar = 12 jam, Skor Ujian = 85\n",
    "* Siswa 16: Jam Belajar = 14 jam, Skor Ujian = 90\n",
    "* Siswa 17: Jam Belajar = 7 jam, Skor Ujian = 70\n",
    "* Siswa 18: Jam Belajar = 11 jam, Skor Ujian = 88\n",
    "* Siswa 19: Jam Belajar = 5 jam, Skor Ujian = 68\n",
    "* Siswa 20: Jam Belajar = 13 jam, Skor Ujian = 86\n",
    "\n",
    "Apakah ada hubungan korelasi antara jumlah jam belajar per minggu dan skor ujian siswa?"
   ]
  },
  {
   "cell_type": "code",
   "execution_count": 3,
   "id": "b45a6ddf",
   "metadata": {},
   "outputs": [
    {
     "name": "stdout",
     "output_type": "stream",
     "text": [
      "Ada hubungan korelasi yang signifikan antara jumlah jam belajar dan skor ujian.\n"
     ]
    }
   ],
   "source": [
    "X = [10, 12, 8, 15, 9, 11, 7, 14, 6, 13, 9, 10, 8, 16, 12, 14, 7, 11, 5, 13]\n",
    "Y = [80, 85, 75, 92, 78, 88, 70, 90, 72, 86, 78, 80, 75, 94, 85, 90, 70, 88, 68, 86]\n",
    "\n",
    "n = len(X)  # Jumlah data\n",
    "\n",
    "mean_X = sum(X) / n\n",
    "mean_Y = sum(Y) / n\n",
    "\n",
    "XY_sum = sum([X[i] * Y[i] for i in range(n)])\n",
    "\n",
    "X_squared_sum = sum([X[i] ** 2 for i in range(n)])\n",
    "Y_squared_sum = sum([Y[i] ** 2 for i in range(n)])\n",
    "\n",
    "numerator = n * XY_sum - sum(X) * sum(Y)\n",
    "denominator = ((n * X_squared_sum - sum(X) ** 2) * (n * Y_squared_sum - sum(Y) ** 2)) ** 0.5\n",
    "\n",
    "r = numerator / denominator\n",
    "\n",
    "df = n - 2\n",
    "\n",
    "t = r * ((df / (1 - r**2)) ** 0.5)\n",
    "\n",
    "alpha = 0.05\n",
    "t_critical = 2.101\n",
    "\n",
    "if abs(t) > t_critical:\n",
    "    print(\"Ada hubungan korelasi yang signifikan antara jumlah jam belajar dan skor ujian.\")\n",
    "else:\n",
    "    print(\"Tidak ada hubungan korelasi yang signifikan antara jumlah jam belajar dan skor ujian.\")"
   ]
  }
 ],
 "metadata": {
  "kernelspec": {
   "display_name": "Python 3 (ipykernel)",
   "language": "python",
   "name": "python3"
  },
  "language_info": {
   "codemirror_mode": {
    "name": "ipython",
    "version": 3
   },
   "file_extension": ".py",
   "mimetype": "text/x-python",
   "name": "python",
   "nbconvert_exporter": "python",
   "pygments_lexer": "ipython3",
   "version": "3.9.13"
  }
 },
 "nbformat": 4,
 "nbformat_minor": 5
}
