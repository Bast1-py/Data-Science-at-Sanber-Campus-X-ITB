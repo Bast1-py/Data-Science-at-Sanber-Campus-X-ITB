{
 "cells": [
  {
   "cell_type": "markdown",
   "metadata": {
    "id": "v9nTQ4UxMPYc"
   },
   "source": [
    "No. 1\n",
    "\n",
    "Lengkapilah fungsi untuk menghitung luas persegi panjang."
   ]
  },
  {
   "cell_type": "code",
   "execution_count": null,
   "metadata": {
    "colab": {
     "base_uri": "https://localhost:8080/"
    },
    "id": "TktdJvrJJfzG",
    "outputId": "f9548df5-8938-4869-866f-a7a0d129fb03"
   },
   "outputs": [
    {
     "name": "stdout",
     "output_type": "stream",
     "text": [
      "Luas persegi panjang: 15\n"
     ]
    }
   ],
   "source": [
    "def hitung_luas_persegi_panjang(panjang, lebar):\n",
    "    luas = panjang * lebar\n",
    "    return luas\n",
    "\n",
    "luas = hitung_luas_persegi_panjang(5, 3)\n",
    "print(f\"Luas persegi panjang: {luas}\")"
   ]
  },
  {
   "cell_type": "markdown",
   "metadata": {
    "id": "8n_VisXtMRHP"
   },
   "source": [
    "No. 2\n",
    "\n",
    "Buatlah class Mahasiswa dengan atribut nama dan nim. Tambahkan method untuk menampilkan informasi mahasiswa."
   ]
  },
  {
   "cell_type": "code",
   "execution_count": null,
   "metadata": {
    "colab": {
     "base_uri": "https://localhost:8080/"
    },
    "id": "d6QoG5GVJ0sM",
    "outputId": "ed61465e-0db0-4187-e4bc-7983c37b4320"
   },
   "outputs": [
    {
     "name": "stdout",
     "output_type": "stream",
     "text": [
      "Mahasiswa: John Doe, NIM: 12345\n"
     ]
    }
   ],
   "source": [
    "class Mahasiswa:\n",
    "    def __init__(self, nama, nim):\n",
    "        self.nama = nama\n",
    "        self.nim = nim\n",
    "\n",
    "    def __str__(self):\n",
    "        return f\"Mahasiswa: {self.nama}, NIM: {self.nim}\"\n",
    "\n",
    "# Contoh penggunaan class Mahasiswa\n",
    "mahasiswa1 = Mahasiswa(\"John Doe\", \"12345\")\n",
    "print(mahasiswa1)"
   ]
  },
  {
   "cell_type": "markdown",
   "metadata": {
    "id": "JjrZGueFMR9M"
   },
   "source": [
    "No. 3\n",
    "\n",
    "Buatlah class Segitiga dengan atribut panjang alas dan tinggi.\n",
    "Tambahkan method untuk menghitung luas segitiga. Jika segitiga tersebut\n",
    "adalah segitiga sama sisi, berikan bonus 10% pada luasnya."
   ]
  },
  {
   "cell_type": "code",
   "execution_count": null,
   "metadata": {
    "colab": {
     "base_uri": "https://localhost:8080/"
    },
    "id": "J4rrOy9vKRxt",
    "outputId": "4cb22837-7aee-4a92-d627-6eade23f52dd"
   },
   "outputs": [
    {
     "name": "stdout",
     "output_type": "stream",
     "text": [
      "Luas segitiga: 20.0\n",
      "Luas segitiga sama sisi: 19.8\n"
     ]
    }
   ],
   "source": [
    "class Segitiga:\n",
    "    def __init__(self, alas, tinggi, sama_sisi=False):\n",
    "        self.alas = alas\n",
    "        self.tinggi = tinggi\n",
    "        self.sama_sisi = sama_sisi\n",
    "\n",
    "    def hitung_luas(self):\n",
    "        luas = 0.5 * self.alas * self.tinggi\n",
    "\n",
    "        if self.sama_sisi: #True == Kalo segitiga sama sisi\n",
    "            luas += luas * 0.1  # Bonus 10% untuk segitiga sama sisi\n",
    "\n",
    "        return luas\n",
    "\n",
    "segitiga1 = Segitiga(5, 8)\n",
    "luas1 = segitiga1.hitung_luas()\n",
    "print(f\"Luas segitiga: {luas1}\")\n",
    "\n",
    "segitiga2 = Segitiga(6, 6, True)\n",
    "luas2 = segitiga2.hitung_luas()\n",
    "print(f\"Luas segitiga sama sisi: {luas2}\")"
   ]
  },
  {
   "cell_type": "markdown",
   "metadata": {
    "id": "qCOmMEQxMS_k"
   },
   "source": [
    "No. 4\n",
    "\n",
    "Anda diminta untuk membuat pengecekan batasan jumlah SKS (Satuan Kredit Semester) yang dapat diambil oleh mahasiswa. Buatlah perubahan pada kelas Mahasiswa dengan menambahkan atribut total_sks_diambil. Implementasikan metode ambil_mata_kuliah yang memeriksa apakah penambahan mata kuliah akan melebihi batas maksimum SKS yang dapat diambil oleh mahasiswa, yaitu 24 SKS.\n",
    "\n",
    "Jika total SKS setelah penambahan mata kuliah melebihi batas maksimum, cetak pesan \"Maaf, [Nama Mahasiswa] ([NIM]) tidak dapat menambahkan mata kuliah [Nama Mata Kuliah]. Jumlah SKS yang diambil sudah mencapai batas maksimum (24 SKS).\" Jika tidak melebihi, tambahkan mata kuliah ke daftar yang diambil dan perbarui total SKS diambil, serta cetak pesan \"[Nama Mahasiswa] ([NIM]) berhasil menambahkan mata kuliah [Nama Mata Kuliah]\"."
   ]
  },
  {
   "cell_type": "code",
   "execution_count": null,
   "metadata": {
    "id": "b73mdS9buFeC"
   },
   "outputs": [],
   "source": [
    "class MataKuliah:\n",
    "  def __init__(self, kode, nama, sks):\n",
    "    self.kode = kode\n",
    "    self.nama = nama\n",
    "    self.sks = sks\n",
    "\n",
    "  def __str__(self):\n",
    "    return f\"{self.kode} - {self.nama} ({self.sks} SKS)\""
   ]
  },
  {
   "cell_type": "code",
   "execution_count": null,
   "metadata": {
    "id": "kYS5HAMvuLiF"
   },
   "outputs": [],
   "source": [
    "class Mahasiswa:\n",
    "    def __init__(self, nim, nama):\n",
    "        self.nim = nim\n",
    "        self.nama = nama\n",
    "        self.mata_kuliah_diambil = [] # default value\n",
    "        self.total_sks_diambil = 0  # Menambah atribut total_sks_diambil\n",
    "\n",
    "    def ambil_mata_kuliah(self, abc): # Objek Mata Kuliah\n",
    "    # self --> buat ngakses atribut dari objek Mahasiswa\n",
    "    # abc --> buat ngakses atribut dari objek Mata Kuliah\n",
    "    # penamaan dari parameter bisa bebas\n",
    "        if self.total_sks_diambil + abc.sks > 24:\n",
    "            print(f\"Maaf, {self.nama} ({self.nim}) tidak dapat menambahkan mata kuliah {abc.nama}. Jumlah SKS yang diambil sudah mencapai batas maksimum (24 SKS).\")\n",
    "        else:\n",
    "            self.mata_kuliah_diambil.append(abc)\n",
    "            self.total_sks_diambil += abc.sks\n",
    "            print(f\"{self.nama} ({self.nim}) berhasil menambahkan mata kuliah {abc.nama}.\")\n",
    "\n",
    "    def __str__(self):\n",
    "        mata_kuliah_str = \", \".join([mk.nama for mk in self.mata_kuliah_diambil])\n",
    "        return f\"{self.nim} - {self.nama} (Mata Kuliah: {mata_kuliah_str})\"\n",
    "\n",
    "    def tampilkan_info(self):\n",
    "      mata_kuliah_str = \", \".join([mk.nama for mk in self.mata_kuliah_diambil])\n",
    "      return f\"{self.nim} - {self.nama} (Mata Kuliah: {mata_kuliah_str})\""
   ]
  },
  {
   "cell_type": "markdown",
   "metadata": {
    "id": "lDrTzJZEsK8v"
   },
   "source": [
    "Urutan\n",
    "\n",
    "1. Inisiasi kelas\n",
    "2. Inisiasi objek\n",
    "3. Nge define method\n",
    "4. objek bisa ngelakuin method"
   ]
  },
  {
   "cell_type": "code",
   "execution_count": null,
   "metadata": {
    "id": "X-2UnaZYuNZI"
   },
   "outputs": [],
   "source": [
    "matkul1 = MataKuliah(\"MK001\", \"Pemrograman Python\", 4)\n",
    "matkul2 = MataKuliah(\"MK002\", \"Basis Data\", 4)\n",
    "matkul3 = MataKuliah(\"MK003\", \"Data Sains\", 4)\n",
    "matkul4 = MataKuliah(\"MK004\", \"Kecerdasan Buatan\", 4)\n",
    "matkul5 = MataKuliah(\"MK005\", \"Statistika Probabilitas\", 4)\n",
    "matkul6 = MataKuliah(\"MK005\", \"Statistika Terapan\", 4)\n",
    "matkul7 = MataKuliah(\"MK005\", \"Kalkulus\", 4)"
   ]
  },
  {
   "cell_type": "code",
   "execution_count": null,
   "metadata": {
    "colab": {
     "base_uri": "https://localhost:8080/"
    },
    "id": "awDXFSfONAed",
    "outputId": "b3a57713-ebe4-421d-d70e-6a322d8a00c2"
   },
   "outputs": [
    {
     "name": "stdout",
     "output_type": "stream",
     "text": [
      "Mata Kuliah:\n",
      "MK001 - Pemrograman Python (4 SKS)\n",
      "MK002 - Basis Data (4 SKS)\n",
      "MK003 - Data Sains (4 SKS)\n",
      "MK004 - Kecerdasan Buatan (4 SKS)\n",
      "MK005 - Statistika Probabilitas (4 SKS)\n",
      "MK005 - Statistika Terapan (4 SKS)\n"
     ]
    }
   ],
   "source": [
    "print(\"Mata Kuliah:\")\n",
    "print(matkul1)\n",
    "print(matkul2)\n",
    "print(matkul3)\n",
    "print(matkul4)\n",
    "print(matkul5)\n",
    "print(matkul6)"
   ]
  },
  {
   "cell_type": "code",
   "execution_count": null,
   "metadata": {
    "id": "KyriV9b1uYPx"
   },
   "outputs": [],
   "source": [
    "mahasiswa1 = Mahasiswa(\"2021001\", \"Alice\")"
   ]
  },
  {
   "cell_type": "code",
   "execution_count": null,
   "metadata": {
    "colab": {
     "base_uri": "https://localhost:8080/"
    },
    "id": "qjUQg7MhwKNM",
    "outputId": "50eec199-5fb6-4534-95da-f9a30ecf8567"
   },
   "outputs": [
    {
     "name": "stdout",
     "output_type": "stream",
     "text": [
      "2021001 - Alice (Mata Kuliah: )\n"
     ]
    }
   ],
   "source": [
    "print(mahasiswa1.tampilkan_info())"
   ]
  },
  {
   "cell_type": "code",
   "execution_count": null,
   "metadata": {
    "colab": {
     "base_uri": "https://localhost:8080/"
    },
    "id": "Fga6wfdFsG7Z",
    "outputId": "432c9093-05b6-466c-8a31-4fa222f8d100"
   },
   "outputs": [
    {
     "name": "stdout",
     "output_type": "stream",
     "text": [
      "Alice (2021001) berhasil menambahkan mata kuliah Basis Data.\n"
     ]
    }
   ],
   "source": [
    "mahasiswa1.ambil_mata_kuliah(matkul2)"
   ]
  },
  {
   "cell_type": "code",
   "execution_count": null,
   "metadata": {
    "colab": {
     "base_uri": "https://localhost:8080/"
    },
    "id": "bTJfVnaiucmy",
    "outputId": "80b37932-7b3e-4792-bb39-ff989343aece"
   },
   "outputs": [
    {
     "name": "stdout",
     "output_type": "stream",
     "text": [
      "\n",
      "Mahasiswa:\n",
      "2021001 - Alice (Mata Kuliah: Basis Data)\n"
     ]
    }
   ],
   "source": [
    "print(\"\\nMahasiswa:\")\n",
    "print(mahasiswa1)"
   ]
  },
  {
   "cell_type": "code",
   "execution_count": null,
   "metadata": {
    "colab": {
     "base_uri": "https://localhost:8080/"
    },
    "id": "LsoFMBHlNpoM",
    "outputId": "85e4ae35-287a-43b2-c595-db9999bf3e85"
   },
   "outputs": [
    {
     "name": "stdout",
     "output_type": "stream",
     "text": [
      "Alice (2021001) berhasil menambahkan mata kuliah Pemrograman Python.\n",
      "Alice (2021001) berhasil menambahkan mata kuliah Basis Data.\n",
      "Alice (2021001) berhasil menambahkan mata kuliah Data Sains.\n",
      "Alice (2021001) berhasil menambahkan mata kuliah Kecerdasan Buatan.\n",
      "Alice (2021001) berhasil menambahkan mata kuliah Statistika Probabilitas.\n",
      "Maaf, Alice (2021001) tidak dapat menambahkan mata kuliah Statistika Terapan. Jumlah SKS yang diambil sudah mencapai batas maksimum (24 SKS).\n",
      "Maaf, Alice (2021001) tidak dapat menambahkan mata kuliah Kalkulus. Jumlah SKS yang diambil sudah mencapai batas maksimum (24 SKS).\n"
     ]
    }
   ],
   "source": [
    "mahasiswa1.ambil_mata_kuliah(matkul1)\n",
    "mahasiswa1.ambil_mata_kuliah(matkul2)\n",
    "mahasiswa1.ambil_mata_kuliah(matkul3)\n",
    "mahasiswa1.ambil_mata_kuliah(matkul4)\n",
    "mahasiswa1.ambil_mata_kuliah(matkul5)\n",
    "mahasiswa1.ambil_mata_kuliah(matkul6)\n",
    "mahasiswa1.ambil_mata_kuliah(matkul7)"
   ]
  },
  {
   "cell_type": "code",
   "execution_count": null,
   "metadata": {
    "colab": {
     "base_uri": "https://localhost:8080/"
    },
    "id": "yoOJNTPnRZjz",
    "outputId": "f016aca9-220a-4e15-a474-24d0f690546a"
   },
   "outputs": [
    {
     "name": "stdout",
     "output_type": "stream",
     "text": [
      "Maaf, Alice (2021001) tidak dapat menambahkan mata kuliah Kalkulus. Jumlah SKS yang diambil sudah mencapai batas maksimum (24 SKS).\n"
     ]
    }
   ],
   "source": [
    "mahasiswa1.ambil_mata_kuliah(matkul7)"
   ]
  },
  {
   "cell_type": "code",
   "execution_count": null,
   "metadata": {
    "colab": {
     "base_uri": "https://localhost:8080/"
    },
    "id": "U_svGREPReDB",
    "outputId": "6d3dd468-5965-41aa-f118-a4f84eb82689"
   },
   "outputs": [
    {
     "name": "stdout",
     "output_type": "stream",
     "text": [
      "2021001 - Alice (Mata Kuliah: Basis Data, Pemrograman Python, Basis Data, Data Sains, Kecerdasan Buatan, Statistika Probabilitas)\n"
     ]
    }
   ],
   "source": [
    "print(mahasiswa1)"
   ]
  },
  {
   "cell_type": "markdown",
   "metadata": {
    "id": "8DP9KAdpPRk7"
   },
   "source": [
    "Expected Output:\n",
    "\n",
    "\n",
    "Alice (2021001) berhasil menambahkan mata kuliah Pemrograman Python.\n",
    "\n",
    "\n",
    "Alice (2021001) berhasil menambahkan mata kuliah Basis Data.\n",
    "\n",
    "\n",
    "Alice (2021001) berhasil menambahkan mata kuliah Data Sains.\n",
    "\n",
    "\n",
    "Alice (2021001) berhasil menambahkan mata kuliah Kecerdasan Buatan.\n",
    "\n",
    "\n",
    "Alice (2021001) berhasil menambahkan mata kuliah Statistika Probabilitas.\n",
    "\n",
    "\n",
    "Alice (2021001) berhasil menambahkan mata kuliah Statistika Terapan.\n",
    "\n",
    "\n",
    "Maaf, Alice (2021001) tidak dapat menambahkan mata kuliah Kalkulus. Jumlah SKS yang diambil sudah mencapai batas maksimum (24 SKS)."
   ]
  }
 ],
 "metadata": {
  "colab": {
   "provenance": []
  },
  "kernelspec": {
   "display_name": "Python 3 (ipykernel)",
   "language": "python",
   "name": "python3"
  },
  "language_info": {
   "codemirror_mode": {
    "name": "ipython",
    "version": 3
   },
   "file_extension": ".py",
   "mimetype": "text/x-python",
   "name": "python",
   "nbconvert_exporter": "python",
   "pygments_lexer": "ipython3",
   "version": "3.9.13"
  }
 },
 "nbformat": 4,
 "nbformat_minor": 1
}
