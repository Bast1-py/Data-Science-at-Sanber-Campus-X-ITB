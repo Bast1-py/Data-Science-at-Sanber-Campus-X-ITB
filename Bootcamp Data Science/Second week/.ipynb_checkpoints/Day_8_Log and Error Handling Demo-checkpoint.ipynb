{
 "cells": [
  {
   "cell_type": "markdown",
   "metadata": {
    "id": "U6gvgR_ORHJ9"
   },
   "source": [
    "# File Handling"
   ]
  },
  {
   "cell_type": "markdown",
   "metadata": {
    "id": "SPuEJT4XThjU"
   },
   "source": [
    "## Berkas TXT"
   ]
  },
  {
   "cell_type": "code",
   "execution_count": null,
   "metadata": {
    "colab": {
     "base_uri": "https://localhost:8080/",
     "height": 245
    },
    "id": "o6wsgt-3RKeW",
    "outputId": "fb2adb4b-d623-4b07-ae3f-79e84f48e8bc"
   },
   "outputs": [
    {
     "ename": "FileNotFoundError",
     "evalue": "[Errno 2] No such file or directory: '/content/drive/MyDrive/SanberCode X ITB/File Handling/file_01.txt'",
     "output_type": "error",
     "traceback": [
      "\u001b[0;31m---------------------------------------------------------------------------\u001b[0m",
      "\u001b[0;31mFileNotFoundError\u001b[0m                         Traceback (most recent call last)",
      "\u001b[0;32m<ipython-input-2-65ae0e4d40f2>\u001b[0m in \u001b[0;36m<cell line: 3>\u001b[0;34m()\u001b[0m\n\u001b[1;32m      1\u001b[0m \u001b[0;31m# membaca keseluruhan isi file dan menyimpannya dalam bentuk string.\u001b[0m\u001b[0;34m\u001b[0m\u001b[0;34m\u001b[0m\u001b[0m\n\u001b[1;32m      2\u001b[0m \u001b[0mnamafile\u001b[0m \u001b[0;34m=\u001b[0m \u001b[0;34m'/content/drive/MyDrive/SanberCode X ITB/File Handling/file_01.txt'\u001b[0m\u001b[0;34m\u001b[0m\u001b[0;34m\u001b[0m\u001b[0m\n\u001b[0;32m----> 3\u001b[0;31m \u001b[0mfile\u001b[0m \u001b[0;34m=\u001b[0m \u001b[0mopen\u001b[0m\u001b[0;34m(\u001b[0m\u001b[0mnamafile\u001b[0m\u001b[0;34m)\u001b[0m\u001b[0;34m\u001b[0m\u001b[0;34m\u001b[0m\u001b[0m\n\u001b[0m\u001b[1;32m      4\u001b[0m \u001b[0;34m\u001b[0m\u001b[0m\n\u001b[1;32m      5\u001b[0m \u001b[0mdata\u001b[0m \u001b[0;34m=\u001b[0m \u001b[0mfile\u001b[0m\u001b[0;34m.\u001b[0m\u001b[0mread\u001b[0m\u001b[0;34m(\u001b[0m\u001b[0;34m)\u001b[0m\u001b[0;34m\u001b[0m\u001b[0;34m\u001b[0m\u001b[0m\n",
      "\u001b[0;31mFileNotFoundError\u001b[0m: [Errno 2] No such file or directory: '/content/drive/MyDrive/SanberCode X ITB/File Handling/file_01.txt'"
     ]
    }
   ],
   "source": [
    "# membaca keseluruhan isi file dan menyimpannya dalam bentuk string.\n",
    "namafile = '/content/drive/MyDrive/SanberCode X ITB/File Handling/file_01.txt'\n",
    "file = open(namafile)\n",
    "\n",
    "data = file.read()\n",
    "\n",
    "print(data)"
   ]
  },
  {
   "cell_type": "code",
   "execution_count": null,
   "metadata": {
    "colab": {
     "base_uri": "https://localhost:8080/"
    },
    "id": "uRG9DHvWUcCz",
    "outputId": "d8fef318-e9d7-456c-c848-e4ad2431ca70"
   },
   "outputs": [
    {
     "name": "stdout",
     "output_type": "stream",
     "text": [
      "['Pada kesempatan kali ini kita akan mencoba untuk membaca file teks. \\n', 'Pembacaan menggunakan bahasa pemograman python']\n"
     ]
    }
   ],
   "source": [
    "# membaca file perbaris dan memasukkannya ke dalam suatu list.\n",
    "namafile = '/content/drive/MyDrive/SanberCode X ITB/File Handling/file_01.txt'\n",
    "file = open(namafile)\n",
    "\n",
    "data = file.readlines()\n",
    "\n",
    "print(data)"
   ]
  },
  {
   "cell_type": "markdown",
   "metadata": {
    "id": "PEXyUEskTtVe"
   },
   "source": [
    "## Berkas CSV"
   ]
  },
  {
   "cell_type": "code",
   "execution_count": null,
   "metadata": {
    "colab": {
     "base_uri": "https://localhost:8080/"
    },
    "id": "tJwGLG_5Tvte",
    "outputId": "8069db00-0b96-4b57-92b4-7e5019bf9867"
   },
   "outputs": [
    {
     "name": "stdout",
     "output_type": "stream",
     "text": [
      "<_csv.reader object at 0x796cc3fb5620>\n"
     ]
    }
   ],
   "source": [
    "import csv\n",
    "\n",
    "\n",
    "namafile = '/content/drive/MyDrive/SanberCode X ITB/File Handling/file_02.csv'\n",
    "\n",
    "file = open(namafile)\n",
    "\n",
    "data = csv.reader(file, delimiter=\",\")\n",
    "\n",
    "print(data)"
   ]
  },
  {
   "cell_type": "code",
   "execution_count": null,
   "metadata": {
    "colab": {
     "base_uri": "https://localhost:8080/"
    },
    "id": "7ql86g95Ud8k",
    "outputId": "a7ceac53-828a-4b83-ee94-c3f70fcead21"
   },
   "outputs": [
    {
     "name": "stdout",
     "output_type": "stream",
     "text": [
      "['NO', 'NAMA', 'NILAI']\n",
      "['1', 'Budi', '95']\n"
     ]
    }
   ],
   "source": [
    "import csv\n",
    "\n",
    "\n",
    "namafile = '/content/drive/MyDrive/SanberCode X ITB/File Handling/file_02.csv'\n",
    "\n",
    "file = open(namafile)\n",
    "\n",
    "data = csv.reader(file, delimiter=\",\")\n",
    "\n",
    "for item in data:\n",
    "    print(item)"
   ]
  },
  {
   "cell_type": "markdown",
   "metadata": {
    "id": "XLDpujlnU072"
   },
   "source": [
    "## Berkas JSON"
   ]
  },
  {
   "cell_type": "code",
   "execution_count": null,
   "metadata": {
    "colab": {
     "base_uri": "https://localhost:8080/",
     "height": 263
    },
    "id": "OIOE4GM-U2sx",
    "outputId": "729ab176-224a-43e8-db61-391904bc77c3"
   },
   "outputs": [
    {
     "ename": "FileNotFoundError",
     "evalue": "[Errno 2] No such file or directory: '/content/drive/MyDrive/SanberCode X ITB/File Handling/file_04.json'",
     "output_type": "error",
     "traceback": [
      "\u001b[0;31m---------------------------------------------------------------------------\u001b[0m",
      "\u001b[0;31mFileNotFoundError\u001b[0m                         Traceback (most recent call last)",
      "\u001b[0;32m<ipython-input-11-58f70e41c35e>\u001b[0m in \u001b[0;36m<cell line: 3>\u001b[0;34m()\u001b[0m\n\u001b[1;32m      1\u001b[0m \u001b[0;32mimport\u001b[0m \u001b[0mjson\u001b[0m\u001b[0;34m\u001b[0m\u001b[0;34m\u001b[0m\u001b[0m\n\u001b[1;32m      2\u001b[0m \u001b[0;34m\u001b[0m\u001b[0m\n\u001b[0;32m----> 3\u001b[0;31m \u001b[0mfile\u001b[0m  \u001b[0;34m=\u001b[0m  \u001b[0mopen\u001b[0m\u001b[0;34m(\u001b[0m\u001b[0;34m'/content/drive/MyDrive/SanberCode X ITB/File Handling/file_04.json'\u001b[0m\u001b[0;34m)\u001b[0m\u001b[0;34m\u001b[0m\u001b[0;34m\u001b[0m\u001b[0m\n\u001b[0m\u001b[1;32m      4\u001b[0m \u001b[0mdata\u001b[0m \u001b[0;34m=\u001b[0m \u001b[0mjson\u001b[0m\u001b[0;34m.\u001b[0m\u001b[0mload\u001b[0m\u001b[0;34m(\u001b[0m\u001b[0mfile\u001b[0m\u001b[0;34m)\u001b[0m\u001b[0;34m\u001b[0m\u001b[0;34m\u001b[0m\u001b[0m\n\u001b[1;32m      5\u001b[0m \u001b[0;34m\u001b[0m\u001b[0m\n",
      "\u001b[0;31mFileNotFoundError\u001b[0m: [Errno 2] No such file or directory: '/content/drive/MyDrive/SanberCode X ITB/File Handling/file_04.json'"
     ]
    }
   ],
   "source": [
    "import json\n",
    "\n",
    "file  =  open('/content/drive/MyDrive/SanberCode X ITB/File Handling/file_04.json')\n",
    "data = json.load(file)\n",
    "\n",
    "print(data)"
   ]
  },
  {
   "cell_type": "code",
   "execution_count": null,
   "metadata": {
    "colab": {
     "base_uri": "https://localhost:8080/"
    },
    "id": "KXBNjj48qAc1",
    "outputId": "40acd137-eaa1-487d-af02-35e56b11655c"
   },
   "outputs": [
    {
     "name": "stdout",
     "output_type": "stream",
     "text": [
      "Mounted at /content/drive\n"
     ]
    }
   ],
   "source": [
    "from google.colab import drive\n",
    "drive.mount('/content/drive')"
   ]
  },
  {
   "cell_type": "markdown",
   "metadata": {
    "id": "1Dxl74VAZ4gc"
   },
   "source": [
    "# Error Handling"
   ]
  },
  {
   "cell_type": "markdown",
   "metadata": {
    "id": "XTM71ZYrZ9yO"
   },
   "source": [
    "## Try - Except"
   ]
  },
  {
   "cell_type": "code",
   "execution_count": null,
   "metadata": {
    "colab": {
     "base_uri": "https://localhost:8080/"
    },
    "id": "nw7OuFPAZ7Af",
    "outputId": "8996f908-bf3b-43bb-d5bc-ab0869d878c3"
   },
   "outputs": [
    {
     "name": "stdout",
     "output_type": "stream",
     "text": [
      "2.0\n"
     ]
    }
   ],
   "source": [
    "a = 10\n",
    "b = 5\n",
    "try:\n",
    "  hasil = a/b\n",
    "  print(hasil)\n",
    "except:\n",
    "  print('terjadi kesalahan saat perhitungan')"
   ]
  },
  {
   "cell_type": "markdown",
   "metadata": {
    "id": "4J0kRJUraDzy"
   },
   "source": [
    "## Multiple Except"
   ]
  },
  {
   "cell_type": "code",
   "execution_count": null,
   "metadata": {
    "colab": {
     "base_uri": "https://localhost:8080/"
    },
    "id": "lDu6EnTBaILF",
    "outputId": "b4740ea0-aeff-4eee-8803-f2043bc89fac"
   },
   "outputs": [
    {
     "name": "stdout",
     "output_type": "stream",
     "text": [
      "Membagi dengan nilai 0\n"
     ]
    }
   ],
   "source": [
    "a = 10\n",
    "b = 0\n",
    "try:\n",
    "  hasil = a/b\n",
    "  print(hasil)\n",
    "except TypeError:\n",
    "  print('Kesalahan pada unit perhitungan')\n",
    "except ZeroDivisionError:\n",
    "  print('Membagi dengan nilai 0')"
   ]
  },
  {
   "cell_type": "markdown",
   "metadata": {
    "id": "gJw_RVn4aSzI"
   },
   "source": [
    "## Try - Except - Else"
   ]
  },
  {
   "cell_type": "code",
   "execution_count": null,
   "metadata": {
    "colab": {
     "base_uri": "https://localhost:8080/"
    },
    "id": "VcXEyUekaZBG",
    "outputId": "af962c6d-529b-4f12-8bcd-7902d7167c06"
   },
   "outputs": [
    {
     "name": "stdout",
     "output_type": "stream",
     "text": [
      "2.0\n",
      "Sukses\n"
     ]
    }
   ],
   "source": [
    "a = 10\n",
    "b = 5\n",
    "try:\n",
    "  hasil = a/b\n",
    "  print(hasil)\n",
    "except TypeError:\n",
    "  print('Kesalahan pada unit perhitungan')\n",
    "except ZeroDivisionError:\n",
    "  print('Membagi dengan nilai 0')\n",
    "except:\n",
    "  print('Error yang tidak diketahui')\n",
    "else:\n",
    "  print('Sukses')"
   ]
  },
  {
   "cell_type": "markdown",
   "metadata": {
    "id": "QtOLsFivahCi"
   },
   "source": [
    "## Finally"
   ]
  },
  {
   "cell_type": "code",
   "execution_count": null,
   "metadata": {
    "colab": {
     "base_uri": "https://localhost:8080/"
    },
    "id": "rzNN7z_MapWt",
    "outputId": "5dd5221c-3bd6-40a1-c8bf-341c8193f360"
   },
   "outputs": [
    {
     "name": "stdout",
     "output_type": "stream",
     "text": [
      "Terjadi Kesalahan\n",
      "program dimatikan\n"
     ]
    }
   ],
   "source": [
    "a = 10\n",
    "b = 5\n",
    "try:\n",
    "  hasil = a/c\n",
    "  print(hasil)\n",
    "except TypeError:\n",
    "  print('Kesalahan pada unit perhitungan')\n",
    "except ZeroDivisionError:\n",
    "  print('Membagi dengan nilai 0')\n",
    "except:\n",
    "  print(\"Terjadi Kesalahan\")\n",
    "else:\n",
    "  print('Sukses')\n",
    "finally:\n",
    "  print('program dimatikan')"
   ]
  },
  {
   "cell_type": "markdown",
   "metadata": {
    "id": "RkupFZ8Rb2MU"
   },
   "source": [
    "### Sekarang, bagaimana kalau kita mau mengidentifikasi kesalahan lainnya?"
   ]
  },
  {
   "cell_type": "code",
   "execution_count": null,
   "metadata": {
    "colab": {
     "base_uri": "https://localhost:8080/"
    },
    "id": "iPaf6jCli_Et",
    "outputId": "0696aa6f-81b5-44d7-c89f-b872713a54e1"
   },
   "outputs": [
    {
     "name": "stdout",
     "output_type": "stream",
     "text": [
      "Terjadi Kesalahan: name 'c' is not defined\n",
      "program dimatikan\n"
     ]
    }
   ],
   "source": [
    "a = 10\n",
    "b = 5\n",
    "try:\n",
    "  hasil = a/c\n",
    "  print(hasil)\n",
    "except TypeError:\n",
    "  print('Kesalahan pada unit perhitungan')\n",
    "except ZeroDivisionError:\n",
    "  print('Membagi dengan nilai 0')\n",
    "except Exception as e:\n",
    "  print(\"Terjadi Kesalahan: \"+ str(e))\n",
    "else:\n",
    "  print('Sukses')\n",
    "finally:\n",
    "  print('program dimatikan')"
   ]
  },
  {
   "cell_type": "code",
   "execution_count": null,
   "metadata": {
    "colab": {
     "base_uri": "https://localhost:8080/"
    },
    "id": "4n2zqtQVkGH2",
    "outputId": "d76cc019-3273-45ef-f5e5-c3485e360ff1"
   },
   "outputs": [
    {
     "name": "stdout",
     "output_type": "stream",
     "text": [
      "1.5\n"
     ]
    }
   ],
   "source": [
    "a=9.5\n",
    "try:\n",
    "  hasil= a % 2\n",
    "  print(hasil)\n",
    "except ValueError:\n",
    "  print(\"Value Error\")\n",
    "except Exception as e:\n",
    "  print(e)"
   ]
  },
  {
   "cell_type": "markdown",
   "metadata": {
    "id": "ng1cfQV5SyF4"
   },
   "source": [
    "# Logging"
   ]
  },
  {
   "cell_type": "code",
   "execution_count": null,
   "metadata": {
    "colab": {
     "base_uri": "https://localhost:8080/"
    },
    "id": "TTAWUNxUSw7I",
    "outputId": "3902cb94-4eb0-41bb-f38c-cfe1b968b06d"
   },
   "outputs": [
    {
     "name": "stderr",
     "output_type": "stream",
     "text": [
      "my_logger - WARNING - This is a warning\n",
      "my_logger - WARNING - This is a warning\n",
      "WARNING:my_logger:This is a warning\n",
      "my_logger - ERROR - This is an error\n",
      "my_logger - ERROR - This is an error\n",
      "ERROR:my_logger:This is an error\n"
     ]
    },
    {
     "name": "stdout",
     "output_type": "stream",
     "text": [
      "print\n"
     ]
    }
   ],
   "source": [
    "import logging\n",
    "\n",
    "# Create a custom logger\n",
    "logger = logging.getLogger(\"my_logger\")\n",
    "\n",
    "# Set Logger Level\n",
    "logger.setLevel(logging.INFO)\n",
    "\n",
    "# Create handlers\n",
    "c_handler = logging.StreamHandler()\n",
    "f_handler = logging.FileHandler('file.log')\n",
    "\n",
    "# Set level handlers\n",
    "c_handler.setLevel(logging.WARNING) # handle WARNING ke atas\n",
    "f_handler.setLevel(logging.ERROR) # handle ERROR ke atas\n",
    "\n",
    "# Create formatters and add it to handlers\n",
    "c_format = logging.Formatter('%(name)s - %(levelname)s - %(message)s')\n",
    "f_format = logging.Formatter('%(asctime)s - %(name)s - %(levelname)s - %(message)s')\n",
    "c_handler.setFormatter(c_format)\n",
    "f_handler.setFormatter(f_format)\n",
    "\n",
    "# Add handlers to the logger\n",
    "logger.addHandler(c_handler)\n",
    "logger.addHandler(f_handler)\n",
    "\n",
    "logger.warning('This is a warning')\n",
    "logger.error('This is an error')\n",
    "\n",
    "print(\"print\")"
   ]
  },
  {
   "cell_type": "code",
   "execution_count": null,
   "metadata": {
    "colab": {
     "base_uri": "https://localhost:8080/"
    },
    "id": "Uz4Fo1mdolsE",
    "outputId": "587e1d72-5c93-4bdc-a57e-dad94c273db6"
   },
   "outputs": [
    {
     "name": "stdout",
     "output_type": "stream",
     "text": [
      "2024-01-17 13:34:57,130 - my_logger - ERROR - This is an error\n",
      "\n"
     ]
    }
   ],
   "source": [
    "namafile = '/content/file.log'\n",
    "file = open(namafile)\n",
    "\n",
    "data = file.read()\n",
    "\n",
    "print(data)"
   ]
  },
  {
   "cell_type": "code",
   "execution_count": null,
   "metadata": {
    "colab": {
     "base_uri": "https://localhost:8080/"
    },
    "id": "-k-V5gBfvDTg",
    "outputId": "ee568ed1-fcfb-4126-ebfa-ebe149e762fe"
   },
   "outputs": [
    {
     "name": "stdout",
     "output_type": "stream",
     "text": [
      "Masukkan nilai3\n"
     ]
    },
    {
     "name": "stderr",
     "output_type": "stream",
     "text": [
      "my_logger - ERROR - Value Error di baris 1\n",
      "my_logger - ERROR - Value Error di baris 1\n",
      "ERROR:my_logger:Value Error di baris 1\n"
     ]
    },
    {
     "name": "stdout",
     "output_type": "stream",
     "text": [
      "9\n"
     ]
    }
   ],
   "source": [
    "c = int(input(\"Masukkan nilai\"))\n",
    "print(c*c)\n",
    "logger.error(\"Value Error di baris 1\")"
   ]
  },
  {
   "cell_type": "code",
   "execution_count": null,
   "metadata": {
    "colab": {
     "base_uri": "https://localhost:8080/"
    },
    "id": "lF_SGgnDvozx",
    "outputId": "4f808278-c8e0-4a21-90a8-16d535e749d1"
   },
   "outputs": [
    {
     "name": "stdout",
     "output_type": "stream",
     "text": [
      "2024-01-17 13:34:57,130 - my_logger - ERROR - This is an error\n",
      "2024-01-17 13:47:01,677 - my_logger - ERROR - This is an error\n",
      "2024-01-17 13:47:01,677 - my_logger - ERROR - This is an error\n",
      "\n"
     ]
    }
   ],
   "source": [
    "namafile = '/content/file.log'\n",
    "file = open(namafile)\n",
    "\n",
    "data = file.read()\n",
    "\n",
    "print(data)"
   ]
  },
  {
   "cell_type": "code",
   "execution_count": null,
   "metadata": {
    "colab": {
     "base_uri": "https://localhost:8080/",
     "height": 228
    },
    "id": "uZveV1vr7BXR",
    "outputId": "24534414-4356-4c2e-9965-5d8acbe0c5d8"
   },
   "outputs": [
    {
     "name": "stdout",
     "output_type": "stream",
     "text": [
      "Masukkan nilai-4\n"
     ]
    },
    {
     "ename": "ValueError",
     "evalue": "math domain error",
     "output_type": "error",
     "traceback": [
      "\u001b[0;31m---------------------------------------------------------------------------\u001b[0m",
      "\u001b[0;31mValueError\u001b[0m                                Traceback (most recent call last)",
      "\u001b[0;32m<ipython-input-23-20c787905c5b>\u001b[0m in \u001b[0;36m<cell line: 4>\u001b[0;34m()\u001b[0m\n\u001b[1;32m      2\u001b[0m \u001b[0;34m\u001b[0m\u001b[0m\n\u001b[1;32m      3\u001b[0m \u001b[0ma\u001b[0m \u001b[0;34m=\u001b[0m \u001b[0mint\u001b[0m\u001b[0;34m(\u001b[0m\u001b[0minput\u001b[0m\u001b[0;34m(\u001b[0m\u001b[0;34m\"Masukkan nilai\"\u001b[0m\u001b[0;34m)\u001b[0m\u001b[0;34m)\u001b[0m\u001b[0;34m\u001b[0m\u001b[0;34m\u001b[0m\u001b[0m\n\u001b[0;32m----> 4\u001b[0;31m \u001b[0mprint\u001b[0m\u001b[0;34m(\u001b[0m\u001b[0mmath\u001b[0m\u001b[0;34m.\u001b[0m\u001b[0msqrt\u001b[0m\u001b[0;34m(\u001b[0m\u001b[0ma\u001b[0m\u001b[0;34m)\u001b[0m\u001b[0;34m)\u001b[0m\u001b[0;34m\u001b[0m\u001b[0;34m\u001b[0m\u001b[0m\n\u001b[0m",
      "\u001b[0;31mValueError\u001b[0m: math domain error"
     ]
    }
   ],
   "source": [
    "import math\n",
    "\n",
    "a = int(input(\"Masukkan nilai\"))\n",
    "print(math.sqrt(a))"
   ]
  }
 ],
 "metadata": {
  "colab": {
   "provenance": []
  },
  "kernelspec": {
   "display_name": "Python 3 (ipykernel)",
   "language": "python",
   "name": "python3"
  },
  "language_info": {
   "codemirror_mode": {
    "name": "ipython",
    "version": 3
   },
   "file_extension": ".py",
   "mimetype": "text/x-python",
   "name": "python",
   "nbconvert_exporter": "python",
   "pygments_lexer": "ipython3",
   "version": "3.9.13"
  }
 },
 "nbformat": 4,
 "nbformat_minor": 1
}
