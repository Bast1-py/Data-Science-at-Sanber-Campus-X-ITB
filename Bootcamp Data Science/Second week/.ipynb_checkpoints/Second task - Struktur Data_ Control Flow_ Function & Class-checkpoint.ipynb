{
 "cells": [
  {
   "cell_type": "markdown",
   "metadata": {
    "id": "iSsmYKDEMIwT"
   },
   "source": [
    "# 1: Perbedaan Data Structure\n",
    "Jawab Pertanyaan di bawah ini:\n",
    "\n",
    "Jelaskan perbedaan dari List, Tuple, Set dan Dictionary!\n",
    "\n",
    "Jawab: \n",
    "\n",
    "1. List:       - secara struktur dan karakteristik data paling dinamis (mutable, iterabel)\n",
    "               - menggunakan [] untuk input data\n",
    "               - akses datanya bisa menggunakan index\n",
    "               - anggota/element bisa diedit (menambah, mengurangi, dan mengganti)\n",
    "               - sequence\n",
    "               - inisiasi list (kosong, elemen, nested list (Matrix), elemen berulang, pemecahan string, comprehension)\n",
    "          \n",
    "\n",
    "2. Tuple:      - secara struktur dan karakteristik data paling kaku/rigid (immutable, iterable)\n",
    "               - menggunakan () untuk input dan proses data\n",
    "               - akses datanya bisa menggunakan index\n",
    "               - anggota/element tidak bisa diedit (menambah, mengurangi, dan mengganti)\n",
    "               - sequence, nilai berurutan (berindex)\n",
    "               - inisiasi tuple (kosong, elemen-elemen tertentu, nested tuple, fungsi tuple(), pengulangan, comprehension)\n",
    "               - tuple tidak memiliki metode append(), insert(), remove(), pop() dan clear()\n",
    "          \n",
    "\n",
    "3. Set:        - secara struktur dan karakteristik data paling Unique (mutable, non-iterable)\n",
    "               - menggunakan {} untuk input data\n",
    "               - tidak bisa akses datanya bisa menggunakan index\n",
    "               - anggota/element bisa diedit (menambah, mengurangi, dan mengganti)\n",
    "               - non-sequence\n",
    "               - sifat himpunan\n",
    "               - inisiasi Set (kosong,  elemen-elemen tertentu, fungsi set(), \n",
    "\n",
    "4. Dictionary: - secara struktur dan karakteristik data tidak sendiri, selalu berpasangan (mutable, iterable)\n",
    "               - menggunakan {} untuk input data\n",
    "               - tidak bisa akses datanya bisa menggunakan index, namun menggunakan key\n",
    "               - anggota/element bisa diedit (menambah, mengurangi, dan mengganti)\n",
    "               - Map {key:value}\n",
    "               - inisiasi Dictionary (kosong, dengan pasangan key-value tertentu, dari list of tuple, dengan fungsi Zip, dengan fungsi fromkeys(), nested dictionary, comprehension)"
   ]
  },
  {
   "cell_type": "markdown",
   "metadata": {
    "id": "eYyTS-VXMTFa"
   },
   "source": [
    "## 2: Akses List\n",
    "Lengkapi kode untuk menghasilkan suatu output yang di harapkan"
   ]
  },
  {
   "cell_type": "code",
   "execution_count": 83,
   "metadata": {
    "id": "EsbLQmYQMg3b"
   },
   "outputs": [
    {
     "name": "stdout",
     "output_type": "stream",
     "text": [
      "['13b', 'aa1', 1.32, 22.1]\n"
     ]
    }
   ],
   "source": [
    "a = ['1', '13b', 'aa1', 1.32, 22.1, 2.34]\n",
    "print(a[1:5])\n",
    "# slicing list"
   ]
  },
  {
   "cell_type": "markdown",
   "metadata": {
    "id": "7mVePrOfMjee"
   },
   "source": [
    "Expected Output :\n",
    "\n",
    "[ '13b', 'aa1', 1.32, 22.1 ]"
   ]
  },
  {
   "cell_type": "markdown",
   "metadata": {
    "id": "O1aW7ZJ0MmxE"
   },
   "source": [
    "## 3: Delete Element List\n",
    "Lengkapi kode untuk menghasilkan suatu output yang di harapkan"
   ]
  },
  {
   "cell_type": "code",
   "execution_count": 27,
   "metadata": {
    "id": "67zYXkePMsOu"
   },
   "outputs": [
    {
     "name": "stdout",
     "output_type": "stream",
     "text": [
      "['hallway', 11.25, 'kitchen', 18.0, 'chill zone', 20.0, 'bedroom', 10.75, 'poolhouse', 24.5, 'garage', 15.45]\n"
     ]
    }
   ],
   "source": [
    "areas = [\"hallway\", 11.25, \"kitchen\", 18.0,\n",
    "        \"chill zone\", 20.0, \"bedroom\", 10.75,\n",
    "         \"bathroom\", 10.50, \"poolhouse\", 24.5,\n",
    "         \"garage\", 15.45]\n",
    "\n",
    "# Hilangkan elemen yang bernilai \"bathroom\" dan 10.50 dalam satu statement code\n",
    "del areas[8:10]\n",
    "print(areas)"
   ]
  },
  {
   "cell_type": "markdown",
   "metadata": {
    "id": "BSadUbCRMynT"
   },
   "source": [
    "Expected Output:\n",
    "\n",
    "['hallway', 11.25, 'kitchen', 18.0, 'chill zone', 20.0, 'bedroom', 10.75, 'poolhouse', 24.5, 'garage', 15.45]"
   ]
  },
  {
   "cell_type": "markdown",
   "metadata": {
    "id": "pAPLLIvXFlQV"
   },
   "source": [
    "## 4. Menentukan Rating Film\n",
    "Dari tahun 2014, Indonesia memiliki empat kategori rating film.\n",
    "* SU (Semua Umur)\n",
    "* 13+ (Untuk penonton usia 13 tahun atau lebih)\n",
    "* 17+ (Untuk penonton usia 17 tahun atau lebih)\n",
    "* 21+ (Untuk penonton usia 21 tahun atau lebih)\n",
    "\n",
    "Sekarang, coba buat kode untuk menentukan kategori film tertinggi yang dapat ditonton oleh seseorang jika umurnya diketahui.\n",
    "\n",
    "**Contoh:**\n",
    "\n",
    "**Umur:** 14\\\n",
    "**Output:** 13+\n",
    "\n",
    "**Umur:** 2\\\n",
    "**Output:** SU\n",
    "\n",
    "**Bonus jika dapat menampilkan semua kategori film yang dapat ditonton alih-alih hanya kategori film tertinggi**"
   ]
  },
  {
   "cell_type": "code",
   "execution_count": null,
   "metadata": {
    "id": "d_wKhIXTE3oM"
   },
   "outputs": [],
   "source": []
  },
  {
   "cell_type": "markdown",
   "metadata": {
    "id": "9uQpSeOmNUEH"
   },
   "source": [
    "## 5: While Loop\n",
    "Buatlah sebuah code while loop sebagai berikut :\n",
    "\n",
    "- Buatlah suatu fungsi dengan argumen satu variabel bernilai numerik\n",
    "- Dalam fungsi, Buat sebuah while-loop yang akan looping/iterasi terus selama variabel tersebut tidak sama dengan 0\n",
    "- Dalam setiap iterasi update variabel itu, jika nilai lebih dari 0, maka kurangi variabel tersebut sebesar 1, selain itu tambahkan 1\n",
    "- print nilai variable input dalam setiap awal iterasi"
   ]
  },
  {
   "cell_type": "code",
   "execution_count": 78,
   "metadata": {
    "id": "PXRk7cRnNb0C"
   },
   "outputs": [
    {
     "name": "stdout",
     "output_type": "stream",
     "text": [
      "10\n",
      "9\n",
      "8\n",
      "7\n",
      "6\n",
      "5\n",
      "4\n",
      "3\n",
      "2\n",
      "1\n"
     ]
    }
   ],
   "source": [
    "a = 10\n",
    "\n",
    "def fungsi_while(angka):\n",
    "    if angka < 0:\n",
    "        angka = angka + 1\n",
    "        print(angka=+1)\n",
    "    while angka >0:\n",
    "        print(angka)\n",
    "        angka = angka -1\n",
    "\n",
    "fungsi_while(a)"
   ]
  },
  {
   "cell_type": "markdown",
   "metadata": {
    "id": "MUwjytzuPUqE"
   },
   "source": [
    "## 6. Mapping Fungsi lambda\n",
    "Hitunglah jumlah anggota bilangan genap dari sebuah objek list berikut menggunakan lambda function"
   ]
  },
  {
   "cell_type": "code",
   "execution_count": 82,
   "metadata": {
    "id": "Xtf0RWTXPXBA"
   },
   "outputs": [
    {
     "name": "stdout",
     "output_type": "stream",
     "text": [
      "[0, 2, 4, 6, 8, 10, 12, 14, 16, 18, 20, 22, 24, 26, 28, 30, 32, 34, 36, 38, 40, 42, 44, 46, 48, 50, 52, 54, 56, 58, 60, 62, 64, 66, 68, 70, 72, 74, 76, 78, 80, 82, 84, 86, 88, 90, 92, 94, 96, 98, 100, 102, 104, 106, 108, 110, 112, 114, 116, 118, 120, 122, 124, 126, 128, 130, 132, 134, 136, 138, 140, 142, 144, 146, 148, 150, 152, 154, 156, 158, 160, 162, 164, 166, 168, 170, 172, 174, 176, 178, 180, 182, 184, 186, 188, 190, 192, 194, 196, 198, 200, 202, 204, 206, 208, 210, 212, 214, 216, 218, 220, 222, 224, 226, 228, 230, 232, 234, 236, 238, 240, 242, 244, 246, 248, 250, 252, 254, 256, 258, 260, 262, 264, 266, 268, 270, 272, 274, 276, 278, 280, 282, 284, 286, 288, 290, 292, 294, 296, 298, 300, 302, 304, 306, 308, 310, 312, 314, 316, 318, 320, 322, 324, 326, 328, 330, 332, 334, 336, 338, 340, 342, 344, 346, 348, 350, 352, 354, 356, 358, 360, 362, 364, 366, 368, 370, 372, 374, 376, 378, 380, 382, 384, 386, 388, 390, 392, 394, 396, 398, 400, 402, 404, 406, 408, 410, 412, 414, 416, 418, 420, 422, 424, 426, 428, 430, 432, 434, 436, 438, 440, 442, 444, 446, 448, 450, 452, 454, 456, 458, 460, 462, 464, 466, 468, 470, 472, 474, 476, 478, 480, 482, 484, 486, 488, 490, 492, 494, 496, 498, 500, 502, 504, 506, 508, 510, 512, 514, 516, 518, 520, 522, 524, 526, 528, 530, 532, 534, 536, 538, 540, 542, 544, 546, 548, 550, 552, 554, 556, 558, 560, 562, 564, 566, 568, 570, 572, 574, 576, 578, 580, 582, 584, 586, 588, 590, 592, 594, 596, 598, 600, 602, 604, 606, 608, 610, 612, 614, 616, 618, 620, 622, 624, 626, 628, 630, 632, 634, 636, 638, 640, 642, 644, 646, 648, 650, 652, 654, 656, 658, 660, 662, 664, 666, 668, 670, 672, 674, 676, 678, 680, 682, 684, 686, 688, 690, 692, 694, 696, 698, 700, 702, 704, 706, 708, 710, 712, 714, 716, 718, 720, 722, 724, 726, 728, 730, 732, 734, 736, 738, 740, 742, 744, 746, 748, 750, 752, 754, 756, 758, 760, 762, 764, 766, 768, 770, 772, 774, 776, 778, 780, 782, 784, 786, 788, 790, 792, 794, 796, 798, 800, 802, 804, 806, 808, 810, 812, 814, 816, 818, 820, 822, 824, 826, 828, 830, 832, 834, 836, 838, 840, 842, 844, 846, 848, 850, 852, 854, 856, 858, 860, 862, 864, 866, 868, 870, 872, 874, 876, 878, 880, 882, 884, 886, 888, 890, 892, 894, 896, 898, 900, 902, 904, 906, 908, 910, 912, 914, 916, 918, 920, 922, 924, 926, 928, 930, 932, 934, 936, 938, 940, 942, 944, 946, 948, 950, 952, 954, 956, 958, 960, 962, 964, 966, 968, 970, 972, 974, 976, 978, 980, 982, 984, 986, 988, 990, 992, 994, 996, 998]\n"
     ]
    }
   ],
   "source": [
    "# obj_list = [i for i in range(1000)]\n",
    "\n",
    "hasil = list(filter(lambda x:x%2 == 0,obj_list))\n",
    "\n",
    "print(hasil)"
   ]
  }
 ],
 "metadata": {
  "colab": {
   "provenance": []
  },
  "kernelspec": {
   "display_name": "Python 3 (ipykernel)",
   "language": "python",
   "name": "python3"
  },
  "language_info": {
   "codemirror_mode": {
    "name": "ipython",
    "version": 3
   },
   "file_extension": ".py",
   "mimetype": "text/x-python",
   "name": "python",
   "nbconvert_exporter": "python",
   "pygments_lexer": "ipython3",
   "version": "3.9.13"
  }
 },
 "nbformat": 4,
 "nbformat_minor": 1
}
