{
 "cells": [
  {
   "cell_type": "markdown",
   "metadata": {
    "id": "6Pt0Nez7ot3I"
   },
   "source": [
    "# Statistika Deskriptif"
   ]
  },
  {
   "cell_type": "code",
   "execution_count": null,
   "metadata": {
    "id": "PYvRBzsjpGDg"
   },
   "outputs": [],
   "source": [
    "# Import modul math untuk operasi matematika dasar\n",
    "import math\n",
    "\n",
    "# Import modul statistics untuk melakukan operasi statistika\n",
    "import statistics\n",
    "\n",
    "# Import modul numpy dengan alias np untuk operasi numerik dan array\n",
    "import numpy as np\n",
    "\n",
    "# Import modul scipy.stats untuk statistika lanjutan menggunakan library SciPy\n",
    "import scipy.stats"
   ]
  },
  {
   "cell_type": "markdown",
   "metadata": {
    "id": "GIAfi0nOpqQn"
   },
   "source": [
    "## Central Tendency"
   ]
  },
  {
   "cell_type": "markdown",
   "metadata": {
    "id": "FIvfXAsIpxF1"
   },
   "source": [
    "### Mean"
   ]
  },
  {
   "cell_type": "code",
   "execution_count": null,
   "metadata": {
    "id": "_V-4MDanvRAt"
   },
   "outputs": [],
   "source": [
    "# Inisasi variabel x dengan nilai list yang berisi integer\n",
    "x = [1.0, 2.0, 1, 2, 4]\n",
    "\n",
    "# Inisasi variabel x_dgn_nan dengan nilai list yang berisi integer dan nilai nan\n",
    "x_dgn_nan = [1, 2, 1, 2, 4, math.nan]"
   ]
  },
  {
   "cell_type": "code",
   "execution_count": null,
   "metadata": {
    "colab": {
     "base_uri": "https://localhost:8080/"
    },
    "id": "ea5RhBUIp5nv",
    "outputId": "6c7ee1d4-061b-4e53-f0eb-dd6b12a5e964"
   },
   "outputs": [
    {
     "name": "stdout",
     "output_type": "stream",
     "text": [
      "2.0\n",
      "2.0\n",
      "2.0\n"
     ]
    }
   ],
   "source": [
    "# Menggunakan library statistics pada list x\n",
    "\n",
    "x = [1.0, 2.0, 1, 2, 4]\n",
    "\n",
    "# Menggunakan statistics.mean()\n",
    "mean = statistics.mean(x)\n",
    "print(mean)\n",
    "\n",
    "# Menggunakan statistics.fmean()\n",
    "# Kelebihan: Lebih cepat; Menghasilkan Float\n",
    "mean = statistics.fmean(x)\n",
    "print(mean)\n",
    "\n",
    "# Menggunakan numpy\n",
    "mean = np.mean(x)\n",
    "print(mean)"
   ]
  },
  {
   "cell_type": "code",
   "execution_count": null,
   "metadata": {
    "colab": {
     "base_uri": "https://localhost:8080/"
    },
    "id": "CCFhAfZEqYLo",
    "outputId": "5756cc26-56e3-464a-ce50-993519d3fe09"
   },
   "outputs": [
    {
     "name": "stdout",
     "output_type": "stream",
     "text": [
      "nan\n",
      "nan\n",
      "2.0\n"
     ]
    }
   ],
   "source": [
    "# Menggunakan library statistics pada list x_dgn_nan\n",
    "x_dgn_nan = [1, 2, 1, 2, 4, math.nan]\n",
    "\n",
    "# Menggunakan statistics.fmean()\n",
    "mean = statistics.fmean(x_dgn_nan)\n",
    "print(mean)\n",
    "\n",
    "# Menggunakan statistics.mean()\n",
    "mean = np.mean(x_dgn_nan)\n",
    "print(mean)\n",
    "\n",
    "# Menggunakan statistics.nanmean() untuk mengabaikan nilai nan\n",
    "mean = np.nanmean(x_dgn_nan)\n",
    "print(mean)"
   ]
  },
  {
   "cell_type": "markdown",
   "metadata": {
    "id": "KOZkFMGysdP4"
   },
   "source": [
    "### Weighted Mean"
   ]
  },
  {
   "cell_type": "code",
   "execution_count": null,
   "metadata": {
    "id": "ukkwzjZfsgVS"
   },
   "outputs": [],
   "source": [
    "x = [8.0, 1, 2.5, 4, 28.0] # Nilai\n",
    "x_nan = [8.0, np.nan, 2.5, 4, 28.0] # Nilai dengan nan\n",
    "w = [0.1, 0.2, 0.3, 0.25, 0.15] # Bobot"
   ]
  },
  {
   "cell_type": "code",
   "execution_count": null,
   "metadata": {
    "id": "QnOwjXWyyn8J"
   },
   "outputs": [],
   "source": [
    "# 8.0 * 0,1 + 2 * 0,2 + ... + 28 * 0.15 /5"
   ]
  },
  {
   "cell_type": "code",
   "execution_count": null,
   "metadata": {
    "colab": {
     "base_uri": "https://localhost:8080/"
    },
    "id": "jY1Vl-nruqK7",
    "outputId": "f290293e-9664-463b-9324-4417a302c65d"
   },
   "outputs": [
    {
     "name": "stdout",
     "output_type": "stream",
     "text": [
      "6.95\n"
     ]
    }
   ],
   "source": [
    "# Menggunakan library numpy\n",
    "\n",
    "# Pada list x\n",
    "wmean = np.average(x, weights=w)\n",
    "print(wmean)\n",
    "\n",
    "# Pada list x_nan\n",
    "# y, w = np.array(x_nan), np.array(w)\n",
    "# wmean = np.nanaverage(y, weights=w)\n",
    "# print(wmean)"
   ]
  },
  {
   "cell_type": "markdown",
   "metadata": {
    "id": "c95Xx7Shvq-_"
   },
   "source": [
    "### Median"
   ]
  },
  {
   "cell_type": "code",
   "execution_count": null,
   "metadata": {
    "id": "yqwnd3OEvtDV"
   },
   "outputs": [],
   "source": [
    "x = [1, 2, 3, 4, 5, 6, 7] # Nilai\n",
    "x_nan = [1, 2, 3, 4, 5, 6, 7, np.nan] # Nilai"
   ]
  },
  {
   "cell_type": "code",
   "execution_count": null,
   "metadata": {
    "id": "XvB9lgpzzAU1"
   },
   "outputs": [],
   "source": [
    "# nan == null == datum kosong"
   ]
  },
  {
   "cell_type": "code",
   "execution_count": null,
   "metadata": {
    "colab": {
     "base_uri": "https://localhost:8080/"
    },
    "id": "Xr7GePCSwS-r",
    "outputId": "ba90672c-2bb8-4e34-c91d-d4a8a743a62e"
   },
   "outputs": [
    {
     "data": {
      "text/plain": [
       "4"
      ]
     },
     "execution_count": 151,
     "metadata": {},
     "output_type": "execute_result"
    }
   ],
   "source": [
    "# Menggunakan library statistics\n",
    "\n",
    "median = statistics.median(x)\n",
    "median"
   ]
  },
  {
   "cell_type": "code",
   "execution_count": null,
   "metadata": {
    "colab": {
     "base_uri": "https://localhost:8080/"
    },
    "id": "hLIq8n6uwZ73",
    "outputId": "f5748641-f926-4996-e865-3dfba0ad4a12"
   },
   "outputs": [
    {
     "name": "stdout",
     "output_type": "stream",
     "text": [
      "4.0\n",
      "4.0\n"
     ]
    }
   ],
   "source": [
    "# Menggunakan library numpy\n",
    "\n",
    "median = np.median(x)\n",
    "print(median)\n",
    "\n",
    "median = np.nanmedian(x_nan)\n",
    "print(median)"
   ]
  },
  {
   "cell_type": "markdown",
   "metadata": {
    "id": "WIZm_c3TweyL"
   },
   "source": [
    "### Mode"
   ]
  },
  {
   "cell_type": "code",
   "execution_count": null,
   "metadata": {
    "id": "ZoilP9rEwhpT"
   },
   "outputs": [],
   "source": [
    "u = [2, 3, 2, 8, 12] # uni-mode\n",
    "u_bi = [2, 3, 2, 8, 12, 8] # bi-mode"
   ]
  },
  {
   "cell_type": "code",
   "execution_count": null,
   "metadata": {
    "colab": {
     "base_uri": "https://localhost:8080/"
    },
    "id": "K0b_pGhRwvXW",
    "outputId": "6031c2a9-97b2-4ec1-bf36-a971287a806e"
   },
   "outputs": [
    {
     "name": "stdout",
     "output_type": "stream",
     "text": [
      "2\n",
      "[2, 8]\n"
     ]
    }
   ],
   "source": [
    "# Menggunakan library statistics\n",
    "\n",
    "# Modus untuk uni-mode\n",
    "mode = statistics.mode(u)\n",
    "print(mode)\n",
    "\n",
    "# Modus untuk multi-mode\n",
    "mode = statistics.multimode(u_bi)\n",
    "print(mode)"
   ]
  },
  {
   "cell_type": "code",
   "execution_count": null,
   "metadata": {
    "colab": {
     "base_uri": "https://localhost:8080/"
    },
    "id": "aS_YEiU0xU1S",
    "outputId": "2f54729d-9204-48d9-c440-1a7a27a84a5d"
   },
   "outputs": [
    {
     "name": "stdout",
     "output_type": "stream",
     "text": [
      "ModeResult(mode=2, count=2)\n"
     ]
    }
   ],
   "source": [
    "# Menggunakan library scipy\n",
    "\n",
    "# Modus untuk uni-mode\n",
    "mode = scipy.stats.mode(u)\n",
    "print(mode)"
   ]
  },
  {
   "cell_type": "markdown",
   "metadata": {
    "id": "Rrjhxa0jyA0Y"
   },
   "source": [
    "### Distribusi"
   ]
  },
  {
   "cell_type": "code",
   "execution_count": null,
   "metadata": {
    "id": "xXZ-IFx5ynH0"
   },
   "outputs": [],
   "source": [
    "import numpy as np\n",
    "import matplotlib.pyplot as plt\n",
    "from scipy.stats import skew, norm"
   ]
  },
  {
   "cell_type": "code",
   "execution_count": null,
   "metadata": {
    "id": "s1jWgO3_ydcA"
   },
   "outputs": [],
   "source": [
    "# Seed untuk reproducibility\n",
    "np.random.seed(42)\n",
    "\n",
    "# Membuat data dengan distribusi normal\n",
    "normal_data = np.random.normal(loc=0, scale=1, size=1000)\n",
    "\n",
    "# Membuat data dengan distribusi skewed\n",
    "skewed_data = np.random.exponential(scale=2, size=1000)\n",
    "\n",
    "# Membuat data dengan distribusi bimodal\n",
    "bimodal_data1 = np.random.normal(loc=-2, scale=1, size=500)\n",
    "bimodal_data2 = np.random.normal(loc=2, scale=1, size=500)\n",
    "bimodal_data = np.concatenate((bimodal_data1, bimodal_data2))"
   ]
  },
  {
   "cell_type": "code",
   "execution_count": null,
   "metadata": {
    "colab": {
     "base_uri": "https://localhost:8080/",
     "height": 395
    },
    "id": "q0N85cxZy3Tp",
    "outputId": "bc9294d9-84b1-47f1-bb17-ea1dbb6c4583"
   },
   "outputs": [
    {
     "data": {
      "image/png": "[encoded data removed]",
      "text/plain": [
       "<Figure size 800x400 with 1 Axes>"
      ]
     },
     "metadata": {},
     "output_type": "display_data"
    }
   ],
   "source": [
    "# Visualisasi distribusi normal\n",
    "plt.figure(figsize=(8, 4))\n",
    "plt.hist(normal_data, bins=30, density=True, color='blue', alpha=0.7, label='Normal')\n",
    "plt.title('Distribusi Normal')\n",
    "plt.legend()\n",
    "plt.show()"
   ]
  },
  {
   "cell_type": "code",
   "execution_count": null,
   "metadata": {
    "colab": {
     "base_uri": "https://localhost:8080/",
     "height": 395
    },
    "id": "RDDSTueKy8mJ",
    "outputId": "e8680ccf-2a41-4831-b8e4-2c9c6263a218"
   },
   "outputs": [
    {
     "data": {
      "image/png": "[encoded data removed]",
      "text/plain": [
       "<Figure size 800x400 with 1 Axes>"
      ]
     },
     "metadata": {},
     "output_type": "display_data"
    }
   ],
   "source": [
    "# Visualisasi distribusi skewed\n",
    "plt.figure(figsize=(8, 4))\n",
    "plt.hist(skewed_data, bins=30, density=True, color='orange', alpha=0.7, label='Skewed')\n",
    "plt.title('Distribusi Skewed')\n",
    "plt.legend()\n",
    "plt.show()"
   ]
  },
  {
   "cell_type": "code",
   "execution_count": null,
   "metadata": {
    "colab": {
     "base_uri": "https://localhost:8080/",
     "height": 395
    },
    "id": "rzQ19c3fzAUj",
    "outputId": "1e7f7f85-6f85-41cf-9c93-ca58a32db73f"
   },
   "outputs": [
    {
     "data": {
      "image/png": "[encoded data removed]",
      "text/plain": [
       "<Figure size 800x400 with 1 Axes>"
      ]
     },
     "metadata": {},
     "output_type": "display_data"
    }
   ],
   "source": [
    "# Visualisasi distribusi bimodal\n",
    "plt.figure(figsize=(8, 4))\n",
    "plt.hist(bimodal_data, bins=30, density=True, color='green', alpha=0.7, label='Bimodal')\n",
    "plt.title('Distribusi Bimodal')\n",
    "plt.legend()\n",
    "plt.show()"
   ]
  },
  {
   "cell_type": "markdown",
   "metadata": {
    "id": "i-mBHHWJzJwX"
   },
   "source": [
    "## Measures of Variability"
   ]
  },
  {
   "cell_type": "markdown",
   "metadata": {
    "id": "oqZeVO9VzU6O"
   },
   "source": [
    "### Range"
   ]
  },
  {
   "cell_type": "code",
   "execution_count": null,
   "metadata": {
    "id": "mkOBdF3WzbbK"
   },
   "outputs": [],
   "source": [
    "x = [25, 10, 15, 30, 20, 18, 22, 27, 35, 12]"
   ]
  },
  {
   "cell_type": "code",
   "execution_count": null,
   "metadata": {
    "colab": {
     "base_uri": "https://localhost:8080/"
    },
    "id": "MSOqkf-UzhV4",
    "outputId": "2d243e0b-f5f9-443b-a1a0-68dbed699389"
   },
   "outputs": [
    {
     "name": "stdout",
     "output_type": "stream",
     "text": [
      "25\n"
     ]
    }
   ],
   "source": [
    "range = np.ptp(x)\n",
    "print(range)"
   ]
  },
  {
   "cell_type": "markdown",
   "metadata": {
    "id": "kqkefsqHzXW4"
   },
   "source": [
    "### Variance"
   ]
  },
  {
   "cell_type": "code",
   "execution_count": null,
   "metadata": {
    "id": "KXQC8WZOz-44"
   },
   "outputs": [],
   "source": [
    "x = [25, 10, 15, 30, 20, 18, 22, 27, 35, 12]"
   ]
  },
  {
   "cell_type": "code",
   "execution_count": null,
   "metadata": {
    "colab": {
     "base_uri": "https://localhost:8080/"
    },
    "id": "VhBmfAzezahP",
    "outputId": "a2330bbd-35ec-4ab2-a3b4-dd158873e46b"
   },
   "outputs": [
    {
     "name": "stdout",
     "output_type": "stream",
     "text": [
      "57.64\n",
      "64.04444444444444\n"
     ]
    }
   ],
   "source": [
    "# Menggunakan numpy\n",
    "\n",
    "# Variance population\n",
    "variance = np.var(x)\n",
    "print(variance)\n",
    "\n",
    "# Variance sample\n",
    "variance = np.var(x, ddof=1)\n",
    "print(variance)"
   ]
  },
  {
   "cell_type": "code",
   "execution_count": null,
   "metadata": {
    "colab": {
     "base_uri": "https://localhost:8080/"
    },
    "id": "EOq1Bvrs0c0y",
    "outputId": "c615636a-1332-4a71-a1f7-68bc4737e791"
   },
   "outputs": [
    {
     "name": "stdout",
     "output_type": "stream",
     "text": [
      "57.64\n",
      "64.04444444444445\n"
     ]
    }
   ],
   "source": [
    "# Menggunakan statistics\n",
    "\n",
    "# Variance population\n",
    "variance = statistics.pvariance(x)\n",
    "print(variance)\n",
    "\n",
    "# Variance sample\n",
    "variance = statistics.variance(x)\n",
    "print(variance)"
   ]
  },
  {
   "cell_type": "code",
   "execution_count": null,
   "metadata": {
    "id": "HUUBUxlH3pvh"
   },
   "outputs": [],
   "source": [
    "x_nan = [25, 10, 15, 30, 20, 18, 22, 27, 35, 12, np.nan]"
   ]
  },
  {
   "cell_type": "code",
   "execution_count": null,
   "metadata": {
    "colab": {
     "base_uri": "https://localhost:8080/"
    },
    "id": "HzzK1gHh32O0",
    "outputId": "b0b228a4-4d7d-44b4-e454-7f7f0cd1f53b"
   },
   "outputs": [
    {
     "name": "stdout",
     "output_type": "stream",
     "text": [
      "57.64\n",
      "64.04444444444444\n"
     ]
    }
   ],
   "source": [
    "# Menggunakan numpy\n",
    "\n",
    "# Variance population\n",
    "variance = np.nanvar(x_nan)\n",
    "print(variance)\n",
    "\n",
    "# Variance sample\n",
    "variance = np.nanvar(x_nan, ddof=1)\n",
    "print(variance)"
   ]
  },
  {
   "cell_type": "markdown",
   "metadata": {
    "id": "r1INSs_Yz86D"
   },
   "source": [
    "### Standar Deviasi"
   ]
  },
  {
   "cell_type": "code",
   "execution_count": null,
   "metadata": {
    "id": "86weC2Dz0CCe"
   },
   "outputs": [],
   "source": [
    "x = [25, 10, 15, 30, 20, 18, 22, 27, 35, 12]"
   ]
  },
  {
   "cell_type": "code",
   "execution_count": null,
   "metadata": {
    "colab": {
     "base_uri": "https://localhost:8080/"
    },
    "id": "jEXbvA5s0CxB",
    "outputId": "6ba37108-b827-45d3-af53-fd4b9b5ed4fc"
   },
   "outputs": [
    {
     "name": "stdout",
     "output_type": "stream",
     "text": [
      "7.592101158440923\n",
      "7.592101158440923\n",
      "8.002777295692066\n",
      "8.002777295692066\n"
     ]
    }
   ],
   "source": [
    "# Standar deviasi populasi\n",
    "std_dev_population = np.sqrt(np.var(x))\n",
    "print(std_dev_population)\n",
    "\n",
    "std_dev_population = np.std(x)\n",
    "print(std_dev_population)\n",
    "\n",
    "# Standar deviasi sample\n",
    "std_dev_sample = np.sqrt(np.var(x, ddof=1))\n",
    "print(std_dev_sample)\n",
    "\n",
    "std_dev_sample = np.std(x, ddof=1)\n",
    "print(std_dev_sample)"
   ]
  },
  {
   "cell_type": "code",
   "execution_count": null,
   "metadata": {
    "colab": {
     "base_uri": "https://localhost:8080/"
    },
    "id": "EzVHbt7X16CT",
    "outputId": "bae68b98-2eb6-450c-aa18-13ec3b0b1817"
   },
   "outputs": [
    {
     "name": "stdout",
     "output_type": "stream",
     "text": [
      "7.592101158440923\n",
      "7.592101158440923\n",
      "8.002777295692068\n",
      "8.002777295692068\n"
     ]
    }
   ],
   "source": [
    "# Menggunakan statistics\n",
    "\n",
    "# Standar deviasi populasi\n",
    "std_dev_population = np.sqrt(statistics.pvariance(x))\n",
    "print(std_dev_population)\n",
    "\n",
    "std_dev_population = statistics.pstdev(x)\n",
    "print(std_dev_population)\n",
    "\n",
    "# Standar deviasi sample\n",
    "std_dev_sample = np.sqrt(statistics.variance(x))\n",
    "print(std_dev_sample)\n",
    "\n",
    "std_dev_population = statistics.stdev(x)\n",
    "print(std_dev_population)"
   ]
  },
  {
   "cell_type": "code",
   "execution_count": null,
   "metadata": {
    "id": "JH24NvH44SmX"
   },
   "outputs": [],
   "source": [
    "x_nan = [25, 10, 15, 30, 20, 18, 22, 27, 35, 12, np.nan]"
   ]
  },
  {
   "cell_type": "code",
   "execution_count": null,
   "metadata": {
    "colab": {
     "base_uri": "https://localhost:8080/"
    },
    "id": "xvt3Y9sB4UKl",
    "outputId": "9add4f2d-94d3-4f74-8ba7-afffcdd43020"
   },
   "outputs": [
    {
     "name": "stdout",
     "output_type": "stream",
     "text": [
      "7.592101158440923\n",
      "7.592101158440923\n",
      "8.002777295692066\n",
      "8.002777295692066\n"
     ]
    }
   ],
   "source": [
    "# Standar deviasi populasi\n",
    "std_dev_population = np.sqrt(np.nanvar(x_nan))\n",
    "print(std_dev_population)\n",
    "\n",
    "std_dev_population = np.nanstd(x_nan)\n",
    "print(std_dev_population)\n",
    "\n",
    "# Standar deviasi sample\n",
    "std_dev_sample = np.sqrt(np.nanvar(x_nan, ddof=1))\n",
    "print(std_dev_sample)\n",
    "\n",
    "std_dev_sample = np.nanstd(x_nan, ddof=1)\n",
    "print(std_dev_sample)"
   ]
  },
  {
   "cell_type": "markdown",
   "metadata": {
    "id": "Xe6rcgwD5asH"
   },
   "source": [
    "### Covariance"
   ]
  },
  {
   "cell_type": "code",
   "execution_count": null,
   "metadata": {
    "id": "DiTl52ak5evt"
   },
   "outputs": [],
   "source": [
    "x = [1, 2, 3, 4, 5]\n",
    "y = [2, 4, 6, 8, 10]"
   ]
  },
  {
   "cell_type": "code",
   "execution_count": null,
   "metadata": {
    "colab": {
     "base_uri": "https://localhost:8080/"
    },
    "id": "VvLgSDC05qMW",
    "outputId": "56dd3d3c-5b37-4652-ff22-a6f9fce4494f"
   },
   "outputs": [
    {
     "name": "stdout",
     "output_type": "stream",
     "text": [
      "[[ 2.5  5. ]\n",
      " [ 5.  10. ]]\n"
     ]
    }
   ],
   "source": [
    "cov_matrix = np.cov(x, y)\n",
    "print(cov_matrix)"
   ]
  },
  {
   "cell_type": "code",
   "execution_count": null,
   "metadata": {
    "colab": {
     "base_uri": "https://localhost:8080/"
    },
    "id": "k_EEkWXW6JV5",
    "outputId": "3acf746b-8204-49f5-bf0a-7addfd485c0a"
   },
   "outputs": [
    {
     "name": "stdout",
     "output_type": "stream",
     "text": [
      "5.0\n"
     ]
    }
   ],
   "source": [
    "cov = np.cov(x, y)[0, 1]\n",
    "print(cov)"
   ]
  },
  {
   "cell_type": "markdown",
   "metadata": {
    "id": "cKtwmuty5dM0"
   },
   "source": [
    "### Correlation"
   ]
  },
  {
   "cell_type": "code",
   "execution_count": null,
   "metadata": {
    "id": "4D-PkkS36SRa"
   },
   "outputs": [],
   "source": [
    "x = [1, 2, 3, 4, 5]\n",
    "y = [2, 4, 6, 8, 10]"
   ]
  },
  {
   "cell_type": "code",
   "execution_count": null,
   "metadata": {
    "colab": {
     "base_uri": "https://localhost:8080/"
    },
    "id": "3w4353gU6UXC",
    "outputId": "a7b13c90-f64c-459c-c1a9-d57eaad48115"
   },
   "outputs": [
    {
     "name": "stdout",
     "output_type": "stream",
     "text": [
      "[[1. 1.]\n",
      " [1. 1.]]\n"
     ]
    }
   ],
   "source": [
    "corr_matrix = np.corrcoef(x, y)\n",
    "print(corr_matrix)"
   ]
  },
  {
   "cell_type": "code",
   "execution_count": null,
   "metadata": {
    "colab": {
     "base_uri": "https://localhost:8080/"
    },
    "id": "fRcu1iki6_c1",
    "outputId": "ca19489a-bbc5-4bc1-d787-1eac0d288236"
   },
   "outputs": [
    {
     "name": "stdout",
     "output_type": "stream",
     "text": [
      "0.9999999999999999\n"
     ]
    }
   ],
   "source": [
    "corr = np.corrcoef(x, y)[0, 1]\n",
    "print(corr)"
   ]
  },
  {
   "cell_type": "markdown",
   "metadata": {
    "id": "YsTTejSz7L-z"
   },
   "source": [
    "## Measures of Position"
   ]
  },
  {
   "cell_type": "markdown",
   "metadata": {
    "id": "CoX6I_AJ7Qiq"
   },
   "source": [
    "### Percentile"
   ]
  },
  {
   "cell_type": "code",
   "execution_count": null,
   "metadata": {
    "id": "atabH_9R7PUi"
   },
   "outputs": [],
   "source": [
    "x = [1, 2, 3, 4, 5, 6, 7, 8, 15]\n",
    "x_nan = [1, 2, 3, 4, 5, np.nan, 7, 8, 15]"
   ]
  },
  {
   "cell_type": "code",
   "execution_count": null,
   "metadata": {
    "colab": {
     "base_uri": "https://localhost:8080/"
    },
    "id": "xaznFM5Y7sm1",
    "outputId": "a148f455-c7e8-411c-e7e3-335869716115"
   },
   "outputs": [
    {
     "name": "stdout",
     "output_type": "stream",
     "text": [
      "25th percentile: 2.75\n",
      "50th percentile: 4.5\n",
      "75th percentile: 7.25\n",
      "70th percentile: 6.799999999999999\n"
     ]
    }
   ],
   "source": [
    "p25 = np.nanpercentile(x_nan, 25)\n",
    "p50 = np.nanpercentile(x_nan, 50)\n",
    "p75 = np.nanpercentile(x_nan, 75)\n",
    "p70 = np.nanpercentile(x_nan, 70)\n",
    "\n",
    "print(\"25th percentile:\", p25)\n",
    "print(\"50th percentile:\", p50)\n",
    "print(\"75th percentile:\", p75)\n",
    "print(\"70th percentile:\", p70)"
   ]
  },
  {
   "cell_type": "code",
   "execution_count": null,
   "metadata": {
    "colab": {
     "base_uri": "https://localhost:8080/"
    },
    "id": "XHCqYqlk7zTU",
    "outputId": "55d62c6d-5bfa-468d-f7da-22d30dd48b65"
   },
   "outputs": [
    {
     "name": "stdout",
     "output_type": "stream",
     "text": [
      "25th percentile: 3.0\n",
      "50th percentile: 5.0\n",
      "75th percentile: 7.0\n",
      "70th percentile: 6.6\n"
     ]
    }
   ],
   "source": [
    "p25 = np.percentile(x, 25)\n",
    "p50 = np.percentile(x, 50)\n",
    "p75 = np.percentile(x, 75)\n",
    "p70 = np.percentile(x, 70)\n",
    "\n",
    "print(\"25th percentile:\", p25)\n",
    "print(\"50th percentile:\", p50)\n",
    "print(\"75th percentile:\", p75)\n",
    "print(\"70th percentile:\", p70)"
   ]
  },
  {
   "cell_type": "markdown",
   "metadata": {
    "id": "vGyIt_ty8FXI"
   },
   "source": [
    "### IQR"
   ]
  },
  {
   "cell_type": "code",
   "execution_count": null,
   "metadata": {
    "colab": {
     "base_uri": "https://localhost:8080/"
    },
    "id": "hKVlKgBL8V5L",
    "outputId": "3fdbb291-74bd-4f46-d960-16ece4c212f7"
   },
   "outputs": [
    {
     "data": {
      "text/plain": [
       "4.0"
      ]
     },
     "execution_count": 182,
     "metadata": {},
     "output_type": "execute_result"
    }
   ],
   "source": [
    "iqr = p75 - p25\n",
    "iqr"
   ]
  },
  {
   "cell_type": "code",
   "execution_count": null,
   "metadata": {
    "id": "3QcY2O438k9P"
   },
   "outputs": [],
   "source": [
    "q1 = p25\n",
    "q3 = p75"
   ]
  },
  {
   "cell_type": "code",
   "execution_count": null,
   "metadata": {
    "colab": {
     "base_uri": "https://localhost:8080/"
    },
    "id": "7BUbvWBg8gKZ",
    "outputId": "a05ced96-64ac-4fef-c5ba-95e1a8d5d137"
   },
   "outputs": [
    {
     "name": "stdout",
     "output_type": "stream",
     "text": [
      "Lower Bound for x: -3.0\n",
      "Upper Bound for x: 13.0\n"
     ]
    }
   ],
   "source": [
    "lower_bound = q1 - 1.5 * iqr\n",
    "upper_bound = q3 + 1.5 * iqr\n",
    "\n",
    "print(\"Lower Bound for x:\", lower_bound)\n",
    "print(\"Upper Bound for x:\", upper_bound)"
   ]
  },
  {
   "cell_type": "markdown",
   "metadata": {
    "id": "BilCBiN78wQ_"
   },
   "source": [
    "### Box Plot"
   ]
  },
  {
   "cell_type": "code",
   "execution_count": null,
   "metadata": {
    "colab": {
     "base_uri": "https://localhost:8080/"
    },
    "id": "4GeR4r72_dzA",
    "outputId": "f69d5d07-34e6-48d2-c554-a56e3783ff57"
   },
   "outputs": [
    {
     "data": {
      "text/plain": [
       "[1, 2, 3, 4, 5, 6, 7, 8, 15]"
      ]
     },
     "execution_count": 185,
     "metadata": {},
     "output_type": "execute_result"
    }
   ],
   "source": [
    "x"
   ]
  },
  {
   "cell_type": "code",
   "execution_count": null,
   "metadata": {
    "colab": {
     "base_uri": "https://localhost:8080/",
     "height": 480
    },
    "id": "AOA82F7n9FFp",
    "outputId": "aaa4be41-ff73-4c34-f530-21d3fb53c0b1"
   },
   "outputs": [
    {
     "data": {
      "image/png": "[encoded data removed]",
      "text/plain": [
       "<Figure size 640x480 with 1 Axes>"
      ]
     },
     "metadata": {},
     "output_type": "display_data"
    }
   ],
   "source": [
    "plt.boxplot(x)\n",
    "\n",
    "plt.xlabel('Data')\n",
    "plt.ylabel('Values')\n",
    "plt.title('Box Plot for x')\n",
    "\n",
    "plt.show()"
   ]
  },
  {
   "cell_type": "markdown",
   "metadata": {
    "id": "YynVQpzWECXE"
   },
   "source": [
    "# Hands-On\n",
    "\n",
    "Studi Kasus: Analisis Data Usia dan Gaji\n",
    "\n",
    "Anda memiliki dua set data, yaitu usia dan gaji karyawan. Studi kasus ini bertujuan untuk melakukan analisis statistika deskriptif menggunakan Python. Anda diminta untuk menyelesaikan beberapa tugas dalam waktu 45 menit."
   ]
  },
  {
   "cell_type": "code",
   "execution_count": null,
   "metadata": {
    "id": "CN4nvTVlEEgK"
   },
   "outputs": [],
   "source": [
    "usia = [25, 28, 22, 30, 27, 29, 31, 26, 24, 23,\n",
    "        32, 33, 28, 27, 25, 30, 29, 34, 26, 25,\n",
    "        28, 30, 22, 24, 26, 29, 31, 33, 35, 27,\n",
    "        29, 28, 30, 32, 25, 26, 28, 29, 30, 31,\n",
    "        33, 22, 25, 27, 29, 31, 32, 26, 28, 30,\n",
    "        24, 33, 31, 28, 27, 30, 29, 26, 24, 22,\n",
    "        32, 30, 28, 27, 25, 33, 29, 31, 30, 26,\n",
    "        24, 22, 28, 30, 27, 32, 33, 29, 31, 26,\n",
    "        25, 24, 26, 30, 28, 27, 29, 31, 25, 32]\n",
    "\n",
    "gaji = [5000000, 6000000, 4500000, 7500000, 5500000,\n",
    "        6200000, 7000000, 5300000, 4800000, 5200000,\n",
    "        8000000, 7500000, 6000000, 5500000, 5000000,\n",
    "        7200000, 6500000, 7700000, 5200000, 5000000,\n",
    "        6000000, 7200000, 4500000, 4900000, 5300000,\n",
    "        6800000, 7100000, 7600000, 7900000, 5600000,\n",
    "        6200000, 6000000, 7200000, 7800000, 5000000,\n",
    "        5400000, 6100000, 6700000, 7200000, 7600000,\n",
    "        8000000, 4600000, 5100000, 5500000, 5900000,\n",
    "        6300000, 4800000, 7400000, 7000000, 6000000,\n",
    "        5500000, 7200000, 7500000, 5300000, 4900000,\n",
    "        4500000, 7900000, 7600000, 6000000, 5500000,\n",
    "        7200000, 6700000, 5300000, 4800000, 4600000,\n",
    "        7900000, 7200000, 6000000, 5500000, 5000000,\n",
    "        7500000, 7000000, 6100000, 6800000, 5300000,\n",
    "        5200000, 4900000, 5300000, 7200000, 6000000,\n",
    "        5500000, 7800000, 7500000, 6500000, 8000000,\n",
    "        4600000, 7200000, 6000000, 5500000, 4800000]"
   ]
  },
  {
   "cell_type": "markdown",
   "metadata": {
    "id": "Fis46lfGFg_D"
   },
   "source": [
    "## Central Tendency\n",
    "\n",
    "Pada setiap usia dan gaji, hitung\n",
    "1. Mean\n",
    "2. Median\n",
    "3. Modus\n",
    "\n",
    "Serta buat visualisasi Distribusi serta interpretasinya"
   ]
  },
  {
   "cell_type": "markdown",
   "metadata": {
    "id": "9r1pJ7E698k2"
   },
   "source": [
    "### Usia"
   ]
  },
  {
   "cell_type": "code",
   "execution_count": null,
   "metadata": {
    "colab": {
     "base_uri": "https://localhost:8080/"
    },
    "id": "2oMROBzEF8tH",
    "outputId": "f50a79fd-d9f4-451e-9e36-91e45e66735f"
   },
   "outputs": [
    {
     "name": "stdout",
     "output_type": "stream",
     "text": [
      "28.155555555555555\n",
      "28.0\n",
      "30\n"
     ]
    }
   ],
   "source": [
    "# usia\n",
    "\n",
    "mean = np.mean(usia)\n",
    "median = np.median(usia)\n",
    "mode = statistics.mode(usia)\n",
    "\n",
    "print(mean)\n",
    "print(median)\n",
    "print(mode)"
   ]
  },
  {
   "cell_type": "code",
   "execution_count": null,
   "metadata": {
    "colab": {
     "base_uri": "https://localhost:8080/",
     "height": 395
    },
    "id": "tNC4xlSG4hSV",
    "outputId": "027cd97a-4cc9-49cf-af4b-5658933964e0"
   },
   "outputs": [
    {
     "data": {
      "image/png": "[encoded data removed]",
      "text/plain": [
       "<Figure size 800x400 with 1 Axes>"
      ]
     },
     "metadata": {},
     "output_type": "display_data"
    }
   ],
   "source": [
    "# Distribusi Usia\n",
    "\n",
    "plt.figure(figsize=(8, 4))\n",
    "plt.hist(usia, bins=30, density=True, color='blue', alpha=0.7, label='Usia')\n",
    "plt.title('Distribusi Usia')\n",
    "plt.legend()\n",
    "plt.show()"
   ]
  },
  {
   "cell_type": "code",
   "execution_count": null,
   "metadata": {
    "colab": {
     "base_uri": "https://localhost:8080/",
     "height": 496
    },
    "id": "11g0fA2L53HY",
    "outputId": "5319e0c6-e1c2-4e26-84dc-c95447180493"
   },
   "outputs": [
    {
     "data": {
      "image/png": "[encoded data removed]",
      "text/plain": [
       "<Figure size 500x500 with 1 Axes>"
      ]
     },
     "metadata": {},
     "output_type": "display_data"
    }
   ],
   "source": [
    "# Distribusi Usia\n",
    "\n",
    "import seaborn as sns\n",
    "\n",
    "sns.set(style=\"whitegrid\")\n",
    "plt.figure(figsize=(5, 5))\n",
    "sns.kdeplot(usia, fill=True, color=\"skyblue\", label=\"KDE Plot\")\n",
    "\n",
    "mean_usia = np.mean(usia)\n",
    "median_usia = np.median(usia)\n",
    "mode_usia = statistics.mode(usia)\n",
    "\n",
    "plt.axvline(mean_usia, color=\"red\", linestyle=\"--\", label=\"Mean\")\n",
    "plt.axvline(median_usia, color=\"green\", linestyle=\"--\", label=\"Median\")\n",
    "plt.axvline(mode_usia, color=\"purple\", linestyle=\"--\", label=\"Mode\")\n",
    "\n",
    "# Menambahkan legenda\n",
    "plt.legend()\n",
    "\n",
    "# Menampilkan plot\n",
    "plt.title(\"KDE Plot dengan Mean, Median, dan Mode\")\n",
    "plt.xlabel(\"Usia\")\n",
    "plt.ylabel(\"Density\")\n",
    "plt.show()"
   ]
  },
  {
   "cell_type": "markdown",
   "metadata": {
    "id": "ZFr0tcHf-UGQ"
   },
   "source": [
    "Usia memiliki distribusi normal"
   ]
  },
  {
   "cell_type": "markdown",
   "metadata": {
    "id": "Mu3w5nWr-A58"
   },
   "source": [
    "### Gaji"
   ]
  },
  {
   "cell_type": "code",
   "execution_count": null,
   "metadata": {
    "colab": {
     "base_uri": "https://localhost:8080/"
    },
    "id": "BeZvYAPM4SAe",
    "outputId": "c55bb4a5-d76f-46bd-9d33-addfa93ecb1f"
   },
   "outputs": [
    {
     "name": "stdout",
     "output_type": "stream",
     "text": [
      "6178888.888888889\n",
      "6000000.0\n",
      "6000000\n"
     ]
    }
   ],
   "source": [
    "# gaji\n",
    "\n",
    "mean = np.mean(gaji)\n",
    "median = np.median(gaji)\n",
    "mode = statistics.mode(gaji)\n",
    "\n",
    "print(mean)\n",
    "print(median)\n",
    "print(mode)"
   ]
  },
  {
   "cell_type": "code",
   "execution_count": null,
   "metadata": {
    "colab": {
     "base_uri": "https://localhost:8080/",
     "height": 414
    },
    "id": "bZFqOdPH6Ws7",
    "outputId": "d0c827b1-7099-48a5-82ae-51c052073411"
   },
   "outputs": [
    {
     "data": {
      "image/png": "[encoded data removed]",
      "text/plain": [
       "<Figure size 800x400 with 1 Axes>"
      ]
     },
     "metadata": {},
     "output_type": "display_data"
    }
   ],
   "source": [
    "# Distribusi gaji\n",
    "\n",
    "plt.figure(figsize=(8, 4))\n",
    "plt.hist(gaji, bins=30, density=True, color='blue', alpha=0.7, label='gaji')\n",
    "plt.title('Distribusi gaji')\n",
    "plt.legend()\n",
    "plt.show()"
   ]
  },
  {
   "cell_type": "code",
   "execution_count": null,
   "metadata": {
    "colab": {
     "base_uri": "https://localhost:8080/",
     "height": 512
    },
    "id": "Wzl3Knp25FjV",
    "outputId": "e1fcdcff-2e31-40eb-d12b-b5967bec6660"
   },
   "outputs": [
    {
     "data": {
      "image/png": "[encoded data removed]",
      "text/plain": [
       "<Figure size 500x500 with 1 Axes>"
      ]
     },
     "metadata": {},
     "output_type": "display_data"
    }
   ],
   "source": [
    "# Distribusi Gaji\n",
    "\n",
    "import seaborn as sns\n",
    "\n",
    "sns.set(style=\"whitegrid\")\n",
    "plt.figure(figsize=(5, 5))\n",
    "sns.kdeplot(gaji, fill=True, color=\"skyblue\", label=\"KDE Plot\")\n",
    "\n",
    "mean_gaji = np.mean(gaji)\n",
    "median_gaji = np.median(gaji)\n",
    "mode_gaji = statistics.mode(gaji)\n",
    "\n",
    "plt.axvline(mean_gaji, color=\"red\", linestyle=\"--\", label=\"Mean\")\n",
    "plt.axvline(median_gaji, color=\"green\", linestyle=\"--\", label=\"Median\")\n",
    "plt.axvline(mode_gaji, color=\"purple\", linestyle=\"--\", label=\"Mode\")\n",
    "\n",
    "# Menambahkan legenda\n",
    "plt.legend()\n",
    "\n",
    "# Menampilkan plot\n",
    "plt.title(\"KDE Plot dengan Mean, Median, dan Mode\")\n",
    "plt.xlabel(\"Gaji\")\n",
    "plt.ylabel(\"Density\")\n",
    "plt.show()"
   ]
  },
  {
   "cell_type": "markdown",
   "metadata": {
    "id": "7CrJGHeH6M0_"
   },
   "source": [
    "Gaji memiliki distribusi bi-modal"
   ]
  },
  {
   "cell_type": "markdown",
   "metadata": {
    "id": "g99lJuIwGlC7"
   },
   "source": [
    "## Measures of Variability\n",
    "\n",
    "Pada setiap usia dan gaji, hitung\n",
    "1. Standar deviasi\n",
    "2. Varians\n",
    "3. Covariance\n",
    "4. Correlation\n",
    "\n",
    "Berikan interpetasinya dari setiap hasil perhitungan."
   ]
  },
  {
   "cell_type": "markdown",
   "metadata": {
    "id": "U714wHHp9zXg"
   },
   "source": [
    "### Gaji"
   ]
  },
  {
   "cell_type": "code",
   "execution_count": null,
   "metadata": {
    "colab": {
     "base_uri": "https://localhost:8080/"
    },
    "id": "XgSh0BWcGkk-",
    "outputId": "252dea23-c6ce-444a-e01e-855b5608bba4"
   },
   "outputs": [
    {
     "data": {
      "text/plain": [
       "1082948.08"
      ]
     },
     "execution_count": 194,
     "metadata": {},
     "output_type": "execute_result"
    }
   ],
   "source": [
    "std = np.std(gaji)\n",
    "round(std, 2)"
   ]
  },
  {
   "cell_type": "code",
   "execution_count": null,
   "metadata": {
    "colab": {
     "base_uri": "https://localhost:8080/"
    },
    "id": "dkiffur-6kPk",
    "outputId": "537847b7-ae71-4e9a-bf9a-a5c80dc982c2"
   },
   "outputs": [
    {
     "data": {
      "text/plain": [
       "1172776543209.88"
      ]
     },
     "execution_count": 195,
     "metadata": {},
     "output_type": "execute_result"
    }
   ],
   "source": [
    "var = np.var(gaji)\n",
    "round(var, 2)"
   ]
  },
  {
   "cell_type": "markdown",
   "metadata": {
    "id": "U7--1pRB-imL"
   },
   "source": [
    "Gaji sangat tersebar"
   ]
  },
  {
   "cell_type": "markdown",
   "metadata": {
    "id": "70qvNvqy91-O"
   },
   "source": [
    "### Usia"
   ]
  },
  {
   "cell_type": "code",
   "execution_count": null,
   "metadata": {
    "colab": {
     "base_uri": "https://localhost:8080/"
    },
    "id": "wLfpXaVd78gi",
    "outputId": "9f33b917-4cb9-45f8-b065-bec5be04ef5a"
   },
   "outputs": [
    {
     "data": {
      "text/plain": [
       "3.11"
      ]
     },
     "execution_count": 196,
     "metadata": {},
     "output_type": "execute_result"
    }
   ],
   "source": [
    "std = np.std(usia)\n",
    "round(std, 2)"
   ]
  },
  {
   "cell_type": "code",
   "execution_count": null,
   "metadata": {
    "colab": {
     "base_uri": "https://localhost:8080/"
    },
    "id": "x9N8ZBdK8eGr",
    "outputId": "f525b0e6-1788-4950-a9ac-03257eec7ac2"
   },
   "outputs": [
    {
     "data": {
      "text/plain": [
       "9.69"
      ]
     },
     "execution_count": 197,
     "metadata": {},
     "output_type": "execute_result"
    }
   ],
   "source": [
    "var = np.var(usia)\n",
    "round(var, 2)"
   ]
  },
  {
   "cell_type": "markdown",
   "metadata": {
    "id": "ft7tTpvX-oli"
   },
   "source": [
    "Usia tidak begitu tersebar"
   ]
  },
  {
   "cell_type": "markdown",
   "metadata": {
    "id": "hCQ6hMEV936t"
   },
   "source": [
    "### Kovarian"
   ]
  },
  {
   "cell_type": "code",
   "execution_count": null,
   "metadata": {
    "colab": {
     "base_uri": "https://localhost:8080/"
    },
    "id": "pVEHVhDR6nJa",
    "outputId": "590666c9-4237-4cd0-b0b8-d589115fd5a9"
   },
   "outputs": [
    {
     "data": {
      "text/plain": [
       "1735905.12"
      ]
     },
     "execution_count": 198,
     "metadata": {},
     "output_type": "execute_result"
    }
   ],
   "source": [
    "cov = np.cov(usia, gaji)\n",
    "round(cov[0, 1], 2)"
   ]
  },
  {
   "cell_type": "markdown",
   "metadata": {
    "id": "3Myo-Gyx-stG"
   },
   "source": [
    "Memiliki nilai positif, artinya semakin tinggi usia, semakin tinggi gaji. begitu pun sebaliknya"
   ]
  },
  {
   "cell_type": "markdown",
   "metadata": {
    "id": "US-KwxkD9579"
   },
   "source": [
    "### Korelasi"
   ]
  },
  {
   "cell_type": "code",
   "execution_count": null,
   "metadata": {
    "colab": {
     "base_uri": "https://localhost:8080/"
    },
    "id": "yBUKovKw7RFY",
    "outputId": "470b7658-407a-4e22-ac97-257960008b94"
   },
   "outputs": [
    {
     "data": {
      "text/plain": [
       "0.51"
      ]
     },
     "execution_count": 199,
     "metadata": {},
     "output_type": "execute_result"
    }
   ],
   "source": [
    "var = np.corrcoef(usia, gaji)\n",
    "round(var[0, 1], 2)"
   ]
  },
  {
   "cell_type": "markdown",
   "metadata": {
    "id": "2WrPFYH3-zbh"
   },
   "source": [
    "Memiliki nilai positif, artinya semakin tinggi usia, semakin tinggi gaji. begitu pun sebaliknya\n",
    "\n",
    "Memiliki nilai 0.5, artinya moderat, tidak begitu kuat, tidak begitu lemah."
   ]
  },
  {
   "cell_type": "markdown",
   "metadata": {
    "id": "0YYPohV2F6ug"
   },
   "source": [
    "## Measures of Position\n",
    "\n",
    "Pada setiap usia dan gaji, hitung\n",
    "1. IQR\n",
    "2. Lower dan Upper Bound\n",
    "\n",
    "Serta buat visualisasi menggunakan Box Plot. Analisis apakah data memiliki outlier atau tidak. Berikan interpetasinya."
   ]
  },
  {
   "cell_type": "markdown",
   "metadata": {
    "id": "tUW7zDRQ9fux"
   },
   "source": [
    "### Usia"
   ]
  },
  {
   "cell_type": "code",
   "execution_count": null,
   "metadata": {
    "id": "fn5jxNZCFyNu"
   },
   "outputs": [],
   "source": [
    "p25 = np.percentile(usia, 25)\n",
    "p75 = np.percentile(usia, 75)"
   ]
  },
  {
   "cell_type": "code",
   "execution_count": null,
   "metadata": {
    "colab": {
     "base_uri": "https://localhost:8080/"
    },
    "id": "dIviAz6h8yKo",
    "outputId": "3f0939bd-c1d9-4cc6-cd84-08d47dff8f12"
   },
   "outputs": [
    {
     "data": {
      "text/plain": [
       "4.0"
      ]
     },
     "execution_count": 201,
     "metadata": {},
     "output_type": "execute_result"
    }
   ],
   "source": [
    "iqr = p75 - p25\n",
    "iqr"
   ]
  },
  {
   "cell_type": "code",
   "execution_count": null,
   "metadata": {
    "colab": {
     "base_uri": "https://localhost:8080/"
    },
    "id": "14wn82i082J7",
    "outputId": "034ac0e3-7567-4279-b069-b94309bbbc29"
   },
   "outputs": [
    {
     "name": "stdout",
     "output_type": "stream",
     "text": [
      "20.0\n",
      "36.0\n"
     ]
    }
   ],
   "source": [
    "lower = p25 - 1.5*iqr\n",
    "upper = p75 + 1.5*iqr\n",
    "\n",
    "print(lower)\n",
    "print(upper)"
   ]
  },
  {
   "cell_type": "code",
   "execution_count": null,
   "metadata": {
    "colab": {
     "base_uri": "https://localhost:8080/"
    },
    "id": "5o6dC5gV9DXp",
    "outputId": "2f310977-5cdc-4e52-ec66-29c9f60ca2b9"
   },
   "outputs": [
    {
     "data": {
      "text/plain": [
       "[]"
      ]
     },
     "execution_count": 203,
     "metadata": {},
     "output_type": "execute_result"
    }
   ],
   "source": [
    "outlier = list(filter(lambda value: value < lower or value > upper, usia))\n",
    "outlier"
   ]
  },
  {
   "cell_type": "code",
   "execution_count": null,
   "metadata": {
    "colab": {
     "base_uri": "https://localhost:8080/",
     "height": 480
    },
    "id": "A-JZ9e_g9q3c",
    "outputId": "94cbba78-9528-4e8b-8b82-7c043717d636"
   },
   "outputs": [
    {
     "data": {
      "image/png": "[encoded data removed]",
      "text/plain": [
       "<Figure size 640x480 with 1 Axes>"
      ]
     },
     "metadata": {},
     "output_type": "display_data"
    }
   ],
   "source": [
    "plt.boxplot(usia)\n",
    "\n",
    "plt.xlabel('Data')\n",
    "plt.ylabel('Values')\n",
    "plt.title('Box Plot for x')\n",
    "\n",
    "plt.show()"
   ]
  },
  {
   "cell_type": "markdown",
   "metadata": {
    "id": "R90AlHDj_EXM"
   },
   "source": [
    "Usia tidak memiliki outlier"
   ]
  },
  {
   "cell_type": "markdown",
   "metadata": {
    "id": "7oJPsawP9i_Q"
   },
   "source": [
    "### Gaji"
   ]
  },
  {
   "cell_type": "code",
   "execution_count": null,
   "metadata": {
    "id": "OA0UOb7u9i_X"
   },
   "outputs": [],
   "source": [
    "p25 = np.percentile(gaji, 25)\n",
    "p75 = np.percentile(gaji, 75)"
   ]
  },
  {
   "cell_type": "code",
   "execution_count": null,
   "metadata": {
    "colab": {
     "base_uri": "https://localhost:8080/"
    },
    "id": "3x2g5gdR9i_X",
    "outputId": "d25609f5-5fbe-4b65-fc6c-51c9542f8445"
   },
   "outputs": [
    {
     "data": {
      "text/plain": [
       "1900000.0"
      ]
     },
     "execution_count": 206,
     "metadata": {},
     "output_type": "execute_result"
    }
   ],
   "source": [
    "iqr = p75 - p25\n",
    "iqr"
   ]
  },
  {
   "cell_type": "code",
   "execution_count": null,
   "metadata": {
    "colab": {
     "base_uri": "https://localhost:8080/"
    },
    "id": "T4AUbayt9i_X",
    "outputId": "45f77811-5403-46cb-e07c-2e6e7a920e06"
   },
   "outputs": [
    {
     "name": "stdout",
     "output_type": "stream",
     "text": [
      "2450000.0\n",
      "10050000.0\n"
     ]
    }
   ],
   "source": [
    "lower = p25 - 1.5*iqr\n",
    "upper = p75 + 1.5*iqr\n",
    "\n",
    "print(lower)\n",
    "print(upper)"
   ]
  },
  {
   "cell_type": "code",
   "execution_count": null,
   "metadata": {
    "colab": {
     "base_uri": "https://localhost:8080/"
    },
    "id": "1DFya3Ay9i_X",
    "outputId": "4a8a271f-6eca-4a75-e69a-d1ed8810c35c"
   },
   "outputs": [
    {
     "data": {
      "text/plain": [
       "[]"
      ]
     },
     "execution_count": 208,
     "metadata": {},
     "output_type": "execute_result"
    }
   ],
   "source": [
    "outlier = list(filter(lambda value: value < lower or value > upper, gaji))\n",
    "outlier"
   ]
  },
  {
   "cell_type": "code",
   "execution_count": null,
   "metadata": {
    "colab": {
     "base_uri": "https://localhost:8080/",
     "height": 480
    },
    "id": "-ibB_8kC9twk",
    "outputId": "10d0035a-7d58-4fc2-cf07-ba608c389bf1"
   },
   "outputs": [
    {
     "data": {
      "image/png": "[encoded data removed]",
      "text/plain": [
       "<Figure size 640x480 with 1 Axes>"
      ]
     },
     "metadata": {},
     "output_type": "display_data"
    }
   ],
   "source": [
    "plt.boxplot(gaji)\n",
    "\n",
    "plt.xlabel('Data')\n",
    "plt.ylabel('Values')\n",
    "plt.title('Box Plot for x')\n",
    "\n",
    "plt.show()"
   ]
  },
  {
   "cell_type": "markdown",
   "metadata": {
    "id": "xrf8AVIy_Hnt"
   },
   "source": [
    "Gaji tidak memiliki outlier"
   ]
  }
 ],
 "metadata": {
  "colab": {
   "provenance": []
  },
  "kernelspec": {
   "display_name": "Python 3 (ipykernel)",
   "language": "python",
   "name": "python3"
  },
  "language_info": {
   "codemirror_mode": {
    "name": "ipython",
    "version": 3
   },
   "file_extension": ".py",
   "mimetype": "text/x-python",
   "name": "python",
   "nbconvert_exporter": "python",
   "pygments_lexer": "ipython3",
   "version": "3.9.13"
  }
 },
 "nbformat": 4,
 "nbformat_minor": 1
}
