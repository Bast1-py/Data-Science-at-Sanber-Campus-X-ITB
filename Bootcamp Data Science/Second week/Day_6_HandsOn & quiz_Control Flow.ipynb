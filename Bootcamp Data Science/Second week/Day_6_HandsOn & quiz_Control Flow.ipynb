{
  "nbformat": 4,
  "nbformat_minor": 0,
  "metadata": {
    "colab": {
      "provenance": []
    },
    "kernelspec": {
      "name": "python3",
      "display_name": "Python 3"
    },
    "language_info": {
      "name": "python"
    }
  },
  "cells": [
    {
      "cell_type": "markdown",
      "source": [
        "## 1. Buat kalkulator penentu indeks nilai seperti yang telah dicontohkan\n",
        "Batas nilai dan indeks yang ditampilkan dibebaskan"
      ],
      "metadata": {
        "id": "55hPT-fCJEX7"
      }
    },
    {
      "cell_type": "code",
      "execution_count": null,
      "metadata": {
        "id": "dtWb5qiQI7Xx",
        "colab": {
          "base_uri": "https://localhost:8080/"
        },
        "outputId": "05b7e339-2e2d-4402-984c-23471d56165b"
      },
      "outputs": [
        {
          "name": "stdout",
          "output_type": "stream",
          "text": [
            "masukkan nilai1\n"
          ]
        }
      ],
      "source": [
        "Nilai = int(input(\"masukkan nilai\"))"
      ]
    },
    {
      "cell_type": "markdown",
      "source": [
        "## 2. Menyapa teman\n",
        "\n",
        "\n",
        "1.   Buat list yang berisi nama-nama teman\n",
        "2.   Cetak sapaan kepada semua teman (sapaan bebas)\n",
        "\n"
      ],
      "metadata": {
        "id": "F-ms6ZDuJrwI"
      }
    },
    {
      "cell_type": "code",
      "source": [],
      "metadata": {
        "id": "YSrEQVPWJ-k1"
      },
      "execution_count": null,
      "outputs": []
    },
    {
      "cell_type": "markdown",
      "source": [
        "## 3. Buat program tebak angka\n",
        "- Pengguna memasukkan angka tebakan\n",
        "- Jika angka belum tepat, suruh pengguna memasukkan angka ulang hingga angka yang ditebak benar\n",
        "- Bonus jika bisa menampilkan jumlah percobaan yang dilakukan"
      ],
      "metadata": {
        "id": "6G_STMhgKCmB"
      }
    },
    {
      "cell_type": "code",
      "source": [
        "tebakan = int(input(\"Masukkan nilai\"))\n",
        "angka = 56\n",
        "percobaan = 1\n",
        "while tebakan != angka:\n",
        "  print(\"Percobaan ke-\",str(percobaan + 1))\n",
        "  tebakan = int(input(\"Masukkan nilai\"))\n",
        "  percobaan+=1\n",
        "print(\"kamu bisa menebak dengan \", str(percobaan), \"percobaan\")\n"
      ],
      "metadata": {
        "id": "-s2wFRHEKWWJ",
        "colab": {
          "base_uri": "https://localhost:8080/"
        },
        "outputId": "83bfba6f-2aec-48cd-f6b4-3f6ad21eea92"
      },
      "execution_count": null,
      "outputs": [
        {
          "output_type": "stream",
          "name": "stdout",
          "text": [
            "Masukkan nilai5\n",
            "Percobaan ke- 2\n",
            "Masukkan nilai7\n",
            "Percobaan ke- 3\n",
            "Masukkan nilai8\n",
            "Percobaan ke- 4\n",
            "Masukkan nilai56\n",
            "kamu bisa menebak dengan  4 percobaan\n"
          ]
        }
      ]
    }
  ]
}