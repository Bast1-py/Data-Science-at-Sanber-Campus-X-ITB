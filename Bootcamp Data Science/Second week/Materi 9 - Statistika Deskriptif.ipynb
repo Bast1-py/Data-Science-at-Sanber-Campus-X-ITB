{
 "cells": [
  {
   "cell_type": "code",
   "execution_count": 71,
   "id": "c3b63666",
   "metadata": {},
   "outputs": [],
   "source": [
    "import math\n",
    "import statistics\n",
    "import numpy as np\n",
    "import scipy.stats"
   ]
  },
  {
   "cell_type": "code",
   "execution_count": 170,
   "id": "38dc0a69",
   "metadata": {},
   "outputs": [
    {
     "data": {
      "text/plain": [
       "[85.0, 2, 6.5, 5, 28.0]"
      ]
     },
     "execution_count": 170,
     "metadata": {},
     "output_type": "execute_result"
    }
   ],
   "source": [
    "# buat suatu data berupa python list yang berisi data numerik secara random\n",
    "\n",
    "x = [85.0, 2, 6.5, 5, 28.0]\n",
    "x_dgn_nan = [8.0, 1, 2.5, math.nan, 4, 28.0]\n",
    "x"
   ]
  },
  {
   "cell_type": "code",
   "execution_count": 171,
   "id": "fb5b906d",
   "metadata": {},
   "outputs": [
    {
     "data": {
      "text/plain": [
       "[8.0, 1, 2.5, nan, 4, 28.0]"
      ]
     },
     "execution_count": 171,
     "metadata": {},
     "output_type": "execute_result"
    }
   ],
   "source": [
    "[17.0, 1, 7.5, 4, 28.0]\n",
    "x_dgn_nan"
   ]
  },
  {
   "cell_type": "code",
   "execution_count": 74,
   "id": "37f4c67f",
   "metadata": {},
   "outputs": [
    {
     "data": {
      "text/plain": [
       "array([ 8. ,  1. ,  2.5,  4. , 28. ])"
      ]
     },
     "execution_count": 74,
     "metadata": {},
     "output_type": "execute_result"
    }
   ],
   "source": [
    "y, y_dgn_nan = np.array(x), np.array(x_dgn_nan)\n",
    "y"
   ]
  },
  {
   "cell_type": "code",
   "execution_count": 75,
   "id": "7a857a9a",
   "metadata": {},
   "outputs": [
    {
     "data": {
      "text/plain": [
       "array([ 8. ,  1. ,  2.5,  nan,  4. , 28. ])"
      ]
     },
     "execution_count": 75,
     "metadata": {},
     "output_type": "execute_result"
    }
   ],
   "source": [
    "y_dgn_nan"
   ]
  },
  {
   "cell_type": "code",
   "execution_count": 76,
   "id": "45003833",
   "metadata": {},
   "outputs": [
    {
     "data": {
      "text/plain": [
       "8.7"
      ]
     },
     "execution_count": 76,
     "metadata": {},
     "output_type": "execute_result"
    }
   ],
   "source": [
    "# Menghitung Ukuran Pemusatan Data\n",
    "mean_ = sum(x) / len(x)\n",
    "mean_"
   ]
  },
  {
   "cell_type": "code",
   "execution_count": 77,
   "id": "0315f720",
   "metadata": {},
   "outputs": [
    {
     "data": {
      "text/plain": [
       "8.7"
      ]
     },
     "execution_count": 77,
     "metadata": {},
     "output_type": "execute_result"
    }
   ],
   "source": [
    "mean_ = statistics.mean(x)\n",
    "mean_"
   ]
  },
  {
   "cell_type": "code",
   "execution_count": 78,
   "id": "c5d32113",
   "metadata": {},
   "outputs": [
    {
     "data": {
      "text/plain": [
       "8.7"
      ]
     },
     "execution_count": 78,
     "metadata": {},
     "output_type": "execute_result"
    }
   ],
   "source": [
    "mean_ = statistics.fmean(x)\n",
    "mean_"
   ]
  },
  {
   "cell_type": "markdown",
   "id": "e4b8d3a3",
   "metadata": {},
   "source": [
    "Fungsi fmean() itusebagai alternatif untuk perhitungan yang lebih cepat dan selalu menghasilkan nilai float. Namun, fungsi mean() dan fmean() akan menghasilkan nilai nan jika di dalam variabel yang dihitungnya berisi nilai nan:"
   ]
  },
  {
   "cell_type": "code",
   "execution_count": 79,
   "id": "6e3ac415",
   "metadata": {},
   "outputs": [
    {
     "data": {
      "text/plain": [
       "nan"
      ]
     },
     "execution_count": 79,
     "metadata": {},
     "output_type": "execute_result"
    }
   ],
   "source": [
    "mean_ = statistics.mean(x_dgn_nan)\n",
    "mean_\n"
   ]
  },
  {
   "cell_type": "code",
   "execution_count": 80,
   "id": "e2950024",
   "metadata": {},
   "outputs": [
    {
     "data": {
      "text/plain": [
       "nan"
      ]
     },
     "execution_count": 80,
     "metadata": {},
     "output_type": "execute_result"
    }
   ],
   "source": [
    "mean_ = statistics.fmean(x_dgn_nan)\n",
    "mean_"
   ]
  },
  {
   "cell_type": "markdown",
   "id": "eb750ada",
   "metadata": {},
   "source": [
    "Jika kita ingin mengabaikan nilai nan yang ada pada variabel tersebut maka dapat menggunakan np.nanmean():"
   ]
  },
  {
   "cell_type": "code",
   "execution_count": 81,
   "id": "ac296130",
   "metadata": {},
   "outputs": [
    {
     "data": {
      "text/plain": [
       "8.7"
      ]
     },
     "execution_count": 81,
     "metadata": {},
     "output_type": "execute_result"
    }
   ],
   "source": [
    "np.nanmean(y_dgn_nan)"
   ]
  },
  {
   "cell_type": "markdown",
   "id": "600829ab",
   "metadata": {},
   "source": [
    "Weighted Mean atau rataan berbobot merupakan generalisasi dari rataan aritmatika sehingga kita dapat menentukan kontribusi relatif (bobot) dari setiap data point untuk penghitungan hasilnya. Kita dapat menghitung weighted mean menggunakan python dengan menggabungkan antara sum() dengan range() atau zip() seperti pada contoh berikut:"
   ]
  },
  {
   "cell_type": "code",
   "execution_count": 82,
   "id": "5ac0f613",
   "metadata": {},
   "outputs": [
    {
     "data": {
      "text/plain": [
       "6.95"
      ]
     },
     "execution_count": 82,
     "metadata": {},
     "output_type": "execute_result"
    }
   ],
   "source": [
    "x = [8.0, 1, 2.5, 4, 28.0]\n",
    "w = [0.1, 0.2, 0.3, 0.25, 0.15]\n",
    "\n",
    "wmean = sum(w[i] * x[i] for i in range(len(x))) / sum(w)\n",
    "wmean"
   ]
  },
  {
   "cell_type": "code",
   "execution_count": 83,
   "id": "44b5d42b",
   "metadata": {},
   "outputs": [
    {
     "data": {
      "text/plain": [
       "6.95"
      ]
     },
     "execution_count": 83,
     "metadata": {},
     "output_type": "execute_result"
    }
   ],
   "source": [
    "wmean = sum(x_ * w_ for (x_, w_) in zip(x, w)) / sum(w)\n",
    "wmean"
   ]
  },
  {
   "cell_type": "markdown",
   "id": "471ff5c3",
   "metadata": {},
   "source": [
    "Tetapi jika kita memiliki dataset yang cukup besar maka NumPy memberikan soolusi yang lebih baik untuk penghitungan weighted mean ini menggunakan np.average():"
   ]
  },
  {
   "cell_type": "code",
   "execution_count": 84,
   "id": "d9908389",
   "metadata": {},
   "outputs": [
    {
     "data": {
      "text/plain": [
       "6.95"
      ]
     },
     "execution_count": 84,
     "metadata": {},
     "output_type": "execute_result"
    }
   ],
   "source": [
    "y, w = np.array(x), np.array(w)\n",
    "wmean = np.average(y, weights=w)\n",
    "wmean"
   ]
  },
  {
   "cell_type": "markdown",
   "id": "9a6a37d7",
   "metadata": {},
   "source": [
    "Hati-hati ketika melakukan perhitungan untuk data berisi nilai nan."
   ]
  },
  {
   "cell_type": "code",
   "execution_count": 85,
   "id": "6dd306f2",
   "metadata": {},
   "outputs": [
    {
     "data": {
      "text/plain": [
       "nan"
      ]
     },
     "execution_count": 85,
     "metadata": {},
     "output_type": "execute_result"
    }
   ],
   "source": [
    "w = np.array([0.1, 0.2, 0.3, 0.0, 0.2, 0.1])\n",
    "np.average(y_dgn_nan, weights=w)"
   ]
  },
  {
   "cell_type": "markdown",
   "id": "a7f45d66",
   "metadata": {},
   "source": [
    "Harmonic Mean atau rataan harmonis "
   ]
  },
  {
   "cell_type": "code",
   "execution_count": 86,
   "id": "7ea309b8",
   "metadata": {},
   "outputs": [
    {
     "data": {
      "text/plain": [
       "2.7613412228796843"
      ]
     },
     "execution_count": 86,
     "metadata": {},
     "output_type": "execute_result"
    }
   ],
   "source": [
    "hmean = len(x) / sum(1 / item for item in x)\n",
    "hmean"
   ]
  },
  {
   "cell_type": "code",
   "execution_count": 87,
   "id": "71bae9b5",
   "metadata": {},
   "outputs": [
    {
     "data": {
      "text/plain": [
       "2.7613412228796843"
      ]
     },
     "execution_count": 87,
     "metadata": {},
     "output_type": "execute_result"
    }
   ],
   "source": [
    "hmean = statistics.harmonic_mean(x)\n",
    "hmean"
   ]
  },
  {
   "cell_type": "code",
   "execution_count": 88,
   "id": "1ed4b799",
   "metadata": {},
   "outputs": [
    {
     "data": {
      "text/plain": [
       "2.7613412228796843"
      ]
     },
     "execution_count": 88,
     "metadata": {},
     "output_type": "execute_result"
    }
   ],
   "source": [
    "scipy.stats.hmean(y)"
   ]
  },
  {
   "cell_type": "markdown",
   "id": "228243e6",
   "metadata": {},
   "source": [
    "Geometric Mean atau rataan geometris merupakan akar pangkat -n dari seluruh hasil perkalian elemen 𝑥ᵢ"
   ]
  },
  {
   "cell_type": "code",
   "execution_count": 89,
   "id": "9be671a8",
   "metadata": {},
   "outputs": [
    {
     "data": {
      "text/plain": [
       "4.677885674856041"
      ]
     },
     "execution_count": 89,
     "metadata": {},
     "output_type": "execute_result"
    }
   ],
   "source": [
    "gmean = 1\n",
    "for item in x:\n",
    "    gmean *= item\n",
    "gmean **= 1 / len(x)\n",
    "gmean"
   ]
  },
  {
   "cell_type": "code",
   "execution_count": 90,
   "id": "8d5af246",
   "metadata": {},
   "outputs": [
    {
     "data": {
      "text/plain": [
       "4.67788567485604"
      ]
     },
     "execution_count": 90,
     "metadata": {},
     "output_type": "execute_result"
    }
   ],
   "source": [
    "gmean = statistics.geometric_mean(x)\n",
    "gmean"
   ]
  },
  {
   "cell_type": "code",
   "execution_count": 91,
   "id": "57ccd2a2",
   "metadata": {},
   "outputs": [
    {
     "data": {
      "text/plain": [
       "4.67788567485604"
      ]
     },
     "execution_count": 91,
     "metadata": {},
     "output_type": "execute_result"
    }
   ],
   "source": [
    "scipy.stats.gmean(y)"
   ]
  },
  {
   "cell_type": "markdown",
   "id": "1917baa8",
   "metadata": {},
   "source": [
    "Median suatu sampel merupakan nilai tengah dari dataset yang telah diurutkan. Dataset tersebut dapat diurutkan secara naik atau turun. Jika jumlah elemen n dari dataset adalah ganjil maka median adalah elemen pada posisi 0.5(n+1). Jika n genap, maka mediannya adalah rataan aritmatika dari dua nilai tengah, yaitu yang berada pada posisi 0.5n dan 0.5n+1. Perbedaan utama antara sifat mean dan median dari suatu dataset adalah hubungannya dengan outlier pada dataset tersebut. Nilai mean sangat dipengaruhi oleh outlier sedangkan nilai median hampir tidak dipengaruhi atau bahkan tidak dipengaruhi sama sekali. Perhatikan gambar berikut:"
   ]
  },
  {
   "cell_type": "code",
   "execution_count": 92,
   "id": "d806dd38",
   "metadata": {},
   "outputs": [
    {
     "data": {
      "text/plain": [
       "4"
      ]
     },
     "execution_count": 92,
     "metadata": {},
     "output_type": "execute_result"
    }
   ],
   "source": [
    "n = len(x)\n",
    "\n",
    "if n % 2:\n",
    "    median_ = sorted(x)[round(0.5*(n-1))]\n",
    "else:\n",
    "    x_ord, index = sorted(x), round(0.5 * n)\n",
    "    median_ = 0.5 * (x_ord[index-1] + x_ord[index])\n",
    "median_"
   ]
  },
  {
   "cell_type": "code",
   "execution_count": 93,
   "id": "054a18d4",
   "metadata": {},
   "outputs": [
    {
     "data": {
      "text/plain": [
       "4"
      ]
     },
     "execution_count": 93,
     "metadata": {},
     "output_type": "execute_result"
    }
   ],
   "source": [
    "median_ = statistics.median(x)\n",
    "median_"
   ]
  },
  {
   "cell_type": "code",
   "execution_count": 94,
   "id": "040d41ac",
   "metadata": {},
   "outputs": [
    {
     "data": {
      "text/plain": [
       "4.0"
      ]
     },
     "execution_count": 94,
     "metadata": {},
     "output_type": "execute_result"
    }
   ],
   "source": [
    "median_ = np.median(y)\n",
    "median_"
   ]
  },
  {
   "cell_type": "markdown",
   "id": "847148eb",
   "metadata": {},
   "source": [
    "Mode atau modus dari suatu sampel dataset adalah nilai yang paling banyak muncul dalam dataset tersebut. Dengan python kita dapat menghasilkan nilai modus suatu dataset sebagai berikut:"
   ]
  },
  {
   "cell_type": "code",
   "execution_count": 95,
   "id": "ce3345b4",
   "metadata": {},
   "outputs": [
    {
     "data": {
      "text/plain": [
       "2"
      ]
     },
     "execution_count": 95,
     "metadata": {},
     "output_type": "execute_result"
    }
   ],
   "source": [
    "u = [2, 3, 2, 8, 12]\n",
    "mode_ = max((u.count(item), item) for item in set(u))[1]\n",
    "mode_"
   ]
  },
  {
   "cell_type": "code",
   "execution_count": 96,
   "id": "0c22171a",
   "metadata": {},
   "outputs": [
    {
     "data": {
      "text/plain": [
       "2"
      ]
     },
     "execution_count": 96,
     "metadata": {},
     "output_type": "execute_result"
    }
   ],
   "source": [
    "mode_ = statistics.mode(u)\n",
    "mode_"
   ]
  },
  {
   "cell_type": "code",
   "execution_count": 97,
   "id": "14bede02",
   "metadata": {},
   "outputs": [
    {
     "data": {
      "text/plain": [
       "[2]"
      ]
     },
     "execution_count": 97,
     "metadata": {},
     "output_type": "execute_result"
    }
   ],
   "source": [
    "mode_ = statistics.multimode(u)\n",
    "mode_"
   ]
  },
  {
   "cell_type": "code",
   "execution_count": 98,
   "id": "2bf8da12",
   "metadata": {},
   "outputs": [
    {
     "data": {
      "text/plain": [
       "[12, 15]"
      ]
     },
     "execution_count": 98,
     "metadata": {},
     "output_type": "execute_result"
    }
   ],
   "source": [
    "v = [12, 15, 12, 15, 21, 15, 12]\n",
    "statistics.mode(v)  # StatisticsError\n",
    "statistics.multimode(v)"
   ]
  },
  {
   "cell_type": "code",
   "execution_count": 99,
   "id": "4f38d785",
   "metadata": {},
   "outputs": [
    {
     "name": "stderr",
     "output_type": "stream",
     "text": [
      "C:\\Users\\Bastian Torus\\AppData\\Local\\Temp\\ipykernel_15128\\3243853426.py:2: FutureWarning: Unlike other reduction functions (e.g. `skew`, `kurtosis`), the default behavior of `mode` typically preserves the axis it acts along. In SciPy 1.11.0, this behavior will change: the default value of `keepdims` will become False, the `axis` over which the statistic is taken will be eliminated, and the value None will no longer be accepted. Set `keepdims` to True or False to avoid this warning.\n",
      "  mode_ = scipy.stats.mode(u)\n"
     ]
    },
    {
     "data": {
      "text/plain": [
       "ModeResult(mode=array([2]), count=array([2]))"
      ]
     },
     "execution_count": 99,
     "metadata": {},
     "output_type": "execute_result"
    }
   ],
   "source": [
    "u, v = np.array(u), np.array(v)\n",
    "mode_ = scipy.stats.mode(u)\n",
    "mode_"
   ]
  },
  {
   "cell_type": "code",
   "execution_count": 100,
   "id": "82763002",
   "metadata": {},
   "outputs": [
    {
     "name": "stderr",
     "output_type": "stream",
     "text": [
      "C:\\Users\\Bastian Torus\\AppData\\Local\\Temp\\ipykernel_15128\\4273125489.py:1: FutureWarning: Unlike other reduction functions (e.g. `skew`, `kurtosis`), the default behavior of `mode` typically preserves the axis it acts along. In SciPy 1.11.0, this behavior will change: the default value of `keepdims` will become False, the `axis` over which the statistic is taken will be eliminated, and the value None will no longer be accepted. Set `keepdims` to True or False to avoid this warning.\n",
      "  mode_ = scipy.stats.mode(v)\n"
     ]
    },
    {
     "data": {
      "text/plain": [
       "ModeResult(mode=array([12]), count=array([3]))"
      ]
     },
     "execution_count": 100,
     "metadata": {},
     "output_type": "execute_result"
    }
   ],
   "source": [
    "mode_ = scipy.stats.mode(v)\n",
    "mode_"
   ]
  },
  {
   "cell_type": "markdown",
   "id": "e552a8e0",
   "metadata": {},
   "source": [
    "Menghitung Ukuran Sebaran Data. Ukuran pemusatan saja tidak cukup untuk menjelaskan suatu data, kita juga perlu menghitung ukuran sebaran data. Beberapa ukuran sebaran data yang perlu diketahui yaitu:\n",
    "\n",
    "Variance atau variansi. Menghitung variansi menggunakan python dapat dilakukan dengan cara berikut:"
   ]
  },
  {
   "cell_type": "code",
   "execution_count": 101,
   "id": "114ec732",
   "metadata": {},
   "outputs": [
    {
     "data": {
      "text/plain": [
       "123.19999999999999"
      ]
     },
     "execution_count": 101,
     "metadata": {},
     "output_type": "execute_result"
    }
   ],
   "source": [
    "n = len(x)\n",
    "mean_ = sum(x) / n\n",
    "var_ = sum((item - mean_)**2 for item in x) / (n - 1)\n",
    "var_"
   ]
  },
  {
   "cell_type": "code",
   "execution_count": 102,
   "id": "4d13ae0e",
   "metadata": {},
   "outputs": [
    {
     "data": {
      "text/plain": [
       "123.2"
      ]
     },
     "execution_count": 102,
     "metadata": {},
     "output_type": "execute_result"
    }
   ],
   "source": [
    "var_ = statistics.variance(x)\n",
    "var_"
   ]
  },
  {
   "cell_type": "code",
   "execution_count": 103,
   "id": "8fb1c7f9",
   "metadata": {},
   "outputs": [
    {
     "data": {
      "text/plain": [
       "123.19999999999999"
      ]
     },
     "execution_count": 103,
     "metadata": {},
     "output_type": "execute_result"
    }
   ],
   "source": [
    "var_ = np.var(y, ddof=1)\n",
    "var_"
   ]
  },
  {
   "cell_type": "code",
   "execution_count": 104,
   "id": "ebb19b4f",
   "metadata": {},
   "outputs": [
    {
     "data": {
      "text/plain": [
       "123.19999999999999"
      ]
     },
     "execution_count": 104,
     "metadata": {},
     "output_type": "execute_result"
    }
   ],
   "source": [
    "var_ = y.var(ddof=1)\n",
    "var_"
   ]
  },
  {
   "cell_type": "markdown",
   "id": "220673aa",
   "metadata": {},
   "source": [
    "Penting untuk mendefinisikan nilai ddof=1. Parameter ini digunakan agar perhitungan nilai s2 sesuai yaitu menggunakan n-1 sebagai pembagi bukan n saja. Untuk dataset yang memiliki nilai nan, kita dapat mengabaikan nilai nan tersebut dengan np.nanvar():"
   ]
  },
  {
   "cell_type": "code",
   "execution_count": 105,
   "id": "61cdcf1b",
   "metadata": {},
   "outputs": [
    {
     "data": {
      "text/plain": [
       "123.19999999999999"
      ]
     },
     "execution_count": 105,
     "metadata": {},
     "output_type": "execute_result"
    }
   ],
   "source": [
    "np.nanvar(y_dgn_nan, ddof=1)"
   ]
  },
  {
   "cell_type": "markdown",
   "id": "efeb0bee",
   "metadata": {},
   "source": [
    "Standar Deviasi atau simpangan baku. Menghitung standar deviasi menggunakan python dapat dilakukan dengan cara:"
   ]
  },
  {
   "cell_type": "code",
   "execution_count": 106,
   "id": "6cbfac85",
   "metadata": {},
   "outputs": [
    {
     "data": {
      "text/plain": [
       "11.099549540409285"
      ]
     },
     "execution_count": 106,
     "metadata": {},
     "output_type": "execute_result"
    }
   ],
   "source": [
    "std_ = var_ ** 0.5\n",
    "std_"
   ]
  },
  {
   "cell_type": "code",
   "execution_count": 107,
   "id": "fefc58c1",
   "metadata": {},
   "outputs": [
    {
     "data": {
      "text/plain": [
       "11.099549540409287"
      ]
     },
     "execution_count": 107,
     "metadata": {},
     "output_type": "execute_result"
    }
   ],
   "source": [
    "std_ = statistics.stdev(x)\n",
    "std_"
   ]
  },
  {
   "cell_type": "code",
   "execution_count": 108,
   "id": "d7a80b23",
   "metadata": {},
   "outputs": [
    {
     "data": {
      "text/plain": [
       "11.099549540409285"
      ]
     },
     "execution_count": 108,
     "metadata": {},
     "output_type": "execute_result"
    }
   ],
   "source": [
    "np.std(y, ddof=1)"
   ]
  },
  {
   "cell_type": "code",
   "execution_count": 109,
   "id": "11d894b2",
   "metadata": {},
   "outputs": [
    {
     "data": {
      "text/plain": [
       "11.099549540409285"
      ]
     },
     "execution_count": 109,
     "metadata": {},
     "output_type": "execute_result"
    }
   ],
   "source": [
    "y.std(ddof=1)"
   ]
  },
  {
   "cell_type": "code",
   "execution_count": 110,
   "id": "9666cba6",
   "metadata": {},
   "outputs": [
    {
     "data": {
      "text/plain": [
       "nan"
      ]
     },
     "execution_count": 110,
     "metadata": {},
     "output_type": "execute_result"
    }
   ],
   "source": [
    "np.std(y_dgn_nan, ddof=1)"
   ]
  },
  {
   "cell_type": "code",
   "execution_count": 111,
   "id": "eac5efb1",
   "metadata": {},
   "outputs": [
    {
     "data": {
      "text/plain": [
       "nan"
      ]
     },
     "execution_count": 111,
     "metadata": {},
     "output_type": "execute_result"
    }
   ],
   "source": [
    "y_dgn_nan.std(ddof=1)"
   ]
  },
  {
   "cell_type": "code",
   "execution_count": 112,
   "id": "3109ecfd",
   "metadata": {},
   "outputs": [
    {
     "data": {
      "text/plain": [
       "11.099549540409285"
      ]
     },
     "execution_count": 112,
     "metadata": {},
     "output_type": "execute_result"
    }
   ],
   "source": [
    "np.nanstd(y_dgn_nan, ddof=1)"
   ]
  },
  {
   "cell_type": "markdown",
   "id": "4fcc3a8b",
   "metadata": {},
   "source": [
    "Skewness, nilai dari skewness dapat dihasilkan menggunakan python dengan cara:"
   ]
  },
  {
   "cell_type": "code",
   "execution_count": 113,
   "id": "c6d76dba",
   "metadata": {},
   "outputs": [
    {
     "data": {
      "text/plain": [
       "1.9470432273905929"
      ]
     },
     "execution_count": 113,
     "metadata": {},
     "output_type": "execute_result"
    }
   ],
   "source": [
    "x = [8.0, 1, 2.5, 4, 28.0]\n",
    "n = len(x)\n",
    "mean_ = sum(x) / n\n",
    "var_ = sum((item - mean_)**2 for item in x) / (n - 1)\n",
    "std_ = var_ ** 0.5\n",
    "skew_ = (sum((item - mean_)**3 for item in x)\n",
    "             * n / ((n - 1) * (n - 2) * std_**3))\n",
    "skew_"
   ]
  },
  {
   "cell_type": "code",
   "execution_count": 114,
   "id": "b479904a",
   "metadata": {},
   "outputs": [
    {
     "data": {
      "text/plain": [
       "1.9470432273905927"
      ]
     },
     "execution_count": 114,
     "metadata": {},
     "output_type": "execute_result"
    }
   ],
   "source": [
    "y, y_dgn_nan = np.array(x), np.array(x_dgn_nan)\n",
    "scipy.stats.skew(y, bias=False)"
   ]
  },
  {
   "cell_type": "code",
   "execution_count": 115,
   "id": "1a2c6d4d",
   "metadata": {},
   "outputs": [
    {
     "data": {
      "text/plain": [
       "nan"
      ]
     },
     "execution_count": 115,
     "metadata": {},
     "output_type": "execute_result"
    }
   ],
   "source": [
    "scipy.stats.skew(y_dgn_nan, bias=False)"
   ]
  },
  {
   "cell_type": "markdown",
   "id": "e8225c58",
   "metadata": {},
   "source": [
    "Percentiles ke-p dari sekumpulan data adalah nilai dimana p% dari data tersebut berada dibawahnya. Setiap data memiliki tiga nilai kuartil, yang membagi data menjadi 4 bagian sama besar."
   ]
  },
  {
   "cell_type": "code",
   "execution_count": 116,
   "id": "6483c7ad",
   "metadata": {},
   "outputs": [
    {
     "data": {
      "text/plain": [
       "-3.44"
      ]
     },
     "execution_count": 116,
     "metadata": {},
     "output_type": "execute_result"
    }
   ],
   "source": [
    "x = [-5.0, -1.1, 0.1, 2.0, 8.0, 12.8, 21.0, 25.8, 41.0]\n",
    "y = np.array(x)\n",
    "np.percentile(y, 5)"
   ]
  },
  {
   "cell_type": "code",
   "execution_count": 117,
   "id": "959190b5",
   "metadata": {},
   "outputs": [
    {
     "data": {
      "text/plain": [
       "34.919999999999995"
      ]
     },
     "execution_count": 117,
     "metadata": {},
     "output_type": "execute_result"
    }
   ],
   "source": [
    "np.percentile(y, 95)"
   ]
  },
  {
   "cell_type": "markdown",
   "id": "f60fb527",
   "metadata": {},
   "source": [
    "Jika kita ingin mengabaikan nilai nan pada data maka digunakan np.nanpercentile():"
   ]
  },
  {
   "cell_type": "code",
   "execution_count": 118,
   "id": "ffb06969",
   "metadata": {},
   "outputs": [
    {
     "data": {
      "text/plain": [
       "array([-5. , -1.1,  nan,  0.1,  2. ,  8. , 12.8, 21. , 25.8, 41. ])"
      ]
     },
     "execution_count": 118,
     "metadata": {},
     "output_type": "execute_result"
    }
   ],
   "source": [
    "y_dgn_nan = np.insert(y, 2, np.nan)\n",
    "y_dgn_nan"
   ]
  },
  {
   "cell_type": "code",
   "execution_count": 119,
   "id": "f98f3b1d",
   "metadata": {},
   "outputs": [
    {
     "data": {
      "text/plain": [
       "array([ 0.1,  8. , 21. ])"
      ]
     },
     "execution_count": 119,
     "metadata": {},
     "output_type": "execute_result"
    }
   ],
   "source": [
    "np.nanpercentile(y_dgn_nan, [25, 50, 75])"
   ]
  },
  {
   "cell_type": "markdown",
   "id": "9fef843a",
   "metadata": {},
   "source": [
    "Ranges dari data adalah selisih antara elemen maksimum dan elemen minimum pada suatu dataset. Kita dapat menghitungnya dengan fungsi np.ptp():"
   ]
  },
  {
   "cell_type": "code",
   "execution_count": 120,
   "id": "110952ae",
   "metadata": {},
   "outputs": [
    {
     "data": {
      "text/plain": [
       "46.0"
      ]
     },
     "execution_count": 120,
     "metadata": {},
     "output_type": "execute_result"
    }
   ],
   "source": [
    "np.ptp(y)"
   ]
  },
  {
   "cell_type": "code",
   "execution_count": 121,
   "id": "d845f83d",
   "metadata": {},
   "outputs": [
    {
     "data": {
      "text/plain": [
       "nan"
      ]
     },
     "execution_count": 121,
     "metadata": {},
     "output_type": "execute_result"
    }
   ],
   "source": [
    "np.ptp(y_dgn_nan)"
   ]
  },
  {
   "cell_type": "code",
   "execution_count": 122,
   "id": "c0645be3",
   "metadata": {},
   "outputs": [
    {
     "data": {
      "text/plain": [
       "46.0"
      ]
     },
     "execution_count": 122,
     "metadata": {},
     "output_type": "execute_result"
    }
   ],
   "source": [
    "np.amax(y) - np.amin(y)"
   ]
  },
  {
   "cell_type": "code",
   "execution_count": 123,
   "id": "a85d44db",
   "metadata": {},
   "outputs": [
    {
     "data": {
      "text/plain": [
       "46.0"
      ]
     },
     "execution_count": 123,
     "metadata": {},
     "output_type": "execute_result"
    }
   ],
   "source": [
    "np.nanmax(y_dgn_nan) - np.nanmin(y_dgn_nan)"
   ]
  },
  {
   "cell_type": "code",
   "execution_count": 124,
   "id": "ff6d03ef",
   "metadata": {},
   "outputs": [
    {
     "data": {
      "text/plain": [
       "46.0"
      ]
     },
     "execution_count": 124,
     "metadata": {},
     "output_type": "execute_result"
    }
   ],
   "source": [
    "y.max() - y.min()"
   ]
  },
  {
   "cell_type": "markdown",
   "id": "95801598",
   "metadata": {},
   "source": [
    "Menghitung Korelasi Antara Sepasang Data. Korelasi atau hubungan antara sepasang data dapat dilihat dengan menghitung:\n",
    "\n",
    "Covariance, dengan menggunakan fungsi dari python kovariansi dapat dihitung sebagai berikut:"
   ]
  },
  {
   "cell_type": "code",
   "execution_count": 125,
   "id": "a96217cb",
   "metadata": {},
   "outputs": [
    {
     "data": {
      "text/plain": [
       "228.75194444444446"
      ]
     },
     "execution_count": 125,
     "metadata": {},
     "output_type": "execute_result"
    }
   ],
   "source": [
    "n = len(x)\n",
    "mean_x, mean_y = sum(x) / n, sum(y) / n\n",
    "cov_xy = (sum((x[k] - mean_x) * (y[k] - mean_y) for k in range(n))\n",
    "        / (n - 1))\n",
    "cov_xy"
   ]
  },
  {
   "cell_type": "markdown",
   "id": "dd22d8b7",
   "metadata": {},
   "source": [
    "Dengan menggunakan np.cov() dari NumPy kita akan mendapatkan matriks kovariansi:"
   ]
  },
  {
   "cell_type": "code",
   "execution_count": 126,
   "id": "7931e265",
   "metadata": {},
   "outputs": [
    {
     "data": {
      "text/plain": [
       "array([[228.75194444, 228.75194444],\n",
       "       [228.75194444, 228.75194444]])"
      ]
     },
     "execution_count": 126,
     "metadata": {},
     "output_type": "execute_result"
    }
   ],
   "source": [
    "cov_matrix = np.cov(x, y)\n",
    "cov_matrix"
   ]
  },
  {
   "cell_type": "code",
   "execution_count": 127,
   "id": "351aebdf",
   "metadata": {},
   "outputs": [
    {
     "data": {
      "text/plain": [
       "1.0"
      ]
     },
     "execution_count": 127,
     "metadata": {},
     "output_type": "execute_result"
    }
   ],
   "source": [
    "var_x = sum((item - mean_x)**2 for item in x) / (n - 1)\n",
    "var_y = sum((item - mean_y)**2 for item in y) / (n - 1)\n",
    "std_x, std_y = var_x ** 0.5, var_y ** 0.5\n",
    "r = cov_xy / (std_x * std_y)\n",
    "r"
   ]
  },
  {
   "cell_type": "markdown",
   "id": "6c9c9f8d",
   "metadata": {},
   "source": [
    "# Membuat array NumPy"
   ]
  },
  {
   "cell_type": "code",
   "execution_count": 135,
   "id": "e364bff1",
   "metadata": {},
   "outputs": [],
   "source": [
    "import numpy as np\n",
    "my_list = [1, 2, 3, 4, 5]\n",
    "my_array = np.array(my_list)"
   ]
  },
  {
   "cell_type": "markdown",
   "id": "67c4229e",
   "metadata": {},
   "source": [
    "* np.zeros(): Membuat array dengan elemen nol.\n",
    "* np.ones(): Membuat array dengan elemen satu.\n",
    "* np.arange(): Membuat array dengan rentang nilai.\n",
    "* np.linspace(): Membuat array dengan sejumlah nilai terdistribusi linier.\n",
    "* np.random.rand(): Membuat array dengan elemen acak.\n",
    "* np.zeros_like(): Membuat array nol dengan bentuk yang sama seperti array yang ada.\n",
    "* np.ones_like(): Membuat array satu dengan bentuk yang sama seperti array yang ada.\n",
    "* np.copy(): Membuat salinan array.\n",
    "* shape: Atribut yang mengembalikan tupel yang menyatakan bentuk (jumlah baris, jumlah kolom, dll.) dari array.\n",
    "* size: Atribut yang mengembalikan jumlah elemen dalam array.\n",
    "* dtype: Atribut yang menunjukkan tipe data elemen dalam array.\n",
    "* ndim: Atribut yang menunjukkan jumlah dimensi dalam array.\n",
    "* Indexing: Anda dapat mengakses elemen array dengan menggunakan indeks\n",
    "* Slicing: Anda dapat menggunakan slicing untuk mengambil potongan dari array.\n",
    "* Bentuk (Shape): Merupakan atribut yang menyatakan dimensi array, seperti (baris, kolom) untuk array dua dimensi.\n",
    "* Tipe Data (Data Type): Menunjukkan tipe data elemen dalam array, seperti int, float, string, dll.\n",
    "* Dimensi (Number of Dimensions - ndim): Merupakan jumlah dimensi dalam array, seperti 1 untuk array satu dimensi, 2 untuk array dua dimensi, dan seterusnya.\n",
    "* Operasi elemen-wise: Anda dapat melakukan operasi matematika pada semua elemen array, seperti penambahan, pengurangan, perkalian, dan pembagian.\n",
    "* Operasi matriks: NumPy mendukung operasi matriks seperti dot product dan perkalian matriks.\n",
    "* Fungsi matematika: NumPy memiliki berbagai fungsi matematika bawaan seperti np.sum(), np.mean(), np.min(), np.max(), dan banyak lagi untuk analisis statistik."
   ]
  },
  {
   "cell_type": "code",
   "execution_count": 153,
   "id": "5b18e914",
   "metadata": {},
   "outputs": [],
   "source": [
    "# Mengakses elemen array\n",
    "import numpy as np\n",
    "my_array = np.array([1, 2, 3, 4, 5])\n",
    "# Mengakses elemen pertama\n",
    "elemen_pertama = my_array[0]  # Hasilnya 1\n",
    "# Mengakses elemen ketiga\n",
    "elemen_ketiga = my_array[2]  # Hasilnya 3\n",
    "my_array = np.array([[1, 2, 3], [4, 5, 6]])\n",
    "# Mengakses elemen di baris pertama dan kolom kedua\n",
    "elemen = my_array[0, 1]  # Hasilnya 2\n",
    "my_array = np.array([1, 2, 3, 4, 5])\n",
    "# Mengambil elemen kedua hingga keempat\n",
    "subset1 = my_array[1:4]  # Hasilnya [2, 3, 4]\n",
    "# Mengambil elemen dengan indeks genap\n",
    "subset2 = my_array[::2]  # Hasilnya [1, 3, 5]\n",
    "my_array = np.array([[1, 2, 3], [4, 5, 6]])\n",
    "# Mengambil baris kedua\n",
    "baris_kedua = my_array[1, :]  # Hasilnya [4, 5, 6]\n",
    "# Mengambil kolom kedua\n",
    "kolom_kedua = my_array[:, 1]  # Hasilnya [2, 5]\n",
    "my_array = np.array([1, 2, 3, 4, 5])\n",
    "# Mengganti nilai elemen kedua menjadi 10\n",
    "my_array[1] = 10\n",
    "my_array = np.array([[1, 2, 3], [4, 5, 6]])\n",
    "# Mengganti nilai elemen di baris pertama dan kolom kedua\n",
    "my_array[0, 1] = 20"
   ]
  },
  {
   "cell_type": "code",
   "execution_count": 152,
   "id": "f46f956a",
   "metadata": {},
   "outputs": [
    {
     "name": "stdout",
     "output_type": "stream",
     "text": [
      "[ 1 10  3  4  5]\n",
      "1\n",
      "3\n",
      "2\n",
      "[2 5]\n",
      "[4 5 6]\n",
      "[2 3 4]\n",
      "[1 3 5]\n"
     ]
    }
   ],
   "source": [
    "print(my_array)\n",
    "print(elemen_pertama)\n",
    "print(elemen_ketiga)\n",
    "print(elemen)\n",
    "print(kolom_kedua)\n",
    "print(baris_kedua)\n",
    "print(subset1)\n",
    "print(subset2)"
   ]
  },
  {
   "cell_type": "markdown",
   "id": "319e5496",
   "metadata": {},
   "source": [
    "# OPERASI MATEMATIKA"
   ]
  },
  {
   "cell_type": "markdown",
   "id": "0b256a28",
   "metadata": {},
   "source": [
    "Operasi elemen-wise adalah operasi yang diterapkan pada setiap elemen dalam array NumPy secara terpisah. Dalam konteks ini, elemen-wise berarti setiap elemen dalam array yang sesuai berinteraksi satu sama lain sesuai dengan aturan operasi yang Anda tentukan."
   ]
  },
  {
   "cell_type": "code",
   "execution_count": 156,
   "id": "df94ae6c",
   "metadata": {},
   "outputs": [],
   "source": [
    "import numpy as np\n",
    "# Membuat dua array\n",
    "array_a = np.array([1, 2, 3, 4])\n",
    "array_b = np.array([5, 6, 7, 8])\n",
    "# Penambahan elemen-wise\n",
    "result = array_a + array_b  # Hasilnya [6, 8, 10, 12]\n",
    "# Pengurangan elemen-wise\n",
    "# result = array_a - array_b  # Hasilnya [-4, -4, -4, -4]\n",
    "# Perkalian elemen-wise\n",
    "# result = array_a * array_b  # Hasilnya [5, 12, 21, 32]\n",
    "# Pembagian elemen-wise\n",
    "# result = array_a / array_b  # Hasilnya [0.2, 0.33333333, 0.42857143, 0.5]"
   ]
  },
  {
   "cell_type": "code",
   "execution_count": 157,
   "id": "65485dde",
   "metadata": {},
   "outputs": [
    {
     "name": "stdout",
     "output_type": "stream",
     "text": [
      "[ 6  8 10 12]\n"
     ]
    }
   ],
   "source": [
    "print(result)"
   ]
  },
  {
   "cell_type": "markdown",
   "id": "c1bc8626",
   "metadata": {},
   "source": [
    "Operasi matriks dalam NumPy, seperti dot product, digunakan untuk mengalikan dua array dengan aturan perkalian matriks. Untuk menghitung dot product, Anda dapat menggunakan np.dot() atau metode .dot() pada array NumPy."
   ]
  },
  {
   "cell_type": "code",
   "execution_count": 160,
   "id": "516ebb7b",
   "metadata": {},
   "outputs": [
    {
     "name": "stdout",
     "output_type": "stream",
     "text": [
      "[[19 22]\n",
      " [43 50]]\n"
     ]
    }
   ],
   "source": [
    "import numpy as np\n",
    "\n",
    "# Membuat dua matriks\n",
    "matrix_a = np.array([[1, 2], [3, 4]])\n",
    "matrix_b = np.array([[5, 6], [7, 8]])\n",
    "\n",
    "# Menghitung dot product\n",
    "result = np.dot(matrix_a, matrix_b)\n",
    "print(result)"
   ]
  },
  {
   "cell_type": "markdown",
   "id": "503758c4",
   "metadata": {},
   "source": [
    "* np.sum(): Menghitung jumlah elemen dalam array.\n",
    "* np.mean(): Menghitung rata-rata dari elemen-elemen array.\n",
    "* np.min(): Mengambil nilai terkecil dalam array.\n",
    "* np.max(): Mengambil nilai terbesar dalam array.\n",
    "* np.sqrt(): Menghitung akar kuadrat dari setiap elemen dalam array.\n",
    "* np.exp(): Menghitung eksponensial dari setiap elemen dalam array."
   ]
  },
  {
   "cell_type": "code",
   "execution_count": 166,
   "id": "5329ec35",
   "metadata": {},
   "outputs": [],
   "source": [
    "import numpy as np\n",
    "my_array = np.array([7, 3, 12, 10, 9, 20, 17])\n",
    "# Menghitung sum\n",
    "total = np.sum(my_array)  # Hasilnya 15\n",
    "# Menghitung mean\n",
    "average = np.mean(my_array)  # Hasilnya 3.0\n",
    "# Menghitung akar kuadrat\n",
    "square_root = np.sqrt(my_array)"
   ]
  },
  {
   "cell_type": "code",
   "execution_count": 167,
   "id": "d76261a0",
   "metadata": {},
   "outputs": [
    {
     "name": "stdout",
     "output_type": "stream",
     "text": [
      "[2.64575131 1.73205081 3.46410162 3.16227766 3.         4.47213595\n",
      " 4.12310563]\n"
     ]
    }
   ],
   "source": [
    "print(square_root)"
   ]
  },
  {
   "cell_type": "markdown",
   "id": "d8affb80",
   "metadata": {},
   "source": [
    "# STATISTIKA DASAR"
   ]
  },
  {
   "cell_type": "markdown",
   "id": "c8926c9f",
   "metadata": {},
   "source": [
    "Rata-rata (Mean): Rata-rata adalah nilai tengah dari sejumlah data. Anda dapat menghitung rata-rata dari sebuah array NumPy menggunakan fungsi np.mean() atau np.average()."
   ]
  },
  {
   "cell_type": "code",
   "execution_count": 188,
   "id": "2c0e1cce",
   "metadata": {},
   "outputs": [
    {
     "data": {
      "text/plain": [
       "41.142857142857146"
      ]
     },
     "execution_count": 188,
     "metadata": {},
     "output_type": "execute_result"
    }
   ],
   "source": [
    "import numpy as np\n",
    "\n",
    "data = np.array([55, 44, 33, 25, 15, 49, 67])\n",
    "mean = np.mean(data)\n",
    "mean"
   ]
  },
  {
   "cell_type": "markdown",
   "id": "ce4afc0e",
   "metadata": {},
   "source": [
    "Median: Median adalah nilai tengah dalam data yang telah diurutkan. Anda dapat menghitung median dengan menggunakan fungsi np.median()."
   ]
  },
  {
   "cell_type": "code",
   "execution_count": 189,
   "id": "0c2372f2",
   "metadata": {},
   "outputs": [
    {
     "data": {
      "text/plain": [
       "44.0"
      ]
     },
     "execution_count": 189,
     "metadata": {},
     "output_type": "execute_result"
    }
   ],
   "source": [
    "data = np.array([55, 44, 33, 25, 15, 49, 67])\n",
    "median = np.median(data)\n",
    "median"
   ]
  },
  {
   "cell_type": "markdown",
   "id": "a57d4692",
   "metadata": {},
   "source": [
    "Modus (Mode): Modus adalah nilai yang muncul paling sering dalam data. NumPy tidak memiliki fungsi bawaan untuk menghitung modus, tetapi Anda dapat menggunakan library lain seperti scipy.stats untuk menghitung modus.\n",
    "\n",
    "* Nilai Terkecil (Minimum): Nilai terkecil dalam data dapat dihitung dengan fungsi np.min().\n",
    "* Nilai Terbesar (Maximum): Nilai terbesar dalam data dapat dihitung dengan fungsi np.max().\n",
    "* Jumlah (Sum): Jumlah adalah hasil dari penjumlahan semua nilai dalam data. Anda dapat menghitung jumlah dengan fungsi np.sum().\n",
    "* Variansi (Variance): Variansi mengukur sejauh mana data tersebar dari rata-rata. Anda dapat menghitung variansi dengan fungsi np.var().\n",
    "* Deviasi Standar (Standard Deviation): Deviasi standar adalah akar kuadrat dari variansi dan mengukur sejauh mana data tersebar dari rata-rata. Anda dapat menghitung deviasi standar dengan fungsi np.std()."
   ]
  },
  {
   "cell_type": "code",
   "execution_count": 190,
   "id": "a9c68108",
   "metadata": {},
   "outputs": [
    {
     "data": {
      "text/plain": [
       "15"
      ]
     },
     "execution_count": 190,
     "metadata": {},
     "output_type": "execute_result"
    }
   ],
   "source": [
    "data = np.array([55, 44, 33, 25, 15, 49, 17])\n",
    "minimum = np.min(data)\n",
    "minimum"
   ]
  },
  {
   "cell_type": "code",
   "execution_count": 191,
   "id": "59e862ca",
   "metadata": {},
   "outputs": [
    {
     "data": {
      "text/plain": [
       "55"
      ]
     },
     "execution_count": 191,
     "metadata": {},
     "output_type": "execute_result"
    }
   ],
   "source": [
    "maximum = np.max(data)\n",
    "maximum"
   ]
  },
  {
   "cell_type": "code",
   "execution_count": 192,
   "id": "4edae2e7",
   "metadata": {},
   "outputs": [
    {
     "data": {
      "text/plain": [
       "238"
      ]
     },
     "execution_count": 192,
     "metadata": {},
     "output_type": "execute_result"
    }
   ],
   "source": [
    "data = np.array([55, 44, 33, 25, 15, 49, 17])\n",
    "total = np.sum(data)\n",
    "total"
   ]
  },
  {
   "cell_type": "code",
   "execution_count": 193,
   "id": "286966d8",
   "metadata": {},
   "outputs": [
    {
     "data": {
      "text/plain": [
       "214.0"
      ]
     },
     "execution_count": 193,
     "metadata": {},
     "output_type": "execute_result"
    }
   ],
   "source": [
    "data = np.array([55, 44, 33, 25, 15, 49, 17])\n",
    "variance = np.var(data)\n",
    "variance"
   ]
  },
  {
   "cell_type": "code",
   "execution_count": 194,
   "id": "35cc52a0",
   "metadata": {},
   "outputs": [
    {
     "data": {
      "text/plain": [
       "14.628738838327793"
      ]
     },
     "execution_count": 194,
     "metadata": {},
     "output_type": "execute_result"
    }
   ],
   "source": [
    "data = np.array([55, 44, 33, 25, 15, 49, 17])\n",
    "std_deviation = np.std(data)\n",
    "std_deviation"
   ]
  },
  {
   "cell_type": "code",
   "execution_count": null,
   "id": "2226a342",
   "metadata": {},
   "outputs": [],
   "source": []
  }
 ],
 "metadata": {
  "kernelspec": {
   "display_name": "Python 3 (ipykernel)",
   "language": "python",
   "name": "python3"
  },
  "language_info": {
   "codemirror_mode": {
    "name": "ipython",
    "version": 3
   },
   "file_extension": ".py",
   "mimetype": "text/x-python",
   "name": "python",
   "nbconvert_exporter": "python",
   "pygments_lexer": "ipython3",
   "version": "3.9.13"
  }
 },
 "nbformat": 4,
 "nbformat_minor": 5
}
