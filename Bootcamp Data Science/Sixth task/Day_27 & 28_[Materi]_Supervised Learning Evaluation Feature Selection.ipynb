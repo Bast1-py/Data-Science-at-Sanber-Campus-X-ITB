{
  "nbformat": 4,
  "nbformat_minor": 0,
  "metadata": {
    "colab": {
      "provenance": []
    },
    "kernelspec": {
      "name": "python3",
      "display_name": "Python 3"
    },
    "language_info": {
      "name": "python"
    }
  },
  "cells": [
    {
      "cell_type": "code",
      "source": [
        "from sklearn.feature_selection import RFE\n",
        "from sklearn.linear_model import LogisticRegression\n",
        "from sklearn.datasets import make_classification\n",
        "from sklearn.decomposition import PCA\n",
        "from sklearn.datasets import load_iris\n",
        "from sklearn.metrics import accuracy_score\n",
        "from sklearn.model_selection import train_test_split\n",
        "from sklearn.preprocessing import StandardScaler"
      ],
      "metadata": {
        "id": "VQZ8gQlprtIi"
      },
      "execution_count": null,
      "outputs": []
    },
    {
      "cell_type": "markdown",
      "source": [
        "# Feature Selection\n",
        "\n",
        "Feature selection adalah proses memilih subset dari fitur-fitur yang relevan dari dataset.\n",
        "\n",
        "Tujuan utama dari feature selection adalah untuk meningkatkan kinerja model dengan mengurangi dimensi fitur.\n",
        "\n",
        "Reduksi dimensi fitur membantu dalam mengurangi overfitting, menghemat waktu komputasi, dan meningkatkan interpretasi model."
      ],
      "metadata": {
        "id": "IgdO1_gqrRQi"
      }
    },
    {
      "cell_type": "markdown",
      "source": [
        "## Recursive Feature Elimination (RFE)\n",
        "\n",
        "RFE adalah salah satu metode feature selection yang iteratif.\n",
        "\n",
        "Algoritma RFE bekerja dengan menghapus fitur satu per satu dan memeriksa dampaknya terhadap performa model.\n",
        "\n",
        "Langkah-langkah RFE:\n",
        "1. Menggunakan model ML untuk menilai pentingnya setiap fitur.\n",
        "2. Menghapus fitur dengan nilai penting terendah.\n",
        "3. Mengulangi langkah 1 dan 2 hingga jumlah fitur yang diinginkan tercapai."
      ],
      "metadata": {
        "id": "L5fJVPkcrcyx"
      }
    },
    {
      "cell_type": "code",
      "source": [
        "# EDA --> Ngeliat fitur apa sih yang paling penting? Understanding kita terhadap fitur\n",
        "\n",
        "# Modelling berdasarkan fitur penting asumsi --> Best Model\n",
        "\n",
        "# Feature Selection? Buktiin asumsi kita secara statistik, teknis\n",
        "\n",
        "# Fitur yang antara EDA == Feature Selection dipake buat model yang benerannya"
      ],
      "metadata": {
        "id": "RkBr3OnT2TY0"
      },
      "execution_count": null,
      "outputs": []
    },
    {
      "cell_type": "code",
      "execution_count": null,
      "metadata": {
        "id": "FkNylzhTq8eU"
      },
      "outputs": [],
      "source": [
        "# Membuat dataset contoh\n",
        "X, y = make_classification(n_samples=1000, n_features=20, n_informative=10, n_classes=2, random_state=42)\n",
        "\n",
        "# Memisahkan data menjadi data latih dan data uji\n",
        "X_train, X_test, y_train, y_test = train_test_split(X, y, test_size=0.2, random_state=42)"
      ]
    },
    {
      "cell_type": "code",
      "source": [
        "# jumlah kolom misal 20\n",
        "\n",
        "best_n = 0\n",
        "best_accuracy = 0\n",
        "\n",
        "for n in range(1, 20):\n",
        "  model = LogisticRegression()\n",
        "  rfe = RFE(model, n_features_to_select=n)\n",
        "  rfe.fit(X_train, y_train)\n",
        "\n",
        "  selected_features = rfe.support_\n",
        "  model.fit(X_train[:, selected_features], y_train)\n",
        "  y_pred = model.predict(X_test[:, selected_features])\n",
        "  accuracy = accuracy_score(y_test, y_pred)\n",
        "\n",
        "  if accuracy > best_accuracy:\n",
        "    best_n = n\n",
        "    best_accuracy = accuracy\n",
        "\n",
        "print(best_n)\n",
        "print(best_accuracy)"
      ],
      "metadata": {
        "colab": {
          "base_uri": "https://localhost:8080/"
        },
        "id": "E9MflR1W4mvr",
        "outputId": "3b27638a-81e9-4356-ba3e-6a7d13350bb7"
      },
      "execution_count": null,
      "outputs": [
        {
          "output_type": "stream",
          "name": "stdout",
          "text": [
            "7\n",
            "0.835\n"
          ]
        }
      ]
    },
    {
      "cell_type": "code",
      "source": [
        "# SEBELUM INI CARI BEST MODEL"
      ],
      "metadata": {
        "id": "FQfzf12Q7wO2"
      },
      "execution_count": null,
      "outputs": []
    },
    {
      "cell_type": "code",
      "source": [
        "# Menginisialisasi model Logistic Regression\n",
        "model = LogisticRegression()\n",
        "\n",
        "# Menginisialisasi RFE dengan model dan jumlah fitur yang ingin dipilih\n",
        "rfe = RFE(model, n_features_to_select=best_n)\n",
        "\n",
        "# Fitting RFE ke data latih\n",
        "rfe.fit(X_train, y_train)"
      ],
      "metadata": {
        "colab": {
          "base_uri": "https://localhost:8080/",
          "height": 116
        },
        "id": "eRronYMdsTRU",
        "outputId": "eee92217-bfcf-4b72-84db-7bd45238719c"
      },
      "execution_count": null,
      "outputs": [
        {
          "output_type": "execute_result",
          "data": {
            "text/plain": [
              "RFE(estimator=LogisticRegression(), n_features_to_select=7)"
            ],
            "text/html": [
              "<style>#sk-container-id-10 {color: black;background-color: white;}#sk-container-id-10 pre{padding: 0;}#sk-container-id-10 div.sk-toggleable {background-color: white;}#sk-container-id-10 label.sk-toggleable__label {cursor: pointer;display: block;width: 100%;margin-bottom: 0;padding: 0.3em;box-sizing: border-box;text-align: center;}#sk-container-id-10 label.sk-toggleable__label-arrow:before {content: \"▸\";float: left;margin-right: 0.25em;color: #696969;}#sk-container-id-10 label.sk-toggleable__label-arrow:hover:before {color: black;}#sk-container-id-10 div.sk-estimator:hover label.sk-toggleable__label-arrow:before {color: black;}#sk-container-id-10 div.sk-toggleable__content {max-height: 0;max-width: 0;overflow: hidden;text-align: left;background-color: #f0f8ff;}#sk-container-id-10 div.sk-toggleable__content pre {margin: 0.2em;color: black;border-radius: 0.25em;background-color: #f0f8ff;}#sk-container-id-10 input.sk-toggleable__control:checked~div.sk-toggleable__content {max-height: 200px;max-width: 100%;overflow: auto;}#sk-container-id-10 input.sk-toggleable__control:checked~label.sk-toggleable__label-arrow:before {content: \"▾\";}#sk-container-id-10 div.sk-estimator input.sk-toggleable__control:checked~label.sk-toggleable__label {background-color: #d4ebff;}#sk-container-id-10 div.sk-label input.sk-toggleable__control:checked~label.sk-toggleable__label {background-color: #d4ebff;}#sk-container-id-10 input.sk-hidden--visually {border: 0;clip: rect(1px 1px 1px 1px);clip: rect(1px, 1px, 1px, 1px);height: 1px;margin: -1px;overflow: hidden;padding: 0;position: absolute;width: 1px;}#sk-container-id-10 div.sk-estimator {font-family: monospace;background-color: #f0f8ff;border: 1px dotted black;border-radius: 0.25em;box-sizing: border-box;margin-bottom: 0.5em;}#sk-container-id-10 div.sk-estimator:hover {background-color: #d4ebff;}#sk-container-id-10 div.sk-parallel-item::after {content: \"\";width: 100%;border-bottom: 1px solid gray;flex-grow: 1;}#sk-container-id-10 div.sk-label:hover label.sk-toggleable__label {background-color: #d4ebff;}#sk-container-id-10 div.sk-serial::before {content: \"\";position: absolute;border-left: 1px solid gray;box-sizing: border-box;top: 0;bottom: 0;left: 50%;z-index: 0;}#sk-container-id-10 div.sk-serial {display: flex;flex-direction: column;align-items: center;background-color: white;padding-right: 0.2em;padding-left: 0.2em;position: relative;}#sk-container-id-10 div.sk-item {position: relative;z-index: 1;}#sk-container-id-10 div.sk-parallel {display: flex;align-items: stretch;justify-content: center;background-color: white;position: relative;}#sk-container-id-10 div.sk-item::before, #sk-container-id-10 div.sk-parallel-item::before {content: \"\";position: absolute;border-left: 1px solid gray;box-sizing: border-box;top: 0;bottom: 0;left: 50%;z-index: -1;}#sk-container-id-10 div.sk-parallel-item {display: flex;flex-direction: column;z-index: 1;position: relative;background-color: white;}#sk-container-id-10 div.sk-parallel-item:first-child::after {align-self: flex-end;width: 50%;}#sk-container-id-10 div.sk-parallel-item:last-child::after {align-self: flex-start;width: 50%;}#sk-container-id-10 div.sk-parallel-item:only-child::after {width: 0;}#sk-container-id-10 div.sk-dashed-wrapped {border: 1px dashed gray;margin: 0 0.4em 0.5em 0.4em;box-sizing: border-box;padding-bottom: 0.4em;background-color: white;}#sk-container-id-10 div.sk-label label {font-family: monospace;font-weight: bold;display: inline-block;line-height: 1.2em;}#sk-container-id-10 div.sk-label-container {text-align: center;}#sk-container-id-10 div.sk-container {/* jupyter's `normalize.less` sets `[hidden] { display: none; }` but bootstrap.min.css set `[hidden] { display: none !important; }` so we also need the `!important` here to be able to override the default hidden behavior on the sphinx rendered scikit-learn.org. See: https://github.com/scikit-learn/scikit-learn/issues/21755 */display: inline-block !important;position: relative;}#sk-container-id-10 div.sk-text-repr-fallback {display: none;}</style><div id=\"sk-container-id-10\" class=\"sk-top-container\"><div class=\"sk-text-repr-fallback\"><pre>RFE(estimator=LogisticRegression(), n_features_to_select=7)</pre><b>In a Jupyter environment, please rerun this cell to show the HTML representation or trust the notebook. <br />On GitHub, the HTML representation is unable to render, please try loading this page with nbviewer.org.</b></div><div class=\"sk-container\" hidden><div class=\"sk-item sk-dashed-wrapped\"><div class=\"sk-label-container\"><div class=\"sk-label sk-toggleable\"><input class=\"sk-toggleable__control sk-hidden--visually\" id=\"sk-estimator-id-28\" type=\"checkbox\" ><label for=\"sk-estimator-id-28\" class=\"sk-toggleable__label sk-toggleable__label-arrow\">RFE</label><div class=\"sk-toggleable__content\"><pre>RFE(estimator=LogisticRegression(), n_features_to_select=7)</pre></div></div></div><div class=\"sk-parallel\"><div class=\"sk-parallel-item\"><div class=\"sk-item\"><div class=\"sk-label-container\"><div class=\"sk-label sk-toggleable\"><input class=\"sk-toggleable__control sk-hidden--visually\" id=\"sk-estimator-id-29\" type=\"checkbox\" ><label for=\"sk-estimator-id-29\" class=\"sk-toggleable__label sk-toggleable__label-arrow\">estimator: LogisticRegression</label><div class=\"sk-toggleable__content\"><pre>LogisticRegression()</pre></div></div></div><div class=\"sk-serial\"><div class=\"sk-item\"><div class=\"sk-estimator sk-toggleable\"><input class=\"sk-toggleable__control sk-hidden--visually\" id=\"sk-estimator-id-30\" type=\"checkbox\" ><label for=\"sk-estimator-id-30\" class=\"sk-toggleable__label sk-toggleable__label-arrow\">LogisticRegression</label><div class=\"sk-toggleable__content\"><pre>LogisticRegression()</pre></div></div></div></div></div></div></div></div></div></div>"
            ]
          },
          "metadata": {},
          "execution_count": 124
        }
      ]
    },
    {
      "cell_type": "code",
      "source": [
        "y_pred = rfe.predict(X_test)\n",
        "\n",
        "accuracy = accuracy_score(y_test, y_pred)\n",
        "print(\"Akurasi model setelah RFE:\", accuracy)"
      ],
      "metadata": {
        "colab": {
          "base_uri": "https://localhost:8080/"
        },
        "id": "Jhpx_9nm8UEV",
        "outputId": "f8336b05-7d28-435f-ced0-f62d802022a6"
      },
      "execution_count": null,
      "outputs": [
        {
          "output_type": "stream",
          "name": "stdout",
          "text": [
            "Akurasi model setelah RFE: 0.835\n"
          ]
        }
      ]
    },
    {
      "cell_type": "code",
      "source": [
        "# Menampilkan fitur yang terpilih\n",
        "selected_features = rfe.support_\n",
        "print(\"Fitur terpilih:\", selected_features)"
      ],
      "metadata": {
        "colab": {
          "base_uri": "https://localhost:8080/"
        },
        "id": "sb7Zfb7psXJz",
        "outputId": "fc062d4f-beff-4776-917f-f8f3b17588dc"
      },
      "execution_count": null,
      "outputs": [
        {
          "output_type": "stream",
          "name": "stdout",
          "text": [
            "Fitur terpilih: [False False  True  True False  True False False False False  True False\n",
            "  True False False False  True False  True False]\n"
          ]
        }
      ]
    },
    {
      "cell_type": "code",
      "source": [
        "# X_train / X --> DIBUAT JADI DATAFRAME\n",
        "# DATAFRAME SLICING YANG ISINYA CUMA selected_features\n",
        "# DILIHAT KOLOMNYA"
      ],
      "metadata": {
        "id": "5RKOIo_77DGS"
      },
      "execution_count": null,
      "outputs": []
    },
    {
      "cell_type": "code",
      "source": [
        "# Melatih model Logistic Regression dengan fitur terpilih\n",
        "model.fit(X_train[:, selected_features], y_train)\n",
        "\n",
        "# Memprediksi kelas untuk data uji\n",
        "y_pred = model.predict(X_test[:, selected_features])\n",
        "\n",
        "# Mengukur akurasi model\n",
        "accuracy = accuracy_score(y_test, y_pred)\n",
        "print(\"Akurasi model setelah RFE:\", accuracy)"
      ],
      "metadata": {
        "colab": {
          "base_uri": "https://localhost:8080/"
        },
        "id": "qheGRPW-sBOY",
        "outputId": "6443b429-41ee-473c-aa42-c61694cd4541"
      },
      "execution_count": null,
      "outputs": [
        {
          "output_type": "stream",
          "name": "stdout",
          "text": [
            "Akurasi model setelah RFE: 0.835\n"
          ]
        }
      ]
    },
    {
      "cell_type": "markdown",
      "source": [
        "# Principal Component Analysis (PCA)"
      ],
      "metadata": {
        "id": "Hr8PoQwYrptL"
      }
    },
    {
      "cell_type": "code",
      "source": [
        "# Memuat dataset Iris\n",
        "iris = load_iris()\n",
        "X = iris.data # Features\n",
        "y = iris.target\n",
        "\n",
        "# Memisahkan data menjadi data latih dan data uji\n",
        "X_train, X_test, y_train, y_test = train_test_split(X, y, test_size=0.2, random_state=42)"
      ],
      "metadata": {
        "id": "f0byJnPFrxbE"
      },
      "execution_count": null,
      "outputs": []
    },
    {
      "cell_type": "code",
      "source": [
        "# Standarisasi fitur-fitur\n",
        "scaler = StandardScaler()\n",
        "X_train_scaled = scaler.fit_transform(X_train)\n",
        "X_test_scaled = scaler.transform(X_test)"
      ],
      "metadata": {
        "id": "OCRxjGMkskmQ"
      },
      "execution_count": null,
      "outputs": []
    },
    {
      "cell_type": "code",
      "source": [
        "# Menginisialisasi PCA dengan 2 komponen\n",
        "pca = PCA(n_components=2)\n",
        "\n",
        "# Fitting PCA ke data latih dan transformasi data latih dan data uji\n",
        "X_train_pca = pca.fit_transform(X_train_scaled) # 4 --> 2\n",
        "X_test_pca = pca.transform(X_test_scaled) # 4 --> 2"
      ],
      "metadata": {
        "id": "sS5dt1TQs2M3"
      },
      "execution_count": null,
      "outputs": []
    },
    {
      "cell_type": "code",
      "source": [
        "# Inisialisasi dan pelatihan model Logistic Regression pada data yang sudah diproses PCA\n",
        "model = LogisticRegression()\n",
        "model.fit(X_train_pca, y_train)\n",
        "\n",
        "# Memprediksi kelas untuk data uji\n",
        "y_pred = model.predict(X_test_pca)\n",
        "\n",
        "# Mengukur akurasi model\n",
        "accuracy = accuracy_score(y_test, y_pred)\n",
        "print(\"Akurasi model setelah PCA:\", accuracy)"
      ],
      "metadata": {
        "colab": {
          "base_uri": "https://localhost:8080/"
        },
        "id": "HaZmzGYQs4oF",
        "outputId": "dc1476d4-c5f6-4dc9-ceba-de3773c760eb"
      },
      "execution_count": null,
      "outputs": [
        {
          "output_type": "stream",
          "name": "stdout",
          "text": [
            "Akurasi model setelah PCA: 0.9\n"
          ]
        }
      ]
    }
  ]
}