{
  "nbformat": 4,
  "nbformat_minor": 0,
  "metadata": {
    "colab": {
      "provenance": []
    },
    "kernelspec": {
      "name": "python3",
      "display_name": "Python 3"
    },
    "language_info": {
      "name": "python"
    }
  },
  "cells": [
    {
      "cell_type": "code",
      "execution_count": null,
      "metadata": {
        "id": "FxbS4pHOULY2"
      },
      "outputs": [],
      "source": [
        "import sqlite3 as sq"
      ]
    },
    {
      "cell_type": "code",
      "source": [
        "db = sq.connect('school.db')"
      ],
      "metadata": {
        "id": "ddiajo36Ux9e"
      },
      "execution_count": null,
      "outputs": []
    },
    {
      "cell_type": "code",
      "source": [
        "query = '''CREATE TABLE student (\n",
        "id INTEGER PRIMARY KEY AUTOINCREMENT,\n",
        "nama VARCHAR(50),\n",
        "kelas INTEGER,\n",
        "nilai INTEGER,\n",
        "tanggal_lahir VARCHAR(20),\n",
        "asal VARCHAR(50)\n",
        ");'''\n",
        "\n",
        "cursor_db = db.cursor()\n",
        "cursor_db.execute(query)"
      ],
      "metadata": {
        "colab": {
          "base_uri": "https://localhost:8080/"
        },
        "id": "R1zCuOX_U0vX",
        "outputId": "2f93f1e7-1737-43be-fe55-1f92358f7b1b"
      },
      "execution_count": null,
      "outputs": [
        {
          "output_type": "execute_result",
          "data": {
            "text/plain": [
              "<sqlite3.Cursor at 0x7a3bfc2acc40>"
            ]
          },
          "metadata": {},
          "execution_count": 6
        }
      ]
    },
    {
      "cell_type": "code",
      "source": [
        "query = '''INSERT INTO student (nama, kelas, nilai, tanggal_lahir, asal) VALUES\n",
        "('Yuji Itadori', 1, 8, '20 Maret', 'Jakarta'),\n",
        "('Megumi Fushiguro', 1, 5, '22 Desember', 'Jakarta'),\n",
        "('Nobara Kugisaki', 1, 8, '7 Agustus', 'Jakarta'),\n",
        "('Maki Zenin', 2, 8, '21 Mei', 'Jakarta'),\n",
        "('Panda', 2, 3, '5 Agustus', 'Jakarta'),\n",
        "('Toge Inumaki', 2, 9, '23 Oktober', 'Jakarta'),\n",
        "('Yuta Okkotsu', 2, 6, '7 Mei', 'Jakarta'),\n",
        "('Kirara Hoshi', 3, 9, '14 November', 'Jakarta'),\n",
        "('Kinji Hakari', 3, 6, '21 Mei', 'Jakarta'),\n",
        "('Aoi Todo', 3, 10, '22 April', 'Jogja'),\n",
        "('Kamo Noritoshi', 3, 6, '3 November', 'Jogja'),\n",
        "('Mechamaru', 2, 9, '13 Januari', 'Jogja'),\n",
        "('Mai Zenin', 2, 6, '30 Januari', 'Jogja'),\n",
        "('Nishimiya Momo', 2, 8, '5 September', 'Jogja'),\n",
        "('Kasumi Miwa', 2, 9, '15 Februari', 'Jogja');\n",
        "'''\n",
        "\n",
        "cursor_db.execute(query)\n",
        "db.commit()"
      ],
      "metadata": {
        "id": "bMzhhD8CVAIG"
      },
      "execution_count": null,
      "outputs": []
    },
    {
      "cell_type": "code",
      "source": [
        "query = '''SELECT nama, kelas FROM student'''\n",
        "\n",
        "a = cursor_db.execute(query)\n",
        "a.fetchall()"
      ],
      "metadata": {
        "colab": {
          "base_uri": "https://localhost:8080/"
        },
        "id": "fPofXPo0VXiH",
        "outputId": "ca880c1e-fa23-46bf-d0a8-c56b2a361d2b"
      },
      "execution_count": null,
      "outputs": [
        {
          "output_type": "execute_result",
          "data": {
            "text/plain": [
              "[('Yuji Itadori', 1),\n",
              " ('Megumi Fushiguro', 1),\n",
              " ('Nobara Kugisaki', 1),\n",
              " ('Maki Zenin', 2),\n",
              " ('Panda', 2),\n",
              " ('Toge Inumaki', 2),\n",
              " ('Yuta Okkotsu', 2),\n",
              " ('Kirara Hoshi', 3),\n",
              " ('Kinji Hakari', 3),\n",
              " ('Aoi Todo', 3),\n",
              " ('Kamo Noritoshi', 3),\n",
              " ('Mechamaru', 2),\n",
              " ('Mai Zenin', 2),\n",
              " ('Nishimiya Momo', 2),\n",
              " ('Kasumi Miwa', 2)]"
            ]
          },
          "metadata": {},
          "execution_count": 8
        }
      ]
    },
    {
      "cell_type": "code",
      "source": [
        "def update_data(nama, kolom, nilai):\n",
        "  query = f'''\n",
        "        UPDATE student\n",
        "        SET\n",
        "            {kolom} = {nilai}\n",
        "        WHERE\n",
        "            nama = \"{nama}\"\n",
        "        '''\n",
        "\n",
        "  cursor_db = db.cursor()\n",
        "  cursor_db.execute(query)\n",
        "  db.commit()"
      ],
      "metadata": {
        "id": "a8H154WlWbvm"
      },
      "execution_count": null,
      "outputs": []
    },
    {
      "cell_type": "code",
      "source": [
        "try:\n",
        "  update_data('Panda', 'nilai', (3+8)/2)\n",
        "  print('data succesfully updated')\n",
        "except Exception as e:\n",
        "  print(f\"failed: {e}\")"
      ],
      "metadata": {
        "colab": {
          "base_uri": "https://localhost:8080/"
        },
        "id": "gg9ds1TTgmQl",
        "outputId": "be4bf876-ae10-406f-f048-226e6e01b148"
      },
      "execution_count": null,
      "outputs": [
        {
          "output_type": "stream",
          "name": "stdout",
          "text": [
            "data succesfully updated\n"
          ]
        }
      ]
    },
    {
      "cell_type": "code",
      "source": [
        "query = '''SELECT * FROM student'''\n",
        "\n",
        "a = cursor_db.execute(query)\n",
        "a.fetchall()"
      ],
      "metadata": {
        "colab": {
          "base_uri": "https://localhost:8080/"
        },
        "id": "GpiwfSfXguSH",
        "outputId": "53de6cb6-7594-4522-c0cb-ff0673753544"
      },
      "execution_count": null,
      "outputs": [
        {
          "output_type": "execute_result",
          "data": {
            "text/plain": [
              "[(1, 'Yuji Itadori', 1, 8, '20 Maret', 'Jakarta'),\n",
              " (2, 'Megumi Fushiguro', 1, 5, '22 Desember', 'Jakarta'),\n",
              " (3, 'Nobara Kugisaki', 1, 8, '7 Agustus', 'Jakarta'),\n",
              " (4, 'Maki Zenin', 2, 8, '21 Mei', 'Jakarta'),\n",
              " (5, 'Panda', 2, 5.5, '5 Agustus', 'Jakarta'),\n",
              " (6, 'Toge Inumaki', 2, 9, '23 Oktober', 'Jakarta'),\n",
              " (7, 'Yuta Okkotsu', 2, 6, '7 Mei', 'Jakarta'),\n",
              " (8, 'Kirara Hoshi', 3, 9, '14 November', 'Jakarta'),\n",
              " (9, 'Kinji Hakari', 3, 6, '21 Mei', 'Jakarta'),\n",
              " (10, 'Aoi Todo', 3, 10, '22 April', 'Jogja'),\n",
              " (11, 'Kamo Noritoshi', 3, 6, '3 November', 'Jogja'),\n",
              " (12, 'Mechamaru', 2, 9, '13 Januari', 'Jogja'),\n",
              " (13, 'Mai Zenin', 2, 6, '30 Januari', 'Jogja'),\n",
              " (14, 'Nishimiya Momo', 2, 8, '5 September', 'Jogja'),\n",
              " (15, 'Kasumi Miwa', 2, 9, '15 Februari', 'Jogja')]"
            ]
          },
          "metadata": {},
          "execution_count": 11
        }
      ]
    },
    {
      "cell_type": "code",
      "source": [
        "def delete_data(nama):\n",
        "    query = f'''\n",
        "        DELETE FROM student\n",
        "        WHERE\n",
        "            nama = \"{nama}\"\n",
        "        '''\n",
        "\n",
        "    cursor_db = db.cursor()\n",
        "    cursor_db.execute(query)\n",
        "    db.commit()"
      ],
      "metadata": {
        "id": "lITC8QXZg5T0"
      },
      "execution_count": null,
      "outputs": []
    },
    {
      "cell_type": "code",
      "source": [
        "try:\n",
        "  delete_data('Kinji Hakari')\n",
        "  print('data succesfully deleted')\n",
        "except Exception as e:\n",
        "  print(f\"failed: {e}\")"
      ],
      "metadata": {
        "colab": {
          "base_uri": "https://localhost:8080/"
        },
        "id": "2VJXWAKmg-DC",
        "outputId": "225936bb-18f0-4e24-9e9e-ecbd7e59333f"
      },
      "execution_count": null,
      "outputs": [
        {
          "output_type": "stream",
          "name": "stdout",
          "text": [
            "data succesfully deleted\n"
          ]
        }
      ]
    },
    {
      "cell_type": "code",
      "source": [
        "query = '''SELECT * FROM student'''\n",
        "\n",
        "a = cursor_db.execute(query)\n",
        "a.fetchall()"
      ],
      "metadata": {
        "colab": {
          "base_uri": "https://localhost:8080/"
        },
        "id": "bUJY4sbJhCzc",
        "outputId": "a144cccb-67bb-46a9-d10d-09832373e5ec"
      },
      "execution_count": null,
      "outputs": [
        {
          "output_type": "execute_result",
          "data": {
            "text/plain": [
              "[(1, 'Yuji Itadori', 1, 8, '20 Maret', 'Jakarta'),\n",
              " (2, 'Megumi Fushiguro', 1, 5, '22 Desember', 'Jakarta'),\n",
              " (3, 'Nobara Kugisaki', 1, 8, '7 Agustus', 'Jakarta'),\n",
              " (4, 'Maki Zenin', 2, 8, '21 Mei', 'Jakarta'),\n",
              " (5, 'Panda', 2, 5.5, '5 Agustus', 'Jakarta'),\n",
              " (6, 'Toge Inumaki', 2, 9, '23 Oktober', 'Jakarta'),\n",
              " (7, 'Yuta Okkotsu', 2, 6, '7 Mei', 'Jakarta'),\n",
              " (8, 'Kirara Hoshi', 3, 9, '14 November', 'Jakarta'),\n",
              " (10, 'Aoi Todo', 3, 10, '22 April', 'Jogja'),\n",
              " (11, 'Kamo Noritoshi', 3, 6, '3 November', 'Jogja'),\n",
              " (12, 'Mechamaru', 2, 9, '13 Januari', 'Jogja'),\n",
              " (13, 'Mai Zenin', 2, 6, '30 Januari', 'Jogja'),\n",
              " (14, 'Nishimiya Momo', 2, 8, '5 September', 'Jogja'),\n",
              " (15, 'Kasumi Miwa', 2, 9, '15 Februari', 'Jogja')]"
            ]
          },
          "metadata": {},
          "execution_count": 14
        }
      ]
    },
    {
      "cell_type": "code",
      "source": [
        "def insert_data(nilai):\n",
        "    query = f'''\n",
        "        INSERT INTO student (nama, kelas, nilai, tanggal_lahir, asal)\n",
        "        VALUES {nilai}\n",
        "        '''\n",
        "\n",
        "    cursor_db = db.cursor()\n",
        "    cursor_db.execute(query)\n",
        "    db.commit()"
      ],
      "metadata": {
        "id": "we-hSWJGWi7c"
      },
      "execution_count": null,
      "outputs": []
    },
    {
      "cell_type": "code",
      "source": [
        "try:\n",
        "  insert_data(\"('Junpei', NULL, NULL, NULL, 'Jakarta')\")\n",
        "  print('data succesfully inserted')\n",
        "except Exception as e:\n",
        "  print(f\"failed: {e}\")"
      ],
      "metadata": {
        "colab": {
          "base_uri": "https://localhost:8080/"
        },
        "id": "qkGVg699WzrB",
        "outputId": "81fea78e-612a-4c37-9e74-e03264be80b6"
      },
      "execution_count": null,
      "outputs": [
        {
          "output_type": "stream",
          "name": "stdout",
          "text": [
            "data succesfully inserted\n"
          ]
        }
      ]
    },
    {
      "cell_type": "code",
      "source": [
        "query = '''SELECT * FROM student'''\n",
        "\n",
        "a = cursor_db.execute(query)\n",
        "a.fetchall()"
      ],
      "metadata": {
        "colab": {
          "base_uri": "https://localhost:8080/"
        },
        "id": "NVSaeBpViYUl",
        "outputId": "80dffb44-e6d1-42ed-8a78-c058cce9d71b"
      },
      "execution_count": null,
      "outputs": [
        {
          "output_type": "execute_result",
          "data": {
            "text/plain": [
              "[(1, 'Yuji Itadori', 1, 8, '20 Maret', 'Jakarta'),\n",
              " (2, 'Megumi Fushiguro', 1, 5, '22 Desember', 'Jakarta'),\n",
              " (3, 'Nobara Kugisaki', 1, 8, '7 Agustus', 'Jakarta'),\n",
              " (4, 'Maki Zenin', 2, 8, '21 Mei', 'Jakarta'),\n",
              " (5, 'Panda', 2, 5.5, '5 Agustus', 'Jakarta'),\n",
              " (6, 'Toge Inumaki', 2, 9, '23 Oktober', 'Jakarta'),\n",
              " (7, 'Yuta Okkotsu', 2, 6, '7 Mei', 'Jakarta'),\n",
              " (8, 'Kirara Hoshi', 3, 9, '14 November', 'Jakarta'),\n",
              " (10, 'Aoi Todo', 3, 10, '22 April', 'Jogja'),\n",
              " (11, 'Kamo Noritoshi', 3, 6, '3 November', 'Jogja'),\n",
              " (12, 'Mechamaru', 2, 9, '13 Januari', 'Jogja'),\n",
              " (13, 'Mai Zenin', 2, 6, '30 Januari', 'Jogja'),\n",
              " (14, 'Nishimiya Momo', 2, 8, '5 September', 'Jogja'),\n",
              " (15, 'Kasumi Miwa', 2, 9, '15 Februari', 'Jogja'),\n",
              " (16, 'Junpei', None, None, None, 'Jakarta')]"
            ]
          },
          "metadata": {},
          "execution_count": 17
        }
      ]
    },
    {
      "cell_type": "code",
      "source": [
        "query = '''SELECT asal, AVG(nilai) FROM student GROUP BY asal'''\n",
        "\n",
        "a = cursor_db.execute(query)\n",
        "a.fetchall()"
      ],
      "metadata": {
        "colab": {
          "base_uri": "https://localhost:8080/"
        },
        "id": "CwtdhU-6il4e",
        "outputId": "ac55a79d-1086-4166-e403-fecab5be6d96"
      },
      "execution_count": null,
      "outputs": [
        {
          "output_type": "execute_result",
          "data": {
            "text/plain": [
              "[('Jakarta', 7.3125), ('Jogja', 8.0)]"
            ]
          },
          "metadata": {},
          "execution_count": 18
        }
      ]
    },
    {
      "cell_type": "code",
      "source": [
        "query = '''SELECT * FROM student ORDER BY nilai DESC'''\n",
        "\n",
        "a = cursor_db.execute(query)\n",
        "a.fetchall()"
      ],
      "metadata": {
        "colab": {
          "base_uri": "https://localhost:8080/"
        },
        "id": "bSVk5sUIifLQ",
        "outputId": "5196dd9e-a368-45af-e143-0e82af6e9f16"
      },
      "execution_count": null,
      "outputs": [
        {
          "output_type": "execute_result",
          "data": {
            "text/plain": [
              "[(10, 'Aoi Todo', 3, 10, '22 April', 'Jogja'),\n",
              " (6, 'Toge Inumaki', 2, 9, '23 Oktober', 'Jakarta'),\n",
              " (8, 'Kirara Hoshi', 3, 9, '14 November', 'Jakarta'),\n",
              " (12, 'Mechamaru', 2, 9, '13 Januari', 'Jogja'),\n",
              " (15, 'Kasumi Miwa', 2, 9, '15 Februari', 'Jogja'),\n",
              " (1, 'Yuji Itadori', 1, 8, '20 Maret', 'Jakarta'),\n",
              " (3, 'Nobara Kugisaki', 1, 8, '7 Agustus', 'Jakarta'),\n",
              " (4, 'Maki Zenin', 2, 8, '21 Mei', 'Jakarta'),\n",
              " (14, 'Nishimiya Momo', 2, 8, '5 September', 'Jogja'),\n",
              " (7, 'Yuta Okkotsu', 2, 6, '7 Mei', 'Jakarta'),\n",
              " (11, 'Kamo Noritoshi', 3, 6, '3 November', 'Jogja'),\n",
              " (13, 'Mai Zenin', 2, 6, '30 Januari', 'Jogja'),\n",
              " (5, 'Panda', 2, 5.5, '5 Agustus', 'Jakarta'),\n",
              " (2, 'Megumi Fushiguro', 1, 5, '22 Desember', 'Jakarta'),\n",
              " (16, 'Junpei', None, None, None, 'Jakarta')]"
            ]
          },
          "metadata": {},
          "execution_count": 19
        }
      ]
    }
  ]
}