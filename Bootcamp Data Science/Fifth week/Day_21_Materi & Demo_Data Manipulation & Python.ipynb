{
  "nbformat": 4,
  "nbformat_minor": 0,
  "metadata": {
    "colab": {
      "provenance": []
    },
    "kernelspec": {
      "name": "python3",
      "display_name": "Python 3"
    },
    "language_info": {
      "name": "python"
    }
  },
  "cells": [
    {
      "cell_type": "code",
      "execution_count": null,
      "metadata": {
        "id": "FxbS4pHOULY2"
      },
      "outputs": [],
      "source": [
        "import sqlite3 as sq"
      ]
    },
    {
      "cell_type": "code",
      "source": [
        "db = sq.connect('school.db')"
      ],
      "metadata": {
        "id": "ddiajo36Ux9e"
      },
      "execution_count": null,
      "outputs": []
    },
    {
      "cell_type": "code",
      "source": [
        "query = '''CREATE Table students(\n",
        "        id_siswa integer primary key autoincrement,\n",
        "        nama TEXT not null,\n",
        "        id_kelas integer not null,\n",
        "        tahun_masuk integer not null)'''\n",
        "\n",
        "cursor_db = db.cursor()\n",
        "cursor_db.execute(query)"
      ],
      "metadata": {
        "colab": {
          "base_uri": "https://localhost:8080/"
        },
        "id": "R1zCuOX_U0vX",
        "outputId": "9309de9e-37a8-4c98-f28a-359f0e7fc00b"
      },
      "execution_count": null,
      "outputs": [
        {
          "output_type": "execute_result",
          "data": {
            "text/plain": [
              "<sqlite3.Cursor at 0x7e8a4abb7ac0>"
            ]
          },
          "metadata": {},
          "execution_count": 3
        }
      ]
    },
    {
      "cell_type": "code",
      "source": [
        "query = '''INSERT INTO students (nama, id_kelas, tahun_masuk)\n",
        "        VALUES\n",
        "        ('shiroe', 21, 2012),\n",
        "        ('akatsuki', 21, 2012),\n",
        "        ('naotsugu', 21, 2012),\n",
        "        ('minori', 13, 2013),\n",
        "        ('touya', 13, 2013),\n",
        "        ('kanami', 31, 2011)'''\n",
        "\n",
        "cursor_db.execute(query)\n",
        "db.commit()"
      ],
      "metadata": {
        "id": "bMzhhD8CVAIG"
      },
      "execution_count": null,
      "outputs": []
    },
    {
      "cell_type": "code",
      "source": [
        "query = '''SELECT * FROM students'''\n",
        "\n",
        "a = cursor_db.execute(query)\n",
        "print(a)"
      ],
      "metadata": {
        "colab": {
          "base_uri": "https://localhost:8080/"
        },
        "id": "fPofXPo0VXiH",
        "outputId": "c283e773-c65d-4a9e-ae31-3e3fb73aca53"
      },
      "execution_count": null,
      "outputs": [
        {
          "output_type": "stream",
          "name": "stdout",
          "text": [
            "<sqlite3.Cursor object at 0x7e8a4abb7ac0>\n"
          ]
        }
      ]
    },
    {
      "cell_type": "code",
      "source": [
        "input_list = [\n",
        "    ('Naruto', 21, 2012),\n",
        "    ('Sasuke', 21, 2012),\n",
        "]"
      ],
      "metadata": {
        "id": "C1X0hrhfV1Jp"
      },
      "execution_count": null,
      "outputs": []
    },
    {
      "cell_type": "code",
      "source": [
        "query = '''\n",
        "        INSERT INTO students (nama, id_kelas, tahun_masuk)\n",
        "        VALUES (?, ?, ?)\n",
        "        '''\n",
        "\n",
        "cursor_db = db.cursor()"
      ],
      "metadata": {
        "id": "a8H154WlWbvm"
      },
      "execution_count": null,
      "outputs": []
    },
    {
      "cell_type": "code",
      "source": [
        "for data in input_list:\n",
        "    cursor_db.execute(query, data)\n",
        "\n",
        "db.commit()"
      ],
      "metadata": {
        "id": "pcaHU1-IWfFo"
      },
      "execution_count": null,
      "outputs": []
    },
    {
      "cell_type": "code",
      "source": [
        "def update_data(nama, kolom, nilai):\n",
        "  query = f'''\n",
        "        UPDATE students\n",
        "        SET\n",
        "            {kolom} = {nilai}\n",
        "        WHERE\n",
        "            nama = \"{nama}\"\n",
        "        '''\n",
        "\n",
        "  cursor_db = db.cursor()\n",
        "  cursor_db.execute(query)\n",
        "  db.commit()"
      ],
      "metadata": {
        "id": "we-hSWJGWi7c"
      },
      "execution_count": null,
      "outputs": []
    },
    {
      "cell_type": "code",
      "source": [
        "try:\n",
        "  update_data('kanami', 'id_kelas', '32')\n",
        "  print('data succesfully updated')\n",
        "except Exception as e:\n",
        "  print(f\"failed: {e}\")"
      ],
      "metadata": {
        "colab": {
          "base_uri": "https://localhost:8080/"
        },
        "id": "qkGVg699WzrB",
        "outputId": "eac5a458-f5fa-4ab0-8be5-2cae2311edf4"
      },
      "execution_count": null,
      "outputs": [
        {
          "output_type": "stream",
          "name": "stdout",
          "text": [
            "data succesfully updated\n"
          ]
        }
      ]
    },
    {
      "cell_type": "code",
      "source": [
        "def delete_data(nama):\n",
        "    query = f'''\n",
        "        DELETE FROM students\n",
        "        WHERE\n",
        "            nama = \"{nama}\"\n",
        "        '''\n",
        "\n",
        "    cursor_db = db.cursor()\n",
        "    cursor_db.execute(query)\n",
        "    db.commit()"
      ],
      "metadata": {
        "id": "NBfFMpsmXFW-"
      },
      "execution_count": null,
      "outputs": []
    },
    {
      "cell_type": "code",
      "source": [
        "try:\n",
        "  delete_data('Naruto')\n",
        "  print('data succesfully deleted')\n",
        "except Exception as e:\n",
        "  print(f\"failed: {e}\")"
      ],
      "metadata": {
        "colab": {
          "base_uri": "https://localhost:8080/"
        },
        "id": "fgXFQ3_lXKiW",
        "outputId": "4c1bdb77-daa9-4870-ea85-dd7432b28808"
      },
      "execution_count": null,
      "outputs": [
        {
          "output_type": "stream",
          "name": "stdout",
          "text": [
            "data succesfully deleted\n"
          ]
        }
      ]
    },
    {
      "cell_type": "code",
      "source": [
        "def search_all():\n",
        "    query = \"select * from students\"\n",
        "\n",
        "    cursor_db = db.cursor()\n",
        "    cursor_db.execute(query)\n",
        "    result = cursor_db.fetchall() # penting\n",
        "\n",
        "    for student in result:\n",
        "      print(result)"
      ],
      "metadata": {
        "id": "-ZY5tefIXQZk"
      },
      "execution_count": null,
      "outputs": []
    },
    {
      "cell_type": "code",
      "source": [
        "try:\n",
        "  search_all()\n",
        "except Exception as e:\n",
        "  print(f\"failed: {e}\")"
      ],
      "metadata": {
        "colab": {
          "base_uri": "https://localhost:8080/"
        },
        "id": "B43z_EkhX15p",
        "outputId": "3176d095-aa25-45cb-fef2-e3db0e950935"
      },
      "execution_count": null,
      "outputs": [
        {
          "output_type": "stream",
          "name": "stdout",
          "text": [
            "[(1, 'shiroe', 21, 2012), (2, 'akatsuki', 21, 2012), (3, 'naotsugu', 21, 2012), (4, 'minori', 13, 2013), (5, 'touya', 13, 2013), (6, 'kanami', 32, 2011), (8, 'Sasuke', 21, 2012)]\n",
            "[(1, 'shiroe', 21, 2012), (2, 'akatsuki', 21, 2012), (3, 'naotsugu', 21, 2012), (4, 'minori', 13, 2013), (5, 'touya', 13, 2013), (6, 'kanami', 32, 2011), (8, 'Sasuke', 21, 2012)]\n",
            "[(1, 'shiroe', 21, 2012), (2, 'akatsuki', 21, 2012), (3, 'naotsugu', 21, 2012), (4, 'minori', 13, 2013), (5, 'touya', 13, 2013), (6, 'kanami', 32, 2011), (8, 'Sasuke', 21, 2012)]\n",
            "[(1, 'shiroe', 21, 2012), (2, 'akatsuki', 21, 2012), (3, 'naotsugu', 21, 2012), (4, 'minori', 13, 2013), (5, 'touya', 13, 2013), (6, 'kanami', 32, 2011), (8, 'Sasuke', 21, 2012)]\n",
            "[(1, 'shiroe', 21, 2012), (2, 'akatsuki', 21, 2012), (3, 'naotsugu', 21, 2012), (4, 'minori', 13, 2013), (5, 'touya', 13, 2013), (6, 'kanami', 32, 2011), (8, 'Sasuke', 21, 2012)]\n",
            "[(1, 'shiroe', 21, 2012), (2, 'akatsuki', 21, 2012), (3, 'naotsugu', 21, 2012), (4, 'minori', 13, 2013), (5, 'touya', 13, 2013), (6, 'kanami', 32, 2011), (8, 'Sasuke', 21, 2012)]\n",
            "[(1, 'shiroe', 21, 2012), (2, 'akatsuki', 21, 2012), (3, 'naotsugu', 21, 2012), (4, 'minori', 13, 2013), (5, 'touya', 13, 2013), (6, 'kanami', 32, 2011), (8, 'Sasuke', 21, 2012)]\n"
          ]
        }
      ]
    }
  ]
}