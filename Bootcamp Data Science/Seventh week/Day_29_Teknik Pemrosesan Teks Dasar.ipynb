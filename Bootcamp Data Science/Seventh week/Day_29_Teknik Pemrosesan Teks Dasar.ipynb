{
  "nbformat": 4,
  "nbformat_minor": 0,
  "metadata": {
    "colab": {
      "provenance": []
    },
    "kernelspec": {
      "name": "python3",
      "display_name": "Python 3"
    },
    "language_info": {
      "name": "python"
    }
  },
  "cells": [
    {
      "cell_type": "markdown",
      "source": [
        "# REGEX\n",
        "\n",
        "*   Dasar - dasar Regex\n",
        "*   Character Class dan Quantifier\n",
        "*   Anchor & Escapes\n",
        "*   Mencoba menggunakan regex pada Python\n",
        "\n"
      ],
      "metadata": {
        "id": "THfCOoJgZr_A"
      }
    },
    {
      "cell_type": "markdown",
      "source": [
        "## Dasar - dasar Regex"
      ],
      "metadata": {
        "id": "Fk1j8KTNabjR"
      }
    },
    {
      "cell_type": "code",
      "execution_count": null,
      "metadata": {
        "id": "zzaskM8-Zokp"
      },
      "outputs": [],
      "source": [
        "# Karakter Literal\n",
        "\n",
        "# huruf dan angka --> [a-z][A-Z][0-9]\n",
        "# karakter khusus --> \\d --> mencari digit\n",
        "# karakter spasi --> untuk mencari karakter spasi \"[a-z] [a-z]\" b a, c d\n",
        "# karakter tanda baca --> [.,]"
      ]
    },
    {
      "cell_type": "code",
      "source": [
        "# Karakterk Spesial\n",
        "\n",
        "# tanda panah / karat --> ^sanber , diminta mencari pola dimana kata diawali sanbercode, sanber code\n",
        "# dolar --> code$, mencari pola dimana kata diakhiri code. sanbercode\n",
        "# titik --> s..ber --> mencari kecocokan apapun. sanber, sinber, scbber, sobber\n",
        "# tanda tanya --> digunakan sebagai tanda opsional. colou?r --> color/colour\n",
        "# bintang --> digunakan untuk mencari kesamaan. ab*c --> ac, abc, abbc,\n",
        "# karat dalam kurung [] -->  negasi. [^0-9] --? carilah semua data yang tidak memliki [0-9]"
      ],
      "metadata": {
        "id": "Ip2DLbcPam1N"
      },
      "execution_count": null,
      "outputs": []
    },
    {
      "cell_type": "markdown",
      "source": [
        "## Character Class and Quantifier"
      ],
      "metadata": {
        "id": "f3itEAvNeDbZ"
      }
    },
    {
      "cell_type": "markdown",
      "source": [
        "[ ] - Karakter Satu dari Beberapa:\n",
        "\n",
        "Deskripsi: Mencocokkan satu karakter yang ada dalam kurung siku.\n",
        "\n",
        "Contoh: [aeiou] akan mencocokkan salah satu vokal.\n",
        "\n",
        "[^ ] - Karakter Satu Bukan dari Beberapa:\n",
        "\n",
        "Deskripsi: Mencocokkan satu karakter yang tidak ada dalam kurung siku.\n",
        "\n",
        "Contoh: [^0-9] akan mencocokkan karakter bukan angka.\n",
        "\n",
        "\\d - Digit (0-9):\n",
        "\n",
        "Deskripsi: Mencocokkan satu digit (angka 0-9).\n",
        "\n",
        "Contoh: \\d{3} akan mencocokkan tiga digit berturut-turut.\n",
        "\n",
        "\\w - Karakter Kata:\n",
        "\n",
        "Deskripsi: Mencocokkan satu karakter kata (huruf, angka, atau garis bawah).\n",
        "\n",
        "Contoh: \\w+ akan mencocokkan satu kata atau lebih.\n",
        "\n",
        "\\s - Spasi Putih:\n",
        "\n",
        "Deskripsi: Mencocokkan satu karakter spasi putih (spasi, tab, atau newline).\n",
        "\n",
        "Contoh: \\s akan mencocokkan satu spasi."
      ],
      "metadata": {
        "id": "ecccbrkCeOGU"
      }
    },
    {
      "cell_type": "code",
      "source": [
        "#Mencocokkan Email:\n",
        "\n",
        "\"jkashdfkjlshaf@gmail.com\"\n",
        "\n",
        "\"jsdh2ui3hd9i@mail.com\"\n",
        "\"sanber@mail.com\"\n",
        "\"sanber10@mail.co\"\n",
        "\n",
        "Pola: [a-zA-Z0-9._%+-]+@[a-zA-Z0-9.-]+\\.[a-zA-Z]{2,}\n",
        "\n",
        "Penjelasan: Mencocokkan pola alamat email."
      ],
      "metadata": {
        "id": "HbFsvmtAeBfa"
      },
      "execution_count": null,
      "outputs": []
    },
    {
      "cell_type": "code",
      "source": [
        "#quantifier"
      ],
      "metadata": {
        "id": "mmGpnz-0frSC"
      },
      "execution_count": null,
      "outputs": []
    },
    {
      "cell_type": "markdown",
      "source": [
        "Asterisk (*):\n",
        "\n",
        "Pola: ab*c\n",
        "\n",
        "Penjelasan: Mencocokkan string yang memiliki karakter 'a', diikuti oleh 0 atau lebih karakter 'b', dan diakhiri dengan karakter 'c'.\n",
        "\n",
        "Contoh Cocok: \"ac\", \"abc\", \"abbc\", \"abbbc\".\n",
        "\n",
        "Plus (+):\n",
        "\n",
        "Pola: xy+z\n",
        "\n",
        "Penjelasan: Mencocokkan string yang memiliki karakter 'x', diikuti oleh setidaknya satu karakter 'y', dan diakhiri dengan karakter 'z'.\n",
        "\n",
        "Contoh Cocok: \"xz\", \"xyz\", \"xyyz\", \"xyyyz\".\n",
        "\n",
        "Question Mark (?):\n",
        "\n",
        "Pola: pqrst?\n",
        "\n",
        "Penjelasan: Mencocokkan string yang memiliki karakter 'pqrst' diikuti oleh 0 atau 1 karakter tambahan.\n",
        "\n",
        "Contoh Cocok: \"pqrst\", \"pqrstu\".\n",
        "\n",
        "Curly Braces ({n}):\n",
        "\n",
        "Pola: d{3}\n",
        "\n",
        "Penjelasan: Mencocokkan string yang memiliki tepat 3 karakter 'd' berturut-turut.\n",
        "\n",
        "Contoh Cocok: \"ddd\", \"abcdddxyz\".\n",
        "\n",
        "Curly Braces dengan Koma ({n,}):\n",
        "\n",
        "Pola: 1{2,}\n",
        "\n",
        "Penjelasan: Mencocokkan string yang memiliki setidaknya 2 karakter '1' berturut-turut.\n",
        "\n",
        "Contoh Cocok: \"11\", \"111\", \"1111\".\n",
        "\n",
        "Curly Braces dengan Koma ({n,m}):\n",
        "\n",
        "Pola: A{2,4}\n",
        "\n",
        "Penjelasan: Mencocokkan string yang memiliki antara 2 hingga 4 karakter 'A' berturut-turut.\n",
        "\n",
        "Contoh Cocok: \"AA\", \"AAA\", \"AAAA\", \"AAAAA\"."
      ],
      "metadata": {
        "id": "QRJCL66If4rz"
      }
    },
    {
      "cell_type": "code",
      "source": [],
      "metadata": {
        "id": "FEhfnRwDf5hq"
      },
      "execution_count": null,
      "outputs": []
    },
    {
      "cell_type": "markdown",
      "source": [
        "## Anchor & Escapes"
      ],
      "metadata": {
        "id": "FnWCPuvogl-1"
      }
    },
    {
      "cell_type": "markdown",
      "source": [
        "Word Boundary (\\b):\n",
        "\n",
        "Contoh Pola: \\bword\\b\n",
        "\n",
        "Penjelasan: Mencocokkan kata \"word\" yang merupakan kata terpisah dan bukan bagian dari kata lain.\n",
        "\n",
        "Non-Word Boundary (\\B):\n",
        "\n",
        "Contoh Pola: cat\\B\n",
        "\n",
        "Penjelasan: Mencocokkan string yang mengandung kata \"cat\" tetapi tidak berada pada batas kata.\n",
        "\n",
        "Line Start (\\A):\n",
        "\n",
        "Contoh Pola: \\Astart\n",
        "\n",
        "Penjelasan: Mencocokkan string yang diawali dengan kata \"start\", tetapi hanya di awal keseluruhan string, tidak di awal setiap baris.\n",
        "\n",
        "Line End (\\Z):\n",
        "\n",
        "Contoh Pola: end\\Z\n",
        "\n",
        "Penjelasan: Mencocokkan string yang diakhiri dengan kata \"end\", tetapi hanya di akhir keseluruhan string, tidak di akhir setiap baris."
      ],
      "metadata": {
        "id": "T4eghvkng5LN"
      }
    },
    {
      "cell_type": "code",
      "source": [
        "#Word Boundary (\\b):  \\brumah\\b\n",
        "# rumah\n",
        "# rumah sakit\n",
        "\n",
        "#rumahsakit\n"
      ],
      "metadata": {
        "id": "JJ4v5Q6GglqN"
      },
      "execution_count": null,
      "outputs": []
    },
    {
      "cell_type": "code",
      "source": [
        "## escapess"
      ],
      "metadata": {
        "id": "RH-7dhFXhjWF"
      },
      "execution_count": null,
      "outputs": []
    },
    {
      "cell_type": "code",
      "source": [
        "# \\d -->  angka\n",
        "# \\\\d --> huruf d"
      ],
      "metadata": {
        "id": "VsM4v-SwhlJv"
      },
      "execution_count": null,
      "outputs": []
    },
    {
      "cell_type": "markdown",
      "source": [
        "# Menggunakan Regex pada Pyhton\n",
        "\n",
        "kita akan menggunakan modul/library khusus, yaitu re"
      ],
      "metadata": {
        "id": "bBPFzAOAibiX"
      }
    },
    {
      "cell_type": "code",
      "source": [
        "import re"
      ],
      "metadata": {
        "id": "iQZb0kobi3Ku"
      },
      "execution_count": null,
      "outputs": []
    },
    {
      "cell_type": "code",
      "source": [
        "data = '''Kota Bandung merupakan bagian dari Cekungan Bandung (Bandung Raya), kawasan metropolitan terbesar ketiga di Indonesia setelah Jabodetabek dan Gerbangkertosusila.\n",
        "Kota Bandung berbatasan langsung dengan Cimahi dan Kabupaten Bandung Barat di sisi barat dan utara, Kabupaten Bandung di sisi timur dan selatan.'''"
      ],
      "metadata": {
        "id": "taqOyawIiWlu"
      },
      "execution_count": null,
      "outputs": []
    },
    {
      "cell_type": "code",
      "source": [
        "#metode re.search\n",
        "\n",
        "pola = r'(b|B)+andung'\n",
        "hasil = re.search(pola, data)\n",
        "\n",
        "print(hasil)"
      ],
      "metadata": {
        "colab": {
          "base_uri": "https://localhost:8080/"
        },
        "id": "GujAsRupi4nR",
        "outputId": "f157b53e-acaa-4b9e-8209-f0a0d89c08b7"
      },
      "execution_count": null,
      "outputs": [
        {
          "output_type": "stream",
          "name": "stdout",
          "text": [
            "<re.Match object; span=(1, 8), match='Bandung'>\n"
          ]
        }
      ]
    },
    {
      "cell_type": "code",
      "source": [
        "#metode re.match\n",
        "pola = r'Bandung'\n",
        "for index, words in enumerate(data.split(\" \")):\n",
        "  hasil = re.match(pola, words)\n",
        "  if hasil:\n",
        "    print(index)"
      ],
      "metadata": {
        "colab": {
          "base_uri": "https://localhost:8080/"
        },
        "id": "SXLvL3Fgkm5T",
        "outputId": "ed140040-5a10-49a3-f6e0-ec1890aaae7b"
      },
      "execution_count": null,
      "outputs": [
        {
          "output_type": "stream",
          "name": "stdout",
          "text": [
            "1\n",
            "6\n",
            "7\n",
            "19\n",
            "26\n",
            "34\n"
          ]
        }
      ]
    },
    {
      "cell_type": "code",
      "source": [
        "#re.findall\n",
        "\n",
        "pola = r\"\\w*(?:an)\\w*\"\n",
        "hasil = re.findall(pola, data)\n",
        "print(hasil)"
      ],
      "metadata": {
        "colab": {
          "base_uri": "https://localhost:8080/"
        },
        "id": "ML9WcT4gm35T",
        "outputId": "4b5452d2-5a68-41b4-c130-567b56914ee9"
      },
      "execution_count": null,
      "outputs": [
        {
          "output_type": "stream",
          "name": "stdout",
          "text": [
            "['Bandung', 'merupakan', 'bagian', 'Cekungan', 'Bandung', 'Bandung', 'kawasan', 'metropolitan', 'dan', 'Gerbangkertosusila', 'Bandung', 'berbatasan', 'langsung', 'dengan', 'dan', 'Bandung', 'dan', 'Bandung', 'dan', 'selatan']\n"
          ]
        }
      ]
    },
    {
      "cell_type": "code",
      "source": [
        "#re.sub\n",
        "#re.sub(pola, pengganti, teks)\n",
        "pola = r\"\\w*(?:an)\\w*\"\n",
        "\n",
        "data_baru = re.sub(pola,\"\", data)\n",
        "data_baru = re.sub(\"  \",\" \", data_baru)\n",
        "data_baru = re.sub(\"  \",\" \", data_baru)\n",
        "print(data_baru)"
      ],
      "metadata": {
        "colab": {
          "base_uri": "https://localhost:8080/"
        },
        "id": "MVMa8Atzrgc5",
        "outputId": "0a14ccd4-7528-4c52-c789-220544a79542"
      },
      "execution_count": null,
      "outputs": [
        {
          "output_type": "stream",
          "name": "stdout",
          "text": [
            "Kota dari ( Raya), terbesar ketiga di Indonesia setelah Jabodetabek .\n",
            "Kota  Cimahi Kabupaten Barat di sisi barat utara, Kabupaten di sisi timur .\n"
          ]
        }
      ]
    },
    {
      "cell_type": "markdown",
      "source": [
        "# Tahapan Text Preprocessing\n",
        "\n",
        "\n",
        "\n",
        "*   Lowercasing\n",
        "*   Tokenization\n",
        "*   Text Cleaning\n",
        "*   Stemming/Lemmatizing\n",
        "*   Stopword Removal\n",
        "\n"
      ],
      "metadata": {
        "id": "8hRSuGDVsva0"
      }
    },
    {
      "cell_type": "code",
      "source": [
        "# Word Tokenization --> kalimat menjadi kata\n",
        "# Kota Bandung merupakan bagian dari --> [Kota, Bandung, merupakan, bagian, dari]\n",
        "\n",
        "# Sentence Tokenization --> paragraf menjadi kalimat, biasanya dipisahkan oleh titik.\n",
        "# [Kota Bandung merupakan bagian dari Cekungan Bandung (Bandung Raya), kawasan metropolitan terbesar ketiga di Indonesia setelah Jabodetabek dan Gerbangkertosusila,\n",
        "# Kota Bandung berbatasan langsung dengan Cimahi dan Kabupaten Bandung Barat di sisi barat dan utara, Kabupaten Bandung di sisi timur dan selatan]"
      ],
      "metadata": {
        "id": "V1PAcVmvstvi"
      },
      "execution_count": null,
      "outputs": []
    },
    {
      "cell_type": "markdown",
      "source": [
        "Text Cleaning\n",
        "*   numbers (angka)\n",
        "*   punctuations (tanda baca)\n",
        "*   white space (ruang kosong)\n",
        "*   url\n",
        "*   emoticons\n",
        "*   special character"
      ],
      "metadata": {
        "id": "ew1p_qQyuTiy"
      }
    },
    {
      "cell_type": "code",
      "source": [
        "# stemming --> teknik yang digunakan untuk mengembalikan kata ke dalam bentuk dasarnya\n",
        "# lemmatizing --> teknik yang digunakan untuk mengembalikan kata ke dalam bentuk dasarnya dengan melihat konteks katanya\n",
        "\n",
        "# merupakan --> rupa\n",
        "# mengubah --> ubah\n",
        "# merubah --> rubah"
      ],
      "metadata": {
        "id": "hpqX316hvKLX"
      },
      "execution_count": null,
      "outputs": []
    },
    {
      "cell_type": "code",
      "source": [
        "!pip install pysastrawi"
      ],
      "metadata": {
        "colab": {
          "base_uri": "https://localhost:8080/"
        },
        "id": "PNgfH-6Sv0qn",
        "outputId": "4d6b7363-b66a-4f45-be83-bcf8705b29d1"
      },
      "execution_count": null,
      "outputs": [
        {
          "output_type": "stream",
          "name": "stdout",
          "text": [
            "Collecting pysastrawi\n",
            "  Downloading PySastrawi-1.2.0-py2.py3-none-any.whl (210 kB)\n",
            "\u001b[?25l     \u001b[90m━━━━━━━━━━━━━━━━━━━━━━━━━━━━━━━━━━━━━━━━\u001b[0m \u001b[32m0.0/210.6 kB\u001b[0m \u001b[31m?\u001b[0m eta \u001b[36m-:--:--\u001b[0m\r\u001b[2K     \u001b[91m━━━━━━━━━━━━━━━━━━━━━━━\u001b[0m\u001b[90m╺\u001b[0m\u001b[90m━━━━━━━━━━━━━━━━\u001b[0m \u001b[32m122.9/210.6 kB\u001b[0m \u001b[31m3.5 MB/s\u001b[0m eta \u001b[36m0:00:01\u001b[0m\r\u001b[2K     \u001b[90m━━━━━━━━━━━━━━━━━━━━━━━━━━━━━━━━━━━━━━━━\u001b[0m \u001b[32m210.6/210.6 kB\u001b[0m \u001b[31m4.0 MB/s\u001b[0m eta \u001b[36m0:00:00\u001b[0m\n",
            "\u001b[?25hInstalling collected packages: pysastrawi\n",
            "Successfully installed pysastrawi-1.2.0\n"
          ]
        }
      ]
    },
    {
      "cell_type": "code",
      "source": [
        "import nltk\n",
        "import Sastrawi"
      ],
      "metadata": {
        "id": "GkZwBYDsxY_k"
      },
      "execution_count": null,
      "outputs": []
    },
    {
      "cell_type": "code",
      "source": [
        "nltk.download(\"popular\")"
      ],
      "metadata": {
        "colab": {
          "base_uri": "https://localhost:8080/"
        },
        "id": "XT6IlXubxo_I",
        "outputId": "bc673bd7-3521-405b-d868-6984789f7e68"
      },
      "execution_count": null,
      "outputs": [
        {
          "output_type": "stream",
          "name": "stderr",
          "text": [
            "[nltk_data] Downloading collection 'popular'\n",
            "[nltk_data]    | \n",
            "[nltk_data]    | Downloading package cmudict to /root/nltk_data...\n",
            "[nltk_data]    |   Unzipping corpora/cmudict.zip.\n",
            "[nltk_data]    | Downloading package gazetteers to /root/nltk_data...\n",
            "[nltk_data]    |   Unzipping corpora/gazetteers.zip.\n",
            "[nltk_data]    | Downloading package genesis to /root/nltk_data...\n",
            "[nltk_data]    |   Unzipping corpora/genesis.zip.\n",
            "[nltk_data]    | Downloading package gutenberg to /root/nltk_data...\n",
            "[nltk_data]    |   Unzipping corpora/gutenberg.zip.\n",
            "[nltk_data]    | Downloading package inaugural to /root/nltk_data...\n",
            "[nltk_data]    |   Unzipping corpora/inaugural.zip.\n",
            "[nltk_data]    | Downloading package movie_reviews to\n",
            "[nltk_data]    |     /root/nltk_data...\n",
            "[nltk_data]    |   Unzipping corpora/movie_reviews.zip.\n",
            "[nltk_data]    | Downloading package names to /root/nltk_data...\n",
            "[nltk_data]    |   Unzipping corpora/names.zip.\n",
            "[nltk_data]    | Downloading package shakespeare to /root/nltk_data...\n",
            "[nltk_data]    |   Unzipping corpora/shakespeare.zip.\n",
            "[nltk_data]    | Downloading package stopwords to /root/nltk_data...\n",
            "[nltk_data]    |   Unzipping corpora/stopwords.zip.\n",
            "[nltk_data]    | Downloading package treebank to /root/nltk_data...\n",
            "[nltk_data]    |   Unzipping corpora/treebank.zip.\n",
            "[nltk_data]    | Downloading package twitter_samples to\n",
            "[nltk_data]    |     /root/nltk_data...\n",
            "[nltk_data]    |   Unzipping corpora/twitter_samples.zip.\n",
            "[nltk_data]    | Downloading package omw to /root/nltk_data...\n",
            "[nltk_data]    | Downloading package omw-1.4 to /root/nltk_data...\n",
            "[nltk_data]    | Downloading package wordnet to /root/nltk_data...\n",
            "[nltk_data]    | Downloading package wordnet2021 to /root/nltk_data...\n",
            "[nltk_data]    | Downloading package wordnet31 to /root/nltk_data...\n",
            "[nltk_data]    | Downloading package wordnet_ic to /root/nltk_data...\n",
            "[nltk_data]    |   Unzipping corpora/wordnet_ic.zip.\n",
            "[nltk_data]    | Downloading package words to /root/nltk_data...\n",
            "[nltk_data]    |   Unzipping corpora/words.zip.\n",
            "[nltk_data]    | Downloading package maxent_ne_chunker to\n",
            "[nltk_data]    |     /root/nltk_data...\n",
            "[nltk_data]    |   Unzipping chunkers/maxent_ne_chunker.zip.\n",
            "[nltk_data]    | Downloading package punkt to /root/nltk_data...\n",
            "[nltk_data]    |   Unzipping tokenizers/punkt.zip.\n",
            "[nltk_data]    | Downloading package snowball_data to\n",
            "[nltk_data]    |     /root/nltk_data...\n",
            "[nltk_data]    | Downloading package averaged_perceptron_tagger to\n",
            "[nltk_data]    |     /root/nltk_data...\n",
            "[nltk_data]    |   Unzipping taggers/averaged_perceptron_tagger.zip.\n",
            "[nltk_data]    | \n",
            "[nltk_data]  Done downloading collection popular\n"
          ]
        },
        {
          "output_type": "execute_result",
          "data": {
            "text/plain": [
              "True"
            ]
          },
          "metadata": {},
          "execution_count": 79
        }
      ]
    },
    {
      "cell_type": "code",
      "source": [
        "#tokenize\n",
        "from nltk.tokenize import sent_tokenize, word_tokenize"
      ],
      "metadata": {
        "id": "87WKNfCuxtvw"
      },
      "execution_count": null,
      "outputs": []
    },
    {
      "cell_type": "code",
      "source": [
        "words = word_tokenize(data)\n",
        "sentences = sent_tokenize(data)"
      ],
      "metadata": {
        "id": "nQjhkLSdx2hZ"
      },
      "execution_count": null,
      "outputs": []
    },
    {
      "cell_type": "code",
      "source": [
        "print(words)"
      ],
      "metadata": {
        "colab": {
          "base_uri": "https://localhost:8080/"
        },
        "id": "dnZhjSnTx9VQ",
        "outputId": "7ca7bb31-94b7-430c-85d3-e1e0c99ab715"
      },
      "execution_count": null,
      "outputs": [
        {
          "output_type": "stream",
          "name": "stdout",
          "text": [
            "['Kota', 'Bandung', 'merupakan', 'bagian', 'dari', 'Cekungan', 'Bandung', '(', 'Bandung', 'Raya', ')', ',', 'kawasan', 'metropolitan', 'terbesar', 'ketiga', 'di', 'Indonesia', 'setelah', 'Jabodetabek', 'dan', 'Gerbangkertosusila', '.', 'Kota', 'Bandung', 'berbatasan', 'langsung', 'dengan', 'Cimahi', 'dan', 'Kabupaten', 'Bandung', 'Barat', 'di', 'sisi', 'barat', 'dan', 'utara', ',', 'Kabupaten', 'Bandung', 'di', 'sisi', 'timur', 'dan', 'selatan', '.']\n"
          ]
        }
      ]
    },
    {
      "cell_type": "code",
      "source": [
        "print(sentences)"
      ],
      "metadata": {
        "colab": {
          "base_uri": "https://localhost:8080/"
        },
        "id": "Ru9ZlPWEx_CQ",
        "outputId": "c5d5b4ef-2315-4862-f854-34a3fcf4ee05"
      },
      "execution_count": null,
      "outputs": [
        {
          "output_type": "stream",
          "name": "stdout",
          "text": [
            "['Kota Bandung merupakan bagian dari Cekungan Bandung (Bandung Raya), kawasan metropolitan terbesar ketiga di Indonesia setelah Jabodetabek dan Gerbangkertosusila.', 'Kota Bandung berbatasan langsung dengan Cimahi dan Kabupaten Bandung Barat di sisi barat dan utara, Kabupaten Bandung di sisi timur dan selatan.']\n"
          ]
        }
      ]
    },
    {
      "cell_type": "code",
      "source": [
        "#stopword_removal\n",
        "\n",
        "from nltk.corpus import stopwords\n",
        "\n",
        "s_id = stopwords.words(\"indonesian\")\n",
        "print(s_id)\n",
        "\n",
        "s_en = stopwords.words(\"english\")\n",
        "print(s_en)"
      ],
      "metadata": {
        "colab": {
          "base_uri": "https://localhost:8080/"
        },
        "id": "qyRM5I3xyKNi",
        "outputId": "0c70ac55-e289-46a1-a16d-8c54e16222c0"
      },
      "execution_count": null,
      "outputs": [
        {
          "output_type": "stream",
          "name": "stdout",
          "text": [
            "['ada', 'adalah', 'adanya', 'adapun', 'agak', 'agaknya', 'agar', 'akan', 'akankah', 'akhir', 'akhiri', 'akhirnya', 'aku', 'akulah', 'amat', 'amatlah', 'anda', 'andalah', 'antar', 'antara', 'antaranya', 'apa', 'apaan', 'apabila', 'apakah', 'apalagi', 'apatah', 'artinya', 'asal', 'asalkan', 'atas', 'atau', 'ataukah', 'ataupun', 'awal', 'awalnya', 'bagai', 'bagaikan', 'bagaimana', 'bagaimanakah', 'bagaimanapun', 'bagi', 'bagian', 'bahkan', 'bahwa', 'bahwasanya', 'baik', 'bakal', 'bakalan', 'balik', 'banyak', 'bapak', 'baru', 'bawah', 'beberapa', 'begini', 'beginian', 'beginikah', 'beginilah', 'begitu', 'begitukah', 'begitulah', 'begitupun', 'bekerja', 'belakang', 'belakangan', 'belum', 'belumlah', 'benar', 'benarkah', 'benarlah', 'berada', 'berakhir', 'berakhirlah', 'berakhirnya', 'berapa', 'berapakah', 'berapalah', 'berapapun', 'berarti', 'berawal', 'berbagai', 'berdatangan', 'beri', 'berikan', 'berikut', 'berikutnya', 'berjumlah', 'berkali-kali', 'berkata', 'berkehendak', 'berkeinginan', 'berkenaan', 'berlainan', 'berlalu', 'berlangsung', 'berlebihan', 'bermacam', 'bermacam-macam', 'bermaksud', 'bermula', 'bersama', 'bersama-sama', 'bersiap', 'bersiap-siap', 'bertanya', 'bertanya-tanya', 'berturut', 'berturut-turut', 'bertutur', 'berujar', 'berupa', 'besar', 'betul', 'betulkah', 'biasa', 'biasanya', 'bila', 'bilakah', 'bisa', 'bisakah', 'boleh', 'bolehkah', 'bolehlah', 'buat', 'bukan', 'bukankah', 'bukanlah', 'bukannya', 'bulan', 'bung', 'cara', 'caranya', 'cukup', 'cukupkah', 'cukuplah', 'cuma', 'dahulu', 'dalam', 'dan', 'dapat', 'dari', 'daripada', 'datang', 'dekat', 'demi', 'demikian', 'demikianlah', 'dengan', 'depan', 'di', 'dia', 'diakhiri', 'diakhirinya', 'dialah', 'diantara', 'diantaranya', 'diberi', 'diberikan', 'diberikannya', 'dibuat', 'dibuatnya', 'didapat', 'didatangkan', 'digunakan', 'diibaratkan', 'diibaratkannya', 'diingat', 'diingatkan', 'diinginkan', 'dijawab', 'dijelaskan', 'dijelaskannya', 'dikarenakan', 'dikatakan', 'dikatakannya', 'dikerjakan', 'diketahui', 'diketahuinya', 'dikira', 'dilakukan', 'dilalui', 'dilihat', 'dimaksud', 'dimaksudkan', 'dimaksudkannya', 'dimaksudnya', 'diminta', 'dimintai', 'dimisalkan', 'dimulai', 'dimulailah', 'dimulainya', 'dimungkinkan', 'dini', 'dipastikan', 'diperbuat', 'diperbuatnya', 'dipergunakan', 'diperkirakan', 'diperlihatkan', 'diperlukan', 'diperlukannya', 'dipersoalkan', 'dipertanyakan', 'dipunyai', 'diri', 'dirinya', 'disampaikan', 'disebut', 'disebutkan', 'disebutkannya', 'disini', 'disinilah', 'ditambahkan', 'ditandaskan', 'ditanya', 'ditanyai', 'ditanyakan', 'ditegaskan', 'ditujukan', 'ditunjuk', 'ditunjuki', 'ditunjukkan', 'ditunjukkannya', 'ditunjuknya', 'dituturkan', 'dituturkannya', 'diucapkan', 'diucapkannya', 'diungkapkan', 'dong', 'dua', 'dulu', 'empat', 'enggak', 'enggaknya', 'entah', 'entahlah', 'guna', 'gunakan', 'hal', 'hampir', 'hanya', 'hanyalah', 'hari', 'harus', 'haruslah', 'harusnya', 'hendak', 'hendaklah', 'hendaknya', 'hingga', 'ia', 'ialah', 'ibarat', 'ibaratkan', 'ibaratnya', 'ibu', 'ikut', 'ingat', 'ingat-ingat', 'ingin', 'inginkah', 'inginkan', 'ini', 'inikah', 'inilah', 'itu', 'itukah', 'itulah', 'jadi', 'jadilah', 'jadinya', 'jangan', 'jangankan', 'janganlah', 'jauh', 'jawab', 'jawaban', 'jawabnya', 'jelas', 'jelaskan', 'jelaslah', 'jelasnya', 'jika', 'jikalau', 'juga', 'jumlah', 'jumlahnya', 'justru', 'kala', 'kalau', 'kalaulah', 'kalaupun', 'kalian', 'kami', 'kamilah', 'kamu', 'kamulah', 'kan', 'kapan', 'kapankah', 'kapanpun', 'karena', 'karenanya', 'kasus', 'kata', 'katakan', 'katakanlah', 'katanya', 'ke', 'keadaan', 'kebetulan', 'kecil', 'kedua', 'keduanya', 'keinginan', 'kelamaan', 'kelihatan', 'kelihatannya', 'kelima', 'keluar', 'kembali', 'kemudian', 'kemungkinan', 'kemungkinannya', 'kenapa', 'kepada', 'kepadanya', 'kesampaian', 'keseluruhan', 'keseluruhannya', 'keterlaluan', 'ketika', 'khususnya', 'kini', 'kinilah', 'kira', 'kira-kira', 'kiranya', 'kita', 'kitalah', 'kok', 'kurang', 'lagi', 'lagian', 'lah', 'lain', 'lainnya', 'lalu', 'lama', 'lamanya', 'lanjut', 'lanjutnya', 'lebih', 'lewat', 'lima', 'luar', 'macam', 'maka', 'makanya', 'makin', 'malah', 'malahan', 'mampu', 'mampukah', 'mana', 'manakala', 'manalagi', 'masa', 'masalah', 'masalahnya', 'masih', 'masihkah', 'masing', 'masing-masing', 'mau', 'maupun', 'melainkan', 'melakukan', 'melalui', 'melihat', 'melihatnya', 'memang', 'memastikan', 'memberi', 'memberikan', 'membuat', 'memerlukan', 'memihak', 'meminta', 'memintakan', 'memisalkan', 'memperbuat', 'mempergunakan', 'memperkirakan', 'memperlihatkan', 'mempersiapkan', 'mempersoalkan', 'mempertanyakan', 'mempunyai', 'memulai', 'memungkinkan', 'menaiki', 'menambahkan', 'menandaskan', 'menanti', 'menanti-nanti', 'menantikan', 'menanya', 'menanyai', 'menanyakan', 'mendapat', 'mendapatkan', 'mendatang', 'mendatangi', 'mendatangkan', 'menegaskan', 'mengakhiri', 'mengapa', 'mengatakan', 'mengatakannya', 'mengenai', 'mengerjakan', 'mengetahui', 'menggunakan', 'menghendaki', 'mengibaratkan', 'mengibaratkannya', 'mengingat', 'mengingatkan', 'menginginkan', 'mengira', 'mengucapkan', 'mengucapkannya', 'mengungkapkan', 'menjadi', 'menjawab', 'menjelaskan', 'menuju', 'menunjuk', 'menunjuki', 'menunjukkan', 'menunjuknya', 'menurut', 'menuturkan', 'menyampaikan', 'menyangkut', 'menyatakan', 'menyebutkan', 'menyeluruh', 'menyiapkan', 'merasa', 'mereka', 'merekalah', 'merupakan', 'meski', 'meskipun', 'meyakini', 'meyakinkan', 'minta', 'mirip', 'misal', 'misalkan', 'misalnya', 'mula', 'mulai', 'mulailah', 'mulanya', 'mungkin', 'mungkinkah', 'nah', 'naik', 'namun', 'nanti', 'nantinya', 'nyaris', 'nyatanya', 'oleh', 'olehnya', 'pada', 'padahal', 'padanya', 'pak', 'paling', 'panjang', 'pantas', 'para', 'pasti', 'pastilah', 'penting', 'pentingnya', 'per', 'percuma', 'perlu', 'perlukah', 'perlunya', 'pernah', 'persoalan', 'pertama', 'pertama-tama', 'pertanyaan', 'pertanyakan', 'pihak', 'pihaknya', 'pukul', 'pula', 'pun', 'punya', 'rasa', 'rasanya', 'rata', 'rupanya', 'saat', 'saatnya', 'saja', 'sajalah', 'saling', 'sama', 'sama-sama', 'sambil', 'sampai', 'sampai-sampai', 'sampaikan', 'sana', 'sangat', 'sangatlah', 'satu', 'saya', 'sayalah', 'se', 'sebab', 'sebabnya', 'sebagai', 'sebagaimana', 'sebagainya', 'sebagian', 'sebaik', 'sebaik-baiknya', 'sebaiknya', 'sebaliknya', 'sebanyak', 'sebegini', 'sebegitu', 'sebelum', 'sebelumnya', 'sebenarnya', 'seberapa', 'sebesar', 'sebetulnya', 'sebisanya', 'sebuah', 'sebut', 'sebutlah', 'sebutnya', 'secara', 'secukupnya', 'sedang', 'sedangkan', 'sedemikian', 'sedikit', 'sedikitnya', 'seenaknya', 'segala', 'segalanya', 'segera', 'seharusnya', 'sehingga', 'seingat', 'sejak', 'sejauh', 'sejenak', 'sejumlah', 'sekadar', 'sekadarnya', 'sekali', 'sekali-kali', 'sekalian', 'sekaligus', 'sekalipun', 'sekarang', 'sekarang', 'sekecil', 'seketika', 'sekiranya', 'sekitar', 'sekitarnya', 'sekurang-kurangnya', 'sekurangnya', 'sela', 'selain', 'selaku', 'selalu', 'selama', 'selama-lamanya', 'selamanya', 'selanjutnya', 'seluruh', 'seluruhnya', 'semacam', 'semakin', 'semampu', 'semampunya', 'semasa', 'semasih', 'semata', 'semata-mata', 'semaunya', 'sementara', 'semisal', 'semisalnya', 'sempat', 'semua', 'semuanya', 'semula', 'sendiri', 'sendirian', 'sendirinya', 'seolah', 'seolah-olah', 'seorang', 'sepanjang', 'sepantasnya', 'sepantasnyalah', 'seperlunya', 'seperti', 'sepertinya', 'sepihak', 'sering', 'seringnya', 'serta', 'serupa', 'sesaat', 'sesama', 'sesampai', 'sesegera', 'sesekali', 'seseorang', 'sesuatu', 'sesuatunya', 'sesudah', 'sesudahnya', 'setelah', 'setempat', 'setengah', 'seterusnya', 'setiap', 'setiba', 'setibanya', 'setidak-tidaknya', 'setidaknya', 'setinggi', 'seusai', 'sewaktu', 'siap', 'siapa', 'siapakah', 'siapapun', 'sini', 'sinilah', 'soal', 'soalnya', 'suatu', 'sudah', 'sudahkah', 'sudahlah', 'supaya', 'tadi', 'tadinya', 'tahu', 'tahun', 'tak', 'tambah', 'tambahnya', 'tampak', 'tampaknya', 'tandas', 'tandasnya', 'tanpa', 'tanya', 'tanyakan', 'tanyanya', 'tapi', 'tegas', 'tegasnya', 'telah', 'tempat', 'tengah', 'tentang', 'tentu', 'tentulah', 'tentunya', 'tepat', 'terakhir', 'terasa', 'terbanyak', 'terdahulu', 'terdapat', 'terdiri', 'terhadap', 'terhadapnya', 'teringat', 'teringat-ingat', 'terjadi', 'terjadilah', 'terjadinya', 'terkira', 'terlalu', 'terlebih', 'terlihat', 'termasuk', 'ternyata', 'tersampaikan', 'tersebut', 'tersebutlah', 'tertentu', 'tertuju', 'terus', 'terutama', 'tetap', 'tetapi', 'tiap', 'tiba', 'tiba-tiba', 'tidak', 'tidakkah', 'tidaklah', 'tiga', 'tinggi', 'toh', 'tunjuk', 'turut', 'tutur', 'tuturnya', 'ucap', 'ucapnya', 'ujar', 'ujarnya', 'umum', 'umumnya', 'ungkap', 'ungkapnya', 'untuk', 'usah', 'usai', 'waduh', 'wah', 'wahai', 'waktu', 'waktunya', 'walau', 'walaupun', 'wong', 'yaitu', 'yakin', 'yakni', 'yang']\n",
            "['i', 'me', 'my', 'myself', 'we', 'our', 'ours', 'ourselves', 'you', \"you're\", \"you've\", \"you'll\", \"you'd\", 'your', 'yours', 'yourself', 'yourselves', 'he', 'him', 'his', 'himself', 'she', \"she's\", 'her', 'hers', 'herself', 'it', \"it's\", 'its', 'itself', 'they', 'them', 'their', 'theirs', 'themselves', 'what', 'which', 'who', 'whom', 'this', 'that', \"that'll\", 'these', 'those', 'am', 'is', 'are', 'was', 'were', 'be', 'been', 'being', 'have', 'has', 'had', 'having', 'do', 'does', 'did', 'doing', 'a', 'an', 'the', 'and', 'but', 'if', 'or', 'because', 'as', 'until', 'while', 'of', 'at', 'by', 'for', 'with', 'about', 'against', 'between', 'into', 'through', 'during', 'before', 'after', 'above', 'below', 'to', 'from', 'up', 'down', 'in', 'out', 'on', 'off', 'over', 'under', 'again', 'further', 'then', 'once', 'here', 'there', 'when', 'where', 'why', 'how', 'all', 'any', 'both', 'each', 'few', 'more', 'most', 'other', 'some', 'such', 'no', 'nor', 'not', 'only', 'own', 'same', 'so', 'than', 'too', 'very', 's', 't', 'can', 'will', 'just', 'don', \"don't\", 'should', \"should've\", 'now', 'd', 'll', 'm', 'o', 're', 've', 'y', 'ain', 'aren', \"aren't\", 'couldn', \"couldn't\", 'didn', \"didn't\", 'doesn', \"doesn't\", 'hadn', \"hadn't\", 'hasn', \"hasn't\", 'haven', \"haven't\", 'isn', \"isn't\", 'ma', 'mightn', \"mightn't\", 'mustn', \"mustn't\", 'needn', \"needn't\", 'shan', \"shan't\", 'shouldn', \"shouldn't\", 'wasn', \"wasn't\", 'weren', \"weren't\", 'won', \"won't\", 'wouldn', \"wouldn't\"]\n"
          ]
        }
      ]
    },
    {
      "cell_type": "code",
      "source": [
        "result = []\n",
        "for word in words:\n",
        "  if word not in s_id:\n",
        "    result.append(word)\n",
        "\n",
        "print(result)\n",
        "data_2 = ' '.join(result)\n",
        "print(data_2)"
      ],
      "metadata": {
        "colab": {
          "base_uri": "https://localhost:8080/"
        },
        "id": "vW_rtmnsyjpg",
        "outputId": "64f391ec-bca7-4ca7-8137-7f8ee01c8059"
      },
      "execution_count": null,
      "outputs": [
        {
          "output_type": "stream",
          "name": "stdout",
          "text": [
            "['Kota', 'Bandung', 'Cekungan', 'Bandung', '(', 'Bandung', 'Raya', ')', ',', 'kawasan', 'metropolitan', 'terbesar', 'ketiga', 'Indonesia', 'Jabodetabek', 'Gerbangkertosusila', '.', 'Kota', 'Bandung', 'berbatasan', 'langsung', 'Cimahi', 'Kabupaten', 'Bandung', 'Barat', 'sisi', 'barat', 'utara', ',', 'Kabupaten', 'Bandung', 'sisi', 'timur', 'selatan', '.']\n",
            "Kota Bandung Cekungan Bandung ( Bandung Raya ) , kawasan metropolitan terbesar ketiga Indonesia Jabodetabek Gerbangkertosusila . Kota Bandung berbatasan langsung Cimahi Kabupaten Bandung Barat sisi barat utara , Kabupaten Bandung sisi timur selatan .\n"
          ]
        }
      ]
    },
    {
      "cell_type": "code",
      "source": [
        "# import StemmerFactory class\n",
        "from Sastrawi.Stemmer.StemmerFactory import StemmerFactory\n",
        "\n",
        "# create stemmer\n",
        "factory = StemmerFactory()\n",
        "stemmer = factory.create_stemmer()\n",
        "\n",
        "# stemming process\n",
        "sentence = data_2\n",
        "output   = stemmer.stem(sentence)\n",
        "\n",
        "print(output)"
      ],
      "metadata": {
        "colab": {
          "base_uri": "https://localhost:8080/"
        },
        "id": "BjnZ4__KzBms",
        "outputId": "e18523fe-da21-4caa-a321-aa9be17b07c5"
      },
      "execution_count": null,
      "outputs": [
        {
          "output_type": "stream",
          "name": "stdout",
          "text": [
            "kota bandung cekung bandung bandung raya kawasan metropolitan besar tiga indonesia jabodetabek gerbangkertosusila kota bandung batas langsung cimahi kabupaten bandung barat sisi barat utara kabupaten bandung sisi timur selatan\n"
          ]
        }
      ]
    },
    {
      "cell_type": "code",
      "source": [
        "#case_folding\n",
        "import string\n",
        "\n",
        "def case_folding(data:str):\n",
        "  data = data.lower() #lowercase\n",
        "  data = re.sub(r\"\\d+\", \"\", data) #menghapus angka\n",
        "  data = re.sub(\"@[A-Za-z0-9]+\", \"\", data) #menghilangkan username\n",
        "  data = re.sub(\"https?:\\/\\/\\w+.\\w+\", \"\", data) #menghilangkan http\n",
        "  data = data.translate(str.maketrans(\"\",\"\", string.punctuation)) #menghapus tanda baca\n",
        "  data = re.sub(r\"\\n\", \"\", data) #menghapus newline\n",
        "  data = re.sub(r\"  \", \" \", data)\n",
        "  data = data.strip() #menghapus white space\n",
        "\n",
        "\n",
        "  return data"
      ],
      "metadata": {
        "id": "0CZw839q0Rw_"
      },
      "execution_count": null,
      "outputs": []
    },
    {
      "cell_type": "code",
      "source": [
        "hasil = case_folding(output)\n",
        "print(hasil)"
      ],
      "metadata": {
        "colab": {
          "base_uri": "https://localhost:8080/"
        },
        "id": "wRgzMk2l0gnV",
        "outputId": "c00d7739-1fa5-4774-c971-e4f8287f2d60"
      },
      "execution_count": null,
      "outputs": [
        {
          "output_type": "stream",
          "name": "stdout",
          "text": [
            "kota bandung cekung bandung bandung raya kawasan metropolitan besar tiga indonesia jabodetabek gerbangkertosusila kota bandung batas langsung cimahi kabupaten bandung barat sisi barat utara kabupaten bandung sisi timur selatan\n"
          ]
        }
      ]
    },
    {
      "cell_type": "code",
      "source": [],
      "metadata": {
        "id": "XB433R5T33Ho"
      },
      "execution_count": null,
      "outputs": []
    }
  ]
}